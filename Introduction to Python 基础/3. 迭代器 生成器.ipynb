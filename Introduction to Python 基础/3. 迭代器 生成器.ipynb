{
 "cells": [
  {
   "cell_type": "markdown",
   "id": "0ea00f71",
   "metadata": {},
   "source": [
    "# Python3 迭代器与生成器"
   ]
  },
  {
   "cell_type": "markdown",
   "id": "1011c1b4",
   "metadata": {},
   "source": [
    "# 1. 迭代器"
   ]
  },
  {
   "cell_type": "markdown",
   "id": "7cf40fa8",
   "metadata": {},
   "source": [
    "* 迭代器是一个可以记住遍历的位置的对象。\n",
    "\n",
    "* 迭代器对象从集合的第一个元素开始访问，直到所有的元素被访问完结束。迭代器只能往前不会后退。\n",
    "\n",
    "* 迭代器有两个基本的方法：iter() 和 next()。"
   ]
  },
  {
   "cell_type": "code",
   "execution_count": 20,
   "id": "9d560a07",
   "metadata": {},
   "outputs": [
    {
     "name": "stdout",
     "output_type": "stream",
     "text": [
      "<class 'list_iterator'>\n",
      "1 <class 'int'>\n",
      "3 <class 'int'>\n"
     ]
    }
   ],
   "source": [
    "list1 = [1,2,3,4]\n",
    "iterate = iter(list1)\n",
    "print(type(iterate))\n",
    "i = 0\n",
    "while i < len(list1)/2:\n",
    "    i += 1\n",
    "    print(next(iterate),type(next(iterate)))\n",
    "\n",
    "# 每一次next用掉一个地址\n",
    "# 所以只循环两次"
   ]
  },
  {
   "cell_type": "markdown",
   "id": "368db26f",
   "metadata": {},
   "source": [
    "## 1.1 创建一个迭代器"
   ]
  },
  {
   "cell_type": "markdown",
   "id": "dc7358c3",
   "metadata": {},
   "source": [
    "* 把一个类作为一个迭代器使用需要在类中实现两个方法 __iter__() 与 __next__() 。\n",
    "\n",
    "* 如果你已经了解的面向对象编程，就知道类都有一个构造函数，Python 的构造函数为 __init__(), 它会在对象初始化的时候执行。\n",
    "\n",
    "\n",
    "* __iter__() 方法返回一个特殊的迭代器对象， 这个迭代器对象实现了 __next__() 方法并通过 StopIteration 异常标识迭代的完成。\n",
    "\n",
    "* __next__() 方法（Python 2 里是 next()）会返回下一个迭代器对象。"
   ]
  },
  {
   "cell_type": "code",
   "execution_count": 14,
   "id": "f987a4f4",
   "metadata": {},
   "outputs": [
    {
     "name": "stdout",
     "output_type": "stream",
     "text": [
      "1\n",
      "2\n",
      "3\n",
      "4\n",
      "5\n"
     ]
    }
   ],
   "source": [
    "# 创建一个返回数字的迭代器，初始值为 1，逐步递增 1：\n",
    "class MyNumbers:\n",
    "  def __iter__(self):\n",
    "    self.a = 1\n",
    "    return self\n",
    " \n",
    "  def __next__(self):\n",
    "    x = self.a\n",
    "    self.a += 1\n",
    "    return x\n",
    "\n",
    "myclass = MyNumbers()\n",
    "myiter = iter(myclass) # 给myclass赋了属性 a = 1\n",
    " \n",
    "print(next(myiter))\n",
    "print(myiter.__next__()) # object内置的__next__，当已经遍历到生成器的结尾，会抛一个异常StopIteration\n",
    "print(next(myiter))\n",
    "print(next(myiter))\n",
    "print(next(myiter))"
   ]
  },
  {
   "cell_type": "markdown",
   "id": "7fb85ed1",
   "metadata": {},
   "source": [
    "## 1.2 StopIteration\n",
    "* StopIteration 异常用于标识迭代的完成，防止出现无限循环的情况，在 __next__() 方法中我们可以设置在完成指定循环次数后触发\n",
    "* StopIteration 异常来结束迭代。"
   ]
  },
  {
   "cell_type": "code",
   "execution_count": 22,
   "id": "2d15104c",
   "metadata": {},
   "outputs": [
    {
     "name": "stdout",
     "output_type": "stream",
     "text": [
      "1\n",
      "2\n",
      "3\n",
      "4\n",
      "5\n",
      "6\n",
      "7\n",
      "8\n",
      "9\n",
      "10\n",
      "11\n",
      "12\n",
      "13\n",
      "14\n",
      "15\n",
      "16\n",
      "17\n",
      "18\n",
      "19\n",
      "20\n"
     ]
    }
   ],
   "source": [
    "class MyNumbers:\n",
    "  def __iter__(self):\n",
    "    self.a = 1\n",
    "    return self\n",
    " \n",
    "  def __next__(self):\n",
    "    if self.a <= 20:\n",
    "      x = self.a\n",
    "      self.a += 1\n",
    "      return x\n",
    "    else:\n",
    "      raise StopIteration\n",
    " \n",
    "myclass = MyNumbers()\n",
    "myiter = iter(myclass)\n",
    " \n",
    "for x in myiter:\n",
    "  print(x)"
   ]
  },
  {
   "cell_type": "markdown",
   "id": "5888204d",
   "metadata": {},
   "source": [
    "# 2. 生成器"
   ]
  },
  {
   "cell_type": "markdown",
   "id": "a0a3d0ab",
   "metadata": {},
   "source": [
    "* 在 Python 中，使用了 yield 的函数被称为生成器（generator）。\n",
    "* 跟普通函数不同的是，生成器是一个返回迭代器的函数，只能用于迭代操作，更简单点理解生成器就是一个迭代器。\n",
    "* 在调用生成器运行的过程中，每次遇到 yield 时函数会暂停并保存当前所有的运行信息，返回 yield 的值, 并在下一次执行 next() 方法时从当前位置继续运行。\n",
    "\n",
    "\n",
    "\n",
    "生成器是python中的一个对象（按照某种规律，来生成元素的对象），生成器不是列表，保存了产生元素的算法，同时会记录游标的位置（现在拿到第几个元素了），为了下次继续拿数据，而不是从头开始拿数据。可以通过一直调用next()方法获取值，这个对象不保存数据，每次调用会返回一个值，即做到了列表的好处，又不占用空间。"
   ]
  },
  {
   "cell_type": "markdown",
   "id": "ce081407",
   "metadata": {},
   "source": [
    "1. 函数中使用了关键字yield，那这个函数就不再是一个普通的函数了，而是一个生成器函数\n",
    "2. 生成器函数调用时，不会执行函数内部的代码，会直接返回一个生成器对象\n",
    "3. 关键字yield的作用: 是用来生成数据 yield data"
   ]
  },
  {
   "cell_type": "code",
   "execution_count": 27,
   "id": "65e24543",
   "metadata": {},
   "outputs": [
    {
     "name": "stdout",
     "output_type": "stream",
     "text": [
      "Object `yield` not found.\n"
     ]
    }
   ],
   "source": [
    "import sys\n",
    "a = 1\n",
    "yield?"
   ]
  },
  {
   "cell_type": "code",
   "execution_count": 10,
   "id": "280b0567",
   "metadata": {},
   "outputs": [
    {
     "data": {
      "text/plain": [
       "'\\nwhile True:\\n    try:\\n        print (next(f))\\n    except StopIteration:\\n        sys.exit()\\n'"
      ]
     },
     "execution_count": 10,
     "metadata": {},
     "output_type": "execute_result"
    }
   ],
   "source": [
    "import sys\n",
    "\n",
    "### 小陈也没那么懂\n",
    "\n",
    "def fibonacci(n): # 生成器函数 - 斐波那契\n",
    "    a, b, counter = 0, 1, 0\n",
    "    while True:\n",
    "        if (counter > n): \n",
    "            return\n",
    "        yield a # 暂停并保存当前所有的运行信息 ，返回 yield 的值\n",
    "        a, b = b, a + b\n",
    "        counter += 1\n",
    "       \n",
    "        print(a)# 为什么没有print\n",
    "        \n",
    "f = fibonacci(10) # f 是一个迭代器，由生成器返回生成\n",
    "# 为什么此时没有print（a）呢？\n",
    "\n",
    "'''\n",
    "while True:\n",
    "    try:\n",
    "        print (next(f))\n",
    "    except StopIteration:\n",
    "        sys.exit()\n",
    "'''"
   ]
  },
  {
   "cell_type": "code",
   "execution_count": 8,
   "id": "d1332876",
   "metadata": {},
   "outputs": [
    {
     "name": "stdout",
     "output_type": "stream",
     "text": [
      "<generator object <genexpr> at 0x7f8d02ef76d0>\n"
     ]
    }
   ],
   "source": [
    "list1 = (x for x in range(1,11)) # 推导式生成元组\n",
    "print(list1) # <generator object <genexpr> at 0x7f8d02ef76d0>"
   ]
  },
  {
   "cell_type": "code",
   "execution_count": 12,
   "id": "7b1bbdfa",
   "metadata": {},
   "outputs": [
    {
     "name": "stdout",
     "output_type": "stream",
     "text": [
      "<generator object fibonacci at 0x7f8d02f4e0b0>\n"
     ]
    }
   ],
   "source": [
    "def fibonacci_1(number):\n",
    "    a,b = 0,1\n",
    "    counter = 0\n",
    "    while n < number:\n",
    "        yield b # yield一般用于创建生成器，作用：返回后面变量（b）给生成器，\n",
    "                # 而不是返回给函数的，b就是斐波拉且数列中的一个元素\n",
    "                # 只要在函数中有yield关键字，那么当前这个函数是属于生成器中保存的算法，算法实现的功能就是生成b\n",
    "                # \n",
    "        a,b = b, a+b\n",
    "    return \"结束\"\n",
    "\n",
    "test = fibonacci(10)\n",
    "print(test) # 是个生成器，并不是“结束”"
   ]
  },
  {
   "cell_type": "code",
   "execution_count": null,
   "id": "4f17ce54",
   "metadata": {},
   "outputs": [],
   "source": [
    "def fibonacci_2(number):\n",
    "    a,b = 0,1\n",
    "    counter = 0\n",
    "    while n < number:\n",
    "        yield b \n",
    "        a,b = b, a+b\n",
    "    return \"结束\"\n",
    "\n",
    "test = fibonacci(10)\n",
    "print(test) # 是个生成器，并不是“结束”"
   ]
  }
 ],
 "metadata": {
  "kernelspec": {
   "display_name": "Python 3 (ipykernel)",
   "language": "python",
   "name": "python3"
  },
  "language_info": {
   "codemirror_mode": {
    "name": "ipython",
    "version": 3
   },
   "file_extension": ".py",
   "mimetype": "text/x-python",
   "name": "python",
   "nbconvert_exporter": "python",
   "pygments_lexer": "ipython3",
   "version": "3.9.12"
  }
 },
 "nbformat": 4,
 "nbformat_minor": 5
}
