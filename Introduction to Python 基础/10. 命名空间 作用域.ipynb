{
 "cells": [
  {
   "cell_type": "markdown",
   "id": "08e752ee",
   "metadata": {},
   "source": [
    "# 0. 标识符"
   ]
  },
  {
   "cell_type": "markdown",
   "id": "431dbf87",
   "metadata": {},
   "source": [
    "* 用户在编程的所使用的一系列名字，用于给 variable class function 命名"
   ]
  },
  {
   "cell_type": "markdown",
   "id": "5a4c241c",
   "metadata": {},
   "source": [
    "* 变量命名\n",
    "    1. 下划线分割\n",
    "    2. 英文字母全小写"
   ]
  },
  {
   "cell_type": "code",
   "execution_count": null,
   "id": "27c5cd38",
   "metadata": {},
   "outputs": [],
   "source": []
  },
  {
   "cell_type": "code",
   "execution_count": null,
   "id": "fdb323e2",
   "metadata": {},
   "outputs": [],
   "source": []
  },
  {
   "cell_type": "markdown",
   "id": "61655012",
   "metadata": {},
   "source": [
    "# 1. 命名空间 namespace\n",
    "\n",
    "> A namespace is a mapping from names to objects.Most namespaces are currently implemented as Python dictionaries。\n",
    "* 内置名称（built-in names）， Python 语言内置的名称，比如函数名 abs、char 和异常名称 BaseException、Exception 等等。\n",
    "* 全局名称（global names），模块中定义的名称，记录了模块的变量，包括函数、类、其它导入的模块、模块级的变量和常量。\n",
    "* 局部名称（local names），函数中定义的名称，记录了函数的变量，包括函数的参数和局部定义的变量。（类中定义的也是）\n",
    "\n",
    "\n",
    "* 局部的命名空间 -> 全局命名空间 -> 内置命名空间：如果找不到变量，它将放弃查找并引发一个 NameError异常\n",
    "* 命名空间的生命周期取决于对象的作用域，如果对象执行完成，则该命名空间的生命周期就结束。"
   ]
  },
  {
   "cell_type": "markdown",
   "id": "2936940e",
   "metadata": {},
   "source": [
    "# 2. 作用域 scope\n",
    "> A scope is a textual region of a Python program where a namespace is directly accessible. \"Directly accessible\" here means that an unqualified reference to a name attempts to find the name in the namespace."
   ]
  },
  {
   "cell_type": "markdown",
   "id": "4f607571",
   "metadata": {},
   "source": [
    "变量的作用域决定了在哪一部分程序可以访问哪个特定的变量名称。Python 的作用域一共有4种，分别是：\n",
    "\n",
    "有四种作用域：\n",
    "\n",
    "1. Local：最内层，包含局部变量，比如一个函数/方法内部。\n",
    "2. Enclosing：包含了非局部(non-local)也非全局(non-global)的变量。比如两个嵌套函数，一个函数（或类） A 里面又包含了一个函数 B ，那么对于 B 中的名称来说 A 中的作用域就为 nonlocal。\n",
    "3. Global：当前脚本的最外层，比如当前模块的全局变量。\n",
    "4. Built-in： 包含了内建的变量/关键字等，最后被搜索。"
   ]
  },
  {
   "cell_type": "code",
   "execution_count": 2,
   "id": "8edd7ca3",
   "metadata": {},
   "outputs": [
    {
     "name": "stdout",
     "output_type": "stream",
     "text": [
      "<built-in function abs>\n"
     ]
    }
   ],
   "source": [
    "print(abs)# 直接使用的是built-in\n",
    "\n",
    "g_count = 0  # 全局作用域\n",
    "def outer():\n",
    "    o_count = 1  # 闭包函数外的函数中\n",
    "    def inner():\n",
    "        i_count = 2  # 局部作用域"
   ]
  },
  {
   "cell_type": "markdown",
   "id": "fc3627a7",
   "metadata": {},
   "source": [
    "## 2.1 全局变量和局部变量"
   ]
  },
  {
   "cell_type": "markdown",
   "id": "90ce1d40",
   "metadata": {},
   "source": [
    "* 定义在函数内部的变量拥有一个局部作用域，定义在函数外的拥有全局作用域。\n",
    "\n",
    "* 局部变量只能在其被声明的函数内部访问，而全局变量可以在整个程序范围内访问。调用函数时，所有在函数内声明的变量名称都将被加入到作用域中。"
   ]
  },
  {
   "cell_type": "markdown",
   "id": "6f2bf647",
   "metadata": {},
   "source": [
    "## 2.2 global 和 nonlocal关键字"
   ]
  },
  {
   "cell_type": "markdown",
   "id": "9a24f4e0",
   "metadata": {},
   "source": [
    "* 如果要修改嵌套作用域（enclosing 作用域，外层非全局作用域）中的变量则需要 nonlocal 关键字了"
   ]
  },
  {
   "cell_type": "code",
   "execution_count": 7,
   "id": "d7ad915f",
   "metadata": {},
   "outputs": [
    {
     "name": "stdout",
     "output_type": "stream",
     "text": [
      "100\n",
      "100\n"
     ]
    }
   ],
   "source": [
    "def outer():\n",
    "    num = 10\n",
    "    def inner():\n",
    "        nonlocal num   # nonlocal关键字声明: 把外边一层num拿进来用\n",
    "        num = 100\n",
    "        print(num)\n",
    "    inner()\n",
    "    print(num)\n",
    "outer()"
   ]
  },
  {
   "cell_type": "code",
   "execution_count": 4,
   "id": "521ebda0",
   "metadata": {},
   "outputs": [
    {
     "name": "stdout",
     "output_type": "stream",
     "text": [
      "11\n"
     ]
    }
   ],
   "source": [
    "a = 10\n",
    "def test():\n",
    "    global a # global：声明这是全局变量，把外边一层的a拿进来用，不然会报错\n",
    "    a = a + 1\n",
    "    print(a)\n",
    "test()"
   ]
  },
  {
   "cell_type": "markdown",
   "id": "4652b3f3",
   "metadata": {},
   "source": [
    "### 在函数内修改全局变量"
   ]
  },
  {
   "cell_type": "code",
   "execution_count": 1,
   "id": "11f47db5",
   "metadata": {},
   "outputs": [
    {
     "name": "stdout",
     "output_type": "stream",
     "text": [
      "10\n"
     ]
    }
   ],
   "source": [
    "num = 10\n",
    "def printnum():\n",
    "    num = 100 # 局部变量：只在函数内部使用\n",
    "    print(num)\n",
    "print(num) # 全局变量"
   ]
  },
  {
   "cell_type": "code",
   "execution_count": null,
   "id": "64ea0401",
   "metadata": {},
   "outputs": [],
   "source": []
  }
 ],
 "metadata": {
  "kernelspec": {
   "display_name": "Python 3 (ipykernel)",
   "language": "python",
   "name": "python3"
  },
  "language_info": {
   "codemirror_mode": {
    "name": "ipython",
    "version": 3
   },
   "file_extension": ".py",
   "mimetype": "text/x-python",
   "name": "python",
   "nbconvert_exporter": "python",
   "pygments_lexer": "ipython3",
   "version": "3.9.13"
  }
 },
 "nbformat": 4,
 "nbformat_minor": 5
}
