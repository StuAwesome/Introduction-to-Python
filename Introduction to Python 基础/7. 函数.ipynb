{
 "cells": [
  {
   "cell_type": "markdown",
   "id": "45bcc989",
   "metadata": {},
   "source": [
    "# 7. 函数"
   ]
  },
  {
   "cell_type": "markdown",
   "id": "ae2ee5ee",
   "metadata": {},
   "source": [
    "* We have already seen some Python built-in functions: `print()`, `type()` and `len()` \n",
    "* Python has lots of them \n",
    "* If you are not sure how they work you can use the `help()` function!\n",
    "\n",
    "\n",
    "* 函数文档\n",
    "\n",
    "* 没有return时，隐式`return None` \n",
    "    - `return` [表达式] 结束函数，选择性地返回一个值给调用方，不带表达式的 return 相当于返回 None。\n",
    "    - `None`是`Nonetype`类型的字面量，表示：空\n",
    "    \n",
    "* **return [表达式]** 结束函数，选择性地返回一个值给调用方，不带表达式的 return 相当于返回 None。"
   ]
  },
  {
   "cell_type": "markdown",
   "id": "abdbec0e",
   "metadata": {},
   "source": [
    "* 参数 parameter\n",
    "* 对象 object\n",
    "* 属性 attribution"
   ]
  },
  {
   "cell_type": "markdown",
   "id": "648c6cdf",
   "metadata": {},
   "source": [
    "```python\n",
    "def function_name(parameter1,input2,...):\n",
    "    line1\n",
    "    line2\n",
    "    ...\n",
    "    lineN\n",
    "    return value1, value2,...\n",
    "```"
   ]
  },
  {
   "cell_type": "code",
   "execution_count": null,
   "id": "1fe1f9f2",
   "metadata": {},
   "outputs": [],
   "source": []
  },
  {
   "cell_type": "markdown",
   "id": "7ebaff6b",
   "metadata": {},
   "source": [
    "## 1 定义一个空函数"
   ]
  },
  {
   "cell_type": "markdown",
   "id": "d1db0478",
   "metadata": {},
   "source": [
    "* `function_name` only contains *letters*, *numbers*, and *_*, always starts with a *letter*\n",
    "* Lines follow `:` must be indented by **4 spaces** (use tab key or 4 spaces)"
   ]
  },
  {
   "cell_type": "code",
   "execution_count": 1,
   "id": "9ba24ab9",
   "metadata": {},
   "outputs": [],
   "source": [
    "def stuAwesome():\n",
    "    pass\n",
    "stuAwesome()"
   ]
  },
  {
   "cell_type": "markdown",
   "id": "ed9a1453",
   "metadata": {},
   "source": [
    "## 2 参数 Parameter"
   ]
  },
  {
   "cell_type": "markdown",
   "id": "fb200aba",
   "metadata": {},
   "source": [
    "* formal parameter：形式参数，定义函数时的变量\n",
    "\n",
    "* actual parameter：实际参数，调用函数时，放入的参数"
   ]
  },
  {
   "cell_type": "markdown",
   "id": "f9870ec0",
   "metadata": {},
   "source": [
    "### 2.1 参数传递\n",
    "* 在 python 中，类型属于对象，对象有不同类型的区分，变量是没有类型的\n",
    "* 变量 a 是没有类型，她仅仅是一个对象的引用（一个指针），可以是指向 List 类型对象，也可以是指向 String 类型对象。"
   ]
  },
  {
   "cell_type": "code",
   "execution_count": 3,
   "id": "695261c5",
   "metadata": {},
   "outputs": [],
   "source": [
    "a = [1,2,3]"
   ]
  },
  {
   "cell_type": "code",
   "execution_count": 4,
   "id": "245df3f0",
   "metadata": {},
   "outputs": [],
   "source": [
    "a = \"stu\""
   ]
  },
  {
   "cell_type": "markdown",
   "id": "3f694300",
   "metadata": {},
   "source": [
    "## 2.2 参数类型\n",
    "* 必需参数\n",
    "    * 必需参数须以正确的顺序传入函数。调用时的数量必须和声明时的一样。\n",
    "* 关键字参数\n",
    "    * 使用关键字参数允许函数调用时参数的顺序与声明时不一致，因为 Python 解释器能够用参数名匹配参数值。\n",
    "* 默认参数(写在非默认参数后)\n",
    "    * 调用函数时，如果没有传递参数，则会使用默认参数。以下实例中如果没有传入 age 参数，则使用默认值\n",
    "* 不定长参数\n",
    "    * 你可能需要一个函数能处理比当初声明时更多的参数。这些参数叫做不定长参数，和上述 2 种参数不同，声明时不会命名。"
   ]
  },
  {
   "cell_type": "markdown",
   "id": "375be097",
   "metadata": {},
   "source": [
    "* 调用：\n",
    "    1. 使用关键词参数：需要吧形式参数一一写出\n",
    "    2. 如果使用未知参数：位置非常重要，定义时和调用时的顺序必须一致"
   ]
  },
  {
   "cell_type": "code",
   "execution_count": 10,
   "id": "c43150d0",
   "metadata": {},
   "outputs": [
    {
     "ename": "SyntaxError",
     "evalue": "non-default argument follows default argument (2057757962.py, line 1)",
     "output_type": "error",
     "traceback": [
      "\u001b[0;36m  File \u001b[0;32m\"/var/folders/dq/vyz01f_d6_9554rf0l07d8p00000gn/T/ipykernel_11524/2057757962.py\"\u001b[0;36m, line \u001b[0;32m1\u001b[0m\n\u001b[0;31m    def jump(step = 1, text): # 关键词参数 + 默认参数 默认参数写后面\u001b[0m\n\u001b[0m                           ^\u001b[0m\n\u001b[0;31mSyntaxError\u001b[0m\u001b[0;31m:\u001b[0m non-default argument follows default argument\n"
     ]
    }
   ],
   "source": [
    "def jump(text,step = 1, jumpyes = False): # 关键词参数 + 默认参数 默认参数写后面\n",
    "    for i in text[::step]:\n",
    "        print(i)\n",
    "    if jumpyes:\n",
    "        print(f\"我跳了{step}\")\n",
    "jump(text = \"我是Stu我希望大家多多关注\")\n",
    "\n",
    "def jump(step = 1, text, jumpyes = False): # 关键词参数 + 默认参数 默认参数写后面\n",
    "    for i in text[::step]:\n",
    "        print(i)\n",
    "    if jumpyes:\n",
    "        print(f\"我跳了{step}\")\n",
    "jump(text = \"我是Stu我希望大家多多关注\")"
   ]
  },
  {
   "cell_type": "markdown",
   "id": "e3ce2bfa",
   "metadata": {},
   "source": [
    "## 2.3 不定长参数\n",
    "```python\n",
    "def functionname([formal_args,] *var_args_tuple ):\n",
    "    \"函数_文档字符串\"\n",
    "    function_suite\n",
    "    return [expression]\n",
    "```"
   ]
  },
  {
   "cell_type": "code",
   "execution_count": 5,
   "id": "55fa948a",
   "metadata": {},
   "outputs": [
    {
     "name": "stdout",
     "output_type": "stream",
     "text": [
      "输出: \n",
      "70\n",
      "(60, 50)\n"
     ]
    }
   ],
   "source": [
    "def printinfo( arg1, *vartuple ):\n",
    "    \"打印任何传入的参数\"\n",
    "    print (\"输出: \")\n",
    "    print (arg1)\n",
    "    print (vartuple)\n",
    "printinfo( 70, 60, 50 )\n",
    "# 不定长参数会形成一个元组"
   ]
  },
  {
   "cell_type": "markdown",
   "id": "f378737a",
   "metadata": {},
   "source": [
    "## 2.4 字典参数\n",
    "* 加了两个星号`**`的参数会以字典的形式导入。"
   ]
  },
  {
   "cell_type": "code",
   "execution_count": 14,
   "id": "918040da",
   "metadata": {},
   "outputs": [
    {
     "name": "stdout",
     "output_type": "stream",
     "text": [
      "输出: \n",
      "1\n",
      "{'a': 2, 'b': 3}\n"
     ]
    }
   ],
   "source": [
    "# 可写函数说明\n",
    "def printinfo( arg1, **vardict ):\n",
    "    \"打印任何传入的参数\"\n",
    "    print (\"输出: \")\n",
    "    print (arg1)\n",
    "    print (vardict)\n",
    "printinfo(1, a=2,b=3)"
   ]
  },
  {
   "cell_type": "markdown",
   "id": "0de17e36",
   "metadata": {},
   "source": [
    "## 2.5 强制关键词参数\n",
    "* 声明函数时，参数中星号 * 可以单独出现，\n",
    "* 如果单独出现星号 *，则星号 * 后的参数必须用关键字传入"
   ]
  },
  {
   "cell_type": "code",
   "execution_count": 15,
   "id": "aac3cbad",
   "metadata": {},
   "outputs": [
    {
     "ename": "TypeError",
     "evalue": "f() takes 2 positional arguments but 3 were given",
     "output_type": "error",
     "traceback": [
      "\u001b[0;31m---------------------------------------------------------------------------\u001b[0m",
      "\u001b[0;31mTypeError\u001b[0m                                 Traceback (most recent call last)",
      "Input \u001b[0;32mIn [15]\u001b[0m, in \u001b[0;36m<cell line: 3>\u001b[0;34m()\u001b[0m\n\u001b[1;32m      1\u001b[0m \u001b[38;5;28;01mdef\u001b[39;00m \u001b[38;5;21mf\u001b[39m(a,b,\u001b[38;5;241m*\u001b[39m,c):\n\u001b[1;32m      2\u001b[0m      \u001b[38;5;28;01mreturn\u001b[39;00m a\u001b[38;5;241m+\u001b[39mb\u001b[38;5;241m+\u001b[39mc\n\u001b[0;32m----> 3\u001b[0m \u001b[43mf\u001b[49m\u001b[43m(\u001b[49m\u001b[38;5;241;43m1\u001b[39;49m\u001b[43m,\u001b[49m\u001b[38;5;241;43m2\u001b[39;49m\u001b[43m,\u001b[49m\u001b[38;5;241;43m3\u001b[39;49m\u001b[43m)\u001b[49m\n",
      "\u001b[0;31mTypeError\u001b[0m: f() takes 2 positional arguments but 3 were given"
     ]
    }
   ],
   "source": [
    "def sum3(a,b,*,c):\n",
    "     return a+b+c\n",
    "f(1,2,3)   # 报错\n",
    "# TypeError: f() takes 2 positional arguments but 3 were given"
   ]
  },
  {
   "cell_type": "code",
   "execution_count": 16,
   "id": "b9ce392b",
   "metadata": {},
   "outputs": [
    {
     "data": {
      "text/plain": [
       "6"
      ]
     },
     "execution_count": 16,
     "metadata": {},
     "output_type": "execute_result"
    }
   ],
   "source": [
    "def sum3(a,b,*,c):\n",
    "     return a+b+c\n",
    "sum3(1,2,c=3)"
   ]
  },
  {
   "cell_type": "markdown",
   "id": "cf43a4cb",
   "metadata": {},
   "source": [
    "## 2.6 强制位置参数\n",
    "* Python3.8 新增了一个函数形参语法 `/` \n",
    "    * `/`之前函数形参必须使用指定位置参数，不能使用关键字参数的形式。"
   ]
  },
  {
   "cell_type": "code",
   "execution_count": 17,
   "id": "4f707675",
   "metadata": {},
   "outputs": [],
   "source": [
    "def f(a, b, /, c, d, *, e, f):\n",
    "    print(a, b, c, d, e, f)\n",
    "# a,b 必须使用位置参数\n",
    "# c,d 位置参数 关键词参数都可\n",
    "# e,f 只能使用位置参数\n"
   ]
  },
  {
   "cell_type": "code",
   "execution_count": null,
   "id": "02451e12",
   "metadata": {},
   "outputs": [],
   "source": []
  },
  {
   "cell_type": "markdown",
   "id": "733bf2b2",
   "metadata": {},
   "source": [
    "## 3 变量在函数作用scope"
   ]
  },
  {
   "cell_type": "markdown",
   "id": "95bb9013",
   "metadata": {},
   "source": [
    "* Local VS Global:重名 函数内调用local variable\n",
    "* 函数内 **改动** global variable，需要在变量前加上 global"
   ]
  },
  {
   "cell_type": "code",
   "execution_count": 2,
   "id": "5a00cfa6",
   "metadata": {},
   "outputs": [
    {
     "name": "stdout",
     "output_type": "stream",
     "text": [
      "100\n"
     ]
    }
   ],
   "source": [
    "def stu():\n",
    "    ''' 函数文档\n",
    "    第一行写函数功能\n",
    "                        第二行 空\n",
    "    第三行具体描述  \n",
    "    '''\n",
    "    global x\n",
    "    x = 100\n",
    "    pass\n",
    "stu()\n",
    "print(x)"
   ]
  },
  {
   "cell_type": "markdown",
   "id": "cc953d84",
   "metadata": {},
   "source": [
    "## 4 函数文档 docstring"
   ]
  },
  {
   "cell_type": "markdown",
   "id": "44f20a17",
   "metadata": {},
   "source": [
    "* docstring = document string\n",
    "* PEP8 规范：所有公开函数都要有文档注释\n",
    "* 用三个引号圈住范围\n",
    "* 用`function.__doc__`查看（双下划线）\n",
    "* 参考PEP257文档书写规范"
   ]
  },
  {
   "cell_type": "code",
   "execution_count": 3,
   "id": "bc91a6c1",
   "metadata": {},
   "outputs": [
    {
     "name": "stdout",
     "output_type": "stream",
     "text": [
      " 函数文档\n",
      "    第一行写函数功能\n",
      "                        第二行 空\n",
      "    第三行具体描述  \n",
      "    \n"
     ]
    }
   ],
   "source": [
    "print(stu.__doc__)"
   ]
  },
  {
   "cell_type": "code",
   "execution_count": 17,
   "id": "db0b5bf2",
   "metadata": {},
   "outputs": [
    {
     "name": "stdout",
     "output_type": "stream",
     "text": [
      "Help on function stu in module __main__:\n",
      "\n",
      "stu()\n",
      "    第一行写函数功能\n",
      "                        第二行 空\n",
      "    第三行具体描述\n",
      "\n"
     ]
    }
   ],
   "source": [
    "help(stu)"
   ]
  },
  {
   "cell_type": "code",
   "execution_count": 18,
   "id": "0be1f602",
   "metadata": {},
   "outputs": [
    {
     "data": {
      "text/plain": [
       "function"
      ]
     },
     "execution_count": 18,
     "metadata": {},
     "output_type": "execute_result"
    }
   ],
   "source": [
    "type(stu)"
   ]
  },
  {
   "cell_type": "code",
   "execution_count": 19,
   "id": "6202f098",
   "metadata": {},
   "outputs": [
    {
     "data": {
      "text/plain": [
       "str"
      ]
     },
     "execution_count": 19,
     "metadata": {},
     "output_type": "execute_result"
    }
   ],
   "source": [
    "type(stu.__doc__)"
   ]
  },
  {
   "cell_type": "code",
   "execution_count": 21,
   "id": "4b67f8a4",
   "metadata": {},
   "outputs": [
    {
     "data": {
      "text/plain": [
       "str"
      ]
     },
     "execution_count": 21,
     "metadata": {},
     "output_type": "execute_result"
    }
   ],
   "source": [
    "type(__doc__)"
   ]
  },
  {
   "cell_type": "code",
   "execution_count": 23,
   "id": "352793ce",
   "metadata": {
    "scrolled": true
   },
   "outputs": [
    {
     "name": "stdout",
     "output_type": "stream",
     "text": [
      "type(object) -> the object's type\n",
      "type(name, bases, dict, **kwds) -> a new type\n"
     ]
    }
   ],
   "source": [
    "print(type.__doc__)"
   ]
  },
  {
   "cell_type": "markdown",
   "id": "aa9eb6e1",
   "metadata": {},
   "source": [
    "## 5 python的 built-in function\n",
    "* 在python宇宙中的函数，随时可以使用"
   ]
  },
  {
   "cell_type": "code",
   "execution_count": 25,
   "id": "61c06989",
   "metadata": {},
   "outputs": [
    {
     "name": "stdout",
     "output_type": "stream",
     "text": [
      "hello\thi\n"
     ]
    }
   ],
   "source": [
    "#print() 后加一个 end parameter\n",
    "print(\"hello\",end = \"\\t\")\n",
    "print(\"hi\")"
   ]
  },
  {
   "cell_type": "code",
   "execution_count": 28,
   "id": "1a89d3d6",
   "metadata": {},
   "outputs": [
    {
     "name": "stdout",
     "output_type": "stream",
     "text": [
      "hello\n",
      "hi\n"
     ]
    }
   ],
   "source": [
    "#print() 后加一个 end parameter\n",
    "print(\"hello\",end = \"\\n\") # 默认换行\n",
    "print(\"hi\")"
   ]
  },
  {
   "cell_type": "code",
   "execution_count": 29,
   "id": "590b3248",
   "metadata": {},
   "outputs": [
    {
     "name": "stdout",
     "output_type": "stream",
     "text": [
      "www.bilibili.com\n"
     ]
    }
   ],
   "source": [
    "print('www','bilibili','com',sep = \".\")"
   ]
  },
  {
   "cell_type": "code",
   "execution_count": 31,
   "id": "a6de650a",
   "metadata": {},
   "outputs": [
    {
     "name": "stdout",
     "output_type": "stream",
     "text": [
      "0,s\n",
      "1,t\n",
      "2,u\n",
      "3,A\n",
      "4,w\n",
      "5,e\n",
      "6,s\n",
      "7,o\n",
      "8,m\n",
      "9,e\n"
     ]
    }
   ],
   "source": [
    "for a,b in enumerate(\"stuAwesome\"):\n",
    "    print(f\"{a},{b}\") #前面的f类似formate"
   ]
  },
  {
   "cell_type": "markdown",
   "id": "ed3762d5",
   "metadata": {},
   "source": [
    "## 6 lambda 匿名函数"
   ]
  },
  {
   "cell_type": "markdown",
   "id": "40acaa4f",
   "metadata": {},
   "source": [
    "```python\n",
    "lambda [arg1 [,arg2,.....argn]]:expression\n",
    "```"
   ]
  },
  {
   "cell_type": "markdown",
   "id": "0afbc596",
   "metadata": {},
   "source": [
    "* 函数名 = lambda parameter1, parameter2 ... : 语句\n",
    "* 用一次就废，懒得命名函数\n",
    "* 某些函数"
   ]
  },
  {
   "cell_type": "code",
   "execution_count": 36,
   "id": "7cd287be",
   "metadata": {},
   "outputs": [
    {
     "data": {
      "text/plain": [
       "81"
      ]
     },
     "execution_count": 36,
     "metadata": {},
     "output_type": "execute_result"
    }
   ],
   "source": [
    "stu = lambda a,b:a**b\n",
    "c = stu(3,4)\n",
    "c"
   ]
  },
  {
   "cell_type": "code",
   "execution_count": 37,
   "id": "5d8b64c2",
   "metadata": {},
   "outputs": [
    {
     "data": {
      "text/plain": [
       "64"
      ]
     },
     "execution_count": 37,
     "metadata": {},
     "output_type": "execute_result"
    }
   ],
   "source": [
    "stu(4,3)"
   ]
  },
  {
   "cell_type": "code",
   "execution_count": 38,
   "id": "b46cda23",
   "metadata": {},
   "outputs": [
    {
     "data": {
      "text/plain": [
       "[-100, -90, -82, 2, 3, 5, 9]"
      ]
     },
     "execution_count": 38,
     "metadata": {},
     "output_type": "execute_result"
    }
   ],
   "source": [
    "list1 = [2,3,-90,-82,-100,5,9]\n",
    "sorted(list1)"
   ]
  },
  {
   "cell_type": "code",
   "execution_count": 39,
   "id": "4c5a94fa",
   "metadata": {},
   "outputs": [
    {
     "data": {
      "text/plain": [
       "[2, 3, 5, 9, -82, -90, -100]"
      ]
     },
     "execution_count": 39,
     "metadata": {},
     "output_type": "execute_result"
    }
   ],
   "source": [
    "sorted(list1, key = lambda a:abs(a))"
   ]
  },
  {
   "cell_type": "markdown",
   "id": "b025a2da",
   "metadata": {},
   "source": [
    "## 7 递归函数 recuision\n"
   ]
  },
  {
   "cell_type": "markdown",
   "id": "a0d95968",
   "metadata": {},
   "source": [
    "### 有两个ruturn，一个是最深层返回，一个是层层嵌套"
   ]
  },
  {
   "cell_type": "code",
   "execution_count": 41,
   "id": "5c9ad57c",
   "metadata": {},
   "outputs": [
    {
     "data": {
      "text/plain": [
       "120"
      ]
     },
     "execution_count": 41,
     "metadata": {},
     "output_type": "execute_result"
    }
   ],
   "source": [
    "def factorial(n) :\n",
    "    if n == 1:\n",
    "        return 1 # 最深层的\n",
    "    return n * factorial(n-1)\n",
    "factorial(5)"
   ]
  },
  {
   "cell_type": "code",
   "execution_count": null,
   "id": "1e5a9640",
   "metadata": {},
   "outputs": [],
   "source": []
  }
 ],
 "metadata": {
  "kernelspec": {
   "display_name": "Python 3 (ipykernel)",
   "language": "python",
   "name": "python3"
  },
  "language_info": {
   "codemirror_mode": {
    "name": "ipython",
    "version": 3
   },
   "file_extension": ".py",
   "mimetype": "text/x-python",
   "name": "python",
   "nbconvert_exporter": "python",
   "pygments_lexer": "ipython3",
   "version": "3.9.13"
  }
 },
 "nbformat": 4,
 "nbformat_minor": 5
}
