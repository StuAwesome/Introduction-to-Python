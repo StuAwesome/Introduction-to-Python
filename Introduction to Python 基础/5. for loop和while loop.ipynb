{
 "cells": [
  {
   "cell_type": "markdown",
   "id": "fac06935",
   "metadata": {},
   "source": [
    "# 5 Introduction to iterating over data using **loops**"
   ]
  },
  {
   "cell_type": "markdown",
   "id": "d4baaf7b",
   "metadata": {},
   "source": [
    "**Algorithms often need to do the same thing again and again** "
   ]
  },
  {
   "cell_type": "markdown",
   "id": "1e428393",
   "metadata": {},
   "source": [
    "## 4.1  `for` loops\n",
    "* To create a **for** loop, you need keywords `for`and `in`\n",
    "* **这里是一个 variable 和一个 list**\n",
    "* The syntax is\n",
    "    ```python\n",
    "for item in iterable:\n",
    "    # 循环主体\n",
    "else:\n",
    "    # 循环结束后执行的代码\n",
    "    ```"
   ]
  },
  {
   "cell_type": "code",
   "execution_count": 2,
   "id": "32dc1d93",
   "metadata": {},
   "outputs": [
    {
     "name": "stdout",
     "output_type": "stream",
     "text": [
      "0\n",
      "1\n",
      "2\n",
      "3\n",
      "4\n",
      "5\n",
      "Finally finished!\n"
     ]
    }
   ],
   "source": [
    "for x in range(6):\n",
    "  print(x)\n",
    "else:\n",
    "  print(\"Finally finished!\")"
   ]
  },
  {
   "cell_type": "code",
   "execution_count": 11,
   "id": "e7a8aea9",
   "metadata": {},
   "outputs": [
    {
     "name": "stdout",
     "output_type": "stream",
     "text": [
      "you are currently 3 years old\n",
      "you are currently 4 years old\n",
      "you are currently 5 years old\n",
      "you are currently 6 years old\n",
      "you are currently 7 years old\n",
      "you are currently 10 years old\n"
     ]
    }
   ],
   "source": [
    "list_age = [3,4,5,6,7,10]\n",
    "# age 是一个变量\n",
    "for age in list_age:\n",
    "    print('you are currently {0} years old'.format(age) )"
   ]
  },
  {
   "cell_type": "markdown",
   "id": "df0a3263",
   "metadata": {},
   "source": [
    "### 4.1.1 没有list的循环\n",
    "* 没有现成序列，可以通过 `range()` 创建一个序列\n",
    "* `range(n)`：n 等于想要循环的次数\n",
    "    * Example: `range(end)`:            *0, 1, 2 ... end-1* \n",
    "* `range(n)`语法和str索引很像"
   ]
  },
  {
   "cell_type": "code",
   "execution_count": 13,
   "id": "eb47b037",
   "metadata": {},
   "outputs": [
    {
     "name": "stdout",
     "output_type": "stream",
     "text": [
      "n = 3 \n",
      "n = 4 \n",
      "n = 5 \n",
      "n = 6 \n",
      "n = 7 \n",
      "n = 8 \n",
      "n = 9 \n",
      "n = 10 \n",
      "you are currently 0 years old\n",
      "you are currently 1 years old\n",
      "you are currently 2 years old\n",
      "you are currently 3 years old\n",
      "you are currently 4 years old\n"
     ]
    }
   ],
   "source": [
    "for n in range(3,11):\n",
    "    print('n = {0} '.format(n))\n",
    "    \n",
    "for age in range(5):\n",
    "    print('you are currently {0} years old'.format(age) )"
   ]
  },
  {
   "cell_type": "markdown",
   "id": "03c22512",
   "metadata": {},
   "source": [
    "### 4.1.2 range( ) 语法\n",
    "* **`range()` function：** Python built-in function to create a sequence of numbers\n",
    "* It takes three forms:\n",
    "    * `range(end)`:            *0, 1, 2 ... end-1* \n",
    "    * `range(start,end)`:      *start, start+1, start+2 ... end-1* \n",
    "        * 含头不含尾\n",
    "    * `range(start,end,step)`: *start, start+step, start+2 x step ... start+ N x step*\n",
    "        * 可正可负"
   ]
  },
  {
   "cell_type": "markdown",
   "id": "3c3eb657",
   "metadata": {},
   "source": [
    "* Postive `step` creates an increasing sequence\n",
    "*  `range(start,end,step)`: *start, start+step, start+2 x step ... start+ N x step*\n",
    "     * **start+ N x step $<$ end**\n",
    "    "
   ]
  },
  {
   "cell_type": "code",
   "execution_count": 16,
   "id": "38620a78",
   "metadata": {},
   "outputs": [
    {
     "name": "stdout",
     "output_type": "stream",
     "text": [
      "n = 1 \n",
      "n = 4 \n",
      "n = 7 \n",
      "n = 10 \n",
      "n = 13 \n"
     ]
    }
   ],
   "source": [
    "for n in range(1,15,3):\n",
    "    print('n = {0} '.format(n))"
   ]
  },
  {
   "cell_type": "code",
   "execution_count": 3,
   "id": "a395e932",
   "metadata": {},
   "outputs": [
    {
     "name": "stdout",
     "output_type": "stream",
     "text": [
      "n = 14\n",
      "n = 11\n",
      "n = 8\n",
      "n = 5\n",
      "n = 2\n"
     ]
    }
   ],
   "source": [
    "for n in range(14,0, -3):\n",
    "    print(\"n = {0}\".format(n))"
   ]
  },
  {
   "cell_type": "code",
   "execution_count": 4,
   "id": "4b34c889",
   "metadata": {},
   "outputs": [
    {
     "name": "stdout",
     "output_type": "stream",
     "text": [
      "-10\n",
      "-40\n",
      "-70\n"
     ]
    }
   ],
   "source": [
    "for i in range(-10, -100, -30) :\n",
    "    print(i)\n",
    "    "
   ]
  },
  {
   "cell_type": "markdown",
   "id": "b634fbcd",
   "metadata": {},
   "source": [
    "## 4.2 `while` loop\n"
   ]
  },
  {
   "cell_type": "markdown",
   "id": "6f43ced4",
   "metadata": {},
   "source": [
    "* All while loops have the same structure\n",
    "    * You use the `while` keyword \n",
    "    * Followed by a condition (e.g., a boolean operation `age <= 17`)\n",
    "    ```python\n",
    "while <expr>:\n",
    "    <statement(s)>\n",
    "else:\n",
    "    <additional_statement(s)>        \n",
    "    ```"
   ]
  },
  {
   "cell_type": "markdown",
   "id": "b99ac407",
   "metadata": {},
   "source": [
    "* A `while` loop example where the number of iterations is **unknown** in advance."
   ]
  },
  {
   "cell_type": "markdown",
   "id": "dbe81fbd",
   "metadata": {},
   "source": [
    "### 4.2.1 `while ... else ...`\n",
    "* 最后会执行一次else里的<additional_statement(s)>  "
   ]
  },
  {
   "cell_type": "code",
   "execution_count": 3,
   "id": "7aa3ac0e",
   "metadata": {},
   "outputs": [
    {
     "name": "stdout",
     "output_type": "stream",
     "text": [
      "你好世界\n"
     ]
    }
   ],
   "source": [
    "while False:\n",
    "    print(\"hello world\")\n",
    "else:\n",
    "    print(\"你好世界\")"
   ]
  },
  {
   "cell_type": "code",
   "execution_count": 1,
   "id": "c504f0b2",
   "metadata": {},
   "outputs": [
    {
     "name": "stdout",
     "output_type": "stream",
     "text": [
      "0  小于 5\n",
      "1  小于 5\n",
      "2  小于 5\n",
      "3  小于 5\n",
      "4  小于 5\n",
      "5  大于或等于 5\n"
     ]
    }
   ],
   "source": [
    "count = 0\n",
    "while count < 5:\n",
    "   print(count, \" 小于 5\")\n",
    "   count = count + 1\n",
    "else:\n",
    "   print(count, \" 大于或等于 5\")"
   ]
  },
  {
   "cell_type": "markdown",
   "id": "58a85dd1",
   "metadata": {},
   "source": [
    "## 4.3 思考循环"
   ]
  },
  {
   "cell_type": "markdown",
   "id": "4a5fc7bb",
   "metadata": {},
   "source": [
    "* 能用 for loop 就不用 while loop\n",
    "* 先使用 Pseudo code 伪代码"
   ]
  },
  {
   "cell_type": "code",
   "execution_count": null,
   "id": "e45f9a1f",
   "metadata": {},
   "outputs": [],
   "source": []
  }
 ],
 "metadata": {
  "kernelspec": {
   "display_name": "Python 3 (ipykernel)",
   "language": "python",
   "name": "python3"
  },
  "language_info": {
   "codemirror_mode": {
    "name": "ipython",
    "version": 3
   },
   "file_extension": ".py",
   "mimetype": "text/x-python",
   "name": "python",
   "nbconvert_exporter": "python",
   "pygments_lexer": "ipython3",
   "version": "3.9.12"
  }
 },
 "nbformat": 4,
 "nbformat_minor": 5
}
