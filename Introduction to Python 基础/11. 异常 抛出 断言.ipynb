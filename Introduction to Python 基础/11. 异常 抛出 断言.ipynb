{
 "cells": [
  {
   "cell_type": "markdown",
   "id": "9d0b3026",
   "metadata": {},
   "source": [
    "# 1. 了解异常\n",
    "* Bug的由来：虫子使得继电器出错"
   ]
  },
  {
   "cell_type": "markdown",
   "id": "81e0bc0b",
   "metadata": {},
   "source": [
    "# 2. 捕获异常"
   ]
  },
  {
   "cell_type": "markdown",
   "id": "1068fd99",
   "metadata": {},
   "source": [
    "* 对可能出现的bug，进行提前准备，提前处理\n",
    "* 这种行为我们称之为异常处理（捕获异常）"
   ]
  },
  {
   "cell_type": "markdown",
   "id": "ebe1f321",
   "metadata": {},
   "source": [
    "* 程序遇到bug：\n",
    "    1. 整个程序因为bug停止，又没有任何提示信息\n",
    "    2. 对bug进行提醒，整个程序继续运行\n",
    "* 提前假设某个地方可能会出现异常，提前做好准备，真的异常出现时，可以及时后续手段"
   ]
  },
  {
   "cell_type": "markdown",
   "id": "8cae824a",
   "metadata": {},
   "source": [
    "* 遇到不会停止运行 会继续except的代码运行\n",
    "```python\n",
    "try:\n",
    "    1. 尝试执行代码\n",
    "except 一号错误:\n",
    "    2.1 (1)发生一号报错时执行的代码\n",
    "except 二号错误:\n",
    "    2.2 (1)发生二号报错时执行的代码\n",
    "    # 可有多个except...\n",
    "except: \n",
    "    2.3 ...\n",
    "    # 也可指名不某种错误\n",
    "else:\n",
    "    3. (1)没有发生报错的代码\n",
    "finally:\n",
    "    4. (1)不管有没有发生异常都会执行\n",
    "```"
   ]
  },
  {
   "cell_type": "code",
   "execution_count": 3,
   "id": "cc801ff4",
   "metadata": {},
   "outputs": [
    {
     "ename": "ZeroDivisionError",
     "evalue": "division by zero",
     "output_type": "error",
     "traceback": [
      "\u001b[0;31m---------------------------------------------------------------------------\u001b[0m",
      "\u001b[0;31mZeroDivisionError\u001b[0m                         Traceback (most recent call last)",
      "\u001b[0;32m/var/folders/dq/vyz01f_d6_9554rf0l07d8p00000gn/T/ipykernel_12390/1920329635.py\u001b[0m in \u001b[0;36m<module>\u001b[0;34m\u001b[0m\n\u001b[1;32m      1\u001b[0m \u001b[0;32mtry\u001b[0m\u001b[0;34m:\u001b[0m\u001b[0;34m\u001b[0m\u001b[0;34m\u001b[0m\u001b[0m\n\u001b[0;32m----> 2\u001b[0;31m     \u001b[0;36m1\u001b[0m\u001b[0;34m/\u001b[0m\u001b[0;36m0\u001b[0m\u001b[0;34m\u001b[0m\u001b[0;34m\u001b[0m\u001b[0m\n\u001b[0m\u001b[1;32m      3\u001b[0m \u001b[0;32mexcept\u001b[0m \u001b[0mNameError\u001b[0m \u001b[0;32mas\u001b[0m \u001b[0me\u001b[0m\u001b[0;34m:\u001b[0m\u001b[0;34m\u001b[0m\u001b[0;34m\u001b[0m\u001b[0m\n\u001b[1;32m      4\u001b[0m     \u001b[0mprint\u001b[0m\u001b[0;34m(\u001b[0m\u001b[0;34m\"出现了未定义变量的异常\"\u001b[0m\u001b[0;34m)\u001b[0m\u001b[0;34m\u001b[0m\u001b[0;34m\u001b[0m\u001b[0m\n\u001b[1;32m      5\u001b[0m \u001b[0;31m# 还是报错了因为这是除0异常\u001b[0m\u001b[0;34m\u001b[0m\u001b[0;34m\u001b[0m\u001b[0m\n",
      "\u001b[0;31mZeroDivisionError\u001b[0m: division by zero"
     ]
    }
   ],
   "source": [
    "try:\n",
    "    1/0\n",
    "except NameError as e:\n",
    "    print(\"出现了未定义变量的异常\")\n",
    "# 还是报错了因为这是除0异常"
   ]
  },
  {
   "cell_type": "code",
   "execution_count": 8,
   "id": "685b6e39",
   "metadata": {},
   "outputs": [
    {
     "name": "stdout",
     "output_type": "stream",
     "text": [
      "出现了未定义变量的异常\n",
      "name 'name' is not defined\n"
     ]
    }
   ],
   "source": [
    "try:\n",
    "    print(name)\n",
    "except NameError as e: # 捕获的异常类型\n",
    "    print(\"出现了未定义变量的异常\")\n",
    "    print(e) # e是个对象，打印下e的value\n",
    "# 还是报错了因为这是除0异常"
   ]
  },
  {
   "cell_type": "code",
   "execution_count": 7,
   "id": "d099c3bd",
   "metadata": {},
   "outputs": [
    {
     "name": "stdout",
     "output_type": "stream",
     "text": [
      "出现了未定义变量的异常 or 除0异常\n"
     ]
    }
   ],
   "source": [
    "try:\n",
    "    1/0\n",
    "except (NameError, ZeroDivisionError) as e:\n",
    "    print(\"出现了未定义变量的异常 or 除0异常\")\n",
    "# 还是报错了因为这是除0异常"
   ]
  },
  {
   "cell_type": "code",
   "execution_count": 9,
   "id": "6641206c",
   "metadata": {},
   "outputs": [
    {
     "name": "stdout",
     "output_type": "stream",
     "text": [
      "除0异常\n"
     ]
    }
   ],
   "source": [
    "try:\n",
    "    1/0\n",
    "except NameError:\n",
    "    print(\"出现了未定义变量的异常\")\n",
    "# 还是报错了因为这是除0异常\n",
    "except ZeroDivisionError:\n",
    "    print(\"除0异常\")"
   ]
  },
  {
   "cell_type": "markdown",
   "id": "6df6ca99",
   "metadata": {},
   "source": [
    "### 捕获所有异常"
   ]
  },
  {
   "cell_type": "code",
   "execution_count": 11,
   "id": "6bec3e3d",
   "metadata": {},
   "outputs": [
    {
     "name": "stdout",
     "output_type": "stream",
     "text": [
      "出现异常了\n"
     ]
    }
   ],
   "source": [
    "try:\n",
    "    raise True\n",
    "except:\n",
    "    print(\"出现异常了\")\n",
    "    "
   ]
  },
  {
   "cell_type": "markdown",
   "id": "eb216642",
   "metadata": {},
   "source": [
    "### 异常链条"
   ]
  },
  {
   "cell_type": "code",
   "execution_count": 13,
   "id": "188297ed",
   "metadata": {},
   "outputs": [
    {
     "ename": "ZeroDivisionError",
     "evalue": "division by zero",
     "output_type": "error",
     "traceback": [
      "\u001b[0;31m---------------------------------------------------------------------------\u001b[0m",
      "\u001b[0;31mZeroDivisionError\u001b[0m                         Traceback (most recent call last)",
      "\u001b[0;32m/var/folders/dq/vyz01f_d6_9554rf0l07d8p00000gn/T/ipykernel_12390/29678123.py\u001b[0m in \u001b[0;36m<module>\u001b[0;34m\u001b[0m\n\u001b[1;32m      8\u001b[0m     \u001b[0mfun2\u001b[0m\u001b[0;34m(\u001b[0m\u001b[0;34m)\u001b[0m\u001b[0;34m\u001b[0m\u001b[0;34m\u001b[0m\u001b[0m\n\u001b[1;32m      9\u001b[0m \u001b[0;34m\u001b[0m\u001b[0m\n\u001b[0;32m---> 10\u001b[0;31m \u001b[0mmain\u001b[0m\u001b[0;34m(\u001b[0m\u001b[0;34m)\u001b[0m\u001b[0;34m\u001b[0m\u001b[0;34m\u001b[0m\u001b[0m\n\u001b[0m",
      "\u001b[0;32m/var/folders/dq/vyz01f_d6_9554rf0l07d8p00000gn/T/ipykernel_12390/29678123.py\u001b[0m in \u001b[0;36mmain\u001b[0;34m()\u001b[0m\n\u001b[1;32m      6\u001b[0m \u001b[0;34m\u001b[0m\u001b[0m\n\u001b[1;32m      7\u001b[0m \u001b[0;32mdef\u001b[0m \u001b[0mmain\u001b[0m\u001b[0;34m(\u001b[0m\u001b[0;34m)\u001b[0m\u001b[0;34m:\u001b[0m\u001b[0;34m\u001b[0m\u001b[0;34m\u001b[0m\u001b[0m\n\u001b[0;32m----> 8\u001b[0;31m     \u001b[0mfun2\u001b[0m\u001b[0;34m(\u001b[0m\u001b[0;34m)\u001b[0m\u001b[0;34m\u001b[0m\u001b[0;34m\u001b[0m\u001b[0m\n\u001b[0m\u001b[1;32m      9\u001b[0m \u001b[0;34m\u001b[0m\u001b[0m\n\u001b[1;32m     10\u001b[0m \u001b[0mmain\u001b[0m\u001b[0;34m(\u001b[0m\u001b[0;34m)\u001b[0m\u001b[0;34m\u001b[0m\u001b[0;34m\u001b[0m\u001b[0m\n",
      "\u001b[0;32m/var/folders/dq/vyz01f_d6_9554rf0l07d8p00000gn/T/ipykernel_12390/29678123.py\u001b[0m in \u001b[0;36mfun2\u001b[0;34m()\u001b[0m\n\u001b[1;32m      2\u001b[0m     \u001b[0;36m1\u001b[0m\u001b[0;34m/\u001b[0m\u001b[0;36m0\u001b[0m\u001b[0;34m\u001b[0m\u001b[0;34m\u001b[0m\u001b[0m\n\u001b[1;32m      3\u001b[0m \u001b[0;32mdef\u001b[0m \u001b[0mfun2\u001b[0m\u001b[0;34m(\u001b[0m\u001b[0;34m)\u001b[0m\u001b[0;34m:\u001b[0m\u001b[0;34m\u001b[0m\u001b[0;34m\u001b[0m\u001b[0m\n\u001b[0;32m----> 4\u001b[0;31m     \u001b[0mfun1\u001b[0m\u001b[0;34m(\u001b[0m\u001b[0;34m)\u001b[0m\u001b[0;34m\u001b[0m\u001b[0;34m\u001b[0m\u001b[0m\n\u001b[0m\u001b[1;32m      5\u001b[0m \u001b[0;34m\u001b[0m\u001b[0m\n\u001b[1;32m      6\u001b[0m \u001b[0;34m\u001b[0m\u001b[0m\n",
      "\u001b[0;32m/var/folders/dq/vyz01f_d6_9554rf0l07d8p00000gn/T/ipykernel_12390/29678123.py\u001b[0m in \u001b[0;36mfun1\u001b[0;34m()\u001b[0m\n\u001b[1;32m      1\u001b[0m \u001b[0;32mdef\u001b[0m \u001b[0mfun1\u001b[0m\u001b[0;34m(\u001b[0m\u001b[0;34m)\u001b[0m\u001b[0;34m:\u001b[0m\u001b[0;34m\u001b[0m\u001b[0;34m\u001b[0m\u001b[0m\n\u001b[0;32m----> 2\u001b[0;31m     \u001b[0;36m1\u001b[0m\u001b[0;34m/\u001b[0m\u001b[0;36m0\u001b[0m\u001b[0;34m\u001b[0m\u001b[0;34m\u001b[0m\u001b[0m\n\u001b[0m\u001b[1;32m      3\u001b[0m \u001b[0;32mdef\u001b[0m \u001b[0mfun2\u001b[0m\u001b[0;34m(\u001b[0m\u001b[0;34m)\u001b[0m\u001b[0;34m:\u001b[0m\u001b[0;34m\u001b[0m\u001b[0;34m\u001b[0m\u001b[0m\n\u001b[1;32m      4\u001b[0m     \u001b[0mfun1\u001b[0m\u001b[0;34m(\u001b[0m\u001b[0;34m)\u001b[0m\u001b[0;34m\u001b[0m\u001b[0;34m\u001b[0m\u001b[0m\n\u001b[1;32m      5\u001b[0m \u001b[0;34m\u001b[0m\u001b[0m\n",
      "\u001b[0;31mZeroDivisionError\u001b[0m: division by zero"
     ]
    }
   ],
   "source": [
    "def fun1():\n",
    "    1/0\n",
    "def fun2():\n",
    "    fun1()\n",
    "    \n",
    "    \n",
    "def main():\n",
    "    fun2()\n",
    "\n",
    "main()"
   ]
  },
  {
   "cell_type": "code",
   "execution_count": 16,
   "id": "447b44d3",
   "metadata": {},
   "outputs": [
    {
     "name": "stdout",
     "output_type": "stream",
     "text": [
      "出现异常了, division by zero\n",
      "division by zero\n"
     ]
    }
   ],
   "source": [
    "def fun1():\n",
    "    1/0\n",
    "def fun2():\n",
    "    fun1()\n",
    "    \n",
    "    \n",
    "def main():\n",
    "    fun2()\n",
    "try:\n",
    "    main()\n",
    "except Exception as e:\n",
    "    print(f\"出现异常了, {e}\")\n",
    "    print(e)\n",
    "    "
   ]
  },
  {
   "cell_type": "code",
   "execution_count": null,
   "id": "9d1d36e6",
   "metadata": {},
   "outputs": [],
   "source": []
  },
  {
   "cell_type": "code",
   "execution_count": null,
   "id": "16c97887",
   "metadata": {},
   "outputs": [],
   "source": []
  },
  {
   "cell_type": "code",
   "execution_count": null,
   "id": "5807482d",
   "metadata": {},
   "outputs": [],
   "source": []
  },
  {
   "cell_type": "code",
   "execution_count": null,
   "id": "a3fd6ea7",
   "metadata": {},
   "outputs": [],
   "source": []
  },
  {
   "cell_type": "code",
   "execution_count": 1,
   "id": "62fee06c",
   "metadata": {},
   "outputs": [
    {
     "ename": "ValueError",
     "evalue": "invalid literal for int() with base 10: 's'",
     "output_type": "error",
     "traceback": [
      "\u001b[0;31m---------------------------------------------------------------------------\u001b[0m",
      "\u001b[0;31mValueError\u001b[0m                                Traceback (most recent call last)",
      "Input \u001b[0;32mIn [1]\u001b[0m, in \u001b[0;36m<cell line: 1>\u001b[0;34m()\u001b[0m\n\u001b[0;32m----> 1\u001b[0m \u001b[38;5;28;43mint\u001b[39;49m\u001b[43m(\u001b[49m\u001b[38;5;124;43m\"\u001b[39;49m\u001b[38;5;124;43ms\u001b[39;49m\u001b[38;5;124;43m\"\u001b[39;49m\u001b[43m)\u001b[49m\n",
      "\u001b[0;31mValueError\u001b[0m: invalid literal for int() with base 10: 's'"
     ]
    }
   ],
   "source": [
    "int(\"s\")"
   ]
  },
  {
   "cell_type": "code",
   "execution_count": null,
   "id": "795d4c30",
   "metadata": {},
   "outputs": [],
   "source": [
    "while True:\n",
    "    try:\n",
    "        age = int(input(\"请输入你的年龄\"))\n",
    "        print(age)\n",
    "        break\n",
    "    except:\n",
    "        print(\"not a number\")\n"
   ]
  },
  {
   "cell_type": "code",
   "execution_count": null,
   "id": "6d560741",
   "metadata": {},
   "outputs": [],
   "source": [
    "int(\"23\")"
   ]
  },
  {
   "cell_type": "code",
   "execution_count": null,
   "id": "bc396315",
   "metadata": {},
   "outputs": [],
   "source": [
    "try:\n",
    "    int(\"s\")\n",
    "except ValueError: \n",
    "    # 这是特定的 Error\n",
    "    # python 提前定义好的 Error 有很多\n",
    "    print(\"不是数字\")\n",
    "else:\n",
    "    print(\"成功\")\n",
    "finally:\n",
    "    print('这句话，无论异常是否发生都会执行。')\n"
   ]
  },
  {
   "cell_type": "markdown",
   "id": "aa2dcdc5",
   "metadata": {},
   "source": [
    "# 故意抛出异常"
   ]
  },
  {
   "cell_type": "markdown",
   "id": "84222d50",
   "metadata": {},
   "source": [
    "```python\n",
    "raise [Exception [, args [, traceback]]]\n",
    "```\n",
    "* 可以自定义某种Exception：OOP 面向对象编程"
   ]
  },
  {
   "cell_type": "code",
   "execution_count": 13,
   "id": "de694e44",
   "metadata": {},
   "outputs": [
    {
     "ename": "Exception",
     "evalue": "x 不能大于 5。x 的值为: 10",
     "output_type": "error",
     "traceback": [
      "\u001b[0;31m---------------------------------------------------------------------------\u001b[0m",
      "\u001b[0;31mException\u001b[0m                                 Traceback (most recent call last)",
      "Input \u001b[0;32mIn [13]\u001b[0m, in \u001b[0;36m<cell line: 2>\u001b[0;34m()\u001b[0m\n\u001b[1;32m      1\u001b[0m x \u001b[38;5;241m=\u001b[39m \u001b[38;5;241m10\u001b[39m\n\u001b[1;32m      2\u001b[0m \u001b[38;5;28;01mif\u001b[39;00m x \u001b[38;5;241m>\u001b[39m \u001b[38;5;241m5\u001b[39m:\n\u001b[0;32m----> 3\u001b[0m     \u001b[38;5;28;01mraise\u001b[39;00m \u001b[38;5;167;01mException\u001b[39;00m(\u001b[38;5;124m'\u001b[39m\u001b[38;5;124mx 不能大于 5。x 的值为: \u001b[39m\u001b[38;5;132;01m{}\u001b[39;00m\u001b[38;5;124m'\u001b[39m\u001b[38;5;241m.\u001b[39mformat(x))\n",
      "\u001b[0;31mException\u001b[0m: x 不能大于 5。x 的值为: 10"
     ]
    }
   ],
   "source": [
    "x = 10\n",
    "if x > 5:\n",
    "    raise Exception('x 不能大于 5。x 的值为: {}'.format(x))"
   ]
  },
  {
   "cell_type": "code",
   "execution_count": 1,
   "id": "049fc230",
   "metadata": {},
   "outputs": [
    {
     "name": "stdout",
     "output_type": "stream",
     "text": [
      "太大啦!\n"
     ]
    },
    {
     "ename": "Exception",
     "evalue": "x 不能大于 5。x 的值为: 10",
     "output_type": "error",
     "traceback": [
      "\u001b[0;31m---------------------------------------------------------------------------\u001b[0m",
      "\u001b[0;31mException\u001b[0m                                 Traceback (most recent call last)",
      "Input \u001b[0;32mIn [1]\u001b[0m, in \u001b[0;36m<cell line: 3>\u001b[0;34m()\u001b[0m\n\u001b[1;32m      3\u001b[0m \u001b[38;5;28;01mif\u001b[39;00m x \u001b[38;5;241m>\u001b[39m \u001b[38;5;241m5\u001b[39m:\n\u001b[1;32m      4\u001b[0m     \u001b[38;5;28;01mtry\u001b[39;00m:\n\u001b[0;32m----> 5\u001b[0m         \u001b[38;5;28;01mraise\u001b[39;00m \u001b[38;5;167;01mException\u001b[39;00m(\u001b[38;5;124m'\u001b[39m\u001b[38;5;124mx 不能大于 5。x 的值为: \u001b[39m\u001b[38;5;132;01m{}\u001b[39;00m\u001b[38;5;124m'\u001b[39m\u001b[38;5;241m.\u001b[39mformat(x))  \u001b[38;5;66;03m# 模拟一个异常。\u001b[39;00m\n\u001b[1;32m      6\u001b[0m     \u001b[38;5;28;01mexcept\u001b[39;00m \u001b[38;5;167;01mException\u001b[39;00m: \u001b[38;5;66;03m# 截获异常\u001b[39;00m\n\u001b[1;32m      7\u001b[0m         \u001b[38;5;28mprint\u001b[39m(\u001b[38;5;124m'\u001b[39m\u001b[38;5;124m太大啦!\u001b[39m\u001b[38;5;124m'\u001b[39m)\n",
      "\u001b[0;31mException\u001b[0m: x 不能大于 5。x 的值为: 10"
     ]
    }
   ],
   "source": [
    "# 模拟抛出异常\n",
    "x = 10\n",
    "if x > 5:\n",
    "    try:\n",
    "        raise Exception('x 不能大于 5。x 的值为: {}'.format(x))  # 模拟一个异常。\n",
    "    except Exception: # 截获异常\n",
    "        print('太大啦!')\n",
    "        raise"
   ]
  },
  {
   "cell_type": "code",
   "execution_count": 15,
   "id": "4607003b",
   "metadata": {},
   "outputs": [
    {
     "name": "stdout",
     "output_type": "stream",
     "text": [
      "键盘断了\n",
      "Goodbye, world!\n"
     ]
    }
   ],
   "source": [
    "try:\n",
    "    raise KeyboardInterrupt\n",
    "except KeyboardInterrupt:\n",
    "    print(\"键盘断了\")\n",
    "finally:\n",
    "    print('Goodbye, world!')"
   ]
  },
  {
   "cell_type": "markdown",
   "id": "3471d603",
   "metadata": {},
   "source": [
    "# assert\n",
    "* assert（断言）\n",
    "```python\n",
    "assert expression\n",
    "or\n",
    "assert expression [, arguments]\n",
    "```\n",
    "等价于：\n",
    "```\n",
    "if not expression:\n",
    "    raise AssertionError\n",
    "or\n",
    "if not expression:\n",
    "    raise AssertionError(arguments)\n",
    "\n",
    "```"
   ]
  },
  {
   "cell_type": "code",
   "execution_count": 2,
   "id": "556a6ac3",
   "metadata": {},
   "outputs": [],
   "source": [
    "assert 2>1"
   ]
  },
  {
   "cell_type": "code",
   "execution_count": 3,
   "id": "5fe75240",
   "metadata": {},
   "outputs": [
    {
     "ename": "AssertionError",
     "evalue": "",
     "output_type": "error",
     "traceback": [
      "\u001b[0;31m---------------------------------------------------------------------------\u001b[0m",
      "\u001b[0;31mAssertionError\u001b[0m                            Traceback (most recent call last)",
      "Input \u001b[0;32mIn [3]\u001b[0m, in \u001b[0;36m<cell line: 1>\u001b[0;34m()\u001b[0m\n\u001b[0;32m----> 1\u001b[0m \u001b[38;5;28;01massert\u001b[39;00m \u001b[38;5;241m1\u001b[39m\u001b[38;5;241m>\u001b[39m\u001b[38;5;241m2\u001b[39m\n",
      "\u001b[0;31mAssertionError\u001b[0m: "
     ]
    }
   ],
   "source": [
    "assert 1>2"
   ]
  },
  {
   "cell_type": "code",
   "execution_count": 4,
   "id": "1240b0dd",
   "metadata": {
    "scrolled": true
   },
   "outputs": [
    {
     "ename": "AssertionError",
     "evalue": "请输入string",
     "output_type": "error",
     "traceback": [
      "\u001b[0;31m---------------------------------------------------------------------------\u001b[0m",
      "\u001b[0;31mAssertionError\u001b[0m                            Traceback (most recent call last)",
      "Input \u001b[0;32mIn [4]\u001b[0m, in \u001b[0;36m<cell line: 5>\u001b[0;34m()\u001b[0m\n\u001b[1;32m      3\u001b[0m     \u001b[38;5;28;01mfor\u001b[39;00m w \u001b[38;5;129;01min\u001b[39;00m text:\n\u001b[1;32m      4\u001b[0m         \u001b[38;5;28mprint\u001b[39m(w)\n\u001b[0;32m----> 5\u001b[0m \u001b[43mprintall\u001b[49m\u001b[43m(\u001b[49m\u001b[38;5;28;43;01mTrue\u001b[39;49;00m\u001b[43m)\u001b[49m\n",
      "Input \u001b[0;32mIn [4]\u001b[0m, in \u001b[0;36mprintall\u001b[0;34m(text)\u001b[0m\n\u001b[1;32m      1\u001b[0m \u001b[38;5;28;01mdef\u001b[39;00m \u001b[38;5;21mprintall\u001b[39m(text):\n\u001b[0;32m----> 2\u001b[0m     \u001b[38;5;28;01massert\u001b[39;00m \u001b[38;5;28misinstance\u001b[39m(text,\u001b[38;5;28mstr\u001b[39m),\u001b[38;5;124m\"\u001b[39m\u001b[38;5;124m请输入string\u001b[39m\u001b[38;5;124m\"\u001b[39m\n\u001b[1;32m      3\u001b[0m     \u001b[38;5;28;01mfor\u001b[39;00m w \u001b[38;5;129;01min\u001b[39;00m text:\n\u001b[1;32m      4\u001b[0m         \u001b[38;5;28mprint\u001b[39m(w)\n",
      "\u001b[0;31mAssertionError\u001b[0m: 请输入string"
     ]
    }
   ],
   "source": [
    "def printall(text):\n",
    "    assert isinstance(text,str),\"请输入string\"\n",
    "    for w in text:\n",
    "        print(w)\n",
    "printall(True)"
   ]
  },
  {
   "cell_type": "code",
   "execution_count": null,
   "id": "97f148c9",
   "metadata": {},
   "outputs": [],
   "source": []
  }
 ],
 "metadata": {
  "kernelspec": {
   "display_name": "Python 3 (ipykernel)",
   "language": "python",
   "name": "python3"
  },
  "language_info": {
   "codemirror_mode": {
    "name": "ipython",
    "version": 3
   },
   "file_extension": ".py",
   "mimetype": "text/x-python",
   "name": "python",
   "nbconvert_exporter": "python",
   "pygments_lexer": "ipython3",
   "version": "3.9.13"
  }
 },
 "nbformat": 4,
 "nbformat_minor": 5
}
