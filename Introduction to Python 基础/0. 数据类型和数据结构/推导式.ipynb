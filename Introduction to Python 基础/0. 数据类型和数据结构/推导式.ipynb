{
 "cells": [
  {
   "cell_type": "markdown",
   "id": "ec2a0811",
   "metadata": {},
   "source": [
    "# Python 推导式\n",
    "从一个数据序列构建另一个新的数据序列的结构体。\n",
    "1. 列表(list)推导式\n",
    "2. 字典(dict)推导式\n",
    "3. 集合(set)推导式\n",
    "4. 元组(tuple)推导式"
   ]
  },
  {
   "cell_type": "markdown",
   "id": "3d868931",
   "metadata": {},
   "source": [
    "### 复习\n",
    "* 可变数据（3个）：List（列表）、Dictionary（字典）、Set（集合）\n",
    "* 不可变数据（3个）：Number（数字）、String（字符串）、Tuple（元组）；"
   ]
  },
  {
   "cell_type": "code",
   "execution_count": null,
   "id": "3b8aa0e1",
   "metadata": {},
   "outputs": [],
   "source": []
  },
  {
   "cell_type": "markdown",
   "id": "58a63c74",
   "metadata": {},
   "source": [
    "## 1. List\n",
    "```python\n",
    "[表达式 for 变量 in 列表 if 条件]\n",
    "[out_exp_res for out_exp in input_list if condition]\n",
    "```"
   ]
  },
  {
   "cell_type": "code",
   "execution_count": 15,
   "id": "824719ca",
   "metadata": {},
   "outputs": [
    {
     "name": "stdout",
     "output_type": "stream",
     "text": [
      "['ALICE', 'JERRY', 'WENDY', 'SMITH']\n"
     ]
    }
   ],
   "source": [
    "names = ['Bob','Tom','alice','Jerry','Wendy','Smith']\n",
    "# 大于三个字母的name 变大写 组成新的list\n",
    "new_names = [name.upper() for name in names if len(name)>3]\n",
    "print(new_names)"
   ]
  },
  {
   "cell_type": "markdown",
   "id": "5a88a9b0",
   "metadata": {},
   "source": [
    "## 2. Dictionary\n",
    "```python\n",
    "{ key_expr: value_expr for value in collection }\n",
    "{ key_expr: value_expr for value in collection if condition }\n",
    "```"
   ]
  },
  {
   "cell_type": "code",
   "execution_count": 16,
   "id": "daf617be",
   "metadata": {},
   "outputs": [
    {
     "name": "stdout",
     "output_type": "stream",
     "text": [
      "{'Google': 6, 'stu': 3, 'Taobao': 6}\n"
     ]
    }
   ],
   "source": [
    "listdemo = ['Google','stu', 'Taobao']\n",
    "# 将列表中各字符串值为键，各字符串的长度为值，组成键值对\n",
    "newdict = {key:len(key) for key in listdemo if type(key) is str}\n",
    "print(newdict)\n"
   ]
  },
  {
   "cell_type": "markdown",
   "id": "4bec72d2",
   "metadata": {},
   "source": [
    "## 3. Set\n",
    "```python\n",
    "{ expression for item in Sequence }\n",
    "{ expression for item in Sequence if conditional }\n",
    "```"
   ]
  },
  {
   "cell_type": "code",
   "execution_count": 14,
   "id": "fc6b14e4",
   "metadata": {},
   "outputs": [
    {
     "name": "stdout",
     "output_type": "stream",
     "text": [
      "{1, 4, 9}\n"
     ]
    }
   ],
   "source": [
    "setnew = {i**2 for i in (1,2,3)}\n",
    "print(setnew)"
   ]
  },
  {
   "cell_type": "markdown",
   "id": "7f1b5572",
   "metadata": {},
   "source": [
    "## 3. Tuple推导式（生成器表达式）\n",
    "```python\n",
    "(expression for item in Sequence )\n",
    "(expression for item in Sequence if conditional )\n",
    "```"
   ]
  },
  {
   "cell_type": "code",
   "execution_count": 22,
   "id": "be93dbfb",
   "metadata": {},
   "outputs": [
    {
     "data": {
      "text/plain": [
       "(1, 2, 3, 4, 5, 6, 7, 8, 9)"
      ]
     },
     "execution_count": 22,
     "metadata": {},
     "output_type": "execute_result"
    }
   ],
   "source": [
    "a = (x for x in range(1,10))\n",
    "a #<generator object <genexpr> at 0x7f83aa1b8ba0>  # 返回的是生成器对象\n",
    "tuple(a) # 使用 tuple() 函数，可以直接将生成器对象转换成元组"
   ]
  },
  {
   "cell_type": "code",
   "execution_count": null,
   "id": "1cd1a411",
   "metadata": {},
   "outputs": [],
   "source": []
  }
 ],
 "metadata": {
  "kernelspec": {
   "display_name": "Python 3 (ipykernel)",
   "language": "python",
   "name": "python3"
  },
  "language_info": {
   "codemirror_mode": {
    "name": "ipython",
    "version": 3
   },
   "file_extension": ".py",
   "mimetype": "text/x-python",
   "name": "python",
   "nbconvert_exporter": "python",
   "pygments_lexer": "ipython3",
   "version": "3.9.12"
  }
 },
 "nbformat": 4,
 "nbformat_minor": 5
}
