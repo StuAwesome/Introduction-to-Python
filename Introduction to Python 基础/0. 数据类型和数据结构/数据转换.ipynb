{
 "cells": [
  {
   "cell_type": "markdown",
   "id": "3b51afa9",
   "metadata": {},
   "source": [
    "# 数据类型转换"
   ]
  },
  {
   "cell_type": "markdown",
   "id": "73de3805",
   "metadata": {},
   "source": [
    "* 有时候，我们需要对数据内置的类型进行转换，数据类型的转换，一般情况下你只需要将数据类型作为函数名即可。\n",
    "\n",
    "* Python 数据类型转换可以分为两种：\n",
    "    1. 隐式类型转换 - 自动完成\n",
    "    2. 显式类型转换 - 需要使用类型函数来转换\n",
    "    \n",
    "### Python是强类型的动态编程语言\n",
    "* 时刻注意变量数据类型\n",
    "* 更改或循环使用时，标注出来"
   ]
  },
  {
   "cell_type": "markdown",
   "id": "cde119a4",
   "metadata": {},
   "source": [
    "## 1. 隐式转换"
   ]
  },
  {
   "cell_type": "code",
   "execution_count": 2,
   "id": "ca0eccd1",
   "metadata": {},
   "outputs": [
    {
     "ename": "TypeError",
     "evalue": "can only concatenate str (not \"int\") to str",
     "output_type": "error",
     "traceback": [
      "\u001b[0;31m---------------------------------------------------------------------------\u001b[0m",
      "\u001b[0;31mTypeError\u001b[0m                                 Traceback (most recent call last)",
      "Input \u001b[0;32mIn [2]\u001b[0m, in \u001b[0;36m<cell line: 3>\u001b[0;34m()\u001b[0m\n\u001b[1;32m      1\u001b[0m string \u001b[38;5;241m=\u001b[39m \u001b[38;5;124m\"\u001b[39m\u001b[38;5;124m123\u001b[39m\u001b[38;5;124m\"\u001b[39m\n\u001b[1;32m      2\u001b[0m number \u001b[38;5;241m=\u001b[39m \u001b[38;5;241m123\u001b[39m\n\u001b[0;32m----> 3\u001b[0m \u001b[38;5;28mprint\u001b[39m(\u001b[43mstring\u001b[49m\u001b[43m \u001b[49m\u001b[38;5;241;43m+\u001b[39;49m\u001b[43m \u001b[49m\u001b[43mnumber\u001b[49m)\n",
      "\u001b[0;31mTypeError\u001b[0m: can only concatenate str (not \"int\") to str"
     ]
    }
   ],
   "source": [
    "string = \"123\"\n",
    "number = 123\n",
    "print(string + number)\n",
    "# TypeError: can only concatenate str (not \"int\") to str"
   ]
  },
  {
   "cell_type": "markdown",
   "id": "6c1d44b0",
   "metadata": {},
   "source": [
    "## 2. 显示转换"
   ]
  },
  {
   "cell_type": "markdown",
   "id": "a3aa9e77",
   "metadata": {},
   "source": [
    "* int(x [,base]) 将x转换为一个整数\n",
    "* float(x) 将x转换到一个浮点数\n",
    "* complex(real [,imag]) 创建一个复数\n",
    "* str(x) 将对象 x 转换为字符串\n",
    "* repr(x) 将对象 x 转换为表达式字符串\n",
    "* eval(str) 用来计算在字符串中的有效Python表达式,并返回一个对象\n",
    "* tuple(s) 将序列 s 转换为一个元组\n",
    "* list(s) 将序列 s 转换为一个列表\n",
    "* set(s) 转换为可变集合\n",
    "* dict(d) 创建一个字典。d 必须是一个 (key, value)元组序列。\n",
    "* frozenset(s) 转换为不可变集合\n",
    "* chr(x) 将一个整数转换为一个字符\n",
    "* ord(x) 将一个字符转换为它的整数值\n",
    "* hex(x) 将一个整数转换为一个十六进制字符串\n",
    "* oct(x) 将一个整数转换为一个八进制字符串"
   ]
  },
  {
   "cell_type": "markdown",
   "id": "7800dfce",
   "metadata": {},
   "source": [
    "## 3. 不同类型可以相加减吗？"
   ]
  },
  {
   "cell_type": "code",
   "execution_count": 1,
   "id": "7b18a989",
   "metadata": {},
   "outputs": [
    {
     "name": "stdout",
     "output_type": "stream",
     "text": [
      "StuAwesome\n"
     ]
    }
   ],
   "source": [
    "str_1 = \"Stu\"\n",
    "str_2 = \"Awesome\"\n",
    "print(str_1 + str_2)"
   ]
  },
  {
   "cell_type": "code",
   "execution_count": 2,
   "id": "d47b6c2a",
   "metadata": {},
   "outputs": [
    {
     "name": "stdout",
     "output_type": "stream",
     "text": [
      "[1, 2, 3, 4]\n"
     ]
    }
   ],
   "source": [
    "list_1 = [1,2]\n",
    "list_2 = [3,4]\n",
    "print(list_1 + list_2)"
   ]
  },
  {
   "cell_type": "code",
   "execution_count": 4,
   "id": "a4c55230",
   "metadata": {},
   "outputs": [
    {
     "data": {
      "text/plain": [
       "(1, 2, 3, 4)"
      ]
     },
     "execution_count": 4,
     "metadata": {},
     "output_type": "execute_result"
    }
   ],
   "source": [
    "tuple_1 = 1,2\n",
    "tuple_2 = 3,4\n",
    "tuple_3 = tuple_1 + tuple_2\n",
    "tuple_3"
   ]
  },
  {
   "cell_type": "code",
   "execution_count": 5,
   "id": "b5e44e47",
   "metadata": {},
   "outputs": [
    {
     "data": {
      "text/plain": [
       "str"
      ]
     },
     "execution_count": 5,
     "metadata": {},
     "output_type": "execute_result"
    }
   ],
   "source": [
    "type(str_1)"
   ]
  },
  {
   "cell_type": "code",
   "execution_count": 6,
   "id": "18dd9cc1",
   "metadata": {},
   "outputs": [
    {
     "data": {
      "text/plain": [
       "NoneType"
      ]
     },
     "execution_count": 6,
     "metadata": {},
     "output_type": "execute_result"
    }
   ],
   "source": [
    "type(None)\n",
    "# NoneType 唯一的对象"
   ]
  },
  {
   "cell_type": "markdown",
   "id": "e575590a",
   "metadata": {},
   "source": [
    "## 4.两种辨别数据类型的方法 "
   ]
  },
  {
   "cell_type": "code",
   "execution_count": 1,
   "id": "212b41f4",
   "metadata": {},
   "outputs": [
    {
     "data": {
      "text/plain": [
       "int"
      ]
     },
     "execution_count": 1,
     "metadata": {},
     "output_type": "execute_result"
    }
   ],
   "source": [
    "# 1\n",
    "type(3)"
   ]
  },
  {
   "cell_type": "code",
   "execution_count": 2,
   "id": "963eefce",
   "metadata": {},
   "outputs": [
    {
     "data": {
      "text/plain": [
       "False"
      ]
     },
     "execution_count": 2,
     "metadata": {},
     "output_type": "execute_result"
    }
   ],
   "source": [
    "# 2\n",
    "isinstance(3,float)"
   ]
  },
  {
   "cell_type": "code",
   "execution_count": 9,
   "id": "90f972f5",
   "metadata": {},
   "outputs": [
    {
     "data": {
      "text/plain": [
       "True"
      ]
     },
     "execution_count": 9,
     "metadata": {},
     "output_type": "execute_result"
    }
   ],
   "source": [
    "# 是否是这个几个类，用tuple\n",
    "isinstance(3.0,(float, int))\n",
    "isinstance(3,(float, int))"
   ]
  },
  {
   "cell_type": "code",
   "execution_count": null,
   "id": "a1633448",
   "metadata": {},
   "outputs": [],
   "source": []
  }
 ],
 "metadata": {
  "kernelspec": {
   "display_name": "Python 3 (ipykernel)",
   "language": "python",
   "name": "python3"
  },
  "language_info": {
   "codemirror_mode": {
    "name": "ipython",
    "version": 3
   },
   "file_extension": ".py",
   "mimetype": "text/x-python",
   "name": "python",
   "nbconvert_exporter": "python",
   "pygments_lexer": "ipython3",
   "version": "3.9.13"
  }
 },
 "nbformat": 4,
 "nbformat_minor": 5
}
