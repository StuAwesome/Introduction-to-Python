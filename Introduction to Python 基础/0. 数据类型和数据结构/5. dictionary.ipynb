{
 "cells": [
  {
   "cell_type": "markdown",
   "id": "501f278b",
   "metadata": {},
   "source": [
    "# dictionary 字典"
   ]
  },
  {
   "cell_type": "markdown",
   "id": "8c147a29",
   "metadata": {},
   "source": [
    "* 字典是另一种可变容器模型，且可存储任意类型对象。key-value pairs\n",
    "* 字典的每个键值 `key=>value` 对用冒号 : 分割，每个对之间用逗号(,)分割，整个字典包括在花括号 {} 中 "
   ]
  },
  {
   "cell_type": "code",
   "execution_count": null,
   "id": "bddebe48",
   "metadata": {},
   "outputs": [],
   "source": [
    "d = {key1 : value1, key2 : value2, key3 : value3 }"
   ]
  },
  {
   "cell_type": "markdown",
   "id": "efe9b39d",
   "metadata": {},
   "source": [
    "### 为什么要有dict字典"
   ]
  },
  {
   "cell_type": "code",
   "execution_count": 152,
   "id": "22ee6b49",
   "metadata": {},
   "outputs": [
    {
     "name": "stdout",
     "output_type": "stream",
     "text": [
      "周杰伦\n",
      "3\n",
      "{'不该': '周杰伦', '晴天': '周杰伦', '曹操': '林俊杰'}\n",
      "3\n",
      "{'不该': '周杰伦', '晴天': '周杰伦', '曹操': '林俊杰'}\n",
      "3\n",
      "{'不该': '周杰伦', '晴天': '周杰伦', '曹操': '林俊杰'}\n"
     ]
    }
   ],
   "source": [
    "# 用已有数据结构打造曲库\n",
    "song = [\"不该\",\"晴天\",\"曹操\"]\n",
    "singer = [\"周杰伦\",\"周杰伦\",\"林俊杰\"]\n",
    "\n",
    "def search_songs_singer(a_song):\n",
    "    if a_song in song:\n",
    "        i = song.index(a_song)\n",
    "        return singer[i]\n",
    "    else:\n",
    "        print(\"没有此歌曲\")\n",
    "        \n",
    "print(search_songs_singer(\"不该\"))\n",
    "\n",
    "# 字典\n",
    "# 1. 可以将两个List拼成字典\n",
    "song_dict = dict(zip(song,singer))\n",
    "print(len(song_dict))\n",
    "print(song_dict)\n",
    "        \n",
    "# 2. 第二种写法；key不带引号，python按str保存\n",
    "song_dict2 = dict(不该 = \"周杰伦\", 晴天 = \"周杰伦\", 曹操 = \"林俊杰\")\n",
    "print(len(song_dict2))\n",
    "print(song_dict2)\n",
    "\n",
    "# 3. 第三种写法 tuple组成的list\n",
    "song_dict3 = dict([(\"不该\",\"周杰伦\"), (\"晴天\", \"周杰伦\"), (\"曹操\", \"林俊杰\")])\n",
    "print(len(song_dict3))\n",
    "print(song_dict3)\n"
   ]
  },
  {
   "cell_type": "markdown",
   "id": "2b7e5a62",
   "metadata": {},
   "source": [
    "## 1. 创建\n",
    "* `{ }`and`dict()`\n",
    "    * `dict()`有三种写法\n",
    "        1. song_dict = dict(zip(song,singer))\n",
    "        2. song_dict2 = dict(不该 = \"周杰伦\", 晴天 = \"周杰伦\", 曹操 = \"林俊杰\")\n",
    "        3. song_dict3 = dict([(\"不该\",\"周杰伦\"), (\"晴天\", \"周杰伦\"), (\"曹操\", \"林俊杰\")])"
   ]
  },
  {
   "cell_type": "code",
   "execution_count": 146,
   "id": "6f43bcc9",
   "metadata": {
    "scrolled": true
   },
   "outputs": [
    {
     "name": "stdout",
     "output_type": "stream",
     "text": [
      "周杰伦\n"
     ]
    },
    {
     "data": {
      "text/plain": [
       "3"
      ]
     },
     "execution_count": 146,
     "metadata": {},
     "output_type": "execute_result"
    }
   ],
   "source": [
    "# 创建一个字典\n",
    "all_song = {\"不该\":\"周杰伦\",\"晴天\":\"周杰伦\",\"曹操\":\"林俊杰\"}\n",
    "print(all_song[\"不该\"])\n",
    "len(all_song)\n"
   ]
  },
  {
   "cell_type": "markdown",
   "id": "0a1f5e22",
   "metadata": {},
   "source": [
    "* 与List区别\n",
    "    * dict没有顺序，只能用key做索引\n",
    "    * dict的查找和插入速度不会像list一样随着元素增加而变慢，但是他占用空间大\n",
    "* 与List相同\n",
    "    * dict不能有重复的key = List不能有重复的位置\n",
    "    * dict可有重复的value = List可以有重复的element"
   ]
  },
  {
   "cell_type": "code",
   "execution_count": 139,
   "id": "b48972e6",
   "metadata": {},
   "outputs": [
    {
     "name": "stdout",
     "output_type": "stream",
     "text": [
      "<class 'dict'>\n",
      "<class 'set'>\n"
     ]
    },
    {
     "data": {
      "text/plain": [
       "{1}"
      ]
     },
     "execution_count": 139,
     "metadata": {},
     "output_type": "execute_result"
    }
   ],
   "source": [
    "a = {} # 没有element创建dictionary\n",
    "print(type(a))\n",
    "\n",
    "\n",
    "b = {1}# 单元素，且不是key:value形式，创建字典\n",
    "print(type(b))\n",
    "b\n",
    "\n"
   ]
  },
  {
   "cell_type": "code",
   "execution_count": 145,
   "id": "a35d2f09",
   "metadata": {},
   "outputs": [
    {
     "ename": "SyntaxError",
     "evalue": "invalid syntax (2491273841.py, line 1)",
     "output_type": "error",
     "traceback": [
      "\u001b[0;36m  Input \u001b[0;32mIn [145]\u001b[0;36m\u001b[0m\n\u001b[0;31m    c = dict(\"不该\":\"周杰伦\")\u001b[0m\n\u001b[0m                 ^\u001b[0m\n\u001b[0;31mSyntaxError\u001b[0m\u001b[0;31m:\u001b[0m invalid syntax\n"
     ]
    }
   ],
   "source": [
    "c = dict()\n",
    "type()"
   ]
  },
  {
   "cell_type": "markdown",
   "id": "0a07bb89",
   "metadata": {},
   "source": [
    "### 键必须不可变，所以可以用数字，字符串或元组充当，而用列表就不行"
   ]
  },
  {
   "cell_type": "code",
   "execution_count": 133,
   "id": "6eba10c2",
   "metadata": {},
   "outputs": [
    {
     "ename": "TypeError",
     "evalue": "unhashable type: 'list'",
     "output_type": "error",
     "traceback": [
      "\u001b[0;31m---------------------------------------------------------------------------\u001b[0m",
      "\u001b[0;31mTypeError\u001b[0m                                 Traceback (most recent call last)",
      "Input \u001b[0;32mIn [133]\u001b[0m, in \u001b[0;36m<cell line: 1>\u001b[0;34m()\u001b[0m\n\u001b[0;32m----> 1\u001b[0m test \u001b[38;5;241m=\u001b[39m {[\u001b[38;5;241m1\u001b[39m]:\u001b[38;5;241m1\u001b[39m,\u001b[38;5;241m2\u001b[39m:\u001b[38;5;241m2\u001b[39m,\u001b[38;5;241m3\u001b[39m:\u001b[38;5;124m\"\u001b[39m\u001b[38;5;124mstu\u001b[39m\u001b[38;5;124m\"\u001b[39m}\n",
      "\u001b[0;31mTypeError\u001b[0m: unhashable type: 'list'"
     ]
    }
   ],
   "source": [
    "test = {[1]:1,2:2,3:\"stu\"}\n",
    "# TypeError: unhashable type: 'list'\n"
   ]
  },
  {
   "cell_type": "markdown",
   "id": "e5e2bf8f",
   "metadata": {},
   "source": [
    "## 2. 访问"
   ]
  },
  {
   "cell_type": "markdown",
   "id": "764e4ce8",
   "metadata": {},
   "source": [
    "* 字典内：key:value 对，通过key找到value\n",
    "    * key是唯一的，如果输入了两个相同的key，只有后一个会被记住\n",
    "    * key只能是不可变对象 (不能是：set list ...）\n",
    "    * **key 一定是不可变的！ key 一定是不可变的！ key 一定是不可变的**"
   ]
  },
  {
   "cell_type": "code",
   "execution_count": 192,
   "id": "0f60e5a4",
   "metadata": {},
   "outputs": [
    {
     "name": "stdout",
     "output_type": "stream",
     "text": [
      "{'不该': '周杰伦', '晴天': '周杰伦', '曹操': '不是周杰伦', '哥有老婆': '恰恰'}\n"
     ]
    }
   ],
   "source": [
    "#字典内：key:value 对，通过key找到value\n",
    "song_dict3 = dict([(\"不该\",\"周杰伦\"), (\"晴天\", \"周杰伦\"), (\"曹操\", \"林俊杰\")])\n",
    "\n",
    "# 修改\n",
    "song_dict3[\"曹操\"] = \"不是周杰伦\"\n",
    "\n",
    "# 添加\n",
    "song_dict3[\"哥有老婆\"] = \"恰恰\"\n",
    "print(song_dict3)\n",
    "\n"
   ]
  },
  {
   "cell_type": "markdown",
   "id": "e16fc4d1",
   "metadata": {},
   "source": [
    "* key没有固定顺序，里面的元素没有固定位置。 因此不能靠index，只能靠key访问\n",
    "    * 但是，python3.6以后能记住插入顺讯，我们暂且当作无顺讯\n",
    "    "
   ]
  },
  {
   "cell_type": "markdown",
   "id": "e0111bd3",
   "metadata": {},
   "source": [
    "* 访问推荐使用method：`dict.get(key)` instead of `dict[key]`\n",
    "    * 因为找不到该元素时 method：`None`; dict[key]: `KeyError`\n",
    "    * 修改时仍用`dict[key]`"
   ]
  },
  {
   "cell_type": "code",
   "execution_count": 155,
   "id": "ac5157e3",
   "metadata": {},
   "outputs": [
    {
     "ename": "KeyError",
     "evalue": "'哥有老婆'",
     "output_type": "error",
     "traceback": [
      "\u001b[0;31m---------------------------------------------------------------------------\u001b[0m",
      "\u001b[0;31mKeyError\u001b[0m                                  Traceback (most recent call last)",
      "Input \u001b[0;32mIn [155]\u001b[0m, in \u001b[0;36m<cell line: 3>\u001b[0;34m()\u001b[0m\n\u001b[1;32m      1\u001b[0m \u001b[38;5;66;03m# 创建一个字典\u001b[39;00m\n\u001b[1;32m      2\u001b[0m all_song \u001b[38;5;241m=\u001b[39m {\u001b[38;5;124m\"\u001b[39m\u001b[38;5;124m不该\u001b[39m\u001b[38;5;124m\"\u001b[39m:\u001b[38;5;124m\"\u001b[39m\u001b[38;5;124m周杰伦\u001b[39m\u001b[38;5;124m\"\u001b[39m,\u001b[38;5;124m\"\u001b[39m\u001b[38;5;124m晴天\u001b[39m\u001b[38;5;124m\"\u001b[39m:\u001b[38;5;124m\"\u001b[39m\u001b[38;5;124m周杰伦\u001b[39m\u001b[38;5;124m\"\u001b[39m,\u001b[38;5;124m\"\u001b[39m\u001b[38;5;124m曹操\u001b[39m\u001b[38;5;124m\"\u001b[39m:\u001b[38;5;124m\"\u001b[39m\u001b[38;5;124m林俊杰\u001b[39m\u001b[38;5;124m\"\u001b[39m}\n\u001b[0;32m----> 3\u001b[0m \u001b[43mall_song\u001b[49m\u001b[43m[\u001b[49m\u001b[38;5;124;43m\"\u001b[39;49m\u001b[38;5;124;43m哥有老婆\u001b[39;49m\u001b[38;5;124;43m\"\u001b[39;49m\u001b[43m]\u001b[49m\n",
      "\u001b[0;31mKeyError\u001b[0m: '哥有老婆'"
     ]
    }
   ],
   "source": [
    "# 创建一个字典\n",
    "all_song = {\"不该\":\"周杰伦\",\"晴天\":\"周杰伦\",\"曹操\":\"林俊杰\"}\n",
    "all_song[\"哥有老婆\"]\n",
    "# KeyError: '哥有老婆'"
   ]
  },
  {
   "cell_type": "code",
   "execution_count": 157,
   "id": "1fd3a2b5",
   "metadata": {},
   "outputs": [
    {
     "name": "stdout",
     "output_type": "stream",
     "text": [
      "None\n"
     ]
    }
   ],
   "source": [
    "# 创建一个字典\n",
    "all_song = {\"不该\":\"周杰伦\",\"晴天\":\"周杰伦\",\"曹操\":\"林俊杰\"}\n",
    "#all_song[\"哥有老婆\"]\n",
    "# KeyError: '哥有老婆'\n",
    "print(all_song.get(\"哥有老婆\"))"
   ]
  },
  {
   "cell_type": "markdown",
   "id": "27b77d64",
   "metadata": {},
   "source": [
    "* 添加和删除\n",
    "    * 添加元素，直接用key：`dict[new_key] = new_value`\n",
    "    * 删除元素：三种method(这里是方法，不是function)\n",
    "        * `dict.pop(key)`\n",
    "        * `dict.popitem()`, delet the last one key-value pair 「python以上」\n",
    "        * `dict.clear()` , clear all and delet this dictionary"
   ]
  },
  {
   "cell_type": "code",
   "execution_count": 158,
   "id": "65ecbf52",
   "metadata": {},
   "outputs": [
    {
     "name": "stdout",
     "output_type": "stream",
     "text": [
      "{'不该': '周杰伦', '晴天': '周杰伦'}\n"
     ]
    }
   ],
   "source": [
    "# 创建一个字典\n",
    "all_song = {\"不该\":\"周杰伦\",\"晴天\":\"周杰伦\",\"曹操\":\"林俊杰\"}\n",
    "\n",
    "all_song.pop(\"曹操\")\n",
    "print(all_song)"
   ]
  },
  {
   "cell_type": "code",
   "execution_count": 160,
   "id": "762ad640",
   "metadata": {},
   "outputs": [
    {
     "name": "stdout",
     "output_type": "stream",
     "text": [
      "{}\n"
     ]
    }
   ],
   "source": [
    "all_song.clear()\n",
    "print(all_song)"
   ]
  },
  {
   "cell_type": "markdown",
   "id": "d7cb19a0",
   "metadata": {},
   "source": [
    "### 访问所有"
   ]
  },
  {
   "cell_type": "markdown",
   "id": "3c9b1ec3",
   "metadata": {},
   "source": [
    "1. for loop：迭代器，in 判断key\n",
    "2. `dict.items()`：同时取出所有 key-value pairs，组成tuple\n",
    "3. `dict.values()`: 同时取出所有value\n",
    "4. `dict.keys()`: keys"
   ]
  },
  {
   "cell_type": "code",
   "execution_count": 166,
   "id": "b331a443",
   "metadata": {},
   "outputs": [
    {
     "name": "stdout",
     "output_type": "stream",
     "text": [
      "不该   歌手：周杰伦\n",
      "晴天   歌手：周杰伦\n",
      "曹操   歌手：林俊杰\n",
      "不该\n",
      "晴天\n",
      "曹操\n"
     ]
    }
   ],
   "source": [
    "# 1. for loop：迭代器，in 判断key\n",
    "all_song = {\"不该\":\"周杰伦\",\"晴天\":\"周杰伦\",\"曹操\":\"林俊杰\"}\n",
    "for i in all_song:\n",
    "    print(f\"{i}   歌手：{all_song[i]}\")\n",
    "\n",
    "# 2. in 只对key奏效\n",
    "for song in all_song:\n",
    "    print(song)"
   ]
  },
  {
   "cell_type": "code",
   "execution_count": 172,
   "id": "b301c5fb",
   "metadata": {},
   "outputs": [
    {
     "data": {
      "text/plain": [
       "True"
      ]
     },
     "execution_count": 172,
     "metadata": {},
     "output_type": "execute_result"
    }
   ],
   "source": [
    "\"不该\" in all_song"
   ]
  },
  {
   "cell_type": "code",
   "execution_count": 173,
   "id": "df235bec",
   "metadata": {},
   "outputs": [
    {
     "data": {
      "text/plain": [
       "False"
      ]
     },
     "execution_count": 173,
     "metadata": {},
     "output_type": "execute_result"
    }
   ],
   "source": [
    "\"周杰伦\" in all_song"
   ]
  },
  {
   "cell_type": "code",
   "execution_count": null,
   "id": "3fd3960f",
   "metadata": {},
   "outputs": [],
   "source": []
  },
  {
   "cell_type": "code",
   "execution_count": 171,
   "id": "73264cc8",
   "metadata": {},
   "outputs": [
    {
     "name": "stdout",
     "output_type": "stream",
     "text": [
      "dict_items([('不该', '周杰伦'), ('晴天', '周杰伦'), ('曹操', '林俊杰')])\n",
      "dict_values(['周杰伦', '周杰伦', '林俊杰'])\n",
      "dict_keys(['不该', '晴天', '曹操'])\n"
     ]
    }
   ],
   "source": [
    "print(all_song.items())\n",
    "print(all_song.values())\n",
    "print(all_song.keys())"
   ]
  },
  {
   "cell_type": "code",
   "execution_count": 176,
   "id": "3a3a9fc3",
   "metadata": {},
   "outputs": [
    {
     "name": "stdout",
     "output_type": "stream",
     "text": [
      "('不该', '周杰伦')\n",
      "('晴天', '周杰伦')\n",
      "('曹操', '林俊杰')\n",
      "<class 'dict_items'>\n"
     ]
    }
   ],
   "source": [
    "# 2. `dict.items()`：同时取出所有 key-value pairs，组成tuple\n",
    "for i in all_song.items():\n",
    "    print(i)\n",
    "print(type(all_song.items()))\n",
    "\n",
    "\n",
    "# <class 'dict_items'> 里边都是tuple"
   ]
  },
  {
   "cell_type": "code",
   "execution_count": 187,
   "id": "0652ee9d",
   "metadata": {},
   "outputs": [
    {
     "name": "stdout",
     "output_type": "stream",
     "text": [
      "周杰伦\n",
      "周杰伦\n",
      "林俊杰\n",
      "dict_values(['周杰伦', '周杰伦', '林俊杰'])\n"
     ]
    },
    {
     "data": {
      "text/plain": [
       "dict_values"
      ]
     },
     "execution_count": 187,
     "metadata": {},
     "output_type": "execute_result"
    }
   ],
   "source": [
    "for value in all_song.values():\n",
    "    print(value)\n",
    "print(all_song.values()) # 它写成了list的结构\n",
    "type(all_song.values())\n",
    "\n"
   ]
  },
  {
   "cell_type": "code",
   "execution_count": 186,
   "id": "97102115",
   "metadata": {},
   "outputs": [
    {
     "name": "stdout",
     "output_type": "stream",
     "text": [
      "不该\n",
      "晴天\n",
      "曹操\n"
     ]
    },
    {
     "data": {
      "text/plain": [
       "dict_keys"
      ]
     },
     "execution_count": 186,
     "metadata": {},
     "output_type": "execute_result"
    }
   ],
   "source": [
    "for key in all_song.keys():\n",
    "    print(key)\n",
    "\n",
    "type(all_song.keys())\n"
   ]
  },
  {
   "cell_type": "markdown",
   "id": "10e31337",
   "metadata": {},
   "source": [
    "## 3. 显式删除"
   ]
  },
  {
   "cell_type": "markdown",
   "id": "303505e3",
   "metadata": {},
   "source": [
    "* 能删单一的元素也能清空字典，清空只需一项操作。\n",
    "* 显式删除一个字典用del命令，如下实例："
   ]
  },
  {
   "cell_type": "code",
   "execution_count": 190,
   "id": "e29fc907",
   "metadata": {},
   "outputs": [
    {
     "name": "stdout",
     "output_type": "stream",
     "text": [
      "{'不该': '周杰伦', '晴天': '周杰伦'}\n",
      "{}\n"
     ]
    },
    {
     "ename": "NameError",
     "evalue": "name 'song_dict3' is not defined",
     "output_type": "error",
     "traceback": [
      "\u001b[0;31m---------------------------------------------------------------------------\u001b[0m",
      "\u001b[0;31mNameError\u001b[0m                                 Traceback (most recent call last)",
      "Input \u001b[0;32mIn [190]\u001b[0m, in \u001b[0;36m<cell line: 13>\u001b[0;34m()\u001b[0m\n\u001b[1;32m     11\u001b[0m \u001b[38;5;66;03m# 删除\u001b[39;00m\n\u001b[1;32m     12\u001b[0m \u001b[38;5;28;01mdel\u001b[39;00m song_dict3\n\u001b[0;32m---> 13\u001b[0m \u001b[38;5;28mprint\u001b[39m(\u001b[43msong_dict3\u001b[49m)\n",
      "\u001b[0;31mNameError\u001b[0m: name 'song_dict3' is not defined"
     ]
    }
   ],
   "source": [
    "song_dict3 = dict([(\"不该\",\"周杰伦\"), (\"晴天\", \"周杰伦\"), (\"曹操\", \"林俊杰\")])\n",
    "\n",
    "# 删除单一元素\n",
    "del song_dict3[\"曹操\"]\n",
    "print(song_dict3)\n",
    "\n",
    "# 清空字典\n",
    "song_dict3.clear()\n",
    "print(song_dict3)\n",
    "\n",
    "# 删除\n",
    "del song_dict3\n",
    "print(song_dict3)"
   ]
  },
  {
   "cell_type": "markdown",
   "id": "b644dd56",
   "metadata": {},
   "source": [
    "## 4. dict 的function"
   ]
  },
  {
   "cell_type": "markdown",
   "id": "43e99122",
   "metadata": {},
   "source": [
    "* `len()`\n",
    "* `sorted`"
   ]
  },
  {
   "cell_type": "code",
   "execution_count": 201,
   "id": "53763664",
   "metadata": {},
   "outputs": [
    {
     "name": "stdout",
     "output_type": "stream",
     "text": [
      "4\n",
      "[4, 3, 2, 1]\n",
      "{1: True, 2: [], 3: {1}, 4: ({}, {1})}\n"
     ]
    }
   ],
   "source": [
    "number = {1:True,2:[],3:{1},4:(a,b)}\n",
    "print(len(number))\n",
    "\n",
    "# 将key排序\n",
    "print(sorted(number,reverse = True)) \n",
    "\n",
    "# function一般不会改变原object\n",
    "print(number)"
   ]
  },
  {
   "cell_type": "markdown",
   "id": "f31bc8d7",
   "metadata": {},
   "source": [
    "### 其他字典内置函数"
   ]
  },
  {
   "cell_type": "markdown",
   "id": "7e17d6d0",
   "metadata": {},
   "source": [
    "1. len(dict) 计算字典元素个数，即键的总数。\t\n",
    "2. str(dict) 输出字典，可以打印的字符串表示。\t\n",
    "```python\n",
    "tinydict = {'Name': 'Runoob', 'Age': 7, 'Class': 'First'}\n",
    "str(tinydict)\n",
    " # \"{'Name': 'Runoob', 'Class': 'First', 'Age': 7}\"\n",
    "```\n",
    "3. type(variable) 返回输入的变量类型，如果变量是字典就返回字典类型。\t\n",
    "```python\n",
    "tinydict = {'Name': 'Runoob', 'Age': 7, 'Class': 'First'}\n",
    "type(tinydict)\n",
    " # <class 'dict'>\n",
    "```"
   ]
  },
  {
   "cell_type": "markdown",
   "id": "cb34f87b",
   "metadata": {},
   "source": [
    "## 5. dict 的method"
   ]
  },
  {
   "cell_type": "markdown",
   "id": "a033d6b7",
   "metadata": {},
   "source": [
    "* `copy()` 可变的函数 需要copy进行复制\n",
    "* `fromkeys()`\n",
    "* `update()`"
   ]
  },
  {
   "cell_type": "code",
   "execution_count": 210,
   "id": "32251304",
   "metadata": {},
   "outputs": [
    {
     "name": "stdout",
     "output_type": "stream",
     "text": [
      "140404642146944\n",
      "140404642146944\n",
      "140405169517440\n"
     ]
    }
   ],
   "source": [
    "# 1. copy() 可变的函数 需要copy进行复制\n",
    "\n",
    "\n",
    "songs = dict(不该 = \"周杰伦\", 晴天 = \"周杰伦\", 曹操 = \"林俊杰\")\n",
    "songs1 = songs # 两个变量都是同一个dict的标签or名字 - 指向同一个内存地址\n",
    "print(id(songs1))\n",
    "print(id(songs))\n",
    "\n",
    "songs2 = songs.copy()\n",
    "\n",
    "print(id(songs3))"
   ]
  },
  {
   "cell_type": "code",
   "execution_count": 211,
   "id": "c252d457",
   "metadata": {},
   "outputs": [
    {
     "data": {
      "text/plain": [
       "{'哥有老婆': None, 'qq爱': None}"
      ]
     },
     "execution_count": 211,
     "metadata": {},
     "output_type": "execute_result"
    }
   ],
   "source": [
    "# 2. fromkeys() 快速创建dict，不用指定values\n",
    "songs3 = dict.fromkeys([\"哥有老婆\",\"qq爱\"])\n",
    "songs3\n"
   ]
  },
  {
   "cell_type": "code",
   "execution_count": 212,
   "id": "c3e28adb",
   "metadata": {},
   "outputs": [
    {
     "data": {
      "text/plain": [
       "{'哥有老婆': '网络神曲', 'qq爱': '网络神曲'}"
      ]
     },
     "execution_count": 212,
     "metadata": {},
     "output_type": "execute_result"
    }
   ],
   "source": [
    "# 指定同一个value\n",
    "songs4 = dict.fromkeys([\"哥有老婆\",\"qq爱\"],\"网络神曲\")\n",
    "songs4"
   ]
  },
  {
   "cell_type": "code",
   "execution_count": 215,
   "id": "f2f38dbb",
   "metadata": {},
   "outputs": [
    {
     "data": {
      "text/plain": [
       "{'哥有老婆': ['恰恰', '网络神曲'], 'qq爱': ['恰恰', '网络神曲']}"
      ]
     },
     "execution_count": 215,
     "metadata": {},
     "output_type": "execute_result"
    }
   ],
   "source": [
    "songs5 = dict.fromkeys([\"哥有老婆\",\"qq爱\"],[\"恰恰\",\"网络神曲\"])\n",
    "songs5"
   ]
  },
  {
   "cell_type": "code",
   "execution_count": 216,
   "id": "b9309e05",
   "metadata": {},
   "outputs": [
    {
     "data": {
      "text/plain": [
       "{'哥有老婆': '网络神曲', 'qq爱': '网络神曲', '不该': '周杰伦', '晴天': '周杰伦', '曹操': '林俊杰'}"
      ]
     },
     "execution_count": 216,
     "metadata": {},
     "output_type": "execute_result"
    }
   ],
   "source": [
    "# 3. 合并两个dict\n",
    "songs4.update(songs)\n",
    "songs4"
   ]
  },
  {
   "cell_type": "markdown",
   "id": "32b01320",
   "metadata": {},
   "source": [
    "### 其他字典内置方法"
   ]
  },
  {
   "cell_type": "markdown",
   "id": "9205e1b6",
   "metadata": {},
   "source": [
    "* 1 dict.clear() 删除字典内所有元素\n",
    "* 2 dict.copy() 返回一个字典的浅复制\n",
    "* 3 dict.fromkeys() 创建一个新字典，以序列seq中元素做字典的键，val为字典所有键对应的初始值\n",
    "* 4 dict.get(key, default=None) 返回指定键的值，如果键不在字典中返回 default 设置的默认值\n",
    "* 5 key in dict  #如果键在字典dict里返回true，否则返回false\n",
    "* 6 dict.items() 以列表返回一个视图对象\n",
    "* 7 dict.keys() 返回一个视图对象\n",
    "* 8 dict.setdefault(key, default=None) #和get()类似, 但如果键不存在于字典中，将会添加键并将值设为default\n",
    "* 9 dict.update(dict2) 把字典dict2的键/值对更新到dict里\n",
    "* 10 dict.values() #返回一个视图对象\n",
    "* 11 pop(key[,default]) #删除字典 key（键）所对应的值，返回被删除的值。\n",
    "* 12 popitem() #返回并删除字典中的最后一对键和值。"
   ]
  },
  {
   "cell_type": "code",
   "execution_count": null,
   "id": "b88ef738",
   "metadata": {},
   "outputs": [],
   "source": []
  }
 ],
 "metadata": {
  "kernelspec": {
   "display_name": "Python 3 (ipykernel)",
   "language": "python",
   "name": "python3"
  },
  "language_info": {
   "codemirror_mode": {
    "name": "ipython",
    "version": 3
   },
   "file_extension": ".py",
   "mimetype": "text/x-python",
   "name": "python",
   "nbconvert_exporter": "python",
   "pygments_lexer": "ipython3",
   "version": "3.9.12"
  }
 },
 "nbformat": 4,
 "nbformat_minor": 5
}
