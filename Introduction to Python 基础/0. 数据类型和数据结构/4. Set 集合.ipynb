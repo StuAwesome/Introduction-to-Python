{
 "cells": [
  {
   "cell_type": "markdown",
   "id": "4fd150bd",
   "metadata": {},
   "source": [
    "# Set 数组"
   ]
  },
  {
   "cell_type": "markdown",
   "id": "1b07ce94",
   "metadata": {},
   "source": [
    "* 集合（set）是一个无序的不重复元素序列。\n",
    "    * 输入顺序和实际存储数据可能不一样\n",
    "* 可以使用大括号 { } 或者 set(可迭代obj) 函数创建集合\n",
    "    * 注意：创建一个空集合必须用 set() 而不是 { }，因为 { } 是用来创建一个空字典。\n",
    "* set里不能包含有可变对象: list set dict... 但可以涵盖不同数据类型"
   ]
  },
  {
   "cell_type": "code",
   "execution_count": null,
   "id": "de437573",
   "metadata": {},
   "outputs": [],
   "source": [
    "parame = {value01,value02,...}\n",
    "# 或者\n",
    "set(value)"
   ]
  },
  {
   "cell_type": "code",
   "execution_count": 67,
   "id": "88dc541e",
   "metadata": {},
   "outputs": [
    {
     "data": {
      "text/plain": [
       "{1, 2, 3}"
      ]
     },
     "execution_count": 67,
     "metadata": {},
     "output_type": "execute_result"
    }
   ],
   "source": [
    "a = {1,2,3}\n",
    "a"
   ]
  },
  {
   "cell_type": "code",
   "execution_count": 69,
   "id": "d0c2461d",
   "metadata": {},
   "outputs": [
    {
     "name": "stdout",
     "output_type": "stream",
     "text": [
      "<class 'set'>\n",
      "<class 'dict'>\n"
     ]
    }
   ],
   "source": [
    "b = set()\n",
    "print(type(b))\n",
    "c = {} # 默认是dictionary\n",
    "print(type(c))"
   ]
  },
  {
   "cell_type": "code",
   "execution_count": 86,
   "id": "800946e8",
   "metadata": {},
   "outputs": [
    {
     "name": "stdout",
     "output_type": "stream",
     "text": [
      "{3, 19, -4, 5}\n"
     ]
    },
    {
     "data": {
      "text/plain": [
       "{-4, 3, 5, 19}"
      ]
     },
     "execution_count": 86,
     "metadata": {},
     "output_type": "execute_result"
    }
   ],
   "source": [
    "# 输入顺序和实际存储数据可能不一样\n",
    "\n",
    "d = set([19,3,-4,5])\n",
    "print(d)\n",
    "d # {-4, 3, 5, 19}"
   ]
  },
  {
   "cell_type": "code",
   "execution_count": 85,
   "id": "0e2fbde6",
   "metadata": {},
   "outputs": [
    {
     "data": {
      "text/plain": [
       "{1, 2, 3, 4}"
      ]
     },
     "execution_count": 85,
     "metadata": {},
     "output_type": "execute_result"
    }
   ],
   "source": [
    "# 集合（set）是一个无序的不重复元素序列\n",
    "f = {1,1,1,2,3,2,2,2,3,2,2,2,4}\n",
    "f"
   ]
  },
  {
   "cell_type": "code",
   "execution_count": 106,
   "id": "35158b4d",
   "metadata": {},
   "outputs": [
    {
     "ename": "TypeError",
     "evalue": "unhashable type: 'list'",
     "output_type": "error",
     "traceback": [
      "\u001b[0;31m---------------------------------------------------------------------------\u001b[0m",
      "\u001b[0;31mTypeError\u001b[0m                                 Traceback (most recent call last)",
      "Input \u001b[0;32mIn [106]\u001b[0m, in \u001b[0;36m<cell line: 2>\u001b[0;34m()\u001b[0m\n\u001b[1;32m      1\u001b[0m \u001b[38;5;66;03m# set里不能包含有可变对象: list set dict... 但可以涵盖不同数据类型\u001b[39;00m\n\u001b[0;32m----> 2\u001b[0m g \u001b[38;5;241m=\u001b[39m {\u001b[38;5;241m1\u001b[39m,\u001b[38;5;28;01mTrue\u001b[39;00m,\u001b[38;5;124m\"\u001b[39m\u001b[38;5;124mstu\u001b[39m\u001b[38;5;124m\"\u001b[39m,(\u001b[38;5;241m1\u001b[39m,\u001b[38;5;241m2.0\u001b[39m),[\u001b[38;5;241m1\u001b[39m,\u001b[38;5;241m2\u001b[39m],{\u001b[38;5;124m\"\u001b[39m\u001b[38;5;124ma\u001b[39m\u001b[38;5;124m\"\u001b[39m}}\n",
      "\u001b[0;31mTypeError\u001b[0m: unhashable type: 'list'"
     ]
    }
   ],
   "source": [
    "# set里不能包含有可变对象: list set dict... 但可以涵盖不同数据类型\n",
    "g = {1,True,\"stu\",(1,2.0),[1,2],{\"a\"}}"
   ]
  },
  {
   "cell_type": "code",
   "execution_count": 107,
   "id": "cb1c28a7",
   "metadata": {},
   "outputs": [
    {
     "ename": "TypeError",
     "evalue": "unhashable type: 'set'",
     "output_type": "error",
     "traceback": [
      "\u001b[0;31m---------------------------------------------------------------------------\u001b[0m",
      "\u001b[0;31mTypeError\u001b[0m                                 Traceback (most recent call last)",
      "Input \u001b[0;32mIn [107]\u001b[0m, in \u001b[0;36m<cell line: 2>\u001b[0;34m()\u001b[0m\n\u001b[1;32m      1\u001b[0m \u001b[38;5;66;03m# set里不能包含有可变对象: list set dict... 但可以涵盖不同数据类型\u001b[39;00m\n\u001b[0;32m----> 2\u001b[0m g \u001b[38;5;241m=\u001b[39m {\u001b[38;5;241m1\u001b[39m,\u001b[38;5;28;01mTrue\u001b[39;00m,\u001b[38;5;124m\"\u001b[39m\u001b[38;5;124mstu\u001b[39m\u001b[38;5;124m\"\u001b[39m,(\u001b[38;5;241m1\u001b[39m,\u001b[38;5;241m2.0\u001b[39m),(\u001b[38;5;241m1\u001b[39m,\u001b[38;5;241m2\u001b[39m),{\u001b[38;5;124m\"\u001b[39m\u001b[38;5;124ma\u001b[39m\u001b[38;5;124m\"\u001b[39m}}\n\u001b[1;32m      3\u001b[0m g\n",
      "\u001b[0;31mTypeError\u001b[0m: unhashable type: 'set'"
     ]
    }
   ],
   "source": [
    "# set里不能包含有可变对象: list set dict... 但可以涵盖不同数据类型\n",
    "g = {1,True,\"stu\",(1,2.0),(1,2),{\"a\"}}\n",
    "g"
   ]
  },
  {
   "cell_type": "markdown",
   "id": "2a838ddc",
   "metadata": {},
   "source": [
    "## 课外学习，frozenset （不重要）"
   ]
  },
  {
   "cell_type": "markdown",
   "id": "d4d926a5",
   "metadata": {},
   "source": [
    "## 1. 集合运算"
   ]
  },
  {
   "cell_type": "code",
   "execution_count": 76,
   "id": "0cb8a120",
   "metadata": {},
   "outputs": [
    {
     "data": {
      "text/plain": [
       "{'a', 'b', 'c', 'd', 'e', 'f', 'g', 'h', 'i', 'j', 'k', 'l'}"
      ]
     },
     "execution_count": 76,
     "metadata": {},
     "output_type": "execute_result"
    }
   ],
   "source": [
    "# set(可迭代obj)\n",
    "g = set(\"ffgjabcdefghidjkadflahdf\")\n",
    "g"
   ]
  },
  {
   "cell_type": "code",
   "execution_count": 77,
   "id": "ce21bbeb",
   "metadata": {},
   "outputs": [
    {
     "data": {
      "text/plain": [
       "{'a', 'd', 'e', 'f', 'h', 'i', 'j', 'k', 'o', 'q', 's', 'u', 'w'}"
      ]
     },
     "execution_count": 77,
     "metadata": {},
     "output_type": "execute_result"
    }
   ],
   "source": [
    "h = set('dhjkfdahskfjhaskdfhaoiquweoiqwu')\n",
    "h"
   ]
  },
  {
   "cell_type": "markdown",
   "id": "c7a4785a",
   "metadata": {},
   "source": [
    "### 差集 difference\n",
    "set.difference()"
   ]
  },
  {
   "cell_type": "code",
   "execution_count": 94,
   "id": "e010a9ca",
   "metadata": {},
   "outputs": [
    {
     "data": {
      "text/plain": [
       "{(1, 2.0), 1, 'stu'}"
      ]
     },
     "execution_count": 94,
     "metadata": {},
     "output_type": "execute_result"
    }
   ],
   "source": [
    "g - h # g - gh\n",
    "g.difference(h)"
   ]
  },
  {
   "cell_type": "code",
   "execution_count": 92,
   "id": "612e4345",
   "metadata": {},
   "outputs": [
    {
     "data": {
      "text/plain": [
       "{'a', 'd', 'e', 'f', 'h', 'i', 'j', 'k', 'o', 'q', 's', 'u', 'w'}"
      ]
     },
     "execution_count": 92,
     "metadata": {},
     "output_type": "execute_result"
    }
   ],
   "source": [
    "h.difference(g) # h - gh"
   ]
  },
  {
   "cell_type": "markdown",
   "id": "7e92d04e",
   "metadata": {},
   "source": [
    "### 并集 union"
   ]
  },
  {
   "cell_type": "code",
   "execution_count": 97,
   "id": "bfcef185",
   "metadata": {},
   "outputs": [
    {
     "data": {
      "text/plain": [
       "{(1, 2.0),\n",
       " 1,\n",
       " 'a',\n",
       " 'd',\n",
       " 'e',\n",
       " 'f',\n",
       " 'h',\n",
       " 'i',\n",
       " 'j',\n",
       " 'k',\n",
       " 'o',\n",
       " 'q',\n",
       " 's',\n",
       " 'stu',\n",
       " 'u',\n",
       " 'w'}"
      ]
     },
     "execution_count": 97,
     "metadata": {},
     "output_type": "execute_result"
    }
   ],
   "source": [
    "h | g # a 并 b\n",
    "h.union(g)"
   ]
  },
  {
   "cell_type": "markdown",
   "id": "eb495092",
   "metadata": {},
   "source": [
    "### 交集 intersection"
   ]
  },
  {
   "cell_type": "code",
   "execution_count": 103,
   "id": "50a5f75b",
   "metadata": {},
   "outputs": [
    {
     "data": {
      "text/plain": [
       "set()"
      ]
     },
     "execution_count": 103,
     "metadata": {},
     "output_type": "execute_result"
    }
   ],
   "source": [
    "h & g # a 交 b\n",
    "h.intersection(g)"
   ]
  },
  {
   "cell_type": "markdown",
   "id": "8430e9c3",
   "metadata": {},
   "source": [
    "### 对称差集 symmetric_difference"
   ]
  },
  {
   "cell_type": "code",
   "execution_count": 104,
   "id": "1d1014a3",
   "metadata": {},
   "outputs": [
    {
     "data": {
      "text/plain": [
       "{(1, 2.0),\n",
       " 1,\n",
       " 'a',\n",
       " 'd',\n",
       " 'e',\n",
       " 'f',\n",
       " 'h',\n",
       " 'i',\n",
       " 'j',\n",
       " 'k',\n",
       " 'o',\n",
       " 'q',\n",
       " 's',\n",
       " 'stu',\n",
       " 'u',\n",
       " 'w'}"
      ]
     },
     "execution_count": 104,
     "metadata": {},
     "output_type": "execute_result"
    }
   ],
   "source": [
    "h ^ g# 不同时包含于a和b的元素 a交b - a并b\n",
    "h.symmetric_difference(g)"
   ]
  },
  {
   "cell_type": "markdown",
   "id": "ee5854c6",
   "metadata": {},
   "source": [
    "## 2. 访问set"
   ]
  },
  {
   "cell_type": "markdown",
   "id": "707fe5af",
   "metadata": {},
   "source": [
    "* 因为set无序，所有index和slicing 都不能使用\n",
    "* 只能通过for loop遍历 （没什么意义）\n",
    "* 使用场景：数据量很大，想要判断某个元素是否在其中 -> set"
   ]
  },
  {
   "cell_type": "code",
   "execution_count": 90,
   "id": "ca39bcae",
   "metadata": {},
   "outputs": [
    {
     "data": {
      "text/plain": [
       "False"
      ]
     },
     "execution_count": 90,
     "metadata": {},
     "output_type": "execute_result"
    }
   ],
   "source": [
    "4 in a"
   ]
  },
  {
   "cell_type": "markdown",
   "id": "6b8009d5",
   "metadata": {},
   "source": [
    "## 3. set的method\n",
    "\n",
    "* add()\t为集合添加元素\n",
    "* clear()\t移除集合中的所有元素\n",
    "* copy()\t拷贝一个集合\n",
    "* difference()\t返回多个集合的差集\n",
    "* difference_update()\t移除集合中的元素，该元素在指定的集合也存在。\n",
    "* discard()\t删除集合中指定的元素\n",
    "* intersection()\t返回集合的交集\n",
    "* intersection_update()\t返回集合的交集。\n",
    "* isdisjoint()\t判断两个集合是否包含相同的元素，如果没有返回 True，否则返回 False。\n",
    "* issubset()\t判断指定集合是否为该方法参数集合的子集。\n",
    "* issuperset()\t判断该方法的参数集合是否为指定集合的子集\n",
    "* pop()\t随机移除元素\n",
    "* remove()\t移除指定元素\n",
    "* symmetric_difference()\t返回两个集合中不重复的元素集合。\n",
    "* symmetric_difference_update()\t移除当前集合中在另外一个指定集合相同的元素，并将另外一个指定集合中不同的元素插入到当前集合中。\n",
    "* union()\t返回两个集合的并集\n",
    "* update()\t给集合添加元素"
   ]
  },
  {
   "cell_type": "markdown",
   "id": "863c10ba",
   "metadata": {},
   "source": [
    "### 1. 添加\n",
    "* `set.add()` 添加一个元素\n",
    "* `set.update()`"
   ]
  },
  {
   "cell_type": "code",
   "execution_count": 110,
   "id": "a799829a",
   "metadata": {},
   "outputs": [],
   "source": [
    "set1 = set((\"google\",\"runoob\",\"taobao\"))"
   ]
  },
  {
   "cell_type": "code",
   "execution_count": 111,
   "id": "4cecc51d",
   "metadata": {},
   "outputs": [
    {
     "name": "stdout",
     "output_type": "stream",
     "text": [
      "{'facebook', 'taobao', 'google', 'runoob'}\n"
     ]
    }
   ],
   "source": [
    "set1.add(\"facebook\")\n",
    "print(set1)"
   ]
  },
  {
   "cell_type": "code",
   "execution_count": 114,
   "id": "3f260638",
   "metadata": {},
   "outputs": [
    {
     "name": "stdout",
     "output_type": "stream",
     "text": [
      "{1, 3, 'facebook', 'k', 'c', 'runoob', 'e', 'o', 'a', 'f', 'b', 'taobao', 'google'}\n"
     ]
    }
   ],
   "source": [
    "set1 = set((\"google\",\"runoob\",\"taobao\"))\n",
    "set1.update(\"facebook\",{1,3},{\"facebook\"})# 添加多个元素\n",
    "print(set1)"
   ]
  },
  {
   "cell_type": "markdown",
   "id": "b91e2c41",
   "metadata": {},
   "source": [
    "### 2. 删除\n",
    "* `set.discard()` 如果元素不在set里，不报错\n",
    "* `set.remove()` 如果元素不在set里，报错\n",
    "* `set.pop()`随机删除一个元素"
   ]
  },
  {
   "cell_type": "code",
   "execution_count": 117,
   "id": "d1a38389",
   "metadata": {},
   "outputs": [],
   "source": [
    "set1.discard(1) # TypeError: set.discard() takes exactly one argument (2 given)"
   ]
  },
  {
   "cell_type": "code",
   "execution_count": 119,
   "id": "2d1280c0",
   "metadata": {},
   "outputs": [],
   "source": [
    "set1.remove(3) # TypeError: set.remove() takes exactly one argument (2 given)"
   ]
  },
  {
   "cell_type": "code",
   "execution_count": 120,
   "id": "89af84aa",
   "metadata": {},
   "outputs": [
    {
     "name": "stdout",
     "output_type": "stream",
     "text": [
      "{'facebook', 'k', 'c', 'runoob', 'e', 'o', 'a', 'f', 'b', 'taobao', 'google'}\n",
      "{'k', 'c', 'runoob', 'e', 'o', 'a', 'f', 'b', 'taobao', 'google'}\n"
     ]
    }
   ],
   "source": [
    "print(set1)\n",
    "set1.pop()\n",
    "print(set1)"
   ]
  },
  {
   "cell_type": "markdown",
   "id": "126e1b8e",
   "metadata": {},
   "source": [
    "### 3. 计算集合元素个数"
   ]
  },
  {
   "cell_type": "code",
   "execution_count": 121,
   "id": "9bb685c2",
   "metadata": {},
   "outputs": [
    {
     "data": {
      "text/plain": [
       "10"
      ]
     },
     "execution_count": 121,
     "metadata": {},
     "output_type": "execute_result"
    }
   ],
   "source": [
    "len(set1)"
   ]
  },
  {
   "cell_type": "markdown",
   "id": "25ff73e7",
   "metadata": {},
   "source": [
    "### 4. 清空"
   ]
  },
  {
   "cell_type": "code",
   "execution_count": 126,
   "id": "83841ef7",
   "metadata": {},
   "outputs": [
    {
     "name": "stdout",
     "output_type": "stream",
     "text": [
      "set()\n",
      "set()\n"
     ]
    }
   ],
   "source": [
    "print(set1)\n",
    "set1.clear()\n",
    "print(set1)"
   ]
  },
  {
   "cell_type": "markdown",
   "id": "f7371ec0",
   "metadata": {},
   "source": [
    "### 5. 判断元素是否在set中"
   ]
  },
  {
   "cell_type": "code",
   "execution_count": 127,
   "id": "4e8c40d1",
   "metadata": {},
   "outputs": [
    {
     "data": {
      "text/plain": [
       "True"
      ]
     },
     "execution_count": 127,
     "metadata": {},
     "output_type": "execute_result"
    }
   ],
   "source": [
    "1 in a"
   ]
  },
  {
   "cell_type": "code",
   "execution_count": null,
   "id": "9c09f182",
   "metadata": {},
   "outputs": [],
   "source": []
  }
 ],
 "metadata": {
  "kernelspec": {
   "display_name": "Python 3 (ipykernel)",
   "language": "python",
   "name": "python3"
  },
  "language_info": {
   "codemirror_mode": {
    "name": "ipython",
    "version": 3
   },
   "file_extension": ".py",
   "mimetype": "text/x-python",
   "name": "python",
   "nbconvert_exporter": "python",
   "pygments_lexer": "ipython3",
   "version": "3.9.13"
  }
 },
 "nbformat": 4,
 "nbformat_minor": 5
}
