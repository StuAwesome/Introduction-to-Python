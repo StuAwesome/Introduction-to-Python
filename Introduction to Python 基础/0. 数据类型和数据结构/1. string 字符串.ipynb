{
 "cells": [
  {
   "cell_type": "markdown",
   "id": "ab4dea37",
   "metadata": {},
   "source": [
    "# String"
   ]
  },
  {
   "cell_type": "markdown",
   "id": "52cc4a00",
   "metadata": {},
   "source": [
    "* 字符串是 Python 中最常用的数据类型。我们可以使用引号( `'` 或 `\"` )来创建字符串。\n",
    "* 创建字符串很简单，只要为变量分配一个值即可。\n",
    "* `'''` and `\"\"\"`：多行注释"
   ]
  },
  {
   "cell_type": "code",
   "execution_count": 3,
   "id": "5418c240",
   "metadata": {},
   "outputs": [
    {
     "name": "stdout",
     "output_type": "stream",
     "text": [
      "\n",
      "黑马程序员\n",
      "\n"
     ]
    },
    {
     "data": {
      "text/plain": [
       "'\\n黑马程序员\\n'"
      ]
     },
     "execution_count": 3,
     "metadata": {},
     "output_type": "execute_result"
    }
   ],
   "source": [
    "# 三引号定义\n",
    "name = \"\"\"\n",
    "黑马程序员\n",
    "\"\"\"\n",
    "print(name)\n",
    "name"
   ]
  },
  {
   "cell_type": "code",
   "execution_count": 4,
   "id": "d166ab4d",
   "metadata": {},
   "outputs": [
    {
     "name": "stdout",
     "output_type": "stream",
     "text": [
      "'黑马程序员'\n",
      "\"和马程序员\"\n"
     ]
    }
   ],
   "source": [
    "# 字符串内包含单/双引号\n",
    "name1 = \"'黑马程序员'\"\n",
    "name2 = '\"和马程序员\"'\n",
    "print(name1)\n",
    "print(name2)"
   ]
  },
  {
   "cell_type": "code",
   "execution_count": null,
   "id": "3f4831d6",
   "metadata": {},
   "outputs": [],
   "source": []
  },
  {
   "cell_type": "code",
   "execution_count": null,
   "id": "273a437b",
   "metadata": {},
   "outputs": [],
   "source": []
  },
  {
   "cell_type": "markdown",
   "id": "af67c1a4",
   "metadata": {},
   "source": [
    "## 1. Python 访问字符串中的值"
   ]
  },
  {
   "cell_type": "markdown",
   "id": "4382b7f4",
   "metadata": {},
   "source": [
    "* `变量[头下标:尾下标:step]`\n",
    "    * 索引值以 0 为开始值，-1 为从末尾的开始位置。"
   ]
  },
  {
   "cell_type": "code",
   "execution_count": 61,
   "id": "70a44652",
   "metadata": {},
   "outputs": [],
   "source": [
    "str1 = 'Runoob' # 6 bytes"
   ]
  },
  {
   "cell_type": "markdown",
   "id": "cef2fbc8",
   "metadata": {},
   "source": [
    "* 索引有6个\n",
    "    * 分别为 0 1 2 3 4 5\n",
    "    * 分别为 -6 -5 -4 -3 -2 -1\n",
    "* 截取有7个（6个字符），按照光标分隔\n",
    "    * 分别为 0 1 2 3 4 5 6\n",
    "    * 分别为 0 -1 -2 -3 -4 -5 -6\n",
    "    * 类似于字符间的分隔\n",
    "    * 简单记法：截取字符串中的一部分，遵循左闭右开原则，str[0:2] 是不包含第 3 个字符的"
   ]
  },
  {
   "cell_type": "code",
   "execution_count": 62,
   "id": "fe02f30a",
   "metadata": {},
   "outputs": [
    {
     "name": "stdout",
     "output_type": "stream",
     "text": [
      "R\n",
      "R\n",
      "b\n",
      "b\n",
      "Runoob\n",
      "Runoob\n"
     ]
    }
   ],
   "source": [
    "print(str1[0])\n",
    "print(str1[-6])\n",
    "\n",
    "print(str1[5])\n",
    "print(str1[-1])\n",
    "\n",
    "print(str1[0:])\n",
    "print(str1[:6])"
   ]
  },
  {
   "cell_type": "code",
   "execution_count": 85,
   "id": "56080ee0",
   "metadata": {},
   "outputs": [
    {
     "name": "stdout",
     "output_type": "stream",
     "text": [
      "bou\n",
      "u\n"
     ]
    }
   ],
   "source": [
    "print(str1[::-2])\n",
    "print(str1[1:2])"
   ]
  },
  {
   "cell_type": "code",
   "execution_count": 82,
   "id": "c994eca6",
   "metadata": {},
   "outputs": [
    {
     "name": "stdout",
     "output_type": "stream",
     "text": [
      "Ru\n",
      "oo\n"
     ]
    }
   ],
   "source": [
    "print(str1[0:-4])\n",
    "print(str1[-3:-1])"
   ]
  },
  {
   "cell_type": "markdown",
   "id": "68ba9b16",
   "metadata": {},
   "source": [
    "## 2. 字符串operations"
   ]
  },
  {
   "cell_type": "markdown",
   "id": "ba72862b",
   "metadata": {},
   "source": [
    "1. `+` \n",
    "2. `* `\n",
    "3. `[ ]` 索引选取\n",
    "4. `[:]` 截取\n",
    "5. `in` 成员操作符\n",
    "5. `not in`\n",
    "6. `/r /R` raw string\n",
    "7. `%` formate string"
   ]
  },
  {
   "cell_type": "code",
   "execution_count": 65,
   "id": "dcd9318c",
   "metadata": {},
   "outputs": [
    {
     "name": "stdout",
     "output_type": "stream",
     "text": [
      "Hello stuAwesome\n",
      "Hello stuAwesome\tHello stuAwesome\tHello stuAwesome\t\n"
     ]
    }
   ],
   "source": [
    "# + 和 * \n",
    "str2 = \"stuAwesome\"\n",
    "str3 = \"Hello World\"\n",
    "print(str3[:6]+str2)\n",
    "\n",
    "print((str3[:6]+str2 + \"\\t\")*3)"
   ]
  },
  {
   "cell_type": "markdown",
   "id": "31a2eb70",
   "metadata": {},
   "source": [
    "## 3. 字符串转义\n",
    "* 在需要在字符中使用特殊字符时，python 用反斜杠 \\ 转义字符。\\\n",
    "* 转义字符标：（如下只有部分）"
   ]
  },
  {
   "cell_type": "code",
   "execution_count": 66,
   "id": "c0a49ed0",
   "metadata": {},
   "outputs": [
    {
     "name": "stdout",
     "output_type": "stream",
     "text": [
      "line1 line2 line3\n"
     ]
    }
   ],
   "source": [
    "# \\(在行尾时)\n",
    "# 续行符\n",
    "print(\"line1 \\\n",
    "line2 \\\n",
    "line3\")"
   ]
  },
  {
   "cell_type": "code",
   "execution_count": 67,
   "id": "7ca557cd",
   "metadata": {},
   "outputs": [
    {
     "name": "stdout",
     "output_type": "stream",
     "text": [
      "\\\n"
     ]
    }
   ],
   "source": [
    "# \\\\\n",
    "# 反斜杠符号\n",
    "print(\"\\\\\")"
   ]
  },
  {
   "cell_type": "code",
   "execution_count": 68,
   "id": "7cf5ddcc",
   "metadata": {},
   "outputs": [
    {
     "name": "stdout",
     "output_type": "stream",
     "text": [
      "'\n"
     ]
    }
   ],
   "source": [
    "# \\\n",
    "# 单引号\n",
    "print('\\'')"
   ]
  },
  {
   "cell_type": "code",
   "execution_count": 69,
   "id": "37754914",
   "metadata": {},
   "outputs": [
    {
     "name": "stdout",
     "output_type": "stream",
     "text": [
      "\u0007\n"
     ]
    }
   ],
   "source": [
    "#\\a\n",
    "# 执行后电脑有响声\n",
    "print(\"\\a\")"
   ]
  },
  {
   "cell_type": "code",
   "execution_count": 70,
   "id": "725c4cf4",
   "metadata": {},
   "outputs": [
    {
     "name": "stdout",
     "output_type": "stream",
     "text": [
      "Stu\n",
      "Awesome\n"
     ]
    }
   ],
   "source": [
    "# \\n 换行\n",
    "print('Stu\\nAwesome')"
   ]
  },
  {
   "cell_type": "code",
   "execution_count": 71,
   "id": "a44f423c",
   "metadata": {},
   "outputs": [
    {
     "name": "stdout",
     "output_type": "stream",
     "text": [
      "Stu\tAwesome\n"
     ]
    }
   ],
   "source": [
    "# \\t Tab 横向制表符\n",
    "print('Stu\\tAwesome')"
   ]
  },
  {
   "cell_type": "code",
   "execution_count": 72,
   "id": "3b0a17a4",
   "metadata": {},
   "outputs": [
    {
     "name": "stdout",
     "output_type": "stream",
     "text": [
      "Stu \u000b",
      " Awesome\n"
     ]
    }
   ],
   "source": [
    "# \\v 纵向制表符\n",
    "print('Stu \\v Awesome')"
   ]
  },
  {
   "cell_type": "code",
   "execution_count": 73,
   "id": "55be9d4e",
   "metadata": {},
   "outputs": [
    {
     "name": "stdout",
     "output_type": "stream",
     "text": [
      "google runoob taobao\r",
      "123456\n"
     ]
    }
   ],
   "source": [
    "# \\r\n",
    "# 将 \\r 后面的内容移到字符串开头，并逐一替换开头部分的字符，直至将 \\r 后面的内容完全替换完成。\n",
    "\n",
    "# google被替换\n",
    "print('google runoob taobao\\r123456')"
   ]
  },
  {
   "cell_type": "code",
   "execution_count": 74,
   "id": "4bbd691f",
   "metadata": {},
   "outputs": [
    {
     "name": "stdout",
     "output_type": "stream",
     "text": [
      "Hello \f",
      " World!\n"
     ]
    }
   ],
   "source": [
    "# \\f\n",
    "# 换页\n",
    "print(\"Hello \\f World!\")"
   ]
  },
  {
   "cell_type": "code",
   "execution_count": 75,
   "id": "c34a30e6",
   "metadata": {},
   "outputs": [
    {
     "name": "stdout",
     "output_type": "stream",
     "text": [
      "Hello World!\n"
     ]
    }
   ],
   "source": [
    "# \\yyy 八进制数，y 代表 0~7 的字符，例如：\\012 代表换行。\n",
    "print(\"\\110\\145\\154\\154\\157\\40\\127\\157\\162\\154\\144\\41\")"
   ]
  },
  {
   "cell_type": "code",
   "execution_count": 76,
   "id": "2d208366",
   "metadata": {},
   "outputs": [
    {
     "name": "stdout",
     "output_type": "stream",
     "text": [
      "Hello World!\n"
     ]
    }
   ],
   "source": [
    "# \\xyy 十六进制数，以 \\x 开头，y 代表的字符，例如：\\x0a 代表换行\n",
    "print(\"\\x48\\x65\\x6c\\x6c\\x6f\\x20\\x57\\x6f\\x72\\x6c\\x64\\x21\")"
   ]
  },
  {
   "cell_type": "markdown",
   "id": "eabf6869",
   "metadata": {},
   "source": [
    "## 4.  Python字符串格式化"
   ]
  },
  {
   "cell_type": "markdown",
   "id": "8506dbb8",
   "metadata": {},
   "source": [
    "```\n",
    "    占位符号描述\n",
    "      %c\t 格式化字符及其ASCII码\n",
    "      %s\t 格式化字符串\n",
    "      %d\t 格式化整数\n",
    "      %u\t 格式化无符号整型\n",
    "      %o\t 格式化无符号八进制数\n",
    "      %x\t 格式化无符号十六进制数\n",
    "      %X\t 格式化无符号十六进制数（大写）\n",
    "      %f\t 格式化浮点数字，可指定小数点后的精度\n",
    "      %e\t 用科学计数法格式化浮点数\n",
    "      %E\t 作用同%e，用科学计数法格式化浮点数\n",
    "      %g\t %f和%e的简写\n",
    "      %G\t %f 和 %E 的简写\n",
    "      %p\t 用十六进制数格式化变量的地址\n",
    "格式化操作符辅助指令:\n",
    "\n",
    "符号\t功能\n",
    "*\t定义宽度或者小数点精度\n",
    "-\t用做左对齐\n",
    "+\t在正数前面显示加号( + )\n",
    "<sp>\t在正数前面显示空格\n",
    "#\t在八进制数前面显示零('0')，在十六进制前面显示'0x'或者'0X'(取决于用的是'x'还是'X')\n",
    "0\t显示的数字前面填充'0'而不是默认的空格\n",
    "%\t'%%'输出一个单一的'%'\n",
    "(var)\t映射变量(字典参数)\n",
    "m.n.\tm 是显示的最小总宽度,n 是小数点后的位数(如果可用的话)\n",
    "Python2.6 开始，新增了一种格式化字符串的函数 str.format()，它增强了字符串格式化的功能。\n",
    "```"
   ]
  },
  {
   "cell_type": "code",
   "execution_count": 6,
   "id": "e7669f76",
   "metadata": {},
   "outputs": [
    {
     "name": "stdout",
     "output_type": "stream",
     "text": [
      "   11\n",
      " 11.345\n"
     ]
    }
   ],
   "source": [
    "num1 = 11\n",
    "num2 = 11.345 \n",
    "print(f\"{num1:5}\")\n",
    "print(f\"{num2:7}\")"
   ]
  },
  {
   "cell_type": "markdown",
   "id": "4392f7dc",
   "metadata": {},
   "source": [
    "* m：控制宽度，要求是大于m宽度的数字\n",
    "    * m = 数字+一位小数点\n",
    "    * 7.2f 对 11.345 进行设置 结果是 [空格][空格][空格]11.35 七个宽度，两位小数\n",
    "* .n：控制精度 (四舍五入 会失真)"
   ]
  },
  {
   "cell_type": "markdown",
   "id": "d8677eab",
   "metadata": {},
   "source": [
    "### 可以format表达式"
   ]
  },
  {
   "cell_type": "code",
   "execution_count": 10,
   "id": "691213fa",
   "metadata": {},
   "outputs": [
    {
     "name": "stdout",
     "output_type": "stream",
     "text": [
      "1\n"
     ]
    }
   ],
   "source": [
    "print(f\"{1*1}\")"
   ]
  },
  {
   "cell_type": "markdown",
   "id": "9698bfd3",
   "metadata": {},
   "source": [
    "### 方法一：傻瓜式\n",
    "* string 与 变量间 有个`%`\n",
    "* %s 占位为字符串 - **表达式**\n",
    "* %d 整型\n",
    "* %f"
   ]
  },
  {
   "cell_type": "code",
   "execution_count": 77,
   "id": "cece196f",
   "metadata": {},
   "outputs": [
    {
     "name": "stdout",
     "output_type": "stream",
     "text": [
      "我今年20岁了，存款只有1.23，我叫Stu\n"
     ]
    }
   ],
   "source": [
    "print(\"我今年%d岁了，存款只有%0.2f，我叫%s\"%(20,1.23234,\"Stu\"))"
   ]
  },
  {
   "cell_type": "code",
   "execution_count": 12,
   "id": "0089311e",
   "metadata": {},
   "outputs": [
    {
     "name": "stdout",
     "output_type": "stream",
     "text": [
      "<class 'int'>\n"
     ]
    }
   ],
   "source": [
    "print(\"%s\" % type(1))"
   ]
  },
  {
   "cell_type": "markdown",
   "id": "861d8e84",
   "metadata": {},
   "source": [
    "### 方法二：`{ }`.format(变量1, ...)"
   ]
  },
  {
   "cell_type": "code",
   "execution_count": 78,
   "id": "3dc2c5ed",
   "metadata": {},
   "outputs": [
    {
     "name": "stdout",
     "output_type": "stream",
     "text": [
      "我今年20岁了，存款只有1.23，我叫Stu\n",
      "我今年   20岁了，存款只有1.23234 ，我叫  Stu   \n"
     ]
    }
   ],
   "source": [
    "print(\"我今年{0}岁了，存款只有{1:.2f}，我叫{2}\".format(20,1.23234,\"Stu\"))\n",
    "print(\"我今年{:>5}岁了，存款只有{:<8}，我叫{:^8}\".format(20,1.23234,\"Stu\"))"
   ]
  },
  {
   "cell_type": "markdown",
   "id": "ab8bf705",
   "metadata": {},
   "source": [
    "### 方法三： fstring"
   ]
  },
  {
   "cell_type": "markdown",
   "id": "e1ae14b0",
   "metadata": {},
   "source": [
    "* 只用这一种就可以"
   ]
  },
  {
   "cell_type": "code",
   "execution_count": 79,
   "id": "d2ebf382",
   "metadata": {},
   "outputs": [
    {
     "name": "stdout",
     "output_type": "stream",
     "text": [
      "存款只有1123.12，我叫2\n"
     ]
    }
   ],
   "source": [
    "print(f\"存款只有{1123.1231:.2f}，我叫{2}\")"
   ]
  },
  {
   "cell_type": "markdown",
   "id": "2b207e55",
   "metadata": {},
   "source": [
    "## 5. Unicode 字符串"
   ]
  },
  {
   "cell_type": "markdown",
   "id": "6154a1e2",
   "metadata": {},
   "source": [
    "1. 编码：字符串 -> 010101 byte 的规则\n",
    "    * python里，每次导入导出数据string和bytes之间转换 - encode and decode，最好都使用UTF-8\n",
    "2. 一开始只有英文编码，只能翻译数字和英文大小写字母：普通字符串是以8位ASCII码进行存储的\n",
    "3. 中国有 GB232 和 GBK\n",
    "4. 各国有各国很混乱\n",
    "    * 统一：Unicode标准的UTF-8\n",
    "\n",
    "\n",
    "\n",
    "* 在Python2中，普通字符串是以8位ASCII码进行存储的\n",
    "* 而Unicode字符串则存储为16位unicode字符串，这样能够表示更多的字符集。使用的语法是在字符串前面加上前缀 u。\n",
    "* 在Python3中，所有的字符串都是Unicode字符串。"
   ]
  },
  {
   "cell_type": "code",
   "execution_count": null,
   "id": "8b4b2c57",
   "metadata": {},
   "outputs": [],
   "source": []
  },
  {
   "cell_type": "markdown",
   "id": "7942a187",
   "metadata": {},
   "source": [
    "##  6. string 的 built-in function\n",
    "* 共有40个，只展示部分\n",
    "* 用到去查去记"
   ]
  },
  {
   "cell_type": "markdown",
   "id": "f03d7ced",
   "metadata": {},
   "source": [
    "## 6.1 method 方法 和 function 函数"
   ]
  },
  {
   "cell_type": "markdown",
   "id": "0294000a",
   "metadata": {},
   "source": [
    "* method是特殊函数，不能独立使用，只能针对某个对象object使用\n",
    "* method只针对某个对象使用，因为有些参数被隐含地传过去\n",
    "* OOP 面向对象编程"
   ]
  },
  {
   "cell_type": "code",
   "execution_count": 88,
   "id": "091c4f64",
   "metadata": {},
   "outputs": [
    {
     "data": {
      "text/plain": [
       "'ABCD'"
      ]
     },
     "execution_count": 88,
     "metadata": {},
     "output_type": "execute_result"
    }
   ],
   "source": [
    "# method\n",
    "'abcd'.upper()"
   ]
  },
  {
   "cell_type": "code",
   "execution_count": 91,
   "id": "8a537049",
   "metadata": {},
   "outputs": [
    {
     "ename": "NameError",
     "evalue": "name 'upper' is not defined",
     "output_type": "error",
     "traceback": [
      "\u001b[0;31m---------------------------------------------------------------------------\u001b[0m",
      "\u001b[0;31mNameError\u001b[0m                                 Traceback (most recent call last)",
      "Input \u001b[0;32mIn [91]\u001b[0m, in \u001b[0;36m<cell line: 5>\u001b[0;34m()\u001b[0m\n\u001b[1;32m      2\u001b[0m a \u001b[38;5;241m=\u001b[39m \u001b[38;5;124m'\u001b[39m\u001b[38;5;124mabcd\u001b[39m\u001b[38;5;124m'\u001b[39m\n\u001b[1;32m      3\u001b[0m \u001b[38;5;28mlen\u001b[39m(a)\n\u001b[0;32m----> 5\u001b[0m \u001b[43mupper\u001b[49m(a)\n",
      "\u001b[0;31mNameError\u001b[0m: name 'upper' is not defined"
     ]
    }
   ],
   "source": [
    "# upper函数 不在 python 宇宙中\n",
    "# len() 在\n",
    "a = 'abcd'\n",
    "len(a)\n",
    "\n",
    "upper(a)"
   ]
  },
  {
   "cell_type": "markdown",
   "id": "8d4b492a",
   "metadata": {},
   "source": [
    "### string的methond"
   ]
  },
  {
   "cell_type": "markdown",
   "id": "59524e07",
   "metadata": {},
   "source": [
    "* l：从左搜索\n",
    "* r：从右搜索\n",
    "\n",
    "1. 大小写转换\n",
    "```python\n",
    "str.lower()\n",
    "str.upper()\n",
    "str.capitalize()\n",
    "str.title() #返回\"标题化\"的字符串,就是说所有单词都是以大写开始，其余字母均为小写(\n",
    "str.swapcase()\n",
    "```\n",
    "\n",
    "2. 搜索\n",
    "```python\n",
    "str.count()\n",
    "str.startswith()\n",
    "str.endswith()\n",
    "str.find()\n",
    "str.rfind()\n",
    "str.index()\n",
    "str.rindex()\n",
    "str.replace()\n",
    "```\n",
    "3. 填充 or 剔除\n",
    "```python\n",
    "str.center()\n",
    "str.ljust()\n",
    "str.zfill()\n",
    "str.strip()\n",
    "str.lstrip()\n",
    "str.rstrip()\n",
    "```\n",
    "4. 分割 合并\n",
    "```python\n",
    "str.partition()\n",
    "str.rpartition()\n",
    "str.split()\n",
    "str.rsplit()\n",
    "str.splitlines()\n",
    "str.join()\n",
    "```\n",
    "5. 判断\n",
    "```python\n",
    "str.islower()\n",
    "str.isupper()\n",
    "str.istitle()\n",
    "str.isdigit()\n",
    "str.isdecimal()\n",
    "str.isnumeric()\n",
    "str.isalpha()\n",
    "str.isalnum()\n",
    "str.isprintable()\n",
    "str.identifier()\n",
    "```"
   ]
  },
  {
   "cell_type": "markdown",
   "id": "11c70146",
   "metadata": {},
   "source": [
    "1. 大小写转换\n",
    "```python\n",
    "str.lower()\n",
    "str.upper()\n",
    "str.capitalize()\n",
    "str.title() #返回\"标题化\"的字符串,就是说所有单词都是以大写开始，其余字母均为小写(\n",
    "str.swapcase()\n",
    "```"
   ]
  },
  {
   "cell_type": "code",
   "execution_count": 100,
   "id": "16c824ec",
   "metadata": {},
   "outputs": [],
   "source": [
    "text = \"asdjHK DJA SHDkjl hasdha sHJKkjf\""
   ]
  },
  {
   "cell_type": "code",
   "execution_count": 97,
   "id": "b6d30125",
   "metadata": {},
   "outputs": [
    {
     "data": {
      "text/plain": [
       "'asdjhkdjashdkjlhasdhashjkkjf'"
      ]
     },
     "execution_count": 97,
     "metadata": {},
     "output_type": "execute_result"
    }
   ],
   "source": [
    "text.lower()"
   ]
  },
  {
   "cell_type": "code",
   "execution_count": 98,
   "id": "3693f474",
   "metadata": {},
   "outputs": [
    {
     "data": {
      "text/plain": [
       "'ASDJHKDJASHDKJLHASDHASHJKKJF'"
      ]
     },
     "execution_count": 98,
     "metadata": {},
     "output_type": "execute_result"
    }
   ],
   "source": [
    "text.upper()"
   ]
  },
  {
   "cell_type": "code",
   "execution_count": 101,
   "id": "2b177e3e",
   "metadata": {},
   "outputs": [
    {
     "data": {
      "text/plain": [
       "'Asdjhk dja shdkjl hasdha shjkkjf'"
      ]
     },
     "execution_count": 101,
     "metadata": {},
     "output_type": "execute_result"
    }
   ],
   "source": [
    "# 句中单词首字母大写 第一次单词大写\n",
    "text.capitalize()"
   ]
  },
  {
   "cell_type": "code",
   "execution_count": 103,
   "id": "62f8f189",
   "metadata": {},
   "outputs": [
    {
     "data": {
      "text/plain": [
       "'Asdjhk Dja Shdkjl Hasdha Shjkkjf'"
      ]
     },
     "execution_count": 103,
     "metadata": {},
     "output_type": "execute_result"
    }
   ],
   "source": [
    "# 句中每个单词首字母大写\n",
    "text.title()"
   ]
  },
  {
   "cell_type": "code",
   "execution_count": 104,
   "id": "7d5733da",
   "metadata": {},
   "outputs": [
    {
     "data": {
      "text/plain": [
       "'ASDJhk dja shdKJL HASDHA ShjkKJF'"
      ]
     },
     "execution_count": 104,
     "metadata": {},
     "output_type": "execute_result"
    }
   ],
   "source": [
    "#大小写转换\n",
    "text.swapcase()"
   ]
  },
  {
   "cell_type": "markdown",
   "id": "ed91b0a3",
   "metadata": {},
   "source": [
    "2. 搜索\n",
    "```python\n",
    "str.count()\n",
    "str.startswith()\n",
    "str.endswith()\n",
    "str.find()\n",
    "str.rfind()\n",
    "str.index()\n",
    "str.rindex()\n",
    "str.replace()\n",
    "```"
   ]
  },
  {
   "cell_type": "code",
   "execution_count": 105,
   "id": "2d0d1929",
   "metadata": {},
   "outputs": [
    {
     "data": {
      "text/plain": [
       "3"
      ]
     },
     "execution_count": 105,
     "metadata": {},
     "output_type": "execute_result"
    }
   ],
   "source": [
    "text.count(\"s\")"
   ]
  },
  {
   "cell_type": "code",
   "execution_count": 109,
   "id": "b6f935cf",
   "metadata": {},
   "outputs": [
    {
     "data": {
      "text/plain": [
       "2"
      ]
     },
     "execution_count": 109,
     "metadata": {},
     "output_type": "execute_result"
    }
   ],
   "source": [
    "# 加上数字，代表从哪里开始\n",
    "text.count(\"s\",2)"
   ]
  },
  {
   "cell_type": "code",
   "execution_count": 110,
   "id": "fa15a1b6",
   "metadata": {},
   "outputs": [
    {
     "data": {
      "text/plain": [
       "1"
      ]
     },
     "execution_count": 110,
     "metadata": {},
     "output_type": "execute_result"
    }
   ],
   "source": [
    "# 加上数字，代表从哪里开始 结束\n",
    "text.count(\"s\",1,3)"
   ]
  },
  {
   "cell_type": "code",
   "execution_count": 111,
   "id": "1dbb07a3",
   "metadata": {},
   "outputs": [
    {
     "data": {
      "text/plain": [
       "True"
      ]
     },
     "execution_count": 111,
     "metadata": {},
     "output_type": "execute_result"
    }
   ],
   "source": [
    "company1 = \"深圳市派森\"\n",
    "company2 = '成都市派森'\n",
    "company1.startswith(\"深圳\")"
   ]
  },
  {
   "cell_type": "code",
   "execution_count": 112,
   "id": "9c8bd389",
   "metadata": {},
   "outputs": [
    {
     "data": {
      "text/plain": [
       "False"
      ]
     },
     "execution_count": 112,
     "metadata": {},
     "output_type": "execute_result"
    }
   ],
   "source": [
    "company2.startswith(\"深圳\")"
   ]
  },
  {
   "cell_type": "code",
   "execution_count": 113,
   "id": "eb2af12b",
   "metadata": {},
   "outputs": [
    {
     "data": {
      "text/plain": [
       "1"
      ]
     },
     "execution_count": 113,
     "metadata": {},
     "output_type": "execute_result"
    }
   ],
   "source": [
    "text.find(\"s\")"
   ]
  },
  {
   "cell_type": "code",
   "execution_count": 115,
   "id": "f1e619b1",
   "metadata": {},
   "outputs": [
    {
     "data": {
      "text/plain": [
       "25"
      ]
     },
     "execution_count": 115,
     "metadata": {},
     "output_type": "execute_result"
    }
   ],
   "source": [
    "text.rfind(\"s\")"
   ]
  },
  {
   "cell_type": "code",
   "execution_count": 117,
   "id": "843fe7e5",
   "metadata": {},
   "outputs": [
    {
     "data": {
      "text/plain": [
       "-1"
      ]
     },
     "execution_count": 117,
     "metadata": {},
     "output_type": "execute_result"
    }
   ],
   "source": [
    "text.rfind(\"m\")\n",
    "# -1 代表没有这个字母"
   ]
  },
  {
   "cell_type": "code",
   "execution_count": 151,
   "id": "d624e1bb",
   "metadata": {},
   "outputs": [
    {
     "name": "stdout",
     "output_type": "stream",
     "text": [
      "a\n",
      "djHK DJA SHDkjl ha\n",
      "dha \n",
      "HJKkjf\n"
     ]
    }
   ],
   "source": [
    "text1 = text.replace(\"s\",\"\\n\")\n",
    "print(text1)"
   ]
  },
  {
   "cell_type": "code",
   "execution_count": 149,
   "id": "fd53851f",
   "metadata": {},
   "outputs": [
    {
     "data": {
      "text/plain": [
       "'amdjHK DJA SHDkjl hasdha sHJKkjf'"
      ]
     },
     "execution_count": 149,
     "metadata": {},
     "output_type": "execute_result"
    }
   ],
   "source": [
    "# 决定替换几个单词\n",
    "text.replace(\"s\",\"m\",1)"
   ]
  },
  {
   "cell_type": "markdown",
   "id": "9a149ca8",
   "metadata": {},
   "source": [
    "3. 填充 or 剔除\n",
    "* 在str前面或后面填充内容，第一个参数数字代表了这个str的最后总长度\n",
    "```python\n",
    "str.center()\n",
    "str.ljust()\n",
    "str.zfill()\n",
    "str.strip()\n",
    "str.lstrip()\n",
    "str.rstrip()\n",
    "```"
   ]
  },
  {
   "cell_type": "code",
   "execution_count": 144,
   "id": "7ce9eafd",
   "metadata": {},
   "outputs": [
    {
     "data": {
      "text/plain": [
       "'YYYYYYYY2023'"
      ]
     },
     "execution_count": 144,
     "metadata": {},
     "output_type": "execute_result"
    }
   ],
   "source": [
    "\"2023\".rjust(12,'Y')"
   ]
  },
  {
   "cell_type": "code",
   "execution_count": 130,
   "id": "c6d8748e",
   "metadata": {},
   "outputs": [
    {
     "data": {
      "text/plain": [
       "'000002023'"
      ]
     },
     "execution_count": 130,
     "metadata": {},
     "output_type": "execute_result"
    }
   ],
   "source": [
    "\"2023\".zfill(9)"
   ]
  },
  {
   "cell_type": "code",
   "execution_count": 133,
   "id": "e1bb472d",
   "metadata": {},
   "outputs": [
    {
     "data": {
      "text/plain": [
       "'#########asdjHK DJA SHDkjl hasdha sHJKkjf#########'"
      ]
     },
     "execution_count": 133,
     "metadata": {},
     "output_type": "execute_result"
    }
   ],
   "source": [
    "#两侧填充\n",
    "text.center(50,\"#\")"
   ]
  },
  {
   "cell_type": "code",
   "execution_count": 135,
   "id": "efc05a32",
   "metadata": {},
   "outputs": [
    {
     "data": {
      "text/plain": [
       "'asdjHK DJA SHDkjl hasdha sHJKkjf'"
      ]
     },
     "execution_count": 135,
     "metadata": {},
     "output_type": "execute_result"
    }
   ],
   "source": [
    "# 去除做两边制定字段、\n",
    "(text.center(50,\"#\")).strip(\"#\")"
   ]
  },
  {
   "cell_type": "code",
   "execution_count": 137,
   "id": "a838c2d6",
   "metadata": {},
   "outputs": [
    {
     "data": {
      "text/plain": [
       "'asdjHK DJA SHDkjl hasdha sHJKkjf'"
      ]
     },
     "execution_count": 137,
     "metadata": {},
     "output_type": "execute_result"
    }
   ],
   "source": [
    "# 去除做两边制定字段、\n",
    "#(text.center(50,\"#\")).strip(\"#\")\n",
    "\n",
    "#去除两边空格\n",
    "#两侧填充\n",
    "text1 = text.center(50,\" \")\n",
    "text1.strip()"
   ]
  },
  {
   "cell_type": "markdown",
   "id": "955ce1a0",
   "metadata": {},
   "source": [
    "4. 分割 合并\n",
    "* eg. 把str拆分成list\n",
    "\n",
    "```python\n",
    "str.partition()\n",
    "str.rpartition()\n",
    "str.split()\n",
    "str.rsplit()\n",
    "str.splitlines()\n",
    "str.join()\n",
    "```"
   ]
  },
  {
   "cell_type": "code",
   "execution_count": 138,
   "id": "55dc3ce2",
   "metadata": {},
   "outputs": [
    {
     "data": {
      "text/plain": [
       "['a', 'djHK DJA SHDkjl ha', 'dha ', 'HJKkjf']"
      ]
     },
     "execution_count": 138,
     "metadata": {},
     "output_type": "execute_result"
    }
   ],
   "source": [
    "text.split(\"s\")"
   ]
  },
  {
   "cell_type": "code",
   "execution_count": 159,
   "id": "af86d88d",
   "metadata": {},
   "outputs": [
    {
     "data": {
      "text/plain": [
       "['asdjHK DJA SHDkjl hasdha sHJKkjf']"
      ]
     },
     "execution_count": 159,
     "metadata": {},
     "output_type": "execute_result"
    }
   ],
   "source": [
    "# 按空格分割 \n",
    "# stu 没有成功实现\n",
    "text.splitlines()"
   ]
  },
  {
   "cell_type": "code",
   "execution_count": 161,
   "id": "32dda86f",
   "metadata": {},
   "outputs": [
    {
     "data": {
      "text/plain": [
       "'a$s$d$j$H$K$ $D$J$A$ $S$H$D$k$j$l$ $h$a$s$d$h$a$ $s$H$J$K$k$j$f'"
      ]
     },
     "execution_count": 161,
     "metadata": {},
     "output_type": "execute_result"
    }
   ],
   "source": [
    "#每个字符前插入前面的str\n",
    "\"$\".join(text)"
   ]
  },
  {
   "cell_type": "code",
   "execution_count": 162,
   "id": "2dadfb34",
   "metadata": {},
   "outputs": [
    {
     "data": {
      "text/plain": [
       "'分asdjHK DJA SHDkjl hasdha sHJKkjf割'"
      ]
     },
     "execution_count": 162,
     "metadata": {},
     "output_type": "execute_result"
    }
   ],
   "source": [
    "#每个字符前插入前面的str\n",
    "text.join(\"分割\")"
   ]
  },
  {
   "cell_type": "markdown",
   "id": "598dd4dc",
   "metadata": {},
   "source": [
    "5. 判断\n",
    "* 有多种方法\n",
    "```python\n",
    "str.islower()\n",
    "str.isupper()\n",
    "str.istitle()\n",
    "str.isdigit()\n",
    "str.isdecimal()\n",
    "str.isnumeric()\n",
    "str.isalpha()\n",
    "str.isalnum()\n",
    "str.isprintable()\n",
    "str.identifier()\n",
    "```"
   ]
  },
  {
   "cell_type": "code",
   "execution_count": 163,
   "id": "039e120f",
   "metadata": {},
   "outputs": [
    {
     "data": {
      "text/plain": [
       "True"
      ]
     },
     "execution_count": 163,
     "metadata": {},
     "output_type": "execute_result"
    }
   ],
   "source": [
    "\"1\".isdigit()"
   ]
  },
  {
   "cell_type": "code",
   "execution_count": 164,
   "id": "67123b2a",
   "metadata": {},
   "outputs": [
    {
     "name": "stdout",
     "output_type": "stream",
     "text": [
      "Help on method_descriptor:\n",
      "\n",
      "isdigit(self, /)\n",
      "    Return True if the string is a digit string, False otherwise.\n",
      "    \n",
      "    A string is a digit string if all characters in the string are digits and there\n",
      "    is at least one character in the string.\n",
      "\n"
     ]
    }
   ],
   "source": [
    "help(str.isdigit)"
   ]
  },
  {
   "cell_type": "code",
   "execution_count": 166,
   "id": "42f754c7",
   "metadata": {},
   "outputs": [
    {
     "name": "stdout",
     "output_type": "stream",
     "text": [
      "Return True if the string is a digit string, False otherwise.\n",
      "\n",
      "A string is a digit string if all characters in the string are digits and there\n",
      "is at least one character in the string.\n"
     ]
    }
   ],
   "source": [
    "# 查看 isdigit 的 doc文档\n",
    "print(str.isdigit.__doc__)"
   ]
  },
  {
   "cell_type": "code",
   "execution_count": null,
   "id": "2a5d7072",
   "metadata": {},
   "outputs": [],
   "source": []
  }
 ],
 "metadata": {
  "kernelspec": {
   "display_name": "Python 3 (ipykernel)",
   "language": "python",
   "name": "python3"
  },
  "language_info": {
   "codemirror_mode": {
    "name": "ipython",
    "version": 3
   },
   "file_extension": ".py",
   "mimetype": "text/x-python",
   "name": "python",
   "nbconvert_exporter": "python",
   "pygments_lexer": "ipython3",
   "version": "3.9.13"
  }
 },
 "nbformat": 4,
 "nbformat_minor": 5
}
