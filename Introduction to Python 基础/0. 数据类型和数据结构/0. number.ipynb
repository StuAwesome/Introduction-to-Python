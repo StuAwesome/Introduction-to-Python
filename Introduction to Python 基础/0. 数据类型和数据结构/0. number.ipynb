{
 "cells": [
  {
   "cell_type": "markdown",
   "id": "7efff782",
   "metadata": {},
   "source": [
    "# 数字"
   ]
  },
  {
   "cell_type": "markdown",
   "id": "14e3a958",
   "metadata": {},
   "source": [
    "* Python 数字数据类型用于存储数值。\n",
    "* 数据类型是不允许改变的,这就意味着如果改变数字数据类型的值，将重新分配内存空间。\n",
    "* 以下实例在变量赋值时 Number 对象将被创建："
   ]
  },
  {
   "cell_type": "code",
   "execution_count": 217,
   "id": "7f7f4f04",
   "metadata": {},
   "outputs": [
    {
     "name": "stdout",
     "output_type": "stream",
     "text": [
      "1\n",
      "10\n"
     ]
    }
   ],
   "source": [
    "var1 = 1\n",
    "var2 = 10\n",
    "print(var1)\n",
    "print(var2)"
   ]
  },
  {
   "cell_type": "markdown",
   "id": "defc1b1a",
   "metadata": {},
   "source": [
    "* 您也可以使用del语句删除一些对象的引用(变量)。\n",
    "* 变量在使用前必须赋值"
   ]
  },
  {
   "cell_type": "code",
   "execution_count": 219,
   "id": "79fea765",
   "metadata": {},
   "outputs": [
    {
     "ename": "NameError",
     "evalue": "name 'var1' is not defined",
     "output_type": "error",
     "traceback": [
      "\u001b[0;31m---------------------------------------------------------------------------\u001b[0m",
      "\u001b[0;31mNameError\u001b[0m                                 Traceback (most recent call last)",
      "Input \u001b[0;32mIn [219]\u001b[0m, in \u001b[0;36m<cell line: 1>\u001b[0;34m()\u001b[0m\n\u001b[0;32m----> 1\u001b[0m \u001b[38;5;28;01mdel\u001b[39;00m var1,var2\n\u001b[1;32m      2\u001b[0m \u001b[38;5;28mprint\u001b[39m(var1)\n",
      "\u001b[0;31mNameError\u001b[0m: name 'var1' is not defined"
     ]
    }
   ],
   "source": [
    "del var1,var2\n",
    "print(var1)"
   ]
  },
  {
   "cell_type": "markdown",
   "id": "56190af2",
   "metadata": {},
   "source": [
    "## 1. Python 支持三种不同的数值类型"
   ]
  },
  {
   "cell_type": "markdown",
   "id": "2384b8b1",
   "metadata": {},
   "source": [
    "* **整型(int)** - 通常被称为是整型或整数，是正或负整数，不带小数点。Python3 整型是没有限制大小的，可以当作 Long 类型使用，所以 Python3 没有 Python2 的 Long 类型。布尔(bool)是整型的子类型。\n",
    "\n",
    "\n",
    "* **浮点型(float)** - 浮点型由整数部分与小数部分组成，浮点型也可以使用科学计数法表示（2.5e2 = 2.5 x 10^2 = 250）\n",
    "\n",
    "\n",
    "* **复数( (complex))** - 复数由实数部分和虚数部分构成，可以用a + bj,或者complex(a,b)表示， 复数的实部a和虚部b都是浮点型。\n",
    "    * Python支持复数，复数由实数部分和虚数部分构成，可以用a + bj,或者complex(a,b)表示， 复数的实部a和虚部b都是浮点型。\n",
    "\n",
    "\n",
    "* 我们可以使用十六进制和八进制来代表整数：\n"
   ]
  },
  {
   "cell_type": "code",
   "execution_count": 222,
   "id": "e717a6e6",
   "metadata": {},
   "outputs": [
    {
     "name": "stdout",
     "output_type": "stream",
     "text": [
      "2575 31\n"
     ]
    }
   ],
   "source": [
    "number1 = 0xA0F # 十六进制\n",
    "number2=0o37 # 八进制\n",
    "print(number1,number2)"
   ]
  },
  {
   "cell_type": "markdown",
   "id": "cf7f2d20",
   "metadata": {},
   "source": [
    "### 数学常量"
   ]
  },
  {
   "cell_type": "markdown",
   "id": "b90802c6",
   "metadata": {},
   "source": [
    "|常量|描述|\n",
    "|----|----|\n",
    "|pi| pi（圆周率，一般以π来表示）|\n",
    "|e| e即自然常数（自然常数）｜\n",
    "\n"
   ]
  },
  {
   "cell_type": "markdown",
   "id": "ed18cd89",
   "metadata": {},
   "source": [
    "## 2. 数字类型的cast"
   ]
  },
  {
   "cell_type": "markdown",
   "id": "ef9cfe03",
   "metadata": {},
   "source": [
    "* `int(x)` 将x转换为一个整数。\n",
    "\n",
    "* `float(x)` 将x转换到一个浮点数。\n",
    "\n",
    "* `complex(x)` 将x转换到一个复数，实数部分为 x，虚数部分为 0。\n",
    "\n",
    "* `complex(x, y)` 将 x 和 y 转换到一个复数，实数部分为 x，虚数部分为 y。x 和 y 是数字表达式。"
   ]
  },
  {
   "cell_type": "markdown",
   "id": "81fb0151",
   "metadata": {},
   "source": [
    "### 不同类型的数混合运算时会将整数转换为浮点数（隐式转换）"
   ]
  },
  {
   "cell_type": "markdown",
   "id": "bbbcc76d",
   "metadata": {},
   "source": [
    "## 3. 数学函数\n",
    "* abs(x)  返回数字的绝对值，如abs(-10) 返回 10\n",
    "* ceil(x)  返回数字的上入整数，如math.ceil(4.1) 返回 5\n",
    "* cmp(x, y)  如果 x < y 返回 -1, 如果 x == y 返回 0, 如果 x > y 返回 1。 Python 3 已废弃，使用 (x>y)-(x<y) 替换。\n",
    "* exp(x)  返回e的x次幂(ex),如math.exp(1) 返回2.718281828459045\n",
    "* fabs(x)  返回数字的绝对值，如math.fabs(-10) 返回10.0\n",
    "* floor(x)  返回数字的下舍整数，如math.floor(4.9)返回 4\n",
    "* log(x)  如math.log(math.e)返回1.0,math.log(100,10)返回2.0\n",
    "* log10(x)  返回以10为基数的x的对数，如math.log10(100)返回 2.0\n",
    "* max(x1, x2,...)  返回给定参数的最大值，参数可以为序列。\n",
    "* min(x1, x2,...)  返回给定参数的最小值，参数可以为序列。\n",
    "* modf(x)  返回x的整数部分与小数部分，两部分的数值符号与x相同，整数部分以浮点型表示。\n",
    "* pow(x, y)  x**y 运算后的值。\n",
    "* round(x [,n])  返回浮点数 x 的四舍五入值，如给出 n 值，则代表舍入到小数点后的位数。\n",
    "    * 其实准确的说是保留值将保留到离上一位更近的一端。\n",
    "* sqrt(x)  返回数字x的平方根。"
   ]
  },
  {
   "cell_type": "markdown",
   "id": "8b58a738",
   "metadata": {},
   "source": [
    "## 4. 随机数函数"
   ]
  },
  {
   "cell_type": "markdown",
   "id": "4f00aa17",
   "metadata": {},
   "source": [
    "* choice(seq)  从序列的元素中随机挑选一个元素，比如random.choice(range(10))，从0到9中随机挑选一个整数。\n",
    "* randrange ([start,] stop [,step])  从指定范围内，按指定基数递增的集合中获取一个随机数，基数默认值为 1\n",
    "* random()  随机生成下一个实数，它在[0,1)范围内。\n",
    "* seed([x])  改变随机数生成器的种子seed。如果你不了解其原理，你不必特别去设定seed，Python会帮你选择seed。\n",
    "* shuffle(lst)  将序列的所有元素随机排序\n",
    "* uniform(x, y)  随机生成下一个实数，它在[x,y]范围内。"
   ]
  },
  {
   "cell_type": "markdown",
   "id": "3d999857",
   "metadata": {},
   "source": [
    "## 5. 三角函数\n",
    "acos(x)\t返回x的反余弦弧度值。\n",
    "asin(x)\t返回x的反正弦弧度值。\n",
    "atan(x)\t返回x的反正切弧度值。\n",
    "atan2(y, x)\t返回给定的 X 及 Y 坐标值的反正切值。\n",
    "cos(x)\t返回x的弧度的余弦值。\n",
    "hypot(x, y)\t返回欧几里德范数 sqrt(x*x + y*y)。\n",
    "sin(x)\t返回的x弧度的正弦值。\n",
    "tan(x)\t返回x弧度的正切值。\n",
    "degrees(x)\t将弧度转换为角度,如degrees(math.pi/2) ， 返回90.0\n",
    "radians(x)\t将角度转换为弧度"
   ]
  }
 ],
 "metadata": {
  "kernelspec": {
   "display_name": "Python 3 (ipykernel)",
   "language": "python",
   "name": "python3"
  },
  "language_info": {
   "codemirror_mode": {
    "name": "ipython",
    "version": 3
   },
   "file_extension": ".py",
   "mimetype": "text/x-python",
   "name": "python",
   "nbconvert_exporter": "python",
   "pygments_lexer": "ipython3",
   "version": "3.9.12"
  }
 },
 "nbformat": 4,
 "nbformat_minor": 5
}
