{
 "cells": [
  {
   "cell_type": "markdown",
   "id": "ab8454fa",
   "metadata": {},
   "source": [
    "# Tuple"
   ]
  },
  {
   "cell_type": "markdown",
   "id": "6e13f7f5",
   "metadata": {},
   "source": [
    "## 1. 创建Tuple"
   ]
  },
  {
   "cell_type": "markdown",
   "id": "d1cf60e9",
   "metadata": {},
   "source": [
    "### Tuple vs List\n",
    "* 潜规则： tuple来装不同的数据类型， list装相同的数据类型\n",
    "* 遍历tuple比便利list快很多\n",
    "* 如果\n",
    "\n",
    "\n"
   ]
  },
  {
   "cell_type": "markdown",
   "id": "93bad256",
   "metadata": {},
   "source": [
    "1. Python 的元组与列表类似，不同之处在于元组的元素不能修改。\n",
    "    * 可包含不同数据结构，可以nested \n",
    "2. 元组使用小括号 ( )，列表使用方括号 [ ]。\n",
    "3. 元组创建很简单，只需要在括号中添加元素，并使用逗号隔开即可。\n",
    "    * python 真正识别的是逗号不是括号"
   ]
  },
  {
   "cell_type": "code",
   "execution_count": 1,
   "id": "985f0087",
   "metadata": {},
   "outputs": [],
   "source": [
    "tuple1 = \"google\",\"Runoob\",1993,2023"
   ]
  },
  {
   "cell_type": "markdown",
   "id": "d02e5770",
   "metadata": {},
   "source": [
    "### 元组中只包含一个元素时，需要添加逗号，不然会被当作运算符"
   ]
  },
  {
   "cell_type": "code",
   "execution_count": 2,
   "id": "e1274298",
   "metadata": {},
   "outputs": [
    {
     "data": {
      "text/plain": [
       "int"
      ]
     },
     "execution_count": 2,
     "metadata": {},
     "output_type": "execute_result"
    }
   ],
   "source": [
    "tuple2 = (50)\n",
    "type(tuple2)"
   ]
  },
  {
   "cell_type": "code",
   "execution_count": 51,
   "id": "94a1ee66",
   "metadata": {},
   "outputs": [
    {
     "data": {
      "text/plain": [
       "tuple"
      ]
     },
     "execution_count": 51,
     "metadata": {},
     "output_type": "execute_result"
    }
   ],
   "source": [
    "tuple3 = 50,\n",
    "type(tuple3)"
   ]
  },
  {
   "cell_type": "markdown",
   "id": "4b3123ec",
   "metadata": {},
   "source": [
    "### 删除tuple"
   ]
  },
  {
   "cell_type": "code",
   "execution_count": 53,
   "id": "2600593c",
   "metadata": {},
   "outputs": [
    {
     "ename": "NameError",
     "evalue": "name 'tuple3' is not defined",
     "output_type": "error",
     "traceback": [
      "\u001b[0;31m---------------------------------------------------------------------------\u001b[0m",
      "\u001b[0;31mNameError\u001b[0m                                 Traceback (most recent call last)",
      "Input \u001b[0;32mIn [53]\u001b[0m, in \u001b[0;36m<cell line: 1>\u001b[0;34m()\u001b[0m\n\u001b[0;32m----> 1\u001b[0m \u001b[38;5;28;01mdel\u001b[39;00m tuple3\n\u001b[1;32m      2\u001b[0m \u001b[38;5;28mprint\u001b[39m(tuple3)\n",
      "\u001b[0;31mNameError\u001b[0m: name 'tuple3' is not defined"
     ]
    }
   ],
   "source": [
    "del tuple3 # 从内存上删掉\n",
    "print(tuple3)"
   ]
  },
  {
   "cell_type": "code",
   "execution_count": null,
   "id": "8c5723ed",
   "metadata": {},
   "outputs": [],
   "source": []
  },
  {
   "cell_type": "markdown",
   "id": "d7824f32",
   "metadata": {},
   "source": [
    "## 2. Tuple VS List"
   ]
  },
  {
   "cell_type": "markdown",
   "id": "77cb8dd0",
   "metadata": {},
   "source": [
    "* List变换经常造成事故，所以tuple尤为重要\n",
    "    * tuple是不可变对象（object）\n",
    "    * 给一个变量赋值！=可变对象\n",
    "* 能修改tuple里的list，不能修改list里的tuple\n"
   ]
  },
  {
   "cell_type": "code",
   "execution_count": 5,
   "id": "1b9fc4e9",
   "metadata": {},
   "outputs": [
    {
     "ename": "TypeError",
     "evalue": "'tuple' object does not support item assignment",
     "output_type": "error",
     "traceback": [
      "\u001b[0;31m---------------------------------------------------------------------------\u001b[0m",
      "\u001b[0;31mTypeError\u001b[0m                                 Traceback (most recent call last)",
      "Input \u001b[0;32mIn [5]\u001b[0m, in \u001b[0;36m<cell line: 2>\u001b[0;34m()\u001b[0m\n\u001b[1;32m      1\u001b[0m \u001b[38;5;66;03m# 1. tuple不可变\u001b[39;00m\n\u001b[0;32m----> 2\u001b[0m tuple1[\u001b[38;5;241m0\u001b[39m] \u001b[38;5;241m=\u001b[39m \u001b[38;5;241m1\u001b[39m\n",
      "\u001b[0;31mTypeError\u001b[0m: 'tuple' object does not support item assignment"
     ]
    }
   ],
   "source": [
    "# 1. tuple不可变\n",
    "tuple1[0] = 1\n",
    "# TypeError: 'tuple' object does not support item assignment"
   ]
  },
  {
   "cell_type": "code",
   "execution_count": 7,
   "id": "8efd8c12",
   "metadata": {},
   "outputs": [
    {
     "data": {
      "text/plain": [
       "('白龙马', ['唐僧', '孙悟空', '猪八戒', '沙和尚'])"
      ]
     },
     "execution_count": 7,
     "metadata": {},
     "output_type": "execute_result"
    }
   ],
   "source": [
    "# tuple 里的 list 可改\n",
    "trueF4 = ['唐僧','孙悟空','猪八戒','沙和尚']\n",
    "team = ('白龙马',trueF4)\n",
    "team"
   ]
  },
  {
   "cell_type": "code",
   "execution_count": 11,
   "id": "48dd4fed",
   "metadata": {},
   "outputs": [
    {
     "data": {
      "text/plain": [
       "140405168404608"
      ]
     },
     "execution_count": 11,
     "metadata": {},
     "output_type": "execute_result"
    }
   ],
   "source": [
    "id(team) # team的内存地址"
   ]
  },
  {
   "cell_type": "code",
   "execution_count": 19,
   "id": "f9662776",
   "metadata": {},
   "outputs": [
    {
     "name": "stdout",
     "output_type": "stream",
     "text": [
      "140405168548416\n",
      "140405168548416\n",
      "140405168548416\n"
     ]
    }
   ],
   "source": [
    "#eg\n",
    "list1 = [0,1]\n",
    "print(id(list1))\n",
    "\n",
    "list1.append(2)\n",
    "print(id(list1))\n",
    "\n",
    "list1[0] = 1\n",
    "print(id(list1))"
   ]
  },
  {
   "cell_type": "code",
   "execution_count": 17,
   "id": "614253fb",
   "metadata": {},
   "outputs": [
    {
     "data": {
      "text/plain": [
       "140404638074944"
      ]
     },
     "execution_count": 17,
     "metadata": {},
     "output_type": "execute_result"
    }
   ],
   "source": [
    "id(team[1]) # list内存地址"
   ]
  },
  {
   "cell_type": "code",
   "execution_count": 18,
   "id": "f311f923",
   "metadata": {},
   "outputs": [
    {
     "data": {
      "text/plain": [
       "140405168618640"
      ]
     },
     "execution_count": 18,
     "metadata": {},
     "output_type": "execute_result"
    }
   ],
   "source": [
    "id(team[0]) # 白龙马内存地址"
   ]
  },
  {
   "cell_type": "code",
   "execution_count": 20,
   "id": "ab716586",
   "metadata": {},
   "outputs": [],
   "source": [
    "team[1][3] = \"沙悟净\" #可以"
   ]
  },
  {
   "cell_type": "markdown",
   "id": "877211e8",
   "metadata": {},
   "source": [
    "### 关于元组是不可变的\n",
    "所谓元组的不可变指的是元组所指向的内存中的内容不可变。"
   ]
  },
  {
   "cell_type": "code",
   "execution_count": 63,
   "id": "62fc5f27",
   "metadata": {},
   "outputs": [
    {
     "ename": "TypeError",
     "evalue": "'tuple' object does not support item assignment",
     "output_type": "error",
     "traceback": [
      "\u001b[0;31m---------------------------------------------------------------------------\u001b[0m",
      "\u001b[0;31mTypeError\u001b[0m                                 Traceback (most recent call last)",
      "Input \u001b[0;32mIn [63]\u001b[0m, in \u001b[0;36m<cell line: 2>\u001b[0;34m()\u001b[0m\n\u001b[1;32m      1\u001b[0m tup \u001b[38;5;241m=\u001b[39m (\u001b[38;5;124m'\u001b[39m\u001b[38;5;124mr\u001b[39m\u001b[38;5;124m'\u001b[39m, \u001b[38;5;124m'\u001b[39m\u001b[38;5;124mu\u001b[39m\u001b[38;5;124m'\u001b[39m, \u001b[38;5;124m'\u001b[39m\u001b[38;5;124mn\u001b[39m\u001b[38;5;124m'\u001b[39m, \u001b[38;5;124m'\u001b[39m\u001b[38;5;124mo\u001b[39m\u001b[38;5;124m'\u001b[39m, \u001b[38;5;124m'\u001b[39m\u001b[38;5;124mo\u001b[39m\u001b[38;5;124m'\u001b[39m, \u001b[38;5;124m'\u001b[39m\u001b[38;5;124mb\u001b[39m\u001b[38;5;124m'\u001b[39m)\n\u001b[0;32m----> 2\u001b[0m tup[\u001b[38;5;241m0\u001b[39m] \u001b[38;5;241m=\u001b[39m \u001b[38;5;124m'\u001b[39m\u001b[38;5;124mg\u001b[39m\u001b[38;5;124m'\u001b[39m\n",
      "\u001b[0;31mTypeError\u001b[0m: 'tuple' object does not support item assignment"
     ]
    }
   ],
   "source": [
    "tup = ('r', 'u', 'n', 'o', 'o', 'b')\n",
    "tup[0] = 'g'     # 不支持修改元素\n",
    "#Traceback (most recent call last):\n",
    "#  File \"<stdin>\", line 1, in <module>\n",
    "#TypeError: 'tuple' object does not support item assignment\n"
   ]
  },
  {
   "cell_type": "code",
   "execution_count": 65,
   "id": "ec11c059",
   "metadata": {},
   "outputs": [
    {
     "name": "stdout",
     "output_type": "stream",
     "text": [
      "140404637587840\n",
      "140405169330688\n"
     ]
    }
   ],
   "source": [
    "print(id(tup))\n",
    "# 查看内存地址\n",
    "tup = (1,2,3)\n",
    "print(id(tup))\n",
    "#4441088800    # 内存地址不一样了"
   ]
  },
  {
   "cell_type": "code",
   "execution_count": null,
   "id": "2b713e57",
   "metadata": {},
   "outputs": [],
   "source": []
  },
  {
   "cell_type": "code",
   "execution_count": null,
   "id": "5b59d075",
   "metadata": {},
   "outputs": [],
   "source": []
  },
  {
   "cell_type": "markdown",
   "id": "db9ef1eb",
   "metadata": {},
   "source": [
    "## 3. tuple的 packing and unpacking 打包和拆包\n",
    "    * string也有该类似功能"
   ]
  },
  {
   "cell_type": "code",
   "execution_count": 22,
   "id": "e7f6bbfc",
   "metadata": {},
   "outputs": [
    {
     "name": "stdout",
     "output_type": "stream",
     "text": [
      "1 2 3\n"
     ]
    }
   ],
   "source": [
    "a = 1,2,3\n",
    "a,b,c = a\n",
    "print(a,b,c)\n",
    "print(a)"
   ]
  },
  {
   "cell_type": "code",
   "execution_count": 27,
   "id": "f6f68f6e",
   "metadata": {},
   "outputs": [
    {
     "name": "stdout",
     "output_type": "stream",
     "text": [
      "1\n",
      "[2, 3]\n"
     ]
    }
   ],
   "source": [
    "a = 1,2,3\n",
    "a,*b = a\n",
    "print(a)\n",
    "print(b)"
   ]
  },
  {
   "cell_type": "code",
   "execution_count": 28,
   "id": "b5775c63",
   "metadata": {},
   "outputs": [
    {
     "name": "stdout",
     "output_type": "stream",
     "text": [
      "(1, [2, 3])\n"
     ]
    }
   ],
   "source": [
    "a = a,b\n",
    "print(a)"
   ]
  },
  {
   "cell_type": "code",
   "execution_count": 25,
   "id": "dc9a37f2",
   "metadata": {},
   "outputs": [
    {
     "data": {
      "text/plain": [
       "(1, [2, 3])"
      ]
     },
     "execution_count": 25,
     "metadata": {},
     "output_type": "execute_result"
    }
   ],
   "source": []
  },
  {
   "cell_type": "markdown",
   "id": "5b7e4fde",
   "metadata": {},
   "source": [
    "## 4. Tuple运算符\n",
    "* 和string list 一样`+` `+=` `*`"
   ]
  },
  {
   "cell_type": "code",
   "execution_count": 29,
   "id": "17159143",
   "metadata": {},
   "outputs": [
    {
     "data": {
      "text/plain": [
       "2"
      ]
     },
     "execution_count": 29,
     "metadata": {},
     "output_type": "execute_result"
    }
   ],
   "source": [
    "len((1,2))"
   ]
  },
  {
   "cell_type": "code",
   "execution_count": 30,
   "id": "0c485546",
   "metadata": {},
   "outputs": [
    {
     "data": {
      "text/plain": [
       "(1, 2, 3, 'a', 'b', 'c')"
      ]
     },
     "execution_count": 30,
     "metadata": {},
     "output_type": "execute_result"
    }
   ],
   "source": [
    "a = (1,2,3)\n",
    "b = \"a\",\"b\",\"c\"\n",
    "\n",
    "c = a + b\n",
    "c"
   ]
  },
  {
   "cell_type": "code",
   "execution_count": 33,
   "id": "5153c287",
   "metadata": {},
   "outputs": [
    {
     "data": {
      "text/plain": [
       "(1, 2, 3, 'a', 'b', 'c')"
      ]
     },
     "execution_count": 33,
     "metadata": {},
     "output_type": "execute_result"
    }
   ],
   "source": [
    "a = (1,2,3)\n",
    "b = \"a\",\"b\",\"c\"\n",
    "\n",
    "a += b\n",
    "\n",
    "a"
   ]
  },
  {
   "cell_type": "code",
   "execution_count": 36,
   "id": "13ec0582",
   "metadata": {},
   "outputs": [
    {
     "data": {
      "text/plain": [
       "('a', 'a', 'a', 'a')"
      ]
     },
     "execution_count": 36,
     "metadata": {},
     "output_type": "execute_result"
    }
   ],
   "source": [
    "tuple3 = (\"a\",)*4\n",
    "tuple3"
   ]
  },
  {
   "cell_type": "code",
   "execution_count": 39,
   "id": "a60a828f",
   "metadata": {},
   "outputs": [
    {
     "name": "stdout",
     "output_type": "stream",
     "text": [
      "1 2 3 "
     ]
    }
   ],
   "source": [
    "for i in (1,2,3):\n",
    "    print(i,end = \" \")\n"
   ]
  },
  {
   "cell_type": "markdown",
   "id": "22b1341e",
   "metadata": {},
   "source": [
    "## 5. 索引index 和切片slicing"
   ]
  },
  {
   "cell_type": "code",
   "execution_count": 41,
   "id": "ca14626b",
   "metadata": {},
   "outputs": [
    {
     "data": {
      "text/plain": [
       "(1, 2, 3, 4, 5)"
      ]
     },
     "execution_count": 41,
     "metadata": {},
     "output_type": "execute_result"
    }
   ],
   "source": [
    "a = tuple(range(1,6))\n",
    "a"
   ]
  },
  {
   "cell_type": "markdown",
   "id": "80b36319",
   "metadata": {},
   "source": [
    "### 5.1 index"
   ]
  },
  {
   "cell_type": "markdown",
   "id": "a009fcca",
   "metadata": {},
   "source": [
    "* a 每个元素的索引：0 1 2 3 4 \n",
    "    * 逆：-1 -2 -3 -4 -5\n",
    "* 和 string list 一样可逆"
   ]
  },
  {
   "cell_type": "code",
   "execution_count": 43,
   "id": "57e57c4f",
   "metadata": {},
   "outputs": [
    {
     "name": "stdout",
     "output_type": "stream",
     "text": [
      "1 2 3 4 5\n",
      "5 4 3 2 1\n"
     ]
    }
   ],
   "source": [
    "print(a[0],a[1],a[2],a[3],a[4])\n",
    "print(a[-1],a[-2],a[-3],a[-4],a[-5])"
   ]
  },
  {
   "cell_type": "markdown",
   "id": "7e4c0092",
   "metadata": {},
   "source": [
    "### 5.2 切片slicing - 按光标位置截取"
   ]
  },
  {
   "cell_type": "markdown",
   "id": "f7bb0354",
   "metadata": {},
   "source": [
    "* 光标索引分别为： 0 `1` 1 `2` 2 `3` 3 `4` 4 `5` 5 \n",
    "* 光标索引分别为：0 1 2 3 4 5 （五个元素 六个索引）\n",
    "* 可逆: -5 `1` -4 `2` -3 `3` -2 `4` -1 `5` 0"
   ]
  },
  {
   "cell_type": "code",
   "execution_count": 47,
   "id": "169b061f",
   "metadata": {},
   "outputs": [
    {
     "data": {
      "text/plain": [
       "(1, 3, 5)"
      ]
     },
     "execution_count": 47,
     "metadata": {},
     "output_type": "execute_result"
    }
   ],
   "source": [
    "a[::2]"
   ]
  },
  {
   "cell_type": "code",
   "execution_count": 48,
   "id": "ea6e5fce",
   "metadata": {},
   "outputs": [
    {
     "data": {
      "text/plain": [
       "(5, 4)"
      ]
     },
     "execution_count": 48,
     "metadata": {},
     "output_type": "execute_result"
    }
   ],
   "source": [
    "a[:2:-1]"
   ]
  },
  {
   "cell_type": "markdown",
   "id": "30e1fa24",
   "metadata": {},
   "source": [
    "## 6. tuple 相关的函数"
   ]
  },
  {
   "cell_type": "markdown",
   "id": "f30069cd",
   "metadata": {},
   "source": [
    "* `tuple( )` 某些其他数据转为tuple，example: list\n",
    "\n",
    "    * 将可迭代系列转换为元组：An iterable is any Python object capable of returning its members one at a time, permitting it to be iterated over in a for-loop.\n",
    "    * Note:“Under the hood”, an iterable is any Python object with an `__iter__()` method or with a `__getitem__()` method that implements `Sequence` semantics. These details will become salient if you read through the Object Oriented Programming module.\n",
    "\n",
    "* `zip( )` 比较特殊 \n",
    "* 等等\n"
   ]
  },
  {
   "cell_type": "code",
   "execution_count": 54,
   "id": "808c102b",
   "metadata": {},
   "outputs": [
    {
     "data": {
      "text/plain": [
       "('a', 'b', 'c')"
      ]
     },
     "execution_count": 54,
     "metadata": {},
     "output_type": "execute_result"
    }
   ],
   "source": [
    "a = tuple(\"abc\")\n",
    "a"
   ]
  },
  {
   "cell_type": "code",
   "execution_count": 56,
   "id": "63684b1f",
   "metadata": {},
   "outputs": [
    {
     "data": {
      "text/plain": [
       "()"
      ]
     },
     "execution_count": 56,
     "metadata": {},
     "output_type": "execute_result"
    }
   ],
   "source": [
    "b = tuple()\n",
    "b"
   ]
  },
  {
   "cell_type": "code",
   "execution_count": 59,
   "id": "934c5e31",
   "metadata": {},
   "outputs": [
    {
     "data": {
      "text/plain": [
       "(1, 2, 3)"
      ]
     },
     "execution_count": 59,
     "metadata": {},
     "output_type": "execute_result"
    }
   ],
   "source": [
    "c = tuple([1,2,3])\n",
    "c"
   ]
  },
  {
   "cell_type": "code",
   "execution_count": 61,
   "id": "a7016a3d",
   "metadata": {},
   "outputs": [
    {
     "data": {
      "text/plain": [
       "(3, 6, 9, 12, 15, 18)"
      ]
     },
     "execution_count": 61,
     "metadata": {},
     "output_type": "execute_result"
    }
   ],
   "source": [
    "d = tuple(range(3,19,3))\n",
    "d"
   ]
  },
  {
   "cell_type": "markdown",
   "id": "281e3b42",
   "metadata": {},
   "source": [
    "## 7. tuple 的method"
   ]
  },
  {
   "cell_type": "markdown",
   "id": "8250621e",
   "metadata": {},
   "source": [
    "* `tuple.index()` 某些其他数据转为tuple，example: list\n",
    "* `tuple.count()` 比较特殊 \n",
    "* 等等\n"
   ]
  },
  {
   "cell_type": "code",
   "execution_count": null,
   "id": "8240f222",
   "metadata": {},
   "outputs": [],
   "source": []
  }
 ],
 "metadata": {
  "kernelspec": {
   "display_name": "Python 3 (ipykernel)",
   "language": "python",
   "name": "python3"
  },
  "language_info": {
   "codemirror_mode": {
    "name": "ipython",
    "version": 3
   },
   "file_extension": ".py",
   "mimetype": "text/x-python",
   "name": "python",
   "nbconvert_exporter": "python",
   "pygments_lexer": "ipython3",
   "version": "3.9.12"
  }
 },
 "nbformat": 4,
 "nbformat_minor": 5
}
