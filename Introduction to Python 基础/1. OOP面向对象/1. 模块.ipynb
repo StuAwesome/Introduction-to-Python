{
 "cells": [
  {
   "cell_type": "markdown",
   "id": "be02b1be",
   "metadata": {},
   "source": [
    "# 模块 Module"
   ]
  },
  {
   "cell_type": "markdown",
   "id": "98734842",
   "metadata": {},
   "source": [
    "* 是一个python文件，以.py结尾。\n",
    "* 模块里可以有`function` `class` `variable` and `可执行代码`。\n",
    "* 导入后 `模块名.功能名`"
   ]
  },
  {
   "cell_type": "markdown",
   "id": "552ce307",
   "metadata": {},
   "source": [
    "```python\n",
    "[from 模块名] import[模块|class| variable| function|*][as 别名]\n",
    "```\n",
    "* 有from时，调用方式有所不同"
   ]
  },
  {
   "cell_type": "code",
   "execution_count": 3,
   "id": "db882ed4",
   "metadata": {},
   "outputs": [
    {
     "name": "stdout",
     "output_type": "stream",
     "text": [
      "1\n",
      "2\n"
     ]
    }
   ],
   "source": [
    "import time\n",
    "# 导入time.py代码文件\n",
    "# 学习可以看源代码 ctrl+鼠标左键 In pycharm IDE\n",
    "print(1)\n",
    "time.sleep(5)\n",
    "print(2)"
   ]
  },
  {
   "cell_type": "markdown",
   "id": "b9ca7d79",
   "metadata": {},
   "source": [
    "\n",
    "`from module import function`\n",
    "`from module import *`\n",
    "\n",
    "`function()`# 直接调用"
   ]
  },
  {
   "cell_type": "markdown",
   "id": "d483611a",
   "metadata": {},
   "source": [
    "# 自定义模块\n",
    "* 不同模块 有同名方法 调用最后 import 的 module\n",
    "* `__name__`的使用`__main__`\n",
    "* `__all__`"
   ]
  },
  {
   "cell_type": "code",
   "execution_count": null,
   "id": "c1b9fe46",
   "metadata": {},
   "outputs": [],
   "source": [
    "from module1 import same_name_function\n",
    "from module2 import same_name_function\n",
    "same_name_function() "
   ]
  },
  {
   "cell_type": "markdown",
   "id": "fb6860e2",
   "metadata": {},
   "source": [
    "* 内置变量`__main__`：当我们运行此.py文件时，内置变量`__name__`会赋值`__main__`\n",
    "* 当我们import 此.py 文件，`__name__`不会是`__main__`\n",
    "\n",
    "\n",
    "* 因此我们用`if __name__ == \"__main__\":`将.py文件导入时不想执行的代码放入，会运行其他所有代码"
   ]
  },
  {
   "cell_type": "code",
   "execution_count": 6,
   "id": "58d30c97",
   "metadata": {},
   "outputs": [
    {
     "name": "stdout",
     "output_type": "stream",
     "text": [
      "3\n"
     ]
    }
   ],
   "source": [
    "# my_module.py\n",
    "def test(a,b):\n",
    "    print(a+b)\n",
    "if __name__ == \"__main__\":\n",
    "    test(1,2)"
   ]
  },
  {
   "cell_type": "code",
   "execution_count": null,
   "id": "92e0eadb",
   "metadata": {},
   "outputs": [],
   "source": [
    "import my_module\n",
    "# 并没有执行test"
   ]
  },
  {
   "cell_type": "markdown",
   "id": "3964ffed",
   "metadata": {},
   "source": [
    "## `__all__`：只作用在 `*` 上\n",
    "* 如果.py文件中有`__all__`变量，当使用`import *`时，只能导入这个`__all__`里的元素"
   ]
  },
  {
   "cell_type": "code",
   "execution_count": null,
   "id": "a110212f",
   "metadata": {},
   "outputs": [],
   "source": [
    "# my_module2\n",
    "__all__ = ['test1']# 只有一个元素 test1\n",
    "\n",
    "def test1():\n",
    "    print(1)\n",
    "    \n",
    "def test2():\n",
    "    print(2)\n",
    "    "
   ]
  },
  {
   "cell_type": "code",
   "execution_count": null,
   "id": "8e960c98",
   "metadata": {},
   "outputs": [],
   "source": [
    "import my_module2\n",
    "# 只能使用__all__里的元素"
   ]
  },
  {
   "cell_type": "code",
   "execution_count": null,
   "id": "b00c383d",
   "metadata": {},
   "outputs": [],
   "source": []
  }
 ],
 "metadata": {
  "kernelspec": {
   "display_name": "Python 3 (ipykernel)",
   "language": "python",
   "name": "python3"
  },
  "language_info": {
   "codemirror_mode": {
    "name": "ipython",
    "version": 3
   },
   "file_extension": ".py",
   "mimetype": "text/x-python",
   "name": "python",
   "nbconvert_exporter": "python",
   "pygments_lexer": "ipython3",
   "version": "3.9.13"
  }
 },
 "nbformat": 4,
 "nbformat_minor": 5
}
