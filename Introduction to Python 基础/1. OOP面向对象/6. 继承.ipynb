{
 "cells": [
  {
   "cell_type": "markdown",
   "id": "efa4e5ea",
   "metadata": {},
   "source": [
    "# 继承"
   ]
  },
  {
   "cell_type": "markdown",
   "id": "095b1830",
   "metadata": {},
   "source": [
    "* 子类（派生类 DerivedClassName）会继承父类（基类 BaseClassName）的属性和方法。\n",
    "```python\n",
    "class DerivedClassName(BaseClassName):\n",
    "    <statement-1>\n",
    "    .\n",
    "    .\n",
    "    .\n",
    "    <statement-N>\n",
    "```\n",
    "* **NOTE:**\n",
    "    1. 子类如何调用父类的方法\n",
    "    2. method重写\n",
    "        * 如果你的父类方法的功能不能满足你的需求，你可以在子类重写你父类的方法\n",
    "    3. 单继承 VS 多继承"
   ]
  },
  {
   "cell_type": "markdown",
   "id": "53c0e9f5",
   "metadata": {},
   "source": [
    "## 1. 单继承"
   ]
  },
  {
   "cell_type": "code",
   "execution_count": 3,
   "id": "be5a0862",
   "metadata": {},
   "outputs": [],
   "source": [
    "# 类定义\n",
    "class people:\n",
    "    # 1. 定义类的属性\n",
    "    name = ''\n",
    "    age = 0\n",
    "    # 2. 定义私有属性,私有属性在类外部无法直接进行访问\n",
    "    __weight = 0\n",
    "    # 3. 定义构造方法\n",
    "    def __init__(self,n,a,w):\n",
    "        self.name = n\n",
    "        self.age = a\n",
    "        self.__weight = w\n",
    "        \n",
    "    # 4. 定义公有方法\n",
    "    def speak(self):\n",
    "        print(\"%s 说: 我 %d 岁。\" %(self.name,self.age))\n",
    "        \n",
    "\n",
    "# 单继承\n",
    "class student(people):\n",
    "    \n",
    "    # 1. 定义继承类的属性\n",
    "        # 自动继承父类的属性\n",
    "    grade = ''\n",
    "    \n",
    "    \n",
    "    \n",
    "    # 2. 定义构造方法，内部调用父类函数方便改写\n",
    "    def __init__(self,n,a,w,g):\n",
    "        \n",
    "        # self.name = n\n",
    "        # self.age = a\n",
    "        # self.__weight = w\n",
    "        \n",
    "        #调用父类的构函 （上面三行就可以不写了）\n",
    "        people.__init__(self,n,a,w)\n",
    "        self.grade = g\n",
    "        \n",
    "        \n",
    "    #覆写父类的方法\n",
    "    def speak(self):\n",
    "        print(\"%s 说: 我 %d 岁了，我在读 %d 年级\"%(self.name,self.age,self.grade))"
   ]
  },
  {
   "cell_type": "code",
   "execution_count": 4,
   "id": "526ab999",
   "metadata": {},
   "outputs": [
    {
     "name": "stdout",
     "output_type": "stream",
     "text": [
      "stu 说: 我 25 岁了，我在读 13 年级\n"
     ]
    }
   ],
   "source": [
    "stu = student(\"stu\",25,100,13)\n",
    "student.speak(stu) # 第二种调用method的方法 class.method(instance)"
   ]
  },
  {
   "cell_type": "code",
   "execution_count": 5,
   "id": "9fda585d",
   "metadata": {},
   "outputs": [
    {
     "name": "stdout",
     "output_type": "stream",
     "text": [
      "stu 说: 我 25 岁。\n"
     ]
    }
   ],
   "source": [
    "# 调用父类方法\n",
    "super(student,stu).speak()"
   ]
  },
  {
   "cell_type": "markdown",
   "id": "06a862c8",
   "metadata": {},
   "source": [
    "## 2. 多继承"
   ]
  },
  {
   "cell_type": "markdown",
   "id": "43c9ef8c",
   "metadata": {},
   "source": [
    "* 需要注意圆括号中父类的顺序，若是父类中有相同的方法名，而在子类使用时未指定(重写)，\n",
    "* python从左至右搜索 即变量or方法在子类中未找到时，从左到右查找父类中是否包含方法。\n",
    "\n",
    "```python\n",
    "class DerivedClassName(Base1, Base2, Base3):\n",
    "    <statement-1>\n",
    "    .\n",
    "    .\n",
    "    .\n",
    "    <statement-N>\n",
    "```"
   ]
  },
  {
   "cell_type": "code",
   "execution_count": 7,
   "id": "fe393a1f",
   "metadata": {},
   "outputs": [
    {
     "name": "stdout",
     "output_type": "stream",
     "text": [
      "我叫 Tim，我是一个演说家，我演讲的主题是 Python\n"
     ]
    }
   ],
   "source": [
    "class people:\n",
    "    #定义基本属性\n",
    "    name = ''\n",
    "    age = 0\n",
    "    #定义私有属性,私有属性在类外部无法直接进行访问\n",
    "    __weight = 0\n",
    "    #定义构造方法\n",
    "    def __init__(self,n,a,w):\n",
    "        self.name = n\n",
    "        self.age = a\n",
    "        self.__weight = w\n",
    "    def speak(self):\n",
    "        print(\"%s 说: 我 %d 岁。\" %(self.name,self.age))\n",
    "\n",
    "        \n",
    "# 1. 单继承\n",
    "class student(people):\n",
    "    grade = ''\n",
    "    def __init__(self,n,a,w,g):\n",
    "        #调用父类的构函\n",
    "        people.__init__(self,n,a,w)\n",
    "        self.grade = g\n",
    "    #覆写父类的方法\n",
    "    def speak(self):\n",
    "        print(\"%s 说: 我 %d 岁了，我在读 %d 年级\"%(self.name,self.age,self.grade))\n",
    "        \n",
    "        \n",
    "        \n",
    "        \n",
    "        \n",
    "\n",
    "# 2. 另一个类，多重继承之前的准备\n",
    "class speaker():\n",
    "    topic = ''\n",
    "    name = ''\n",
    "    def __init__(self,n,t):\n",
    "        self.name = n\n",
    "        self.topic = t\n",
    "    def speak(self):\n",
    "        print(\"我叫 %s，我是一个演说家，我演讲的主题是 %s\"%(self.name,self.topic))\n",
    "        \n",
    "        \n",
    "        \n",
    "        \n",
    "        \n",
    "\n",
    "#3. 多重继承\n",
    "class sample(speaker,student):\n",
    "    a =''\n",
    "    def __init__(self,n,a,w,g,t):\n",
    "        student.__init__(self,n,a,w,g)\n",
    "        speaker.__init__(self,n,t)\n",
    "\n",
    "test = sample(\"Tim\",25,80,4,\"Python\")\n",
    "test.speak()   #方法名同，默认调用的是在括号中参数位置排前父类的方法"
   ]
  },
  {
   "cell_type": "code",
   "execution_count": 8,
   "id": "46b002f6",
   "metadata": {},
   "outputs": [
    {
     "name": "stdout",
     "output_type": "stream",
     "text": [
      "我是个演说家，也是个学生\n"
     ]
    }
   ],
   "source": [
    "#3. 多重继承 重写方法\n",
    "class sample(speaker,student):\n",
    "    a =''\n",
    "    def __init__(self,n,a,w,g,t):\n",
    "        student.__init__(self,n,a,w,g)\n",
    "        speaker.__init__(self,n,t)\n",
    "    def speak(self):\n",
    "        print(\"我是个演说家，也是个学生\")\n",
    "test = sample(\"Tim\",25,80,4,\"Python\")\n",
    "test.speak()   #方法名同，默认调用的是在括号中参数位置排前父类的方法"
   ]
  },
  {
   "cell_type": "markdown",
   "id": "6900af1b",
   "metadata": {},
   "source": [
    "# 复写父类成员\n",
    "1. 掌握复写复类成员的语法\n",
    "2. 掌握如何在子类调用"
   ]
  },
  {
   "cell_type": "markdown",
   "id": "9a1ba06a",
   "metadata": {},
   "source": [
    "## 1. 子类继承父类的成员属性\n",
    "* 对其\"不满意\"，可以进行复写"
   ]
  },
  {
   "cell_type": "code",
   "execution_count": 9,
   "id": "bf03d0ee",
   "metadata": {},
   "outputs": [],
   "source": [
    "class phone:\n",
    "    producer = \"ITcast\"\n",
    "    def by_5g(self):\n",
    "        print(\"父类的5g通话\")\n",
    "        \n",
    "class Myphone(phone):\n",
    "    producer = \"Apple\"\n",
    "    def by_5g(self):\n",
    "        print(\"子类的5g通话\")\n",
    "        \n",
    "phone1 = Myphone()"
   ]
  },
  {
   "cell_type": "code",
   "execution_count": 15,
   "id": "1fd9896f",
   "metadata": {},
   "outputs": [
    {
     "data": {
      "text/plain": [
       "'Apple'"
      ]
     },
     "execution_count": 15,
     "metadata": {},
     "output_type": "execute_result"
    }
   ],
   "source": [
    "phone1.producer"
   ]
  },
  {
   "cell_type": "code",
   "execution_count": 14,
   "id": "fdf553f2",
   "metadata": {},
   "outputs": [
    {
     "name": "stdout",
     "output_type": "stream",
     "text": [
      "子类的5g通话\n"
     ]
    }
   ],
   "source": [
    "phone1.by_5g()"
   ]
  },
  {
   "cell_type": "markdown",
   "id": "0500a7a4",
   "metadata": {},
   "source": [
    "## 2. 调用父类成员"
   ]
  },
  {
   "cell_type": "markdown",
   "id": "4091e908",
   "metadata": {},
   "source": [
    "1. 方法一：\n",
    "    * 父类成员变量：父类名.成员变量\n",
    "    * 父类成员方法：父类名.成员方法（self）\n",
    "2. 方法二：\n",
    "    * super().成员变量\n",
    "    * super().成员方法()"
   ]
  },
  {
   "cell_type": "code",
   "execution_count": 20,
   "id": "415645f8",
   "metadata": {},
   "outputs": [
    {
     "name": "stdout",
     "output_type": "stream",
     "text": [
      "父类的厂商是ITcast\n",
      "子类的5g通话\n",
      "父类的5g通话\n"
     ]
    }
   ],
   "source": [
    "# 方法一\n",
    "# phone1.producer\n",
    "\n",
    "class phone:\n",
    "    producer = \"ITcast\"\n",
    "    def by_5g(self):\n",
    "        print(\"父类的5g通话\")\n",
    "        \n",
    "class Myphone(phone):\n",
    "    producer = \"Apple\"\n",
    "    \n",
    "    def by_5g(self):\n",
    "        print(f\"父类的厂商是{phone.producer}\")\n",
    "        # 父类成员变量：父类名.成员变量\n",
    "        print(\"子类的5g通话\")\n",
    "        phone.by_5g(self) \n",
    "        # 父类成员方法：父类名.成员方法（self）\n",
    "\n",
    "phone_test = Myphone()\n",
    "phone_test.by_5g()"
   ]
  },
  {
   "cell_type": "code",
   "execution_count": 21,
   "id": "baf0ce73",
   "metadata": {},
   "outputs": [
    {
     "name": "stdout",
     "output_type": "stream",
     "text": [
      "父类的厂商是ITcast\n",
      "子类的5g通话\n",
      "父类的5g通话\n"
     ]
    }
   ],
   "source": [
    "# 方法一\n",
    "# phone1.producer\n",
    "\n",
    "class phone:\n",
    "    producer = \"ITcast\"\n",
    "    def by_5g(self):\n",
    "        print(\"父类的5g通话\")\n",
    "        \n",
    "class Myphone(phone):\n",
    "    producer = \"Apple\"\n",
    "    \n",
    "    def by_5g(self):\n",
    "        print(f\"父类的厂商是{super().producer}\")\n",
    "        # 父类成员变量：父类名.成员变量\n",
    "        print(\"子类的5g通话\")\n",
    "        super().by_5g() \n",
    "        # 父类成员方法：父类名.成员方法（）不用写self\n",
    "\n",
    "phone_test = Myphone()\n",
    "phone_test.by_5g()"
   ]
  },
  {
   "cell_type": "code",
   "execution_count": null,
   "id": "cb55eadd",
   "metadata": {},
   "outputs": [],
   "source": []
  }
 ],
 "metadata": {
  "kernelspec": {
   "display_name": "Python 3 (ipykernel)",
   "language": "python",
   "name": "python3"
  },
  "language_info": {
   "codemirror_mode": {
    "name": "ipython",
    "version": 3
   },
   "file_extension": ".py",
   "mimetype": "text/x-python",
   "name": "python",
   "nbconvert_exporter": "python",
   "pygments_lexer": "ipython3",
   "version": "3.9.13"
  }
 },
 "nbformat": 4,
 "nbformat_minor": 5
}
