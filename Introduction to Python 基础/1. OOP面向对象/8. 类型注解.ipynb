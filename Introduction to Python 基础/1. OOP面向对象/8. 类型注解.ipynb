{
 "cells": [
  {
   "cell_type": "markdown",
   "id": "5664e566",
   "metadata": {},
   "source": [
    "# 一 类型注解\n",
    "* 相当于IDE工具知道咱们变量是什么类型\n",
    "* `变量:类型`\n",
    "* `容器:类型`\n",
    "* 一般无法直接看出时，会添加类型注解\n",
    ", 比如`var:student = func()`"
   ]
  },
  {
   "cell_type": "markdown",
   "id": "00bc520d",
   "metadata": {},
   "source": [
    "注意：这只是提示性的，不是决定性的。"
   ]
  },
  {
   "cell_type": "markdown",
   "id": "e277c316",
   "metadata": {},
   "source": [
    "## 1. 基础数据类型"
   ]
  },
  {
   "cell_type": "code",
   "execution_count": 3,
   "id": "d63bc83f",
   "metadata": {},
   "outputs": [],
   "source": [
    "var1:int = 10\n",
    "var2:str = \"\"\n",
    "var3:float = 3.123124\n",
    "var4:bool = True"
   ]
  },
  {
   "cell_type": "markdown",
   "id": "96747ddb",
   "metadata": {},
   "source": [
    "## 2. 类对象注解"
   ]
  },
  {
   "cell_type": "code",
   "execution_count": 6,
   "id": "b4c8249b",
   "metadata": {},
   "outputs": [],
   "source": [
    "class Student:\n",
    "    pass\n",
    "stu:Student = Student()"
   ]
  },
  {
   "cell_type": "markdown",
   "id": "624d4228",
   "metadata": {},
   "source": [
    "## 3. 容器注解"
   ]
  },
  {
   "cell_type": "code",
   "execution_count": 8,
   "id": "8415d6dd",
   "metadata": {},
   "outputs": [],
   "source": [
    "list1:list = [1,2,3]\n",
    "tuple1:tuple = (1,2,3)\n",
    "dict1:dict = {\"stu\":6666}\n",
    "    \n",
    "#\n",
    "list1:list[int] = [1,2,3]\n",
    "tuple1:tuple[int,bool,str] = (1,True,\"sad\")\n",
    "dict1:dict[str,int] = {\"stu\":6666}"
   ]
  },
  {
   "cell_type": "markdown",
   "id": "b3c3e7e5",
   "metadata": {},
   "source": [
    "# 注释中进行类型注解"
   ]
  },
  {
   "cell_type": "code",
   "execution_count": 9,
   "id": "a7ad5bdf",
   "metadata": {},
   "outputs": [],
   "source": [
    "var5 = [\"\",2,True] # type: [str,int,bool]"
   ]
  },
  {
   "cell_type": "markdown",
   "id": "b1e8ed0d",
   "metadata": {},
   "source": [
    "# 二 函数的类型注解\n",
    "1. 对形式参数进行注解\n",
    "2. 对返回值进行注解"
   ]
  },
  {
   "cell_type": "code",
   "execution_count": 12,
   "id": "2be12533",
   "metadata": {},
   "outputs": [
    {
     "ename": "SyntaxError",
     "evalue": "invalid syntax (680510328.py, line 2)",
     "output_type": "error",
     "traceback": [
      "\u001b[0;36m  File \u001b[0;32m\"/var/folders/dq/vyz01f_d6_9554rf0l07d8p00000gn/T/ipykernel_18640/680510328.py\"\u001b[0;36m, line \u001b[0;32m2\u001b[0m\n\u001b[0;31m    def name(variable name : type, var2:type,....):\u001b[0m\n\u001b[0m                      ^\u001b[0m\n\u001b[0;31mSyntaxError\u001b[0m\u001b[0;31m:\u001b[0m invalid syntax\n"
     ]
    }
   ],
   "source": [
    "#对参数类型注解\n",
    "def name(variable name : type, var2:type,....):\n",
    "    pass"
   ]
  },
  {
   "cell_type": "code",
   "execution_count": 11,
   "id": "e8005847",
   "metadata": {},
   "outputs": [],
   "source": [
    "# 对返回值类型注解 \n",
    "def func(var1:list) -> list:\n",
    "    return data"
   ]
  },
  {
   "cell_type": "markdown",
   "id": "5e039331",
   "metadata": {},
   "source": [
    "# 三 Union 类型注解"
   ]
  },
  {
   "cell_type": "markdown",
   "id": "e64538c5",
   "metadata": {},
   "source": [
    "`from typing import Union \n",
    "Union[type1, type2,...]` # 里面放入可能的类型注解"
   ]
  },
  {
   "cell_type": "code",
   "execution_count": 18,
   "id": "7f400df5",
   "metadata": {},
   "outputs": [],
   "source": [
    "from typing import Union\n",
    "my_dict:dict[str:Union[int,str]] = {\"name\":\"stu\",\"age\":31}"
   ]
  },
  {
   "cell_type": "code",
   "execution_count": 19,
   "id": "aa02fc7d",
   "metadata": {},
   "outputs": [],
   "source": [
    "def fuc(data:Union[int,list]) -> Union[int,list]:\n",
    "    pass"
   ]
  },
  {
   "cell_type": "code",
   "execution_count": null,
   "id": "f59f38ad",
   "metadata": {},
   "outputs": [],
   "source": []
  }
 ],
 "metadata": {
  "kernelspec": {
   "display_name": "Python 3 (ipykernel)",
   "language": "python",
   "name": "python3"
  },
  "language_info": {
   "codemirror_mode": {
    "name": "ipython",
    "version": 3
   },
   "file_extension": ".py",
   "mimetype": "text/x-python",
   "name": "python",
   "nbconvert_exporter": "python",
   "pygments_lexer": "ipython3",
   "version": "3.9.13"
  }
 },
 "nbformat": 4,
 "nbformat_minor": 5
}
