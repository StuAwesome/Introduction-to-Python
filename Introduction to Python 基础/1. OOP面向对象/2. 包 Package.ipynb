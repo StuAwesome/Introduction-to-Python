{
 "cells": [
  {
   "cell_type": "markdown",
   "id": "6334fe06",
   "metadata": {},
   "source": [
    "# 1. 包 Package 文件夹"
   ]
  },
  {
   "cell_type": "markdown",
   "id": "fef18361",
   "metadata": {},
   "source": [
    "* 包含\n",
    "    * 一堆module.py文件\n",
    "    * 和一个`__init__.py`文件: 存在才是包，不然就是普通文件夹"
   ]
  },
  {
   "cell_type": "markdown",
   "id": "39a72428",
   "metadata": {},
   "source": [
    "```python\n",
    "import my_package.my_module1\n",
    "from my_package import my_module1\n",
    "...\n",
    "\n",
    "```"
   ]
  },
  {
   "cell_type": "code",
   "execution_count": 5,
   "id": "1facd5d7",
   "metadata": {},
   "outputs": [],
   "source": [
    "# `__init__.py`文件\n",
    "\n",
    "__all__ = [\"my_module1\"]\n",
    "# 只控制 *"
   ]
  },
  {
   "cell_type": "code",
   "execution_count": 4,
   "id": "3cdb6061",
   "metadata": {},
   "outputs": [
    {
     "ename": "ModuleNotFoundError",
     "evalue": "No module named 'my_package'",
     "output_type": "error",
     "traceback": [
      "\u001b[0;31m---------------------------------------------------------------------------\u001b[0m",
      "\u001b[0;31mModuleNotFoundError\u001b[0m                       Traceback (most recent call last)",
      "\u001b[0;32m/var/folders/dq/vyz01f_d6_9554rf0l07d8p00000gn/T/ipykernel_14289/144324924.py\u001b[0m in \u001b[0;36m<module>\u001b[0;34m\u001b[0m\n\u001b[0;32m----> 1\u001b[0;31m \u001b[0;32mfrom\u001b[0m \u001b[0mmy_package\u001b[0m \u001b[0;32mimport\u001b[0m \u001b[0mmy_module1\u001b[0m\u001b[0;34m\u001b[0m\u001b[0;34m\u001b[0m\u001b[0m\n\u001b[0m\u001b[1;32m      2\u001b[0m \u001b[0;31m# ModuleNotFoundError: No module named 'my_package'\u001b[0m\u001b[0;34m\u001b[0m\u001b[0;34m\u001b[0m\u001b[0m\n",
      "\u001b[0;31mModuleNotFoundError\u001b[0m: No module named 'my_package'"
     ]
    }
   ],
   "source": [
    "from my_package import * \n",
    "# ModuleNotFoundError: No module named 'my_package'"
   ]
  },
  {
   "cell_type": "markdown",
   "id": "8451d61f",
   "metadata": {},
   "source": [
    "# 2. 安装第三方包"
   ]
  },
  {
   "cell_type": "markdown",
   "id": "866447c7",
   "metadata": {},
   "source": [
    "\n",
    "* python内置pip程序\n",
    "* 在终端-> pip install numpy (会下载)\n",
    "* pip install -i https://....（网址下载）\n"
   ]
  },
  {
   "cell_type": "code",
   "execution_count": null,
   "id": "0c5a6f10",
   "metadata": {},
   "outputs": [],
   "source": []
  }
 ],
 "metadata": {
  "kernelspec": {
   "display_name": "Python 3 (ipykernel)",
   "language": "python",
   "name": "python3"
  },
  "language_info": {
   "codemirror_mode": {
    "name": "ipython",
    "version": 3
   },
   "file_extension": ".py",
   "mimetype": "text/x-python",
   "name": "python",
   "nbconvert_exporter": "python",
   "pygments_lexer": "ipython3",
   "version": "3.9.13"
  }
 },
 "nbformat": 4,
 "nbformat_minor": 5
}
