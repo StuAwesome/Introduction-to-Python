{
 "cells": [
  {
   "cell_type": "markdown",
   "id": "63ef7792",
   "metadata": {},
   "source": [
    "# 封装\n",
    "* 将现实世界事物在类中的描述为属性和方法 —— 封装\n",
    "\n",
    "\n",
    "* 对现实事物抽象为class，拥有属性和行为\n",
    "* 这些属性和行为，不代表都会给开放给用户使用"
   ]
  },
  {
   "cell_type": "markdown",
   "id": "77b96558",
   "metadata": {},
   "source": [
    "## 1. 私有成员变量"
   ]
  },
  {
   "cell_type": "markdown",
   "id": "0746d1f8",
   "metadata": {},
   "source": [
    "## 2. 私有成员方法"
   ]
  },
  {
   "cell_type": "markdown",
   "id": "a911486c",
   "metadata": {},
   "source": [
    "1. 都以`__`两个下划线完成\n",
    "2. 作用：无法被类对象使用，但是可以被其他成员使用（其他的 成员变量 成员方法）"
   ]
  },
  {
   "cell_type": "code",
   "execution_count": 2,
   "id": "ede8d454",
   "metadata": {},
   "outputs": [],
   "source": [
    "class phone:\n",
    "    \n",
    "    __current_voltage = None # 私有成员变量：电压\n",
    "    \n",
    "    def __keep_single_core(self): #私有成员方法\n",
    "        print(\"cpu单核运行\")\n",
    "\n",
    "pho = phone()"
   ]
  },
  {
   "cell_type": "code",
   "execution_count": 3,
   "id": "74038fbc",
   "metadata": {},
   "outputs": [
    {
     "ename": "AttributeError",
     "evalue": "'phone' object has no attribute '__keep_single_core'",
     "output_type": "error",
     "traceback": [
      "\u001b[0;31m---------------------------------------------------------------------------\u001b[0m",
      "\u001b[0;31mAttributeError\u001b[0m                            Traceback (most recent call last)",
      "\u001b[0;32m/var/folders/dq/vyz01f_d6_9554rf0l07d8p00000gn/T/ipykernel_16298/788620124.py\u001b[0m in \u001b[0;36m<module>\u001b[0;34m\u001b[0m\n\u001b[0;32m----> 1\u001b[0;31m \u001b[0mpho\u001b[0m\u001b[0;34m.\u001b[0m\u001b[0m__keep_single_core\u001b[0m\u001b[0;34m(\u001b[0m\u001b[0;34m)\u001b[0m\u001b[0;34m\u001b[0m\u001b[0;34m\u001b[0m\u001b[0m\n\u001b[0m",
      "\u001b[0;31mAttributeError\u001b[0m: 'phone' object has no attribute '__keep_single_core'"
     ]
    }
   ],
   "source": [
    "pho.__keep_single_core()"
   ]
  },
  {
   "cell_type": "code",
   "execution_count": 4,
   "id": "edbdbd9c",
   "metadata": {},
   "outputs": [
    {
     "ename": "AttributeError",
     "evalue": "'phone' object has no attribute '__current_voltage'",
     "output_type": "error",
     "traceback": [
      "\u001b[0;31m---------------------------------------------------------------------------\u001b[0m",
      "\u001b[0;31mAttributeError\u001b[0m                            Traceback (most recent call last)",
      "\u001b[0;32m/var/folders/dq/vyz01f_d6_9554rf0l07d8p00000gn/T/ipykernel_16298/2729870759.py\u001b[0m in \u001b[0;36m<module>\u001b[0;34m\u001b[0m\n\u001b[0;32m----> 1\u001b[0;31m \u001b[0mpho\u001b[0m\u001b[0;34m.\u001b[0m\u001b[0m__current_voltage\u001b[0m\u001b[0;34m\u001b[0m\u001b[0;34m\u001b[0m\u001b[0m\n\u001b[0m",
      "\u001b[0;31mAttributeError\u001b[0m: 'phone' object has no attribute '__current_voltage'"
     ]
    }
   ],
   "source": [
    "pho.__current_voltage"
   ]
  },
  {
   "cell_type": "code",
   "execution_count": 6,
   "id": "fc651fee",
   "metadata": {},
   "outputs": [
    {
     "name": "stdout",
     "output_type": "stream",
     "text": [
      "5V\n",
      "cpu单核运行\n"
     ]
    }
   ],
   "source": [
    "class phone:\n",
    "    \n",
    "    __current_voltage = \"5V\" # 私有成员变量：电压\n",
    "    \n",
    "    def __keep_single_core(self): #私有成员方法\n",
    "        print(\"cpu单核运行\")\n",
    "        \n",
    "    def get_voltage(self):\n",
    "        print(self.__current_voltage)\n",
    "\n",
    "    def get_status(self):\n",
    "        self.__keep_single_core()\n",
    "    \n",
    "pho = phone()\n",
    "pho.get_voltage()\n",
    "pho.get_status()"
   ]
  },
  {
   "cell_type": "code",
   "execution_count": null,
   "id": "6540903c",
   "metadata": {},
   "outputs": [],
   "source": []
  }
 ],
 "metadata": {
  "kernelspec": {
   "display_name": "Python 3 (ipykernel)",
   "language": "python",
   "name": "python3"
  },
  "language_info": {
   "codemirror_mode": {
    "name": "ipython",
    "version": 3
   },
   "file_extension": ".py",
   "mimetype": "text/x-python",
   "name": "python",
   "nbconvert_exporter": "python",
   "pygments_lexer": "ipython3",
   "version": "3.9.13"
  }
 },
 "nbformat": 4,
 "nbformat_minor": 5
}
