{
 "cells": [
  {
   "cell_type": "markdown",
   "id": "247cf2e3",
   "metadata": {},
   "source": [
    "#  1. 初始类和对象\n",
    "* 类的属性（成员变量variable）\n",
    "* 类的行为（成员方法method）"
   ]
  },
  {
   "cell_type": "code",
   "execution_count": 12,
   "id": "baba9de4",
   "metadata": {},
   "outputs": [],
   "source": [
    "class student:\n",
    "    name = None\n",
    "    gender = None\n",
    "    notionality = None\n",
    "    native_plave = None\n",
    "    age = None\n",
    "    def say_hi(self,msg):\n",
    "        print(f\"Hi, i'm {self.name}, I wanna say: {msg}\")"
   ]
  },
  {
   "cell_type": "code",
   "execution_count": 13,
   "id": "ee5f9258",
   "metadata": {},
   "outputs": [
    {
     "name": "stdout",
     "output_type": "stream",
     "text": [
      "Hi, i'm 周杰伦, I wanna say: fgahksjdfhagiywkfjhad\n"
     ]
    }
   ],
   "source": [
    "stu1 = student()\n",
    "stu1.name = \"周杰伦\"\n",
    "stu1.gender = \"男\"\n",
    "stu1.notionality =\"中国\"\n",
    "\n",
    "stu1.say_hi(\"fgahksjdfhagiywkfjhad\")\n"
   ]
  },
  {
   "cell_type": "markdown",
   "id": "d5348c8c",
   "metadata": {},
   "source": [
    "# 2. 构造方法 给对象赋值"
   ]
  },
  {
   "cell_type": "markdown",
   "id": "0846e769",
   "metadata": {},
   "source": [
    "* 类有一个名为 `__init__()` 的特殊方法（构造方法），该方法在类实例化时会自动调用"
   ]
  },
  {
   "cell_type": "markdown",
   "id": "f9b77c94",
   "metadata": {},
   "source": [
    "#### self代表类的实例，而非类\n",
    "* 类method与普通的函数只有一个特别的区别: 它们必须有一个额外的第一个参数名称, 按照惯例它的名称是 self。\n",
    "* self不是 python 关键字，我们把他换成 runoob 也是可以正常执行的"
   ]
  },
  {
   "cell_type": "code",
   "execution_count": null,
   "id": "d0a40a60",
   "metadata": {},
   "outputs": [],
   "source": [
    "class people:\n",
    "    '''\n",
    "    定义 人 这个类\n",
    "    '''\n",
    "    \n",
    "    # 1. 定义类的属性，因为构造方法也有，此处可以省略\n",
    "    name = ''\n",
    "    age = 0\n",
    "    # 2. 定义私有属性,私有属性在类外部无法直接进行访问\n",
    "    __weight = 0\n",
    "    \n",
    "    # 3. 定义「构造方法」 每个类必须有的方法\n",
    "        # 实例化 or 创建object时自动调用\n",
    "    def __init__(self,name,age,weight):\n",
    "        self.name = name\n",
    "        self.age = age\n",
    "        self.__weight = weight\n",
    "        print(\"我有个人信息\")\n",
    "    \n",
    "    # 4. 类的公共 method 有两种调用\n",
    "    def speak(self):\n",
    "        print(\"%s 说: 我 %d 岁。\" %(self.name,self.age))\n",
    "        # 私有属性可以被method使用\n",
    "        print(self.__weight)\n",
    " "
   ]
  }
 ],
 "metadata": {
  "kernelspec": {
   "display_name": "Python 3 (ipykernel)",
   "language": "python",
   "name": "python3"
  },
  "language_info": {
   "codemirror_mode": {
    "name": "ipython",
    "version": 3
   },
   "file_extension": ".py",
   "mimetype": "text/x-python",
   "name": "python",
   "nbconvert_exporter": "python",
   "pygments_lexer": "ipython3",
   "version": "3.9.13"
  }
 },
 "nbformat": 4,
 "nbformat_minor": 5
}
