{
 "cells": [
  {
   "cell_type": "markdown",
   "id": "dab3e954",
   "metadata": {},
   "source": [
    "# 多态\n",
    "* 函数or方法 形式参数声明接受父类对象\n",
    "* 实际传入子类对象进行工作"
   ]
  },
  {
   "cell_type": "code",
   "execution_count": 1,
   "id": "4c3e111f",
   "metadata": {},
   "outputs": [],
   "source": [
    "class Animal:\n",
    "    def speak(self):\n",
    "        pass\n",
    "\n",
    "class Dog(Animal):\n",
    "    def speak(self):\n",
    "        print(\"w w w\")\n",
    "\n",
    "class Cat(Animal):\n",
    "    def speak(self):\n",
    "        print(\"m m m\")"
   ]
  },
  {
   "cell_type": "code",
   "execution_count": 3,
   "id": "a0ded202",
   "metadata": {},
   "outputs": [
    {
     "name": "stdout",
     "output_type": "stream",
     "text": [
      "w w w\n",
      "m m m\n"
     ]
    }
   ],
   "source": [
    "def say_hi(animal:Animal):\n",
    "    animal.speak()\n",
    "dog = Dog()\n",
    "cat = Cat()\n",
    "say_hi(dog)\n",
    "say_hi(cat)"
   ]
  },
  {
   "cell_type": "markdown",
   "id": "1e4b84a6",
   "metadata": {},
   "source": [
    "# 接口（抽象类）\n",
    "* 抽象类就好比定义一个标准（设计标准）\n",
    "* 包含一些抽象方法，要求子类必须实现（实现标准）\n",
    "\n",
    "\n",
    "* 抽象方法不实现：Pass"
   ]
  },
  {
   "cell_type": "code",
   "execution_count": null,
   "id": "75da26dd",
   "metadata": {},
   "outputs": [],
   "source": []
  }
 ],
 "metadata": {
  "kernelspec": {
   "display_name": "Python 3 (ipykernel)",
   "language": "python",
   "name": "python3"
  },
  "language_info": {
   "codemirror_mode": {
    "name": "ipython",
    "version": 3
   },
   "file_extension": ".py",
   "mimetype": "text/x-python",
   "name": "python",
   "nbconvert_exporter": "python",
   "pygments_lexer": "ipython3",
   "version": "3.9.13"
  }
 },
 "nbformat": 4,
 "nbformat_minor": 5
}
