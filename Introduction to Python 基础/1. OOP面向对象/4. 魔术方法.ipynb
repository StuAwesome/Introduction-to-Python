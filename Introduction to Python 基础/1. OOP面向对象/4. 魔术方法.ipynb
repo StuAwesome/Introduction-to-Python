{
 "cells": [
  {
   "cell_type": "markdown",
   "id": "00bc5d40",
   "metadata": {},
   "source": [
    "# 0. 构造方法\n",
    "* 上节课的`构造方法`就是python类内置的方法之一\n",
    "* 类内置方法各有各自的特殊功能：magic function\n"
   ]
  },
  {
   "cell_type": "code",
   "execution_count": 6,
   "id": "16ec16d0",
   "metadata": {},
   "outputs": [
    {
     "name": "stdout",
     "output_type": "stream",
     "text": [
      "创建好了\n",
      "<__main__.student object at 0x7f93b915be20>\n",
      "<__main__.student object at 0x7f93b915be20>\n"
     ]
    }
   ],
   "source": [
    "# 准备一个类\n",
    "class student:\n",
    "    def __init__(self,name,age):\n",
    "        self.name = name\n",
    "        self.age = age\n",
    "        print(\"创建好了\")\n",
    "\n",
    "stu = student('周杰伦', 31)\n",
    "print(stu)\n",
    "print(str(stu))# 用`str()`调用：默认打印内存地址"
   ]
  },
  {
   "cell_type": "markdown",
   "id": "7240939f",
   "metadata": {},
   "source": [
    "* 内置魔术方法有很多，这里只展示4种"
   ]
  },
  {
   "cell_type": "markdown",
   "id": "77ebb7ef",
   "metadata": {},
   "source": [
    "## 1. `__str__`\n",
    "* 用`str()`调用：默认打印内存地址"
   ]
  },
  {
   "cell_type": "code",
   "execution_count": 7,
   "id": "5eaa1f5d",
   "metadata": {},
   "outputs": [
    {
     "name": "stdout",
     "output_type": "stream",
     "text": [
      "<__main__.student object at 0x7f93b915be20>\n",
      "<__main__.student object at 0x7f93b915be20>\n"
     ]
    }
   ],
   "source": [
    "print(stu)\n",
    "print(str(stu))# 用`str()`调用：默认打印内存地址"
   ]
  },
  {
   "cell_type": "code",
   "execution_count": 8,
   "id": "e52d42fd",
   "metadata": {},
   "outputs": [
    {
     "name": "stdout",
     "output_type": "stream",
     "text": [
      "创建好了\n"
     ]
    }
   ],
   "source": [
    "# 准备一个类\n",
    "class student:\n",
    "    def __init__(self,name,age):\n",
    "        self.name = name\n",
    "        self.age = age\n",
    "        print(\"创建好了\")\n",
    "        \n",
    "    def __str__(self):\n",
    "        return f\"我叫{self.name},是个学生,今年{self.age}\"\n",
    "\n",
    "stu = student('周杰伦', 31)\n"
   ]
  },
  {
   "cell_type": "code",
   "execution_count": 10,
   "id": "6f4a618b",
   "metadata": {},
   "outputs": [
    {
     "name": "stdout",
     "output_type": "stream",
     "text": [
      "我叫周杰伦,是个学生,今年31\n",
      "我叫周杰伦,是个学生,今年31\n"
     ]
    }
   ],
   "source": [
    "print(stu)\n",
    "print(str(stu))"
   ]
  },
  {
   "cell_type": "markdown",
   "id": "7b027529",
   "metadata": {},
   "source": [
    "## 2. `__lt__` little\n",
    "* 用于大小于号的比较"
   ]
  },
  {
   "cell_type": "code",
   "execution_count": 12,
   "id": "b07b11bb",
   "metadata": {},
   "outputs": [
    {
     "name": "stdout",
     "output_type": "stream",
     "text": [
      "创建好了\n",
      "创建好了\n"
     ]
    }
   ],
   "source": [
    "stu1 = student('周杰伦', 31)\n",
    "stu2 = student('JayJay', 30)"
   ]
  },
  {
   "cell_type": "code",
   "execution_count": 13,
   "id": "05d9c947",
   "metadata": {},
   "outputs": [
    {
     "ename": "TypeError",
     "evalue": "'>' not supported between instances of 'student' and 'student'",
     "output_type": "error",
     "traceback": [
      "\u001b[0;31m---------------------------------------------------------------------------\u001b[0m",
      "\u001b[0;31mTypeError\u001b[0m                                 Traceback (most recent call last)",
      "\u001b[0;32m/var/folders/dq/vyz01f_d6_9554rf0l07d8p00000gn/T/ipykernel_15748/2457386270.py\u001b[0m in \u001b[0;36m<module>\u001b[0;34m\u001b[0m\n\u001b[0;32m----> 1\u001b[0;31m \u001b[0mprint\u001b[0m\u001b[0;34m(\u001b[0m\u001b[0mstu1\u001b[0m\u001b[0;34m>\u001b[0m\u001b[0mstu2\u001b[0m\u001b[0;34m)\u001b[0m\u001b[0;34m\u001b[0m\u001b[0;34m\u001b[0m\u001b[0m\n\u001b[0m",
      "\u001b[0;31mTypeError\u001b[0m: '>' not supported between instances of 'student' and 'student'"
     ]
    }
   ],
   "source": [
    "print(stu1>stu2)\n",
    "# TypeError: '>' not supported between instances of 'student' and 'student'"
   ]
  },
  {
   "cell_type": "code",
   "execution_count": 17,
   "id": "7ed3bbe0",
   "metadata": {},
   "outputs": [
    {
     "name": "stdout",
     "output_type": "stream",
     "text": [
      "True\n"
     ]
    }
   ],
   "source": [
    "# 准备一个类\n",
    "class student:\n",
    "    def __init__(self,name,age):\n",
    "        self.name = name\n",
    "        self.age = age\n",
    "        # print(\"创建好了\")\n",
    "        \n",
    "    def __str__(self):\n",
    "        return f\"我叫{self.name},是个学生,今年{self.age}\"\n",
    "    \n",
    "    def __lt__(self, other):\n",
    "        return self.age < other.age\n",
    "\n",
    "stu1 = student('周杰伦', 31)\n",
    "stu2 = student('JayJay', 30)\n",
    "\n",
    "print(stu1>stu2)"
   ]
  },
  {
   "cell_type": "markdown",
   "id": "1c5a2740",
   "metadata": {},
   "source": [
    "## 3. `__le__` little equal\n",
    "* 用于小于等于号的比较"
   ]
  },
  {
   "cell_type": "code",
   "execution_count": 18,
   "id": "de5d7e3d",
   "metadata": {},
   "outputs": [
    {
     "ename": "TypeError",
     "evalue": "'>=' not supported between instances of 'student' and 'student'",
     "output_type": "error",
     "traceback": [
      "\u001b[0;31m---------------------------------------------------------------------------\u001b[0m",
      "\u001b[0;31mTypeError\u001b[0m                                 Traceback (most recent call last)",
      "\u001b[0;32m/var/folders/dq/vyz01f_d6_9554rf0l07d8p00000gn/T/ipykernel_15748/386057710.py\u001b[0m in \u001b[0;36m<module>\u001b[0;34m\u001b[0m\n\u001b[0;32m----> 1\u001b[0;31m \u001b[0mprint\u001b[0m\u001b[0;34m(\u001b[0m\u001b[0mstu1\u001b[0m\u001b[0;34m>=\u001b[0m\u001b[0mstu2\u001b[0m\u001b[0;34m)\u001b[0m\u001b[0;34m\u001b[0m\u001b[0;34m\u001b[0m\u001b[0m\n\u001b[0m",
      "\u001b[0;31mTypeError\u001b[0m: '>=' not supported between instances of 'student' and 'student'"
     ]
    }
   ],
   "source": [
    "print(stu1>=stu2)"
   ]
  },
  {
   "cell_type": "code",
   "execution_count": 20,
   "id": "8a384e36",
   "metadata": {},
   "outputs": [
    {
     "name": "stdout",
     "output_type": "stream",
     "text": [
      "True\n"
     ]
    }
   ],
   "source": [
    "# 准备一个类\n",
    "class student:\n",
    "    def __init__(self,name,age):\n",
    "        self.name = name\n",
    "        self.age = age\n",
    "        # print(\"创建好了\")\n",
    "        \n",
    "    def __str__(self):\n",
    "        return f\"我叫{self.name},是个学生,今年{self.age}\"\n",
    "    \n",
    "    def __lt__(self, other):\n",
    "        return self.age < other.age\n",
    "    \n",
    "    def __le__(self, other):\n",
    "        return self.age <= other.age\n",
    "    \n",
    "    \n",
    "    \n",
    "stu1 = student('周杰伦', 31)\n",
    "stu2 = student('JayJay', 30)\n",
    "\n",
    "print(stu1>=stu2)"
   ]
  },
  {
   "cell_type": "markdown",
   "id": "f11ce514",
   "metadata": {},
   "source": [
    "## 4. `__eq__`  默认比较内存地址"
   ]
  },
  {
   "cell_type": "code",
   "execution_count": 23,
   "id": "274a8c45",
   "metadata": {},
   "outputs": [
    {
     "name": "stdout",
     "output_type": "stream",
     "text": [
      "False\n"
     ]
    }
   ],
   "source": [
    "print(stu1==stu2)\n",
    "# 比较内存地址"
   ]
  },
  {
   "cell_type": "code",
   "execution_count": 25,
   "id": "f145eb13",
   "metadata": {},
   "outputs": [
    {
     "name": "stdout",
     "output_type": "stream",
     "text": [
      "True\n"
     ]
    }
   ],
   "source": [
    "# 准备一个类\n",
    "class student:\n",
    "    def __init__(self,name,age):\n",
    "        self.name = name\n",
    "        self.age = age\n",
    "        # print(\"创建好了\")\n",
    "        \n",
    "    def __str__(self):\n",
    "        return f\"我叫{self.name},是个学生,今年{self.age}\"\n",
    "    \n",
    "    def __lt__(self, other):\n",
    "        return self.age < other.age\n",
    "    \n",
    "    def __le__(self, other):\n",
    "        return self.age <= other.age\n",
    "    \n",
    "    def __eq__(self, other):\n",
    "        return self.age == other.age\n",
    "    \n",
    "    \n",
    "    \n",
    "stu1 = student('周杰伦', 31)\n",
    "stu2 = student('JayJay', 31)\n",
    "\n",
    "print(stu1==stu2)"
   ]
  },
  {
   "cell_type": "code",
   "execution_count": null,
   "id": "e21aa3fc",
   "metadata": {},
   "outputs": [],
   "source": []
  }
 ],
 "metadata": {
  "kernelspec": {
   "display_name": "Python 3 (ipykernel)",
   "language": "python",
   "name": "python3"
  },
  "language_info": {
   "codemirror_mode": {
    "name": "ipython",
    "version": 3
   },
   "file_extension": ".py",
   "mimetype": "text/x-python",
   "name": "python",
   "nbconvert_exporter": "python",
   "pygments_lexer": "ipython3",
   "version": "3.9.13"
  }
 },
 "nbformat": 4,
 "nbformat_minor": 5
}
