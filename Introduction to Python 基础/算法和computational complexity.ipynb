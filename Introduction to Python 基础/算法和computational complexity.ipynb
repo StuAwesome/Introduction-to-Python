{
 "cells": [
  {
   "cell_type": "markdown",
   "id": "48660678",
   "metadata": {},
   "source": [
    "# 算法和计算复杂度"
   ]
  },
  {
   "cell_type": "markdown",
   "id": "fcde06b6",
   "metadata": {},
   "source": [
    "# 1. 算法"
   ]
  },
  {
   "cell_type": "markdown",
   "id": "bc934fc6",
   "metadata": {},
   "source": [
    "1. 解决问题\n",
    "2. 时间和空间"
   ]
  },
  {
   "cell_type": "markdown",
   "id": "30b5f9c5",
   "metadata": {},
   "source": [
    "# 2. 计算复杂度"
   ]
  },
  {
   "cell_type": "markdown",
   "id": "1eea76a4",
   "metadata": {},
   "source": [
    "* 时间复杂度 - Time complexity:\n",
    "    1. O(1): print(a)\n",
    "    2. O(logn):二分法搜索\n",
    "    3. O(n): for i in range(n)\n",
    "    4. O(nlogn)\n",
    "    5. ..."
   ]
  },
  {
   "cell_type": "markdown",
   "id": "66f8b816",
   "metadata": {},
   "source": [
    "* 空间复杂度"
   ]
  },
  {
   "cell_type": "markdown",
   "id": "a185e2b4",
   "metadata": {},
   "source": [
    "埋下种子：慢慢刷题"
   ]
  },
  {
   "cell_type": "markdown",
   "id": "4b2267fe",
   "metadata": {},
   "source": [
    "# Jupyter 技巧"
   ]
  },
  {
   "cell_type": "markdown",
   "id": "d0e83993",
   "metadata": {},
   "source": [
    "## 魔法指令"
   ]
  },
  {
   "cell_type": "code",
   "execution_count": 6,
   "id": "ceca74a4",
   "metadata": {},
   "outputs": [
    {
     "name": "stdout",
     "output_type": "stream",
     "text": [
      "Interactive namespace is empty.\n"
     ]
    }
   ],
   "source": [
    "%who"
   ]
  },
  {
   "cell_type": "code",
   "execution_count": 5,
   "id": "3e5db0f2",
   "metadata": {},
   "outputs": [],
   "source": [
    "%timeit"
   ]
  },
  {
   "cell_type": "code",
   "execution_count": null,
   "id": "1cde3fbd",
   "metadata": {},
   "outputs": [],
   "source": []
  }
 ],
 "metadata": {
  "kernelspec": {
   "display_name": "Python 3 (ipykernel)",
   "language": "python",
   "name": "python3"
  },
  "language_info": {
   "codemirror_mode": {
    "name": "ipython",
    "version": 3
   },
   "file_extension": ".py",
   "mimetype": "text/x-python",
   "name": "python",
   "nbconvert_exporter": "python",
   "pygments_lexer": "ipython3",
   "version": "3.9.12"
  }
 },
 "nbformat": 4,
 "nbformat_minor": 5
}
