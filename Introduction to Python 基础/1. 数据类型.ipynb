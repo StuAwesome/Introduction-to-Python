{
 "cells": [
  {
   "cell_type": "markdown",
   "id": "ae758c58",
   "metadata": {},
   "source": [
    "# 数据类型"
   ]
  },
  {
   "cell_type": "markdown",
   "id": "043528af",
   "metadata": {},
   "source": [
    "# 0. 标准数据类型"
   ]
  },
  {
   "cell_type": "markdown",
   "id": "4879e962",
   "metadata": {},
   "source": [
    "* Python3 中有六个标准的数据类型：\n",
    "    * Number（数字）\n",
    "        * int、float、bool、complex（复数）。\n",
    "            * bool: False = 0, Ture = 1\n",
    "        * 在Python 3里，只有一种整数类型 int，表示为长整型，没有 python2 中的 Long。\n",
    "    * String（字符串）\n",
    "    * List（列表）\n",
    "    * Tuple（元组）\n",
    "    * Set（集合）\n",
    "    * Dictionary（字典）\n",
    "* 可变数据（3 个）：List（列表）、Dictionary（字典）、Set（集合）\n",
    "* 不可变数据（3 个）：Number（数字）、String（字符串）、Tuple（元组）；"
   ]
  },
  {
   "cell_type": "markdown",
   "id": "7093f856",
   "metadata": {},
   "source": [
    "## 0.1 可更改(mutable)与不可更改(immutable)对象"
   ]
  },
  {
   "cell_type": "markdown",
   "id": "851a080c",
   "metadata": {},
   "source": [
    "* **不可变类型：**变量赋值 a=5 后再赋值 a=10，这里实际是新生成一个 int 值对象 10，再让 a 指向它，而 5 被丢弃，不是改变 a 的值，相当于新生成了 a。\n",
    "* **可变类型：**变量赋值 la=[1,2,3,4] 后再赋值 la[2]=5 则是将 list la 的第三个元素值更改，本身la没有动，只是其内部的一部分值被修改了。\n",
    "\n",
    "\n",
    "\n"
   ]
  },
  {
   "cell_type": "markdown",
   "id": "a3e12e02",
   "metadata": {},
   "source": [
    "## 0.2 python 函数的参数传递"
   ]
  },
  {
   "cell_type": "markdown",
   "id": "8a287506",
   "metadata": {},
   "source": [
    "* **不可变类型：**类似 C++ 的值传递，如整数、字符串、元组。\n",
    "    * 如 fun(a)，传递的只是 a 的值，没有影响 a 对象本身。如果在 fun(a) 内部修改 a 的值，则是新生成一个 a 的对象"
   ]
  },
  {
   "cell_type": "code",
   "execution_count": 3,
   "id": "1aa15d9a",
   "metadata": {},
   "outputs": [
    {
     "name": "stdout",
     "output_type": "stream",
     "text": [
      "140667426892080\n",
      "140667426892080\n",
      "140667426892368\n"
     ]
    }
   ],
   "source": [
    "def change(a):\n",
    "    print(id(a))   # 指向的是同一个对象\n",
    "    a=10\n",
    "    print(id(a))   # 一个新对象\n",
    " \n",
    "a=1\n",
    "print(id(a))\n",
    "change(a)"
   ]
  },
  {
   "cell_type": "markdown",
   "id": "9211cb2e",
   "metadata": {},
   "source": [
    "* **可变类型：**类似 C++ 的引用传递，如 列表，字典。如 fun(la)，则是将 la 真正的传过去，修改后 fun 外部的 la 也会受影响\n",
    "\n",
    "\n",
    "* python 中一切都是对象，严格意义我们不能说值传递还是引用传递，我们应该说传不可变对象和传可变对象"
   ]
  },
  {
   "cell_type": "code",
   "execution_count": 6,
   "id": "5a4711f9",
   "metadata": {},
   "outputs": [
    {
     "name": "stdout",
     "output_type": "stream",
     "text": [
      "函数内取值:  [10, 20, 30, [1, 2, 3, 4]]\n",
      "函数外取值:  [10, 20, 30, [1, 2, 3, 4]]\n"
     ]
    }
   ],
   "source": [
    "def changeme( mylist ):\n",
    "    \"修改传入的列表\"\n",
    "    mylist.append([1,2,3,4])\n",
    "    print (\"函数内取值: \", mylist)\n",
    "    return\n",
    " \n",
    "# 调用changeme函数\n",
    "mylist = [10,20,30]\n",
    "changeme( mylist )\n",
    "print (\"函数外取值: \", mylist)"
   ]
  },
  {
   "cell_type": "code",
   "execution_count": null,
   "id": "30d078ff",
   "metadata": {},
   "outputs": [],
   "source": []
  },
  {
   "cell_type": "code",
   "execution_count": null,
   "id": "8195cd1d",
   "metadata": {},
   "outputs": [],
   "source": []
  },
  {
   "cell_type": "code",
   "execution_count": null,
   "id": "4ea6aaf4",
   "metadata": {},
   "outputs": [],
   "source": []
  },
  {
   "cell_type": "code",
   "execution_count": null,
   "id": "6b35a1b1",
   "metadata": {},
   "outputs": [],
   "source": []
  },
  {
   "cell_type": "code",
   "execution_count": null,
   "id": "e91383c6",
   "metadata": {},
   "outputs": [],
   "source": []
  },
  {
   "cell_type": "markdown",
   "id": "15a72f39",
   "metadata": {},
   "source": [
    "# 0. 基本数据类型"
   ]
  },
  {
   "cell_type": "markdown",
   "id": "4c6dd421",
   "metadata": {},
   "source": [
    "* string\n",
    "* int\n",
    "* float\n",
    "* bool\n",
    "* Nontype"
   ]
  },
  {
   "cell_type": "markdown",
   "id": "a80e617c",
   "metadata": {},
   "source": [
    "## 0.1 int (integer)"
   ]
  },
  {
   "cell_type": "markdown",
   "id": "3be88d4d",
   "metadata": {},
   "source": [
    "* 包含正负整数，没有小数点\n",
    "* 整数相除\n",
    "\n"
   ]
  },
  {
   "cell_type": "code",
   "execution_count": 3,
   "id": "ba6a43d6",
   "metadata": {},
   "outputs": [
    {
     "data": {
      "text/plain": [
       "3.0"
      ]
     },
     "execution_count": 3,
     "metadata": {},
     "output_type": "execute_result"
    }
   ],
   "source": [
    "# 隐式转换\n",
    "3/1\n",
    "# 结果 3.0 -> float型"
   ]
  },
  {
   "cell_type": "markdown",
   "id": "62c1102b",
   "metadata": {},
   "source": [
    "## 0.2 float"
   ]
  },
  {
   "cell_type": "markdown",
   "id": "5390c9e4",
   "metadata": {},
   "source": [
    "* 3e2 = 3*（10^2）"
   ]
  },
  {
   "cell_type": "markdown",
   "id": "b34246f8",
   "metadata": {},
   "source": [
    "## 0.3 boolean"
   ]
  },
  {
   "cell_type": "markdown",
   "id": "fdbbd0ec",
   "metadata": {},
   "source": [
    "**注意：**\n",
    "* Python3 中，bool 是 int 的子类，True 和 False 可以和数字相加， True==1、False==0 会返回 True，但可以通过 is 来判断类型。 \n",
    "* Python2 中是没有布尔型的，它用数字 0 表示 False，用 1 表示 True。\n",
    "\n",
    "* `True` and `False`"
   ]
  },
  {
   "cell_type": "code",
   "execution_count": 7,
   "id": "ac399f3e",
   "metadata": {},
   "outputs": [
    {
     "name": "stdout",
     "output_type": "stream",
     "text": [
      "True\n",
      "True\n"
     ]
    }
   ],
   "source": [
    "print(True == 1)\n",
    "print(False == 0)"
   ]
  },
  {
   "cell_type": "markdown",
   "id": "13c9d3dc",
   "metadata": {},
   "source": [
    "## 0.4 Nonetype\n",
    "* `None` 不是0\n",
    "* None 的class是Nonetype\n",
    "* Function没有return时，隐式地返回None。"
   ]
  },
  {
   "cell_type": "markdown",
   "id": "a1c65b0c",
   "metadata": {},
   "source": [
    "* 变量 Variable 本身也可以作为boolean\n",
    "* 为None = False，有内容 = ·True"
   ]
  },
  {
   "cell_type": "code",
   "execution_count": 8,
   "id": "4cebf08e",
   "metadata": {},
   "outputs": [
    {
     "data": {
      "text/plain": [
       "NoneType"
      ]
     },
     "execution_count": 8,
     "metadata": {},
     "output_type": "execute_result"
    }
   ],
   "source": [
    "type(None)"
   ]
  },
  {
   "cell_type": "code",
   "execution_count": 1,
   "id": "81960eac",
   "metadata": {},
   "outputs": [
    {
     "name": "stdout",
     "output_type": "stream",
     "text": [
      "1\n"
     ]
    }
   ],
   "source": [
    "a = 1\n",
    "if a:\n",
    "    print(a)"
   ]
  },
  {
   "cell_type": "markdown",
   "id": "cd917cf4",
   "metadata": {},
   "source": [
    "## 0.5 String\n",
    "* 后有章详解"
   ]
  },
  {
   "cell_type": "markdown",
   "id": "d41b1128",
   "metadata": {},
   "source": [
    "### 1. 转义\n",
    "* 双引号 单引号 如何使用\n",
    "* \\n 换行\n",
    "* \\t Tab 四个空格\n",
    "* ''' 多行\n",
    "\n",
    "\n",
    "1. 可以用不同的引号互相包住，如果符号多需要用\\转义\n",
    "2. raw string：r\"\"\n"
   ]
  },
  {
   "cell_type": "code",
   "execution_count": 15,
   "id": "b843ed14",
   "metadata": {},
   "outputs": [
    {
     "name": "stdout",
     "output_type": "stream",
     "text": [
      "hi,\"Stu\"\n"
     ]
    }
   ],
   "source": [
    "print(\"hi,\\\"Stu\\\"\")\n",
    "# 引号"
   ]
  },
  {
   "cell_type": "code",
   "execution_count": 19,
   "id": "495d3d0d",
   "metadata": {},
   "outputs": [
    {
     "name": "stdout",
     "output_type": "stream",
     "text": [
      "///t/n stu\n"
     ]
    }
   ],
   "source": [
    "# 想保留下斜杠 - raw string\n",
    "print(r\"///t/n stu\")"
   ]
  },
  {
   "cell_type": "code",
   "execution_count": 18,
   "id": "0202485c",
   "metadata": {},
   "outputs": [
    {
     "name": "stdout",
     "output_type": "stream",
     "text": [
      "\n",
      "Hi\n",
      "Stu\n",
      "\n",
      "\n",
      "Hi\n",
      "Stu\n",
      "\n"
     ]
    }
   ],
   "source": [
    "print('''\n",
    "Hi\n",
    "Stu\n",
    "''')\n",
    "\n",
    "c = '''\n",
    "Hi\n",
    "Stu\n",
    "'''\n",
    "\n",
    "c.count('/n')\n",
    "print(c)"
   ]
  },
  {
   "cell_type": "markdown",
   "id": "2b3eb2f6",
   "metadata": {},
   "source": [
    "### 2. 编码问题"
   ]
  },
  {
   "cell_type": "markdown",
   "id": "7710be01",
   "metadata": {},
   "source": [
    "* 爬虫 -> Json -> encode问题\n",
    "1. 字符串只接受英语，直到出现来 Unicode\n",
    "2. 乱码问题和编码格式有关，UTF-8，GPK"
   ]
  },
  {
   "cell_type": "markdown",
   "id": "62e25adb",
   "metadata": {},
   "source": [
    "### 3. string operations"
   ]
  },
  {
   "cell_type": "code",
   "execution_count": 12,
   "id": "78f7b9dc",
   "metadata": {},
   "outputs": [
    {
     "data": {
      "text/plain": [
       "'师傅师傅师傅'"
      ]
     },
     "execution_count": 12,
     "metadata": {},
     "output_type": "execute_result"
    }
   ],
   "source": [
    "\"师傅\"*3"
   ]
  },
  {
   "cell_type": "code",
   "execution_count": 13,
   "id": "5a14686b",
   "metadata": {},
   "outputs": [
    {
     "data": {
      "text/plain": [
       "'师傅shifu'"
      ]
     },
     "execution_count": 13,
     "metadata": {},
     "output_type": "execute_result"
    }
   ],
   "source": [
    "\"师傅\" + \"shifu\""
   ]
  },
  {
   "cell_type": "markdown",
   "id": "d20b8261",
   "metadata": {},
   "source": [
    "# 1. Constant VS Variable"
   ]
  },
  {
   "cell_type": "markdown",
   "id": "00712ac6",
   "metadata": {},
   "source": [
    "* Python 中的变量不需要声明。每个变量在使用前都必须赋值，变量赋值以后该变量才会被创建。\n",
    "\n",
    "* 在 Python 中，变量就是变量，它没有类型，我们所说的\"类型\"是变量所指的内存中对象的类型。\n",
    "\n",
    "* 等号（=）用来给变量赋值。\n",
    "\n",
    "* 等号（=）运算符左边是一个变量名,等号（=）运算符右边是存储在变量中的值。"
   ]
  },
  {
   "cell_type": "markdown",
   "id": "f5c62fec",
   "metadata": {},
   "source": [
    "## 1.1 常量：是一个不会变的数据\n",
    "* 它可以是文本，数字等"
   ]
  },
  {
   "cell_type": "code",
   "execution_count": 4,
   "id": "768afdce",
   "metadata": {},
   "outputs": [
    {
     "data": {
      "text/plain": [
       "'hello2 world'"
      ]
     },
     "execution_count": 4,
     "metadata": {},
     "output_type": "execute_result"
    }
   ],
   "source": [
    "\"hello2 world\""
   ]
  },
  {
   "cell_type": "code",
   "execution_count": 3,
   "id": "a9363142",
   "metadata": {},
   "outputs": [
    {
     "data": {
      "text/plain": [
       "12"
      ]
     },
     "execution_count": 3,
     "metadata": {},
     "output_type": "execute_result"
    }
   ],
   "source": [
    "12"
   ]
  },
  {
   "cell_type": "code",
   "execution_count": 5,
   "id": "83898e36",
   "metadata": {},
   "outputs": [
    {
     "data": {
      "text/plain": [
       "[1, 2, 3, 4]"
      ]
     },
     "execution_count": 5,
     "metadata": {},
     "output_type": "execute_result"
    }
   ],
   "source": [
    "a = [1,2,3]\n",
    "b = a\n",
    "a.append(4)\n",
    "b"
   ]
  },
  {
   "cell_type": "markdown",
   "id": "81e59764",
   "metadata": {},
   "source": [
    "1. object：\n",
    "    对象是分配的一块内存，有足够的空间去表示它们所代表的值。\n",
    "    * Python中，对象具有三要素：标识(identity)、类型(type)、值(value)。\n",
    "    1. 标识（identity）：用于唯一标识对象，通常对应对象在计算机内存中的地址。使用内置函数id(obj)返回对象唯一标识。\n",
    "    2. 类型(type)：类型可以限制对象的取值范围和可执行的操作。使用内置函数type(obj)返回对象所属类型。\n",
    "    3. 值(value)：print(obj)\n",
    "2. variable:\n",
    "    变量，看作对象的一个临时「标签」，是引用，而不是装有对象的容器"
   ]
  },
  {
   "cell_type": "markdown",
   "id": "d3a998a2",
   "metadata": {},
   "source": [
    "## 1.2 变量\n",
    "* 变量没有类型，存储的数据有class类型信息"
   ]
  },
  {
   "cell_type": "markdown",
   "id": "9d7660d9",
   "metadata": {},
   "source": [
    "* Variables hold *data* - 携带数据 把变量和数据绑定在一起\n",
    "* For example, this might be a number (e.g. an integer) or a text string\n",
    "* Your computer program uses the data in its operations\n",
    "\n",
    "* ESC + B 向下直接创建，且不会运行所在代码框"
   ]
  },
  {
   "cell_type": "markdown",
   "id": "3f70e8d3",
   "metadata": {},
   "source": [
    "### 1. 内省\n",
    "* 在一个变量前后使用`?`，可以现实一些关于对象的概要信息\n",
    "* 使用双问好`??`，可以现实函数的源代码"
   ]
  },
  {
   "cell_type": "code",
   "execution_count": 9,
   "id": "11c97394",
   "metadata": {},
   "outputs": [
    {
     "name": "stdout",
     "output_type": "stream",
     "text": [
      "2\n"
     ]
    },
    {
     "data": {
      "text/plain": [
       "140419931330800"
      ]
     },
     "execution_count": 9,
     "metadata": {},
     "output_type": "execute_result"
    }
   ],
   "source": [
    "simple_sum = 1 + 1\n",
    "# assignment：赋值\n",
    "# Python 的等号是 == \n",
    "\n",
    "simple_sum?\n",
    "\n",
    "print(simple_sum) \n",
    "\n",
    "myName = 'Stu'\n",
    "id(myName) # 地址\n"
   ]
  },
  {
   "cell_type": "markdown",
   "id": "708116d4",
   "metadata": {},
   "source": [
    "### 2. 尽可能使用变量 拒绝 Hardcode"
   ]
  },
  {
   "cell_type": "code",
   "execution_count": 12,
   "id": "124a3325",
   "metadata": {},
   "outputs": [
    {
     "name": "stdout",
     "output_type": "stream",
     "text": [
      "I am hungry\n",
      "I am hungryI am hungryI am hungry\n"
     ]
    }
   ],
   "source": [
    "print(\"I am hungry\")\n",
    "message = \"I am hungry\"\n",
    "n = 3\n",
    "print (message*n)"
   ]
  },
  {
   "cell_type": "markdown",
   "id": "2f9c2c59",
   "metadata": {},
   "source": []
  },
  {
   "cell_type": "markdown",
   "id": "1859c8a1",
   "metadata": {},
   "source": []
  },
  {
   "cell_type": "markdown",
   "id": "25ce16ce",
   "metadata": {},
   "source": []
  }
 ],
 "metadata": {
  "kernelspec": {
   "display_name": "Python 3 (ipykernel)",
   "language": "python",
   "name": "python3"
  },
  "language_info": {
   "codemirror_mode": {
    "name": "ipython",
    "version": 3
   },
   "file_extension": ".py",
   "mimetype": "text/x-python",
   "name": "python",
   "nbconvert_exporter": "python",
   "pygments_lexer": "ipython3",
   "version": "3.9.13"
  }
 },
 "nbformat": 4,
 "nbformat_minor": 5
}
