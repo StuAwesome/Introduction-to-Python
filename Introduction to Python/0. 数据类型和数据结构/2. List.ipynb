{
 "cells": [
  {
   "cell_type": "markdown",
   "id": "3ea096d3",
   "metadata": {},
   "source": [
    "# List"
   ]
  },
  {
   "cell_type": "markdown",
   "id": "3db757ce",
   "metadata": {},
   "source": [
    "* Python uses `Lists` and `Tuples` to store data\n",
    "* `Lists` are more felxible, and can hold any type of data\n",
    "* `Tuples` hold one type of data\n",
    "\n",
    "\n",
    "1. Built-in Data structure ：List, Tuple, Dictionary, Sets\n",
    "2. \n"
   ]
  },
  {
   "cell_type": "markdown",
   "id": "18929933",
   "metadata": {},
   "source": [
    "## 1. 创建"
   ]
  },
  {
   "cell_type": "markdown",
   "id": "90685225",
   "metadata": {},
   "source": [
    "1. `[ ]`\n",
    "2. function: `list()`\n",
    "3. list存放的数据结构可以不同"
   ]
  },
  {
   "cell_type": "code",
   "execution_count": 5,
   "id": "4b78bf10",
   "metadata": {},
   "outputs": [
    {
     "name": "stdout",
     "output_type": "stream",
     "text": [
      "这个list有6个元素 \n",
      "\n",
      "是<class 'str'>数据类型\n",
      "2是<class 'int'>数据类型\n",
      "True是<class 'bool'>数据类型\n",
      "34是<class 'str'>数据类型\n",
      "你好是<class 'str'>数据类型\n",
      "None是<class 'NoneType'>数据类型\n"
     ]
    }
   ],
   "source": [
    "# list里可以放不同的 datatype\n",
    "\n",
    "list1 = [\"\",2,True,\"34\",\"你好\",None]\n",
    "print(f\"这个list有{len(list1)}个元素 \\n\")\n",
    "\n",
    "for i in list1:\n",
    "    print(f\"{i}是{type(i)}数据类型\")\n"
   ]
  },
  {
   "cell_type": "markdown",
   "id": "2f7d923f",
   "metadata": {},
   "source": [
    "## 2. 索引index 和切片slicing"
   ]
  },
  {
   "cell_type": "code",
   "execution_count": 20,
   "id": "400703b0",
   "metadata": {},
   "outputs": [
    {
     "data": {
      "text/plain": [
       "[1, 2, 3, 4, 5]"
      ]
     },
     "execution_count": 20,
     "metadata": {},
     "output_type": "execute_result"
    }
   ],
   "source": [
    "a = list(range(1,6))\n",
    "a"
   ]
  },
  {
   "cell_type": "markdown",
   "id": "61d18147",
   "metadata": {},
   "source": [
    "### 2.1 索引"
   ]
  },
  {
   "cell_type": "markdown",
   "id": "f349aa44",
   "metadata": {},
   "source": [
    "* a 每个元素的索引：0 1 2 3 4 \n",
    "* 和string一样可逆"
   ]
  },
  {
   "cell_type": "code",
   "execution_count": 23,
   "id": "a66de320",
   "metadata": {},
   "outputs": [
    {
     "name": "stdout",
     "output_type": "stream",
     "text": [
      "1 2 3 4 5\n"
     ]
    }
   ],
   "source": [
    "print(a[0],a[1],a[2],a[3],a[4])"
   ]
  },
  {
   "cell_type": "code",
   "execution_count": 24,
   "id": "a32cddf4",
   "metadata": {},
   "outputs": [
    {
     "name": "stdout",
     "output_type": "stream",
     "text": [
      "5 4 3 2 1\n"
     ]
    }
   ],
   "source": [
    "print(a[-1],a[-2],a[-3],a[-4],a[-5])"
   ]
  },
  {
   "cell_type": "markdown",
   "id": "31a4ab77",
   "metadata": {},
   "source": [
    "### 2.2 切片slicing"
   ]
  },
  {
   "cell_type": "markdown",
   "id": "044032e7",
   "metadata": {},
   "source": [
    "* 光标索引分别为： 0 `1` 1 `2` 2 `3` 3 `4` 4 `5` 5 \n",
    "* 光标索引分别为：0 1 2 3 4 5 （五个元素 六个索引）\n",
    "* 可逆: -5 `1` -4 `2` -3 `3` -2 `4` -1 `5` 0"
   ]
  },
  {
   "cell_type": "code",
   "execution_count": 25,
   "id": "26eacff4",
   "metadata": {},
   "outputs": [
    {
     "data": {
      "text/plain": [
       "[1, 2, 3, 4, 5]"
      ]
     },
     "execution_count": 25,
     "metadata": {},
     "output_type": "execute_result"
    }
   ],
   "source": [
    "a[:]"
   ]
  },
  {
   "cell_type": "code",
   "execution_count": 30,
   "id": "c0c334f8",
   "metadata": {},
   "outputs": [
    {
     "data": {
      "text/plain": [
       "[3, 4]"
      ]
     },
     "execution_count": 30,
     "metadata": {},
     "output_type": "execute_result"
    }
   ],
   "source": [
    "a[2:-1]"
   ]
  },
  {
   "cell_type": "code",
   "execution_count": 28,
   "id": "425fa04e",
   "metadata": {},
   "outputs": [
    {
     "data": {
      "text/plain": [
       "[1, 3, 5]"
      ]
     },
     "execution_count": 28,
     "metadata": {},
     "output_type": "execute_result"
    }
   ],
   "source": [
    "a[::2]"
   ]
  },
  {
   "cell_type": "markdown",
   "id": "0a45b8d6",
   "metadata": {},
   "source": [
    "## 3. List 的更新"
   ]
  },
  {
   "cell_type": "markdown",
   "id": "9f35756b",
   "metadata": {},
   "source": [
    "1. 直接更新\n",
    "2. `method` 和 `function`, 最后两节"
   ]
  },
  {
   "cell_type": "code",
   "execution_count": 33,
   "id": "7f4aa8ae",
   "metadata": {},
   "outputs": [
    {
     "data": {
      "text/plain": [
       "[5, 2, 3, 4, 5]"
      ]
     },
     "execution_count": 33,
     "metadata": {},
     "output_type": "execute_result"
    }
   ],
   "source": [
    "# 直接更新\n",
    "a[0] = 5\n",
    "a"
   ]
  },
  {
   "cell_type": "markdown",
   "id": "1076c7ec",
   "metadata": {},
   "source": [
    "### 嵌套列表"
   ]
  },
  {
   "cell_type": "code",
   "execution_count": 45,
   "id": "2d92869e",
   "metadata": {},
   "outputs": [
    {
     "name": "stdout",
     "output_type": "stream",
     "text": [
      "[[1, 2, 3], [4, 5, 6]]\n",
      "1\n"
     ]
    }
   ],
   "source": [
    "a = [1,2,3]\n",
    "b = [4,5,6]\n",
    "c = [a,b]\n",
    "\n",
    "print(c)\n",
    "\n",
    "print(c[0][0])"
   ]
  },
  {
   "cell_type": "markdown",
   "id": "05bbe6f3",
   "metadata": {},
   "source": [
    "## 4. List 操作符\n",
    "* 列表对 + 和 * 的操作符与字符串相似。+ 号用于组合列表，* 号用于重复列表。"
   ]
  },
  {
   "cell_type": "code",
   "execution_count": 34,
   "id": "79135c32",
   "metadata": {},
   "outputs": [
    {
     "data": {
      "text/plain": [
       "3"
      ]
     },
     "execution_count": 34,
     "metadata": {},
     "output_type": "execute_result"
    }
   ],
   "source": [
    "# 1. len([1, 2, 3]) 3\t长度\n",
    "len([1,2,3])"
   ]
  },
  {
   "cell_type": "code",
   "execution_count": 35,
   "id": "ef84a7fa",
   "metadata": {},
   "outputs": [
    {
     "data": {
      "text/plain": [
       "[1, 2, 3, 4, 5, 6]"
      ]
     },
     "execution_count": 35,
     "metadata": {},
     "output_type": "execute_result"
    }
   ],
   "source": [
    "# 2. \n",
    "[1,2,3] + [4,5,6]"
   ]
  },
  {
   "cell_type": "code",
   "execution_count": 36,
   "id": "303d0905",
   "metadata": {},
   "outputs": [
    {
     "data": {
      "text/plain": [
       "['Hi', 'Hi', 'Hi', 'Hi']"
      ]
     },
     "execution_count": 36,
     "metadata": {},
     "output_type": "execute_result"
    }
   ],
   "source": [
    "[\"Hi\"]*4"
   ]
  },
  {
   "cell_type": "code",
   "execution_count": 37,
   "id": "8ab07b66",
   "metadata": {},
   "outputs": [
    {
     "data": {
      "text/plain": [
       "False"
      ]
     },
     "execution_count": 37,
     "metadata": {},
     "output_type": "execute_result"
    }
   ],
   "source": [
    "3 in [\"3\",2,1]"
   ]
  },
  {
   "cell_type": "code",
   "execution_count": 40,
   "id": "fd93a13f",
   "metadata": {},
   "outputs": [
    {
     "name": "stdout",
     "output_type": "stream",
     "text": [
      "1,2,3,"
     ]
    }
   ],
   "source": [
    "for x in [1,2,3]:\n",
    "    print(x, end = ',')"
   ]
  },
  {
   "cell_type": "markdown",
   "id": "f3b16c19",
   "metadata": {},
   "source": [
    "## 5. list's built in function"
   ]
  },
  {
   "cell_type": "markdown",
   "id": "2fe64aeb",
   "metadata": {},
   "source": [
    "* len()\n",
    "* max()\n",
    "* min()\n",
    "* sum()\n",
    "* list() # 将元组转换为列表\n",
    "* any()\n",
    "* all()\n",
    "* enumerate()"
   ]
  },
  {
   "cell_type": "code",
   "execution_count": 46,
   "id": "9c617c66",
   "metadata": {},
   "outputs": [],
   "source": [
    "a = [24,32,1,0,2]"
   ]
  },
  {
   "cell_type": "code",
   "execution_count": 47,
   "id": "5f85230d",
   "metadata": {},
   "outputs": [
    {
     "ename": "TypeError",
     "evalue": "'<' not supported between instances of 'str' and 'float'",
     "output_type": "error",
     "traceback": [
      "\u001b[0;31m---------------------------------------------------------------------------\u001b[0m",
      "\u001b[0;31mTypeError\u001b[0m                                 Traceback (most recent call last)",
      "Input \u001b[0;32mIn [47]\u001b[0m, in \u001b[0;36m<cell line: 1>\u001b[0;34m()\u001b[0m\n\u001b[0;32m----> 1\u001b[0m \u001b[38;5;28;43mmin\u001b[39;49m\u001b[43m(\u001b[49m\u001b[43m[\u001b[49m\u001b[38;5;28;43;01mTrue\u001b[39;49;00m\u001b[43m,\u001b[49m\u001b[38;5;241;43m0.3\u001b[39;49m\u001b[43m,\u001b[49m\u001b[38;5;124;43m\"\u001b[39;49m\u001b[38;5;124;43m2\u001b[39;49m\u001b[38;5;124;43m\"\u001b[39;49m\u001b[43m,\u001b[49m\u001b[38;5;241;43m3\u001b[39;49m\u001b[43m]\u001b[49m\u001b[43m)\u001b[49m\n",
      "\u001b[0;31mTypeError\u001b[0m: '<' not supported between instances of 'str' and 'float'"
     ]
    }
   ],
   "source": [
    "min([True,0.3,\"2\",3])"
   ]
  },
  {
   "cell_type": "code",
   "execution_count": 48,
   "id": "3810f18a",
   "metadata": {},
   "outputs": [
    {
     "data": {
      "text/plain": [
       "59"
      ]
     },
     "execution_count": 48,
     "metadata": {},
     "output_type": "execute_result"
    }
   ],
   "source": [
    "sum(a)"
   ]
  },
  {
   "cell_type": "code",
   "execution_count": 49,
   "id": "768db4b8",
   "metadata": {},
   "outputs": [
    {
     "data": {
      "text/plain": [
       "[0, 1, 2, 24, 32]"
      ]
     },
     "execution_count": 49,
     "metadata": {},
     "output_type": "execute_result"
    }
   ],
   "source": [
    "sorted(a) # 未保存结果"
   ]
  },
  {
   "cell_type": "code",
   "execution_count": 52,
   "id": "7d6df849",
   "metadata": {},
   "outputs": [
    {
     "data": {
      "text/plain": [
       "[32, 24, 2, 1, 0]"
      ]
     },
     "execution_count": 52,
     "metadata": {},
     "output_type": "execute_result"
    }
   ],
   "source": [
    "sorted(a, reverse = True)"
   ]
  },
  {
   "cell_type": "code",
   "execution_count": 53,
   "id": "0835cc0e",
   "metadata": {},
   "outputs": [
    {
     "data": {
      "text/plain": [
       "['吃', '饭', '了', '吗']"
      ]
     },
     "execution_count": 53,
     "metadata": {},
     "output_type": "execute_result"
    }
   ],
   "source": [
    "list(\"吃饭了吗\")"
   ]
  },
  {
   "cell_type": "code",
   "execution_count": 54,
   "id": "35e7baf2",
   "metadata": {},
   "outputs": [
    {
     "data": {
      "text/plain": [
       "[1, 2, 3]"
      ]
     },
     "execution_count": 54,
     "metadata": {},
     "output_type": "execute_result"
    }
   ],
   "source": [
    "list((1,2,3))"
   ]
  },
  {
   "cell_type": "code",
   "execution_count": 55,
   "id": "4d161af8",
   "metadata": {},
   "outputs": [
    {
     "data": {
      "text/plain": [
       "[3, 6, 9, 12, 15, 18]"
      ]
     },
     "execution_count": 55,
     "metadata": {},
     "output_type": "execute_result"
    }
   ],
   "source": [
    "list(range(3,19,3))"
   ]
  },
  {
   "cell_type": "code",
   "execution_count": 57,
   "id": "025f863a",
   "metadata": {},
   "outputs": [],
   "source": [
    "a = a + [True]"
   ]
  },
  {
   "cell_type": "code",
   "execution_count": 58,
   "id": "528e0a6e",
   "metadata": {},
   "outputs": [
    {
     "data": {
      "text/plain": [
       "True"
      ]
     },
     "execution_count": 58,
     "metadata": {},
     "output_type": "execute_result"
    }
   ],
   "source": [
    "any(a)"
   ]
  },
  {
   "cell_type": "code",
   "execution_count": 59,
   "id": "44f18fbf",
   "metadata": {},
   "outputs": [
    {
     "data": {
      "text/plain": [
       "False"
      ]
     },
     "execution_count": 59,
     "metadata": {},
     "output_type": "execute_result"
    }
   ],
   "source": [
    "all(a)"
   ]
  },
  {
   "cell_type": "code",
   "execution_count": 64,
   "id": "ae1bb812",
   "metadata": {},
   "outputs": [
    {
     "name": "stdout",
     "output_type": "stream",
     "text": [
      "stu is at 1 place\n",
      "Chen is at 2 place\n",
      "yifei is at 3 place\n"
     ]
    }
   ],
   "source": [
    "names = [\"stu\",'Chen',\"yifei\"]\n",
    "for i,n in enumerate(names):\n",
    "    print(f\"{n} is at {i+1} place\")"
   ]
  },
  {
   "cell_type": "markdown",
   "id": "514d071f",
   "metadata": {},
   "source": [
    "## 6. list's method "
   ]
  },
  {
   "cell_type": "markdown",
   "id": "03f5c502",
   "metadata": {},
   "source": [
    "* 只能由list object 调用的function"
   ]
  },
  {
   "cell_type": "code",
   "execution_count": 80,
   "id": "205be17f",
   "metadata": {},
   "outputs": [
    {
     "data": {
      "text/plain": [
       "['道明寺', '花泽类']"
      ]
     },
     "execution_count": 80,
     "metadata": {},
     "output_type": "execute_result"
    }
   ],
   "source": [
    "f4 = ['道明寺']\n",
    "f4.append('花泽类')\n",
    "f4"
   ]
  },
  {
   "cell_type": "code",
   "execution_count": 81,
   "id": "d792aef8",
   "metadata": {},
   "outputs": [
    {
     "data": {
      "text/plain": [
       "[0, 2, 4, 6, 8, 10, 12, 14, 16, 18]"
      ]
     },
     "execution_count": 81,
     "metadata": {},
     "output_type": "execute_result"
    }
   ],
   "source": [
    "a = []\n",
    "for i in range(10):\n",
    "    a.append(i*2)\n",
    "a"
   ]
  },
  {
   "cell_type": "code",
   "execution_count": 82,
   "id": "a770038e",
   "metadata": {},
   "outputs": [
    {
     "data": {
      "text/plain": [
       "['道明寺', '西门总二郎', '花泽类']"
      ]
     },
     "execution_count": 82,
     "metadata": {},
     "output_type": "execute_result"
    }
   ],
   "source": [
    "f4.insert(1,\"西门总二郎\")\n",
    "f4"
   ]
  },
  {
   "cell_type": "code",
   "execution_count": 83,
   "id": "cea87d8f",
   "metadata": {},
   "outputs": [
    {
     "data": {
      "text/plain": [
       "['美作玲', '道明寺', '西门总二郎', '花泽类']"
      ]
     },
     "execution_count": 83,
     "metadata": {},
     "output_type": "execute_result"
    }
   ],
   "source": [
    "f4.insert(0,\"美作玲\")\n",
    "f4"
   ]
  },
  {
   "cell_type": "code",
   "execution_count": 84,
   "id": "ca9d828f",
   "metadata": {},
   "outputs": [
    {
     "data": {
      "text/plain": [
       "'花泽类'"
      ]
     },
     "execution_count": 84,
     "metadata": {},
     "output_type": "execute_result"
    }
   ],
   "source": [
    "# 移除最后一位\n",
    "f4.pop()"
   ]
  },
  {
   "cell_type": "code",
   "execution_count": 85,
   "id": "c6f56f4b",
   "metadata": {},
   "outputs": [
    {
     "data": {
      "text/plain": [
       "['美作玲', '道明寺', '西门总二郎']"
      ]
     },
     "execution_count": 85,
     "metadata": {},
     "output_type": "execute_result"
    }
   ],
   "source": [
    "f4"
   ]
  },
  {
   "cell_type": "code",
   "execution_count": 86,
   "id": "6001e5df",
   "metadata": {},
   "outputs": [
    {
     "data": {
      "text/plain": [
       "'西门总二郎'"
      ]
     },
     "execution_count": 86,
     "metadata": {},
     "output_type": "execute_result"
    }
   ],
   "source": [
    "# 移除指定位置\n",
    "f4.pop(2)"
   ]
  },
  {
   "cell_type": "code",
   "execution_count": 87,
   "id": "22286c0f",
   "metadata": {},
   "outputs": [
    {
     "data": {
      "text/plain": [
       "['美作玲', '道明寺']"
      ]
     },
     "execution_count": 87,
     "metadata": {},
     "output_type": "execute_result"
    }
   ],
   "source": [
    "f4"
   ]
  },
  {
   "cell_type": "code",
   "execution_count": 88,
   "id": "63df362e",
   "metadata": {},
   "outputs": [],
   "source": [
    "f4 = f4*2"
   ]
  },
  {
   "cell_type": "code",
   "execution_count": 89,
   "id": "86177619",
   "metadata": {},
   "outputs": [
    {
     "data": {
      "text/plain": [
       "['美作玲', '美作玲', '道明寺']"
      ]
     },
     "execution_count": 89,
     "metadata": {},
     "output_type": "execute_result"
    }
   ],
   "source": [
    "f4.remove(\"道明寺\")\n",
    "f4"
   ]
  },
  {
   "cell_type": "code",
   "execution_count": 91,
   "id": "86d095ff",
   "metadata": {},
   "outputs": [
    {
     "data": {
      "text/plain": [
       "['美作玲', '美作玲', '道明寺', '唐僧', '孙悟空', '猪八戒', '沙和尚', '唐僧', '孙悟空', '猪八戒', '沙和尚']"
      ]
     },
     "execution_count": 91,
     "metadata": {},
     "output_type": "execute_result"
    }
   ],
   "source": [
    "# 类似于 +\n",
    "trueF4 = ['唐僧','孙悟空','猪八戒','沙和尚']\n",
    "f4.extend(trueF4)\n",
    "f4"
   ]
  },
  {
   "cell_type": "code",
   "execution_count": 92,
   "id": "b6eaf60b",
   "metadata": {},
   "outputs": [],
   "source": [
    "# extend()可以+多种数据结构\n",
    "# 1. 字符串：隐式转换 将str list() 后\n",
    "f4.extend(\"白龙马\")"
   ]
  },
  {
   "cell_type": "code",
   "execution_count": 93,
   "id": "57045dc8",
   "metadata": {},
   "outputs": [
    {
     "data": {
      "text/plain": [
       "['美作玲',\n",
       " '美作玲',\n",
       " '道明寺',\n",
       " '唐僧',\n",
       " '孙悟空',\n",
       " '猪八戒',\n",
       " '沙和尚',\n",
       " '唐僧',\n",
       " '孙悟空',\n",
       " '猪八戒',\n",
       " '沙和尚',\n",
       " '白',\n",
       " '龙',\n",
       " '马']"
      ]
     },
     "execution_count": 93,
     "metadata": {},
     "output_type": "execute_result"
    }
   ],
   "source": [
    "f4"
   ]
  },
  {
   "cell_type": "code",
   "execution_count": 94,
   "id": "04cf823c",
   "metadata": {},
   "outputs": [],
   "source": [
    "# 2. extend + set1\n",
    "set1 = {'尔康','紫薇','永琪','小燕子'}\n",
    "f4.extend(set1)"
   ]
  },
  {
   "cell_type": "code",
   "execution_count": 95,
   "id": "cd5df253",
   "metadata": {},
   "outputs": [
    {
     "data": {
      "text/plain": [
       "['美作玲',\n",
       " '美作玲',\n",
       " '道明寺',\n",
       " '唐僧',\n",
       " '孙悟空',\n",
       " '猪八戒',\n",
       " '沙和尚',\n",
       " '唐僧',\n",
       " '孙悟空',\n",
       " '猪八戒',\n",
       " '沙和尚',\n",
       " '白',\n",
       " '龙',\n",
       " '马',\n",
       " '永琪',\n",
       " '尔康',\n",
       " '小燕子',\n",
       " '紫薇']"
      ]
     },
     "execution_count": 95,
     "metadata": {},
     "output_type": "execute_result"
    }
   ],
   "source": [
    "f4"
   ]
  },
  {
   "cell_type": "markdown",
   "id": "022ffcdd",
   "metadata": {},
   "source": [
    "### 1. `copy( )` 和 list 的比较"
   ]
  },
  {
   "cell_type": "code",
   "execution_count": 124,
   "id": "7f05258b",
   "metadata": {},
   "outputs": [
    {
     "name": "stdout",
     "output_type": "stream",
     "text": [
      "140556196502080\n",
      "140556196726976\n"
     ]
    }
   ],
   "source": [
    "# 比较\n",
    "import operator\n",
    "a = [1,2]\n",
    "b = [2,3]\n",
    "c = [2,3]\n",
    "\n",
    "# 不同 object\n",
    "print(id(b))\n",
    "print(id(c))"
   ]
  },
  {
   "cell_type": "code",
   "execution_count": 125,
   "id": "e0c61d94",
   "metadata": {},
   "outputs": [
    {
     "data": {
      "text/plain": [
       "False"
      ]
     },
     "execution_count": 125,
     "metadata": {},
     "output_type": "execute_result"
    }
   ],
   "source": [
    "operator.eq(a,b)\n"
   ]
  },
  {
   "cell_type": "code",
   "execution_count": 126,
   "id": "30cd61fc",
   "metadata": {},
   "outputs": [
    {
     "data": {
      "text/plain": [
       "True"
      ]
     },
     "execution_count": 126,
     "metadata": {},
     "output_type": "execute_result"
    }
   ],
   "source": [
    "operator.eq(c,b)"
   ]
  },
  {
   "cell_type": "markdown",
   "id": "53cc6e20",
   "metadata": {},
   "source": [
    "* list 的function和method 容易出错，有时改变自身有时不改变\n",
    "* = VS list.copy()\n",
    "* list.sort() VS sorted()\n",
    "* list.reverse() VS reversed()"
   ]
  },
  {
   "cell_type": "code",
   "execution_count": 112,
   "id": "a5d7136a",
   "metadata": {},
   "outputs": [],
   "source": [
    "newf4 = f4\n",
    "# 两个variable是同一个object的标签"
   ]
  },
  {
   "cell_type": "code",
   "execution_count": 113,
   "id": "baf7f8f2",
   "metadata": {},
   "outputs": [
    {
     "data": {
      "text/plain": [
       "140556195722624"
      ]
     },
     "execution_count": 113,
     "metadata": {},
     "output_type": "execute_result"
    }
   ],
   "source": [
    "id(newf4)"
   ]
  },
  {
   "cell_type": "code",
   "execution_count": 114,
   "id": "e82fc2ba",
   "metadata": {},
   "outputs": [
    {
     "data": {
      "text/plain": [
       "140556195722624"
      ]
     },
     "execution_count": 114,
     "metadata": {},
     "output_type": "execute_result"
    }
   ],
   "source": [
    "id(f4)"
   ]
  },
  {
   "cell_type": "code",
   "execution_count": 115,
   "id": "c0c74255",
   "metadata": {},
   "outputs": [
    {
     "data": {
      "text/plain": [
       "[]"
      ]
     },
     "execution_count": 115,
     "metadata": {},
     "output_type": "execute_result"
    }
   ],
   "source": [
    "newf4.clear()\n",
    "newf4"
   ]
  },
  {
   "cell_type": "code",
   "execution_count": 116,
   "id": "05d2f31f",
   "metadata": {},
   "outputs": [
    {
     "data": {
      "text/plain": [
       "[]"
      ]
     },
     "execution_count": 116,
     "metadata": {},
     "output_type": "execute_result"
    }
   ],
   "source": [
    "f4"
   ]
  },
  {
   "cell_type": "markdown",
   "id": "2f6013f0",
   "metadata": {},
   "source": [
    "* 所以我们用copy()"
   ]
  },
  {
   "cell_type": "code",
   "execution_count": 96,
   "id": "5ddb8906",
   "metadata": {},
   "outputs": [
    {
     "data": {
      "text/plain": [
       "['美作玲',\n",
       " '美作玲',\n",
       " '道明寺',\n",
       " '唐僧',\n",
       " '孙悟空',\n",
       " '猪八戒',\n",
       " '沙和尚',\n",
       " '唐僧',\n",
       " '孙悟空',\n",
       " '猪八戒',\n",
       " '沙和尚',\n",
       " '白',\n",
       " '龙',\n",
       " '马',\n",
       " '永琪',\n",
       " '尔康',\n",
       " '小燕子',\n",
       " '紫薇']"
      ]
     },
     "execution_count": 96,
     "metadata": {},
     "output_type": "execute_result"
    }
   ],
   "source": [
    "newf4 = f4.copy()\n",
    "newf4"
   ]
  },
  {
   "cell_type": "code",
   "execution_count": 98,
   "id": "c46bdf51",
   "metadata": {},
   "outputs": [],
   "source": [
    "newf4.clear()"
   ]
  },
  {
   "cell_type": "code",
   "execution_count": 100,
   "id": "78c350f0",
   "metadata": {},
   "outputs": [
    {
     "data": {
      "text/plain": [
       "[]"
      ]
     },
     "execution_count": 100,
     "metadata": {},
     "output_type": "execute_result"
    }
   ],
   "source": [
    "newf4 # 空list"
   ]
  },
  {
   "cell_type": "markdown",
   "id": "271775c6",
   "metadata": {},
   "source": [
    "### 2. 搜索 统计 排序"
   ]
  },
  {
   "cell_type": "markdown",
   "id": "ddef0c41",
   "metadata": {},
   "source": [
    "* list.index()\n",
    "* list.count()\n",
    "* list.reverse()\n",
    "* list.sort()"
   ]
  },
  {
   "cell_type": "code",
   "execution_count": 101,
   "id": "6f68cd96",
   "metadata": {},
   "outputs": [
    {
     "data": {
      "text/plain": [
       "11"
      ]
     },
     "execution_count": 101,
     "metadata": {},
     "output_type": "execute_result"
    }
   ],
   "source": [
    "# 返回第一个所查找的元素索引\n",
    "f4.index(\"白\")"
   ]
  },
  {
   "cell_type": "code",
   "execution_count": 102,
   "id": "e156c008",
   "metadata": {},
   "outputs": [
    {
     "ename": "ValueError",
     "evalue": "'Stu' is not in list",
     "output_type": "error",
     "traceback": [
      "\u001b[0;31m---------------------------------------------------------------------------\u001b[0m",
      "\u001b[0;31mValueError\u001b[0m                                Traceback (most recent call last)",
      "Input \u001b[0;32mIn [102]\u001b[0m, in \u001b[0;36m<cell line: 2>\u001b[0;34m()\u001b[0m\n\u001b[1;32m      1\u001b[0m \u001b[38;5;66;03m# 如果搜索不到\u001b[39;00m\n\u001b[0;32m----> 2\u001b[0m \u001b[43mf4\u001b[49m\u001b[38;5;241;43m.\u001b[39;49m\u001b[43mindex\u001b[49m\u001b[43m(\u001b[49m\u001b[38;5;124;43m\"\u001b[39;49m\u001b[38;5;124;43mStu\u001b[39;49m\u001b[38;5;124;43m\"\u001b[39;49m\u001b[43m)\u001b[49m\n",
      "\u001b[0;31mValueError\u001b[0m: 'Stu' is not in list"
     ]
    }
   ],
   "source": [
    "# 如果搜索不到，会抛出一个ValueError，可以try&except使用\n",
    "f4.index(\"Stu\")"
   ]
  },
  {
   "cell_type": "code",
   "execution_count": 105,
   "id": "035e971f",
   "metadata": {},
   "outputs": [
    {
     "name": "stdout",
     "output_type": "stream",
     "text": [
      "很抱歉他不够帅\n"
     ]
    }
   ],
   "source": [
    "# 如果搜索不到，会抛出一个ValueError，可以try&except使用\n",
    "try:\n",
    "    f4.index(\"Stu\")\n",
    "except:\n",
    "    print(\"很抱歉他不够帅\")"
   ]
  },
  {
   "cell_type": "code",
   "execution_count": 107,
   "id": "4ca95546",
   "metadata": {},
   "outputs": [],
   "source": [
    "# 会改变a本身的顺序\n",
    "a.sort(reverse = True)"
   ]
  },
  {
   "cell_type": "code",
   "execution_count": 108,
   "id": "21e9f0bf",
   "metadata": {},
   "outputs": [
    {
     "data": {
      "text/plain": [
       "[18, 16, 14, 12, 10, 8, 6, 4, 2, 0]"
      ]
     },
     "execution_count": 108,
     "metadata": {},
     "output_type": "execute_result"
    }
   ],
   "source": [
    "a"
   ]
  },
  {
   "cell_type": "code",
   "execution_count": 109,
   "id": "faa2c0cb",
   "metadata": {},
   "outputs": [
    {
     "data": {
      "text/plain": [
       "[0, 2, 4, 6, 8, 10, 12, 14, 16, 18]"
      ]
     },
     "execution_count": 109,
     "metadata": {},
     "output_type": "execute_result"
    }
   ],
   "source": [
    "a.sort()\n",
    "a"
   ]
  },
  {
   "cell_type": "code",
   "execution_count": 110,
   "id": "5fdd3dbd",
   "metadata": {},
   "outputs": [
    {
     "data": {
      "text/plain": [
       "[0, 2, 4, 6, 8, 10, 12, 14, 16, 18]"
      ]
     },
     "execution_count": 110,
     "metadata": {},
     "output_type": "execute_result"
    }
   ],
   "source": [
    "# 可以自己设定排序规则，用一个函数定义\n",
    "# eg. 使用绝对值\n",
    "a.sort(key = abs)\n",
    "a"
   ]
  },
  {
   "cell_type": "markdown",
   "id": "fabae9f4",
   "metadata": {},
   "source": [
    "## 补充 comprehension\n",
    "* 数学：推到式"
   ]
  },
  {
   "cell_type": "code",
   "execution_count": 117,
   "id": "40db3c43",
   "metadata": {},
   "outputs": [
    {
     "name": "stdout",
     "output_type": "stream",
     "text": [
      "[0, 2, 4, 6, 8, 10, 12, 14, 16, 18]\n"
     ]
    }
   ],
   "source": [
    "cheng = []\n",
    "for i in range(10):\n",
    "    cheng.append(i*2)\n",
    "print(cheng)"
   ]
  },
  {
   "cell_type": "code",
   "execution_count": 118,
   "id": "1b60667b",
   "metadata": {},
   "outputs": [
    {
     "name": "stdout",
     "output_type": "stream",
     "text": [
      "[0, 2, 4, 6, 8, 10, 12, 14, 16, 18]\n"
     ]
    }
   ],
   "source": [
    "cheng1 = [i*2 for i in range(10)]\n",
    "print(cheng)"
   ]
  },
  {
   "cell_type": "code",
   "execution_count": 119,
   "id": "d835190d",
   "metadata": {},
   "outputs": [],
   "source": [
    "# 每个str元素加个一\n",
    "word = ['往无前','无所有']\n",
    "word =  [\"一\"+ i for i in word]"
   ]
  },
  {
   "cell_type": "code",
   "execution_count": 120,
   "id": "c6fb1ce7",
   "metadata": {},
   "outputs": [
    {
     "data": {
      "text/plain": [
       "['一往无前', '一无所有']"
      ]
     },
     "execution_count": 120,
     "metadata": {},
     "output_type": "execute_result"
    }
   ],
   "source": [
    "word"
   ]
  },
  {
   "cell_type": "code",
   "execution_count": 123,
   "id": "fb01745e",
   "metadata": {},
   "outputs": [],
   "source": [
    "# 可以加个if判断\n",
    "number = [1,2,3,4,5,6,7,8,9]\n",
    "# 无法被2整除的数字乘加到number2 list 中\n",
    "number2 = [i*2 for i in number if i%2 != 0]"
   ]
  },
  {
   "cell_type": "code",
   "execution_count": 122,
   "id": "59a8e61d",
   "metadata": {},
   "outputs": [
    {
     "data": {
      "text/plain": [
       "[2, 6, 10, 14, 18]"
      ]
     },
     "execution_count": 122,
     "metadata": {},
     "output_type": "execute_result"
    }
   ],
   "source": [
    "number2"
   ]
  },
  {
   "cell_type": "code",
   "execution_count": null,
   "id": "74f86fa8",
   "metadata": {},
   "outputs": [],
   "source": []
  }
 ],
 "metadata": {
  "kernelspec": {
   "display_name": "Python 3 (ipykernel)",
   "language": "python",
   "name": "python3"
  },
  "language_info": {
   "codemirror_mode": {
    "name": "ipython",
    "version": 3
   },
   "file_extension": ".py",
   "mimetype": "text/x-python",
   "name": "python",
   "nbconvert_exporter": "python",
   "pygments_lexer": "ipython3",
   "version": "3.9.12"
  }
 },
 "nbformat": 4,
 "nbformat_minor": 5
}
