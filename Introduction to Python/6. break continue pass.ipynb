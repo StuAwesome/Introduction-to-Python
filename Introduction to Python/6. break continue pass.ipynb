{
 "cells": [
  {
   "cell_type": "markdown",
   "id": "7cc36e3b",
   "metadata": {},
   "source": [
    "# 6. 关键字`break continue pass` "
   ]
  },
  {
   "cell_type": "markdown",
   "id": "708b391d",
   "metadata": {},
   "source": [
    "## 6.1 break"
   ]
  },
  {
   "cell_type": "markdown",
   "id": "854e7423",
   "metadata": {},
   "source": [
    "* 可以结束一个`for loop`或者`while loop`\n",
    "    * 直接跳出**当前**循环 = 结束循环\n",
    "    * nested loop 时，只跳出当前循环"
   ]
  },
  {
   "cell_type": "code",
   "execution_count": 1,
   "id": "e7860cc3",
   "metadata": {},
   "outputs": [
    {
     "name": "stdout",
     "output_type": "stream",
     "text": [
      "Stu\n"
     ]
    }
   ],
   "source": [
    "while True:\n",
    "    print(\"Stu\")\n",
    "    break\n",
    "else:\n",
    "    print(\"StuAwesome\")"
   ]
  },
  {
   "cell_type": "markdown",
   "id": "46e0ea8f",
   "metadata": {},
   "source": [
    "## 6.2 continue"
   ]
  },
  {
   "cell_type": "markdown",
   "id": "c531494f",
   "metadata": {},
   "source": [
    "* 使用continue关键字可以跳过conitnue后面的代码\n",
    "* 然后进入下一次循环。"
   ]
  },
  {
   "cell_type": "code",
   "execution_count": 5,
   "id": "8e022aee",
   "metadata": {},
   "outputs": [
    {
     "name": "stdout",
     "output_type": "stream",
     "text": [
      "11\n"
     ]
    }
   ],
   "source": [
    "sequence = [1,None,0,4,6,5,2,1]\n",
    "total_until_5 = 0\n",
    "\n",
    "for value in sequence:\n",
    "    if value is None:\n",
    "        continue\n",
    "    elif value == 5:\n",
    "        break\n",
    "    total_until_5 += value\n",
    "    \n",
    "print(total_until_5)\n"
   ]
  },
  {
   "cell_type": "markdown",
   "id": "349c1026",
   "metadata": {},
   "source": [
    "## 6.3 pass"
   ]
  },
  {
   "cell_type": "markdown",
   "id": "5991f6e9",
   "metadata": {},
   "source": [
    "* pass就是Python中的“什么都不做”的语句。它用于在代码段中表示不执行任何操作 (或者是作为还没有实现的代码占位符)。之所以需要它，是因为Python使用了缩进来分隔代码块\n",
    "* 没有意义，先占个位置，方便以后改动"
   ]
  },
  {
   "cell_type": "code",
   "execution_count": 2,
   "id": "aa419270",
   "metadata": {},
   "outputs": [
    {
     "ename": "NameError",
     "evalue": "name 'x' is not defined",
     "output_type": "error",
     "traceback": [
      "\u001b[0;31m---------------------------------------------------------------------------\u001b[0m",
      "\u001b[0;31mNameError\u001b[0m                                 Traceback (most recent call last)",
      "Input \u001b[0;32mIn [2]\u001b[0m, in \u001b[0;36m<cell line: 1>\u001b[0;34m()\u001b[0m\n\u001b[0;32m----> 1\u001b[0m \u001b[38;5;28;01mif\u001b[39;00m \u001b[43mx\u001b[49m \u001b[38;5;241m<\u001b[39m \u001b[38;5;241m0\u001b[39m:\n\u001b[1;32m      2\u001b[0m     \u001b[38;5;28mprint\u001b[39m(\u001b[38;5;124m\"\u001b[39m\u001b[38;5;124mnegative\u001b[39m\u001b[38;5;124m\"\u001b[39m)\n\u001b[1;32m      3\u001b[0m \u001b[38;5;28;01melif\u001b[39;00m x \u001b[38;5;241m==\u001b[39m \u001b[38;5;241m0\u001b[39m:\n",
      "\u001b[0;31mNameError\u001b[0m: name 'x' is not defined"
     ]
    }
   ],
   "source": [
    "if x < 0:\n",
    "    print(\"negative\")\n",
    "elif x == 0:\n",
    "    pass # 没有意义，先占个位置，方便以后改动\n",
    "else:\n",
    "    print(\"positive\")"
   ]
  },
  {
   "cell_type": "code",
   "execution_count": null,
   "id": "76513ce9",
   "metadata": {},
   "outputs": [],
   "source": []
  }
 ],
 "metadata": {
  "kernelspec": {
   "display_name": "Python 3 (ipykernel)",
   "language": "python",
   "name": "python3"
  },
  "language_info": {
   "codemirror_mode": {
    "name": "ipython",
    "version": 3
   },
   "file_extension": ".py",
   "mimetype": "text/x-python",
   "name": "python",
   "nbconvert_exporter": "python",
   "pygments_lexer": "ipython3",
   "version": "3.9.12"
  }
 },
 "nbformat": 4,
 "nbformat_minor": 5
}
