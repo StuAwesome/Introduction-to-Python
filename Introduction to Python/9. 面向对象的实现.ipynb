{
 "cells": [
  {
   "cell_type": "markdown",
   "id": "639cb83c",
   "metadata": {},
   "source": [
    "# 面向对象的实现\n",
    "> 1. 类\n",
    "> 2. 继承\n",
    "> 3. 私有属性和私有方法"
   ]
  },
  {
   "cell_type": "markdown",
   "id": "c52405cc",
   "metadata": {},
   "source": [
    "# 类定义\n",
    "```python\n",
    "class ClassName:\n",
    "    <statement-1>\n",
    "    .\n",
    "    .\n",
    "    .\n",
    "    <statement-N>\n",
    "```"
   ]
  },
  {
   "cell_type": "markdown",
   "id": "3403a85d",
   "metadata": {},
   "source": [
    "## 1. 构造方法\n",
    "* 类有一个名为 `__init__()` 的特殊方法（构造方法），该方法在类实例化时会自动调用"
   ]
  },
  {
   "cell_type": "markdown",
   "id": "755e50c5",
   "metadata": {},
   "source": [
    "## 2. self代表类的实例，而非类\n",
    "* 类method与普通的函数只有一个特别的区别: 它们必须有一个额外的第一个参数名称, 按照惯例它的名称是 self。\n",
    "* self不是 python 关键字，我们把他换成 runoob 也是可以正常执行的"
   ]
  },
  {
   "cell_type": "code",
   "execution_count": 3,
   "id": "0e6b8328",
   "metadata": {},
   "outputs": [],
   "source": [
    "class people:\n",
    "    '''\n",
    "    定义 人 这个类\n",
    "    '''\n",
    "    \n",
    "    # 1. 定义类的属性\n",
    "    name = ''\n",
    "    age = 0\n",
    "    # 2. 定义私有属性,私有属性在类外部无法直接进行访问\n",
    "    __weight = 0\n",
    "    \n",
    "    # 3. 定义「构造方法」 每个类必须有的方法\n",
    "        # 实例化 or 创建object时自动调用\n",
    "    def __init__(self,name,age,weight):\n",
    "        self.name = name\n",
    "        self.age = age\n",
    "        self.__weight = weight\n",
    "        print(\"我有个人信息\")\n",
    "    \n",
    "    # 4. 类的公共 method 有两种调用\n",
    "    def speak(self):\n",
    "        print(\"%s 说: 我 %d 岁。\" %(self.name,self.age))\n",
    "        # 私有属性可以被method使用\n",
    "        print(self.__weight)\n"
   ]
  },
  {
   "cell_type": "markdown",
   "id": "c9814251",
   "metadata": {},
   "source": [
    "## 3. 类的方法\n",
    "* 在类的内部，使用 def 关键字来定义一个方法，与一般函数定义不同，类方法必须包含参数 self, 且为第一个参数，self 代表的是类的实例。\n",
    "* 上面第四步"
   ]
  },
  {
   "cell_type": "markdown",
   "id": "59dfcd2d",
   "metadata": {},
   "source": [
    "## 4. 私有属性\n",
    "* 两个下划线开头，声明该方法为私有方法，不能在类地外部调用。\n",
    "* Python不允许实例化的类访问私有数据，但你可以使用 object._className__attrName 访问属性，将如下代码替换以上代码的最后一行代码：\n",
    "\n",
    "#### 私有方法（下一节）\n",
    "* 类也有私有method"
   ]
  },
  {
   "cell_type": "code",
   "execution_count": 4,
   "id": "42800f48",
   "metadata": {},
   "outputs": [
    {
     "name": "stdout",
     "output_type": "stream",
     "text": [
      "我有个人信息\n",
      "stu 说: 我 30 岁。\n",
      "100\n"
     ]
    }
   ],
   "source": [
    "people1 = people(\"stu\",30,100)\n",
    "people1.speak()"
   ]
  },
  {
   "cell_type": "code",
   "execution_count": 5,
   "id": "ac094a62",
   "metadata": {},
   "outputs": [
    {
     "ename": "AttributeError",
     "evalue": "type object 'people' has no attribute '__weight'",
     "output_type": "error",
     "traceback": [
      "\u001b[0;31m---------------------------------------------------------------------------\u001b[0m",
      "\u001b[0;31mAttributeError\u001b[0m                            Traceback (most recent call last)",
      "Input \u001b[0;32mIn [5]\u001b[0m, in \u001b[0;36m<cell line: 1>\u001b[0;34m()\u001b[0m\n\u001b[0;32m----> 1\u001b[0m \u001b[43mpeople\u001b[49m\u001b[38;5;241;43m.\u001b[39;49m\u001b[43m__weight\u001b[49m\n",
      "\u001b[0;31mAttributeError\u001b[0m: type object 'people' has no attribute '__weight'"
     ]
    }
   ],
   "source": [
    "people.__weight\n",
    "# AttributeError: type object 'people' has no attribute '__weight'"
   ]
  },
  {
   "cell_type": "code",
   "execution_count": 7,
   "id": "c4f241e6",
   "metadata": {},
   "outputs": [
    {
     "data": {
      "text/plain": [
       "100"
      ]
     },
     "execution_count": 7,
     "metadata": {},
     "output_type": "execute_result"
    }
   ],
   "source": [
    "people1._people__weight"
   ]
  },
  {
   "cell_type": "markdown",
   "id": "8d8297d3",
   "metadata": {},
   "source": [
    "# 继承"
   ]
  },
  {
   "cell_type": "markdown",
   "id": "ab5da1c6",
   "metadata": {},
   "source": [
    "* 子类（派生类 DerivedClassName）会继承父类（基类 BaseClassName）的属性和方法。\n",
    "```python\n",
    "class DerivedClassName(BaseClassName):\n",
    "    <statement-1>\n",
    "    .\n",
    "    .\n",
    "    .\n",
    "    <statement-N>\n",
    "```\n",
    "* **NOTE:**\n",
    "    1. 子类如何调用父类的方法\n",
    "    2. method重写\n",
    "        * 如果你的父类方法的功能不能满足你的需求，你可以在子类重写你父类的方法\n",
    "    3. 单继承 VS 多继承"
   ]
  },
  {
   "cell_type": "markdown",
   "id": "a8dfa737",
   "metadata": {},
   "source": [
    "## 1. 单继承"
   ]
  },
  {
   "cell_type": "code",
   "execution_count": 18,
   "id": "03b9c531",
   "metadata": {},
   "outputs": [],
   "source": [
    "#类定义\n",
    "class people:\n",
    "    # 1. 定义类的属性\n",
    "    name = ''\n",
    "    age = 0\n",
    "    # 2. 定义私有属性,私有属性在类外部无法直接进行访问\n",
    "    __weight = 0\n",
    "    # 3. 定义构造方法\n",
    "    def __init__(self,n,a,w):\n",
    "        self.name = n\n",
    "        self.age = a\n",
    "        self.__weight = w\n",
    "        \n",
    "    # 4. 定义公有方法\n",
    "    def speak(self):\n",
    "        print(\"%s 说: 我 %d 岁。\" %(self.name,self.age))\n",
    " \n",
    "# 单继承示例\n",
    "class student(people):\n",
    "    \n",
    "    # 1. 定义继承类的属性\n",
    "        # 自动继承父类的属性\n",
    "    grade = ''\n",
    "    \n",
    "    \n",
    "    \n",
    "    # 2. 定义构造方法，内部调用父类函数方便改写\n",
    "    def __init__(self,n,a,w,g):\n",
    "        \n",
    "        # self.name = n\n",
    "        # self.age = a\n",
    "        # self.__weight = w\n",
    "        \n",
    "        #调用父类的构函 （上面三行就可以不写了）\n",
    "        people.__init__(self,n,a,w)\n",
    "        self.grade = g\n",
    "        \n",
    "        \n",
    "    #覆写父类的方法\n",
    "    def speak(self):\n",
    "        print(\"%s 说: 我 %d 岁了，我在读 %d 年级\"%(self.name,self.age,self.grade))"
   ]
  },
  {
   "cell_type": "code",
   "execution_count": 19,
   "id": "3eb070df",
   "metadata": {},
   "outputs": [
    {
     "name": "stdout",
     "output_type": "stream",
     "text": [
      "stu 说: 我 25 岁了，我在读 13 年级\n"
     ]
    }
   ],
   "source": [
    "stu = student(\"stu\",25,100,13)\n",
    "student.speak(stu) # 第二种调用method的方法 class.method(instance)"
   ]
  },
  {
   "cell_type": "code",
   "execution_count": 20,
   "id": "fc7259a7",
   "metadata": {},
   "outputs": [
    {
     "name": "stdout",
     "output_type": "stream",
     "text": [
      "stu 说: 我 25 岁。\n"
     ]
    }
   ],
   "source": [
    "# 调用父类方法\n",
    "super(student,stu).speak()"
   ]
  },
  {
   "cell_type": "markdown",
   "id": "da272fbb",
   "metadata": {},
   "source": [
    "## 2. 多继承"
   ]
  },
  {
   "cell_type": "markdown",
   "id": "b63549b4",
   "metadata": {},
   "source": [
    "* 需要注意圆括号中父类的顺序，若是父类中有相同的方法名，而在子类使用时未指定(重写)，\n",
    "* python从左至右搜索 即方法在子类中未找到时，从左到右查找父类中是否包含方法。\n",
    "\n",
    "```python\n",
    "class DerivedClassName(Base1, Base2, Base3):\n",
    "    <statement-1>\n",
    "    .\n",
    "    .\n",
    "    .\n",
    "    <statement-N>\n",
    "```"
   ]
  },
  {
   "cell_type": "code",
   "execution_count": 21,
   "id": "5d8f3540",
   "metadata": {},
   "outputs": [
    {
     "name": "stdout",
     "output_type": "stream",
     "text": [
      "我叫 Tim，我是一个演说家，我演讲的主题是 Python\n"
     ]
    }
   ],
   "source": [
    "class people:\n",
    "    #定义基本属性\n",
    "    name = ''\n",
    "    age = 0\n",
    "    #定义私有属性,私有属性在类外部无法直接进行访问\n",
    "    __weight = 0\n",
    "    #定义构造方法\n",
    "    def __init__(self,n,a,w):\n",
    "        self.name = n\n",
    "        self.age = a\n",
    "        self.__weight = w\n",
    "    def speak(self):\n",
    "        print(\"%s 说: 我 %d 岁。\" %(self.name,self.age))\n",
    "\n",
    "        \n",
    "# 1. 单继承\n",
    "class student(people):\n",
    "    grade = ''\n",
    "    def __init__(self,n,a,w,g):\n",
    "        #调用父类的构函\n",
    "        people.__init__(self,n,a,w)\n",
    "        self.grade = g\n",
    "    #覆写父类的方法\n",
    "    def speak(self):\n",
    "        print(\"%s 说: 我 %d 岁了，我在读 %d 年级\"%(self.name,self.age,self.grade))\n",
    "        \n",
    "        \n",
    "        \n",
    "        \n",
    "        \n",
    "\n",
    "# 2. 另一个类，多重继承之前的准备\n",
    "class speaker():\n",
    "    topic = ''\n",
    "    name = ''\n",
    "    def __init__(self,n,t):\n",
    "        self.name = n\n",
    "        self.topic = t\n",
    "    def speak(self):\n",
    "        print(\"我叫 %s，我是一个演说家，我演讲的主题是 %s\"%(self.name,self.topic))\n",
    "        \n",
    "        \n",
    "        \n",
    "        \n",
    "        \n",
    "\n",
    "#3. 多重继承\n",
    "class sample(speaker,student):\n",
    "    a =''\n",
    "    def __init__(self,n,a,w,g,t):\n",
    "        student.__init__(self,n,a,w,g)\n",
    "        speaker.__init__(self,n,t)\n",
    "\n",
    "test = sample(\"Tim\",25,80,4,\"Python\")\n",
    "test.speak()   #方法名同，默认调用的是在括号中参数位置排前父类的方法"
   ]
  },
  {
   "cell_type": "code",
   "execution_count": 23,
   "id": "730c74cf",
   "metadata": {},
   "outputs": [
    {
     "name": "stdout",
     "output_type": "stream",
     "text": [
      "我是个演说家，也是个学生\n"
     ]
    }
   ],
   "source": [
    "#3. 多重继承 重写方法\n",
    "class sample(speaker,student):\n",
    "    a =''\n",
    "    def __init__(self,n,a,w,g,t):\n",
    "        student.__init__(self,n,a,w,g)\n",
    "        speaker.__init__(self,n,t)\n",
    "    def speak(self):\n",
    "        print(\"我是个演说家，也是个学生\")\n",
    "test = sample(\"Tim\",25,80,4,\"Python\")\n",
    "test.speak()   #方法名同，默认调用的是在括号中参数位置排前父类的方法"
   ]
  },
  {
   "cell_type": "markdown",
   "id": "99e7f0ff",
   "metadata": {},
   "source": [
    "# 类属性与方法\n",
    "# 私有属性 私有方法"
   ]
  },
  {
   "cell_type": "markdown",
   "id": "5ac75014",
   "metadata": {},
   "source": [
    "1. `__private_attrs`：两个下划线开头，声明该属性为私有，不能在类的外部被使用或直接访问。在类内部的方法中使用时 `self.__private_attrs`。"
   ]
  },
  {
   "cell_type": "markdown",
   "id": "11c92210",
   "metadata": {},
   "source": [
    "2. `__private_method`：两个下划线开头，声明该方法为私有方法，只能在类的内部调用 ，不能在类的外部调用。`self.__private_methods`。"
   ]
  },
  {
   "cell_type": "markdown",
   "id": "c2c22934",
   "metadata": {},
   "source": [
    "3. `merhod`: 在类的内部，使用 `def` 关键字来定义一个方法，与一般函数定义不同，类方法必须包含参数 `self`，且为第一个参数\n",
    "    * self 代表的是类的实例。\n",
    "    * self 的名字并不是规定死的，也可以使用 this，但是最好还是按照约定使用 self。"
   ]
  },
  {
   "cell_type": "code",
   "execution_count": 30,
   "id": "4a45d1a1",
   "metadata": {},
   "outputs": [],
   "source": [
    "class website:\n",
    "    def __init__(self, name, url):\n",
    "        self.name = name       # public\n",
    "        self.__url = url   # private\n",
    "                           # 私有方法可以被类内部的method使用\n",
    "    def speak(self):\n",
    "        print('name  : ', self.name)\n",
    "        print('url : ', self.__url) # 1. 私有方法可：以被类内部的method使用\n",
    " \n",
    "    def __f(self):          # 2.私有方法：能被其他内部类调用\n",
    "        print('2. 私有方法被公有方法调用')\n",
    " \n",
    "    def f(self):            # 公共方法\n",
    "        print('1. 公共方法被调用')\n",
    "        self.__f()# 3. 调用 私有方法"
   ]
  },
  {
   "cell_type": "code",
   "execution_count": 31,
   "id": "60188386",
   "metadata": {},
   "outputs": [
    {
     "name": "stdout",
     "output_type": "stream",
     "text": [
      "name  :  baidu\n",
      "url :  www.baidu.com\n",
      "1. 公共方法被调用\n",
      "2. 私有方法被公有方法调用\n"
     ]
    }
   ],
   "source": [
    "web = website(\"baidu\",\"www.baidu.com\")\n",
    "web.speak()\n",
    "web.f()"
   ]
  },
  {
   "cell_type": "code",
   "execution_count": 33,
   "id": "ab4a9283",
   "metadata": {},
   "outputs": [
    {
     "ename": "AttributeError",
     "evalue": "'website' object has no attribute '__f'",
     "output_type": "error",
     "traceback": [
      "\u001b[0;31m---------------------------------------------------------------------------\u001b[0m",
      "\u001b[0;31mAttributeError\u001b[0m                            Traceback (most recent call last)",
      "Input \u001b[0;32mIn [33]\u001b[0m, in \u001b[0;36m<cell line: 1>\u001b[0;34m()\u001b[0m\n\u001b[0;32m----> 1\u001b[0m \u001b[43mweb\u001b[49m\u001b[38;5;241;43m.\u001b[39;49m\u001b[43m__f\u001b[49m()\n",
      "\u001b[0;31mAttributeError\u001b[0m: 'website' object has no attribute '__f'"
     ]
    }
   ],
   "source": [
    "web.__f()\n",
    "# AttributeError: 'website' object has no attribute '__f'"
   ]
  },
  {
   "cell_type": "code",
   "execution_count": null,
   "id": "062d5e33",
   "metadata": {},
   "outputs": [],
   "source": []
  }
 ],
 "metadata": {
  "kernelspec": {
   "display_name": "Python 3 (ipykernel)",
   "language": "python",
   "name": "python3"
  },
  "language_info": {
   "codemirror_mode": {
    "name": "ipython",
    "version": 3
   },
   "file_extension": ".py",
   "mimetype": "text/x-python",
   "name": "python",
   "nbconvert_exporter": "python",
   "pygments_lexer": "ipython3",
   "version": "3.9.12"
  }
 },
 "nbformat": 4,
 "nbformat_minor": 5
}
