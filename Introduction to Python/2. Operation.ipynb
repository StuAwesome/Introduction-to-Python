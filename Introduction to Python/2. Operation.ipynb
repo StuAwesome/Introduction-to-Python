{
 "cells": [
  {
   "cell_type": "markdown",
   "id": "7ce61581",
   "metadata": {},
   "source": [
    "# 2 Operations 运算符"
   ]
  },
  {
   "cell_type": "markdown",
   "id": "beaa592d",
   "metadata": {},
   "source": [
    "* 如何写好代码\n",
    "    1. 多看别人写的代码，自己尝试\n",
    "           * python example\n",
    "           * github\n",
    "           * kaggle\n",
    "           \n",
    "  "
   ]
  },
  {
   "cell_type": "markdown",
   "id": "d1154c23",
   "metadata": {},
   "source": [
    "## 2.1 Mathematical operations"
   ]
  },
  {
   "cell_type": "markdown",
   "id": "ee35fe8d",
   "metadata": {},
   "source": [
    "* 算数运算符\n",
    "* You can conduct mathematical operations on variables\n",
    "\n",
    "| Operator     | Name           | Description                                            |\n",
    "|--------------|----------------|--------------------------------------------------------|\n",
    "| ``a + b``    | Addition       | Sum of ``a`` and ``b``                                 |\n",
    "| ``a - b``    | Subtraction    | Difference of ``a`` and ``b``                          |\n",
    "| ``a * b``    | Multiplication | Product of ``a`` and ``b``                             |\n",
    "| ``a / b``    | True division  | Quotient of ``a`` and ``b``                            |\n",
    "| ``a // b``   | Floor division | Quotient of ``a`` and ``b``, removing fractional parts |\n",
    "| ``a % b``    | Modulus        | Integer remainder after division of ``a`` by ``b``     |\n",
    "| ``a ** b``   | Exponentiation | ``a`` raised to the power of ``b``                     |\n",
    "| ``-a``       | Negation       | The negative of ``a``                                  |"
   ]
  },
  {
   "cell_type": "code",
   "execution_count": 2,
   "id": "35292888",
   "metadata": {},
   "outputs": [
    {
     "data": {
      "text/plain": [
       "2"
      ]
     },
     "execution_count": 2,
     "metadata": {},
     "output_type": "execute_result"
    }
   ],
   "source": [
    "5//2"
   ]
  },
  {
   "cell_type": "code",
   "execution_count": 12,
   "id": "aec78da5",
   "metadata": {},
   "outputs": [
    {
     "name": "stdout",
     "output_type": "stream",
     "text": [
      "“孙悟空，我叫你一声，”你敢答应吗？\n"
     ]
    }
   ],
   "source": [
    "#用代码表示： 三乘上七十二的积，加上四百除于二十的 一加二 次方，最后的计算结果整除1；\n",
    "(3*72+420**(1+2))//1\n",
    "\n",
    "Yinjiaodawang = \"“孙悟空，我叫你一声，”\"\n",
    "yinjiaodawang = \"你敢答应吗？\"\n",
    "YINJIAODAWANG = Yinjiaodawang + yinjiaodawang\n",
    "print(YINJIAODAWANG)"
   ]
  },
  {
   "cell_type": "markdown",
   "id": "1f06950a",
   "metadata": {},
   "source": [
    "## 2.2 logic operation\n",
    "\n",
    "在数字的逻辑运算中：\n",
    "1. 0等价于False,相当于数学中的‘假’；非0数字等价于True,相当于数学中的‘真’；\n",
    "2. and等价于数学中的‘交’；or等价于数学中的‘并’；not等价于数学中的‘非’。\n",
    "\n",
    "1. ‘交’（and):一假则假（有一个为0则返回0；均不为0则返回最后一个元素判断全部）；\n",
    "2. ‘并’（or）：一真则真（有一个非0则返回那个非0元素。即若第一个非0，则返回第一个，若第二个非0，则返回第二个；若均为0，则返回0有一个为真则不再判断，即若第一个为真，则返回第一个）\n",
    "3. ‘非’（not）：真则假，假则真（若为0，则返回True;若为非0，则返回False）\n",
    " \n",
    "* 优先级顺序 not > and > or\n",
    "\n",
    "\n",
    "* and\n",
    "* or\n",
    "* not\n",
    "\n",
    "Python语言支持逻辑运算符，以下假设变量 a 为 10, b为 20:"
   ]
  },
  {
   "cell_type": "code",
   "execution_count": 15,
   "id": "5918b2cf",
   "metadata": {},
   "outputs": [],
   "source": [
    "a = 30 # 不是0 True\n",
    "b = 20"
   ]
  },
  {
   "cell_type": "code",
   "execution_count": 17,
   "id": "59203815",
   "metadata": {},
   "outputs": [
    {
     "data": {
      "text/plain": [
       "0"
      ]
     },
     "execution_count": 17,
     "metadata": {},
     "output_type": "execute_result"
    }
   ],
   "source": [
    "a and b # 现在 a != 0, say a is True\n",
    "print(a and 100)\n",
    "print(a and 0)\n",
    "# 布尔\"与\" - 如果 x 为 False，x and y 返回 x 的值，否则返回 y 的计算值。"
   ]
  },
  {
   "cell_type": "code",
   "execution_count": null,
   "id": "7f6b2fe3",
   "metadata": {},
   "outputs": [],
   "source": []
  },
  {
   "cell_type": "markdown",
   "id": "2e21e0e2",
   "metadata": {},
   "source": [
    "## 2.3 Boolean Operators \n",
    "* 比较运算符\n",
    "* Python has a type `bool` that can take two values `True` or `False`\n",
    "* Boolean operators return `True` and `False` (or yes/no) answers\n",
    "\n",
    "\n",
    "| Operation      | Description                   | Operation    | Description                      |\n",
    "| -------------- | ------------------------------| ------------ |----------------------------------|\n",
    "| `a == b`       | `a` equal to `b`              | `a != b`     | `a` not equal to `b`             |\n",
    "| `a < b`        | `a` less than `b`             | `a > b`      | `a` greater than `b`             |\n",
    "| `a <= b`       | `a` less than or equal to `b` | `a >= b`     | `a` greater than or equal to `b` |\n",
    "\n",
    "\n",
    "* **Tip**: Remember that `=` operator is for **assignment** \n",
    "* use `==` when you want to **compare** equality\n",
    "\n"
   ]
  },
  {
   "cell_type": "markdown",
   "id": "1646b4a4",
   "metadata": {},
   "source": [
    "## 2.4 身份运算符\n",
    "* **is 和 is not：判断是否是同一个对象**"
   ]
  },
  {
   "cell_type": "code",
   "execution_count": 7,
   "id": "147342f3",
   "metadata": {},
   "outputs": [
    {
     "data": {
      "text/plain": [
       "False"
      ]
     },
     "execution_count": 7,
     "metadata": {},
     "output_type": "execute_result"
    }
   ],
   "source": [
    "a = \"stu\"\n",
    "b = \"stuAwesome\"\n",
    "a is b"
   ]
  },
  {
   "cell_type": "code",
   "execution_count": 8,
   "id": "388eb0c3",
   "metadata": {},
   "outputs": [
    {
     "data": {
      "text/plain": [
       "True"
      ]
     },
     "execution_count": 8,
     "metadata": {},
     "output_type": "execute_result"
    }
   ],
   "source": [
    "a is not b"
   ]
  },
  {
   "cell_type": "markdown",
   "id": "31f8efc0",
   "metadata": {},
   "source": [
    "## 2.5 成员运算符\n",
    "* in 和 not in"
   ]
  },
  {
   "cell_type": "code",
   "execution_count": 6,
   "id": "a84a7f70",
   "metadata": {},
   "outputs": [
    {
     "data": {
      "text/plain": [
       "True"
      ]
     },
     "execution_count": 6,
     "metadata": {},
     "output_type": "execute_result"
    }
   ],
   "source": [
    "\"Stu\" in \"StuAwesome\""
   ]
  },
  {
   "cell_type": "markdown",
   "id": "9cdb8f79",
   "metadata": {},
   "source": [
    "## 2.6 赋值运算符\n"
   ]
  },
  {
   "cell_type": "markdown",
   "id": "06aa0306",
   "metadata": {},
   "source": [
    "* =\t简单的赋值运算符\tc = a + b 将 a + b 的运算结果赋值为 c\n",
    "* +=\t加法赋值运算符\tc += a 等效于 c = c + a\n",
    "* -=\t减法赋值运算符\tc -= a 等效于 c = c - a\n",
    "* *=\t乘法赋值运算符\tc *= a 等效于 c = c * a\n",
    "* /=\t除法赋值运算符\tc /= a 等效于 c = c / a\n",
    "* %=\t取模赋值运算符\tc %= a 等效于 c = c % a\n",
    "* **=\t幂赋值运算符\tc **= a 等效于 c = c ** a\n",
    "* //=\t取整除赋值运算符\tc //= a 等效于 c = c // a\n",
    "* :=\t海象运算符，可在表达式内部为变量赋值。Python3.8 版本新增运算符。\t"
   ]
  },
  {
   "cell_type": "markdown",
   "id": "ac15a625",
   "metadata": {},
   "source": [
    "**海象运算符：**\t海象运算符，可在表达式内部为变量赋值。"
   ]
  },
  {
   "cell_type": "code",
   "execution_count": 3,
   "id": "78b696bd",
   "metadata": {},
   "outputs": [
    {
     "ename": "NameError",
     "evalue": "name 'a' is not defined",
     "output_type": "error",
     "traceback": [
      "\u001b[0;31m---------------------------------------------------------------------------\u001b[0m",
      "\u001b[0;31mNameError\u001b[0m                                 Traceback (most recent call last)",
      "Input \u001b[0;32mIn [3]\u001b[0m, in \u001b[0;36m<cell line: 1>\u001b[0;34m()\u001b[0m\n\u001b[0;32m----> 1\u001b[0m n \u001b[38;5;241m=\u001b[39m \u001b[38;5;28mlen\u001b[39m(\u001b[43ma\u001b[49m)\n\u001b[1;32m      2\u001b[0m \u001b[38;5;28;01mif\u001b[39;00m n \u001b[38;5;241m>\u001b[39m \u001b[38;5;241m10\u001b[39m:\n\u001b[1;32m      3\u001b[0m     \u001b[38;5;28;01mpass\u001b[39;00m\n",
      "\u001b[0;31mNameError\u001b[0m: name 'a' is not defined"
     ]
    }
   ],
   "source": [
    "n = len(a)\n",
    "if n > 10: # 这是一个表达式: n > 10\n",
    "    pass\n",
    "\n",
    "# 用海象运算符简化\n",
    "\n",
    "if (n := len(a)) > 10:\n",
    "    pass"
   ]
  },
  {
   "cell_type": "markdown",
   "id": "4b3df871",
   "metadata": {},
   "source": [
    "### 表达式\n",
    "* 运算对象 + 运算符 = 表达式 expression\n",
    "* 语句 + 表达式 = 语句 statement"
   ]
  },
  {
   "cell_type": "markdown",
   "id": "caa9e3f6",
   "metadata": {},
   "source": [
    "## 2.7 Python位运算符"
   ]
  },
  {
   "cell_type": "markdown",
   "id": "8603b492",
   "metadata": {},
   "source": [
    "* 按位运算符是把数字看作二进制来进行计算的。Python中的按位运算法则如下："
   ]
  },
  {
   "cell_type": "markdown",
   "id": "ca5d01d5",
   "metadata": {},
   "source": [
    "```\n",
    "运算符 描述  实例\n",
    "&  按位与运算符：参与运算的两个值,如果两个相应位都为1,则该位的结果为1,否则为0\t(a & b) 输出结果 12 ，二进制解释： 0000 1100\n",
    "|  按位或运算符：只要对应的二个二进位有一个为1时，结果位就为1。\t(a | b) 输出结果 61 ，二进制解释： 0011 1101\n",
    "^  按位异或运算符：当两对应的二进位相异时，结果为1\t(a ^ b) 输出结果 49 ，二进制解释： 0011 0001\n",
    "~  按位取反运算符：对数据的每个二进制位取反,即把1变为0,把0变为1。~x 类似于 -x-1\t(~a ) 输出结果 -61 ，二进制解释： 1100 0011， 在一个有符号二进制数的补码形式。\n",
    "<<  左移动运算符：运算数的各二进位全部左移若干位，由\"<<\"右边的数指定移动的位数，高位丢弃，低位补0。\ta << 2 输出结果 240 ，二进制解释： 1111 0000\n",
    ">>  右移动运算符：把\">>\"左边的运算数的各二进位全部右移若干位，\">>\"右边的数指定移动的位数\n",
    "```"
   ]
  },
  {
   "cell_type": "markdown",
   "id": "c55d56db",
   "metadata": {},
   "source": [
    "# 优先级"
   ]
  },
  {
   "cell_type": "code",
   "execution_count": null,
   "id": "b7117992",
   "metadata": {},
   "outputs": [],
   "source": []
  }
 ],
 "metadata": {
  "kernelspec": {
   "display_name": "Python 3 (ipykernel)",
   "language": "python",
   "name": "python3"
  },
  "language_info": {
   "codemirror_mode": {
    "name": "ipython",
    "version": 3
   },
   "file_extension": ".py",
   "mimetype": "text/x-python",
   "name": "python",
   "nbconvert_exporter": "python",
   "pygments_lexer": "ipython3",
   "version": "3.9.12"
  }
 },
 "nbformat": 4,
 "nbformat_minor": 5
}
