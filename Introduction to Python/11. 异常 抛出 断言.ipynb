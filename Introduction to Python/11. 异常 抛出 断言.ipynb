{
 "cells": [
  {
   "cell_type": "markdown",
   "id": "3130d678",
   "metadata": {},
   "source": [
    "# 错误和异常"
   ]
  },
  {
   "cell_type": "markdown",
   "id": "7672ee41",
   "metadata": {},
   "source": [
    "* 错误异常不能自己乱来\n",
    "\n",
    "\n",
    "```python\n",
    "try:\n",
    "    1. 执行代码\n",
    "    \n",
    "    \n",
    "except 一号错误:\n",
    "    2. (1)发生一号报错时执行的代码\n",
    "except 二号错误:\n",
    "    2. (1)发生二号报错时执行的代码\n",
    "    # 可有多个except...\n",
    "except: # 也可指名不某种错误\n",
    "    \n",
    "    \n",
    "else:\n",
    "    3. (1)没有发生报错的代码\n",
    "finally:\n",
    "    4. (1)不管有没有发生异常都会执行\n",
    "```"
   ]
  },
  {
   "cell_type": "code",
   "execution_count": 1,
   "id": "62fee06c",
   "metadata": {},
   "outputs": [
    {
     "ename": "ValueError",
     "evalue": "invalid literal for int() with base 10: 's'",
     "output_type": "error",
     "traceback": [
      "\u001b[0;31m---------------------------------------------------------------------------\u001b[0m",
      "\u001b[0;31mValueError\u001b[0m                                Traceback (most recent call last)",
      "Input \u001b[0;32mIn [1]\u001b[0m, in \u001b[0;36m<cell line: 1>\u001b[0;34m()\u001b[0m\n\u001b[0;32m----> 1\u001b[0m \u001b[38;5;28;43mint\u001b[39;49m\u001b[43m(\u001b[49m\u001b[38;5;124;43m\"\u001b[39;49m\u001b[38;5;124;43ms\u001b[39;49m\u001b[38;5;124;43m\"\u001b[39;49m\u001b[43m)\u001b[49m\n",
      "\u001b[0;31mValueError\u001b[0m: invalid literal for int() with base 10: 's'"
     ]
    }
   ],
   "source": [
    "int(\"s\")"
   ]
  },
  {
   "cell_type": "code",
   "execution_count": null,
   "id": "795d4c30",
   "metadata": {},
   "outputs": [],
   "source": [
    "while True:\n",
    "    try:\n",
    "        age = int(input(\"请输入你的年龄\"))\n",
    "        print(age)\n",
    "        break\n",
    "    except:\n",
    "        print(\"not a number\")\n"
   ]
  },
  {
   "cell_type": "code",
   "execution_count": null,
   "id": "6d560741",
   "metadata": {},
   "outputs": [],
   "source": [
    "int(\"23\")"
   ]
  },
  {
   "cell_type": "code",
   "execution_count": null,
   "id": "bc396315",
   "metadata": {},
   "outputs": [],
   "source": [
    "try:\n",
    "    int(\"s\")\n",
    "except ValueError: \n",
    "    # 这是特定的 Error\n",
    "    # python 提前定义好的 Error 有很多\n",
    "    print(\"不是数字\")\n",
    "else:\n",
    "    print(\"成功\")\n",
    "finally:\n",
    "    print('这句话，无论异常是否发生都会执行。')\n"
   ]
  },
  {
   "cell_type": "markdown",
   "id": "aa2dcdc5",
   "metadata": {},
   "source": [
    "# 故意抛出异常"
   ]
  },
  {
   "cell_type": "markdown",
   "id": "84222d50",
   "metadata": {},
   "source": [
    "```python\n",
    "raise [Exception [, args [, traceback]]]\n",
    "```\n",
    "* 可以自定义某种Exception：OOP 面向对象编程"
   ]
  },
  {
   "cell_type": "code",
   "execution_count": 13,
   "id": "de694e44",
   "metadata": {},
   "outputs": [
    {
     "ename": "Exception",
     "evalue": "x 不能大于 5。x 的值为: 10",
     "output_type": "error",
     "traceback": [
      "\u001b[0;31m---------------------------------------------------------------------------\u001b[0m",
      "\u001b[0;31mException\u001b[0m                                 Traceback (most recent call last)",
      "Input \u001b[0;32mIn [13]\u001b[0m, in \u001b[0;36m<cell line: 2>\u001b[0;34m()\u001b[0m\n\u001b[1;32m      1\u001b[0m x \u001b[38;5;241m=\u001b[39m \u001b[38;5;241m10\u001b[39m\n\u001b[1;32m      2\u001b[0m \u001b[38;5;28;01mif\u001b[39;00m x \u001b[38;5;241m>\u001b[39m \u001b[38;5;241m5\u001b[39m:\n\u001b[0;32m----> 3\u001b[0m     \u001b[38;5;28;01mraise\u001b[39;00m \u001b[38;5;167;01mException\u001b[39;00m(\u001b[38;5;124m'\u001b[39m\u001b[38;5;124mx 不能大于 5。x 的值为: \u001b[39m\u001b[38;5;132;01m{}\u001b[39;00m\u001b[38;5;124m'\u001b[39m\u001b[38;5;241m.\u001b[39mformat(x))\n",
      "\u001b[0;31mException\u001b[0m: x 不能大于 5。x 的值为: 10"
     ]
    }
   ],
   "source": [
    "x = 10\n",
    "if x > 5:\n",
    "    raise Exception('x 不能大于 5。x 的值为: {}'.format(x))"
   ]
  },
  {
   "cell_type": "code",
   "execution_count": 1,
   "id": "049fc230",
   "metadata": {},
   "outputs": [
    {
     "name": "stdout",
     "output_type": "stream",
     "text": [
      "太大啦!\n"
     ]
    },
    {
     "ename": "Exception",
     "evalue": "x 不能大于 5。x 的值为: 10",
     "output_type": "error",
     "traceback": [
      "\u001b[0;31m---------------------------------------------------------------------------\u001b[0m",
      "\u001b[0;31mException\u001b[0m                                 Traceback (most recent call last)",
      "Input \u001b[0;32mIn [1]\u001b[0m, in \u001b[0;36m<cell line: 3>\u001b[0;34m()\u001b[0m\n\u001b[1;32m      3\u001b[0m \u001b[38;5;28;01mif\u001b[39;00m x \u001b[38;5;241m>\u001b[39m \u001b[38;5;241m5\u001b[39m:\n\u001b[1;32m      4\u001b[0m     \u001b[38;5;28;01mtry\u001b[39;00m:\n\u001b[0;32m----> 5\u001b[0m         \u001b[38;5;28;01mraise\u001b[39;00m \u001b[38;5;167;01mException\u001b[39;00m(\u001b[38;5;124m'\u001b[39m\u001b[38;5;124mx 不能大于 5。x 的值为: \u001b[39m\u001b[38;5;132;01m{}\u001b[39;00m\u001b[38;5;124m'\u001b[39m\u001b[38;5;241m.\u001b[39mformat(x))  \u001b[38;5;66;03m# 模拟一个异常。\u001b[39;00m\n\u001b[1;32m      6\u001b[0m     \u001b[38;5;28;01mexcept\u001b[39;00m \u001b[38;5;167;01mException\u001b[39;00m: \u001b[38;5;66;03m# 截获异常\u001b[39;00m\n\u001b[1;32m      7\u001b[0m         \u001b[38;5;28mprint\u001b[39m(\u001b[38;5;124m'\u001b[39m\u001b[38;5;124m太大啦!\u001b[39m\u001b[38;5;124m'\u001b[39m)\n",
      "\u001b[0;31mException\u001b[0m: x 不能大于 5。x 的值为: 10"
     ]
    }
   ],
   "source": [
    "# 模拟抛出异常\n",
    "x = 10\n",
    "if x > 5:\n",
    "    try:\n",
    "        raise Exception('x 不能大于 5。x 的值为: {}'.format(x))  # 模拟一个异常。\n",
    "    except Exception: # 截获异常\n",
    "        print('太大啦!')\n",
    "        raise"
   ]
  },
  {
   "cell_type": "code",
   "execution_count": 15,
   "id": "4607003b",
   "metadata": {},
   "outputs": [
    {
     "name": "stdout",
     "output_type": "stream",
     "text": [
      "键盘断了\n",
      "Goodbye, world!\n"
     ]
    }
   ],
   "source": [
    "try:\n",
    "    raise KeyboardInterrupt\n",
    "except KeyboardInterrupt:\n",
    "    print(\"键盘断了\")\n",
    "finally:\n",
    "    print('Goodbye, world!')"
   ]
  },
  {
   "cell_type": "markdown",
   "id": "3471d603",
   "metadata": {},
   "source": [
    "# assert\n",
    "* assert（断言）\n",
    "```python\n",
    "assert expression\n",
    "or\n",
    "assert expression [, arguments]\n",
    "```\n",
    "等价于：\n",
    "```\n",
    "if not expression:\n",
    "    raise AssertionError\n",
    "or\n",
    "if not expression:\n",
    "    raise AssertionError(arguments)\n",
    "\n",
    "```"
   ]
  },
  {
   "cell_type": "code",
   "execution_count": 2,
   "id": "556a6ac3",
   "metadata": {},
   "outputs": [],
   "source": [
    "assert 2>1"
   ]
  },
  {
   "cell_type": "code",
   "execution_count": 3,
   "id": "5fe75240",
   "metadata": {},
   "outputs": [
    {
     "ename": "AssertionError",
     "evalue": "",
     "output_type": "error",
     "traceback": [
      "\u001b[0;31m---------------------------------------------------------------------------\u001b[0m",
      "\u001b[0;31mAssertionError\u001b[0m                            Traceback (most recent call last)",
      "Input \u001b[0;32mIn [3]\u001b[0m, in \u001b[0;36m<cell line: 1>\u001b[0;34m()\u001b[0m\n\u001b[0;32m----> 1\u001b[0m \u001b[38;5;28;01massert\u001b[39;00m \u001b[38;5;241m1\u001b[39m\u001b[38;5;241m>\u001b[39m\u001b[38;5;241m2\u001b[39m\n",
      "\u001b[0;31mAssertionError\u001b[0m: "
     ]
    }
   ],
   "source": [
    "assert 1>2"
   ]
  },
  {
   "cell_type": "code",
   "execution_count": 4,
   "id": "1240b0dd",
   "metadata": {
    "scrolled": true
   },
   "outputs": [
    {
     "ename": "AssertionError",
     "evalue": "请输入string",
     "output_type": "error",
     "traceback": [
      "\u001b[0;31m---------------------------------------------------------------------------\u001b[0m",
      "\u001b[0;31mAssertionError\u001b[0m                            Traceback (most recent call last)",
      "Input \u001b[0;32mIn [4]\u001b[0m, in \u001b[0;36m<cell line: 5>\u001b[0;34m()\u001b[0m\n\u001b[1;32m      3\u001b[0m     \u001b[38;5;28;01mfor\u001b[39;00m w \u001b[38;5;129;01min\u001b[39;00m text:\n\u001b[1;32m      4\u001b[0m         \u001b[38;5;28mprint\u001b[39m(w)\n\u001b[0;32m----> 5\u001b[0m \u001b[43mprintall\u001b[49m\u001b[43m(\u001b[49m\u001b[38;5;28;43;01mTrue\u001b[39;49;00m\u001b[43m)\u001b[49m\n",
      "Input \u001b[0;32mIn [4]\u001b[0m, in \u001b[0;36mprintall\u001b[0;34m(text)\u001b[0m\n\u001b[1;32m      1\u001b[0m \u001b[38;5;28;01mdef\u001b[39;00m \u001b[38;5;21mprintall\u001b[39m(text):\n\u001b[0;32m----> 2\u001b[0m     \u001b[38;5;28;01massert\u001b[39;00m \u001b[38;5;28misinstance\u001b[39m(text,\u001b[38;5;28mstr\u001b[39m),\u001b[38;5;124m\"\u001b[39m\u001b[38;5;124m请输入string\u001b[39m\u001b[38;5;124m\"\u001b[39m\n\u001b[1;32m      3\u001b[0m     \u001b[38;5;28;01mfor\u001b[39;00m w \u001b[38;5;129;01min\u001b[39;00m text:\n\u001b[1;32m      4\u001b[0m         \u001b[38;5;28mprint\u001b[39m(w)\n",
      "\u001b[0;31mAssertionError\u001b[0m: 请输入string"
     ]
    }
   ],
   "source": [
    "def printall(text):\n",
    "    assert isinstance(text,str),\"请输入string\"\n",
    "    for w in text:\n",
    "        print(w)\n",
    "printall(True)"
   ]
  },
  {
   "cell_type": "code",
   "execution_count": null,
   "id": "97f148c9",
   "metadata": {},
   "outputs": [],
   "source": []
  }
 ],
 "metadata": {
  "kernelspec": {
   "display_name": "Python 3 (ipykernel)",
   "language": "python",
   "name": "python3"
  },
  "language_info": {
   "codemirror_mode": {
    "name": "ipython",
    "version": 3
   },
   "file_extension": ".py",
   "mimetype": "text/x-python",
   "name": "python",
   "nbconvert_exporter": "python",
   "pygments_lexer": "ipython3",
   "version": "3.9.12"
  }
 },
 "nbformat": 4,
 "nbformat_minor": 5
}
