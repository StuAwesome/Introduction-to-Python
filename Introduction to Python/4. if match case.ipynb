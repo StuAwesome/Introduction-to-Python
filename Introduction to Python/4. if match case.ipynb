{
 "cells": [
  {
   "cell_type": "markdown",
   "id": "099b90fc",
   "metadata": {},
   "source": [
    "# 4. if - Conditional Logic"
   ]
  },
  {
   "cell_type": "markdown",
   "id": "65541c34",
   "metadata": {},
   "source": [
    "* Most code makes extensive use of **if then** statements\n",
    "* This makes use of the `if`, `elif`, and `else` keywords   "
   ]
  },
  {
   "cell_type": "markdown",
   "id": "bdde7fe0",
   "metadata": {},
   "source": [
    "```python\n",
    "if <Boolean Operation 1>:\n",
    "    take action 1\n",
    "elif <Boolean Operation 2>:\n",
    "    take action 2\n",
    "else:\n",
    "    take default action\n",
    "``` "
   ]
  },
  {
   "cell_type": "code",
   "execution_count": 2,
   "id": "ed6cc81f",
   "metadata": {},
   "outputs": [
    {
     "name": "stdout",
     "output_type": "stream",
     "text": [
      "24\n"
     ]
    }
   ],
   "source": [
    "a = input()\n",
    "# a 是 variable，对应的常量是input()给出"
   ]
  },
  {
   "cell_type": "markdown",
   "id": "410369ba",
   "metadata": {},
   "source": [
    "## 4.1 remark: indenting\n",
    "\n",
    "* The **indenting** in the previous example is mandatory in Python\n",
    "* If you do not indent your `if then` statements then Python will throw an `IndentationError` exception\n",
    "* `Tab`：会根据IDE不用会有变化，可能不等于4个空格\n",
    "* Remember to **indent** the lines after `:`"
   ]
  },
  {
   "cell_type": "markdown",
   "id": "86954dc4",
   "metadata": {},
   "source": [
    "## 4.2 Nested if statements"
   ]
  },
  {
   "cell_type": "code",
   "execution_count": 7,
   "id": "65d9b12b",
   "metadata": {},
   "outputs": [],
   "source": [
    "def stamp_duty(house_price, first_time_buyer):\n",
    "    '''\n",
    "    First time buyers recieve more tax relief than \n",
    "    people buying their next house. \n",
    "    Returns float representing the stamp duty owed.\n",
    "    '''\n",
    "    if first_time_buyer: # this if statement is nested for the first time buyer \n",
    "        if house_price <= 300000:\n",
    "            return 0.0\n",
    "        else: \n",
    "            return house_price * 0.05     \n",
    "    else:\n",
    "        if house_price < 125000:\n",
    "            return 0.0\n",
    "        else:\n",
    "            return house_price * 0.05"
   ]
  },
  {
   "cell_type": "code",
   "execution_count": 8,
   "id": "f62c6e86",
   "metadata": {},
   "outputs": [
    {
     "name": "stdout",
     "output_type": "stream",
     "text": [
      "stamp duty owed = £0.0\n"
     ]
    }
   ],
   "source": [
    "my_first_house_price = 100000\n",
    "\n",
    "owed = stamp_duty(my_first_house_price, False)\n",
    "\n",
    "print('stamp duty owed = £{0}'.format(owed))"
   ]
  },
  {
   "cell_type": "markdown",
   "id": "7f20831f",
   "metadata": {},
   "source": [
    "## 4.3 三元表达式\n",
    "``` python\n",
    "value = true-expression if condition else false-expression\n",
    "```\n",
    "* 等于如下：\n",
    "``` python\n",
    "if condition:\n",
    "    value = true-expression\n",
    "else:\n",
    "    value = false-expression\n",
    "```"
   ]
  },
  {
   "cell_type": "markdown",
   "id": "59f7f769",
   "metadata": {},
   "source": [
    "# 4. match...case\n",
    "Python 3.10 增加了 match...case 的条件判断，不需要再使用一连串的 if-else 来判断了。\n",
    "\n",
    "match 后的对象会依次与 case 后的内容进行匹配，如果匹配成功，则执行匹配到的表达式，否则直接跳过，_ 可以匹配一切。\n",
    "\n",
    "语法格式如下："
   ]
  },
  {
   "cell_type": "markdown",
   "id": "f4715fcf",
   "metadata": {},
   "source": [
    "``` python\n",
    "match subject:\n",
    "    case <pattern_1>:\n",
    "        <action_1>\n",
    "    case <pattern_2>:\n",
    "        <action_2>\n",
    "    case <pattern_3>:\n",
    "        <action_3>\n",
    "    case _:\n",
    "        <action_wildcard>\n",
    "```"
   ]
  },
  {
   "cell_type": "code",
   "execution_count": 2,
   "id": "55a1455e",
   "metadata": {},
   "outputs": [
    {
     "ename": "SyntaxError",
     "evalue": "invalid syntax (289646812.py, line 3)",
     "output_type": "error",
     "traceback": [
      "\u001b[0;36m  Input \u001b[0;32mIn [2]\u001b[0;36m\u001b[0m\n\u001b[0;31m    match status:\u001b[0m\n\u001b[0m          ^\u001b[0m\n\u001b[0;31mSyntaxError\u001b[0m\u001b[0;31m:\u001b[0m invalid syntax\n"
     ]
    }
   ],
   "source": [
    "mystatus=400\n",
    "def http_error(status):\n",
    "    match status:\n",
    "        case 400:\n",
    "            return \"Bad request\"\n",
    "        case 404:\n",
    "            return \"Not found\"\n",
    "        case 418:\n",
    "            return \"I'm a teapot\"\n",
    "        case _:\n",
    "            return \"Something's wrong with the internet\"\n",
    "print(http_error(http_error))        "
   ]
  },
  {
   "cell_type": "code",
   "execution_count": null,
   "id": "18a7c56b",
   "metadata": {},
   "outputs": [],
   "source": []
  }
 ],
 "metadata": {
  "kernelspec": {
   "display_name": "Python 3 (ipykernel)",
   "language": "python",
   "name": "python3"
  },
  "language_info": {
   "codemirror_mode": {
    "name": "ipython",
    "version": 3
   },
   "file_extension": ".py",
   "mimetype": "text/x-python",
   "name": "python",
   "nbconvert_exporter": "python",
   "pygments_lexer": "ipython3",
   "version": "3.9.12"
  }
 },
 "nbformat": 4,
 "nbformat_minor": 5
}
