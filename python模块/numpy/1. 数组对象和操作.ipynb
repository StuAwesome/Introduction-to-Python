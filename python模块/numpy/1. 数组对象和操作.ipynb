{
 "cells": [
  {
   "cell_type": "markdown",
   "id": "30d95861",
   "metadata": {},
   "source": [
    "* pandas 底层很多是用Numpy来实现\n",
    "* Numpy是多维数据（ndarray）的科学计算包\n",
    "* 数组是相同数据类型按一定顺序排列的组合"
   ]
  },
  {
   "cell_type": "markdown",
   "id": "dae8082c",
   "metadata": {},
   "source": [
    "# Numpy\n",
    " * visual gaide:https://betterprogramming.pub/numpy-illustrated-the-visual-guide-to-numpy-3b1d4976de1d\n",
    " * Vectors 1D array\n",
    " * Matrices 2D array\n",
    " * 3D and above"
   ]
  },
  {
   "cell_type": "code",
   "execution_count": 1,
   "id": "9244f4b6",
   "metadata": {},
   "outputs": [
    {
     "data": {
      "text/plain": [
       "array([1, 2, 3, 4, 5])"
      ]
     },
     "execution_count": 1,
     "metadata": {},
     "output_type": "execute_result"
    }
   ],
   "source": [
    "import numpy as np\n",
    "arr = np.array([1,2,3,4,5])\n",
    "arr"
   ]
  },
  {
   "cell_type": "markdown",
   "id": "0a404c2b",
   "metadata": {},
   "source": [
    "# 1. array objects\n",
    "https://numpy.org/doc/stable/reference/arrays.html\n",
    "\n",
    "https://numpy.org/doc/stable/reference/generated/numpy.array.html#numpy-array\n",
    "* object\t数组或嵌套的数列\n",
    "* dtype\t数组元素的数据类型，可选\n",
    "* copy\t对象是否需要复制，可选\n",
    "* order\t创建数组的样式，C为行方向，F为列方向，A为任意方向（默认）\n",
    "* subok\t默认返回一个与基类类型一致的数组\n",
    "* ndmin\t指定生成数组的最小维度"
   ]
  },
  {
   "cell_type": "code",
   "execution_count": 2,
   "id": "e0e436eb",
   "metadata": {},
   "outputs": [
    {
     "name": "stdout",
     "output_type": "stream",
     "text": [
      "[1 2 3 4 5]\n"
     ]
    }
   ],
   "source": [
    "print(arr)"
   ]
  },
  {
   "cell_type": "code",
   "execution_count": 5,
   "id": "768d140b",
   "metadata": {},
   "outputs": [
    {
     "name": "stdout",
     "output_type": "stream",
     "text": [
      "[[1 2]\n",
      " [3 4]]\n"
     ]
    }
   ],
   "source": [
    "# 二维数组\n",
    "a = np.array([[1,2]\n",
    "            ,[3,4]])\n",
    "print(a)"
   ]
  },
  {
   "cell_type": "code",
   "execution_count": 6,
   "id": "b4766878",
   "metadata": {},
   "outputs": [
    {
     "data": {
      "text/plain": [
       "array([1, 2, 3])"
      ]
     },
     "execution_count": 6,
     "metadata": {},
     "output_type": "execute_result"
    }
   ],
   "source": [
    "arr1 = np.array([1,2,3])\n",
    "arr1"
   ]
  },
  {
   "cell_type": "code",
   "execution_count": 7,
   "id": "a177b05c",
   "metadata": {},
   "outputs": [
    {
     "data": {
      "text/plain": [
       "array([1, 2, 3])"
      ]
     },
     "execution_count": 7,
     "metadata": {},
     "output_type": "execute_result"
    }
   ],
   "source": [
    "arr2 = np.array((1,2,3))\n",
    "arr2"
   ]
  },
  {
   "cell_type": "code",
   "execution_count": 8,
   "id": "eef8c922",
   "metadata": {},
   "outputs": [
    {
     "data": {
      "text/plain": [
       "array('123', dtype='<U3')"
      ]
     },
     "execution_count": 8,
     "metadata": {},
     "output_type": "execute_result"
    }
   ],
   "source": [
    "arr3 = np.array(\"123\")\n",
    "arr3"
   ]
  },
  {
   "cell_type": "code",
   "execution_count": 11,
   "id": "ca670e8f",
   "metadata": {},
   "outputs": [
    {
     "data": {
      "text/plain": [
       "array([[1, 2, 3],\n",
       "       [4, 5, 6]])"
      ]
     },
     "execution_count": 11,
     "metadata": {},
     "output_type": "execute_result"
    }
   ],
   "source": [
    "arr4 = np.array([[1,2,3]\n",
    "                ,[4,5,6]])\n",
    "arr4"
   ]
  },
  {
   "cell_type": "markdown",
   "id": "446e5674",
   "metadata": {},
   "source": [
    "# 2. Numpy array creation routines\n",
    "https://numpy.org/doc/stable/reference/generated/numpy.arange.html"
   ]
  },
  {
   "cell_type": "markdown",
   "id": "1fe92e2c",
   "metadata": {},
   "source": [
    "## 2.1 Arrage range"
   ]
  },
  {
   "cell_type": "code",
   "execution_count": 57,
   "id": "e8ab52d8",
   "metadata": {},
   "outputs": [
    {
     "data": {
      "text/plain": [
       "array([ 1,  4,  7, 10, 13])"
      ]
     },
     "execution_count": 57,
     "metadata": {},
     "output_type": "execute_result"
    }
   ],
   "source": [
    "a = np.arange(1,15,3)\n",
    "a"
   ]
  },
  {
   "cell_type": "code",
   "execution_count": 14,
   "id": "4c662f39",
   "metadata": {},
   "outputs": [
    {
     "data": {
      "text/plain": [
       "array([0, 1, 2, 3, 4, 5, 6, 7, 8, 9])"
      ]
     },
     "execution_count": 14,
     "metadata": {},
     "output_type": "execute_result"
    }
   ],
   "source": [
    "b = np.arange(10)\n",
    "b"
   ]
  },
  {
   "cell_type": "markdown",
   "id": "3b1879e9",
   "metadata": {},
   "source": [
    "## 2.2 Zeros & Ones & eye & empty"
   ]
  },
  {
   "cell_type": "code",
   "execution_count": 20,
   "id": "9c32ee2a",
   "metadata": {},
   "outputs": [
    {
     "data": {
      "text/plain": [
       "array([0, 0, 0])"
      ]
     },
     "execution_count": 20,
     "metadata": {},
     "output_type": "execute_result"
    }
   ],
   "source": [
    "np.zeros(3, dtype = int) # 长度3的vector"
   ]
  },
  {
   "cell_type": "code",
   "execution_count": 21,
   "id": "9af637e0",
   "metadata": {},
   "outputs": [
    {
     "data": {
      "text/plain": [
       "array([[0., 0., 0.],\n",
       "       [0., 0., 0.]])"
      ]
     },
     "execution_count": 21,
     "metadata": {},
     "output_type": "execute_result"
    }
   ],
   "source": [
    "np.zeros((2,3)) # 2 index 3 columns"
   ]
  },
  {
   "cell_type": "code",
   "execution_count": 22,
   "id": "0376be20",
   "metadata": {},
   "outputs": [
    {
     "data": {
      "text/plain": [
       "array([1., 1., 1.])"
      ]
     },
     "execution_count": 22,
     "metadata": {},
     "output_type": "execute_result"
    }
   ],
   "source": [
    "np.ones(3)"
   ]
  },
  {
   "cell_type": "code",
   "execution_count": 23,
   "id": "a53d4300",
   "metadata": {},
   "outputs": [
    {
     "data": {
      "text/plain": [
       "array([[1., 1., 1.],\n",
       "       [1., 1., 1.],\n",
       "       [1., 1., 1.]])"
      ]
     },
     "execution_count": 23,
     "metadata": {},
     "output_type": "execute_result"
    }
   ],
   "source": [
    "np.ones((3,3))"
   ]
  },
  {
   "cell_type": "code",
   "execution_count": 24,
   "id": "97127af8",
   "metadata": {},
   "outputs": [
    {
     "data": {
      "text/plain": [
       "array([[1., 0., 0.],\n",
       "       [0., 1., 0.],\n",
       "       [0., 0., 1.]])"
      ]
     },
     "execution_count": 24,
     "metadata": {},
     "output_type": "execute_result"
    }
   ],
   "source": [
    "np.eye(3) # 单位矩阵"
   ]
  },
  {
   "cell_type": "code",
   "execution_count": 27,
   "id": "a9f6142c",
   "metadata": {},
   "outputs": [
    {
     "data": {
      "text/plain": [
       "array([[1., 0., 0.],\n",
       "       [0., 1., 0.],\n",
       "       [0., 0., 1.]])"
      ]
     },
     "execution_count": 27,
     "metadata": {},
     "output_type": "execute_result"
    }
   ],
   "source": [
    "np.empty((3,3)) # 空数组， 只占用空间不填充任何值"
   ]
  },
  {
   "cell_type": "markdown",
   "id": "5382a4e7",
   "metadata": {},
   "source": [
    "## 2.3 Random sampling\n",
    " numpy.random"
   ]
  },
  {
   "cell_type": "code",
   "execution_count": 33,
   "id": "e32fa60c",
   "metadata": {},
   "outputs": [
    {
     "data": {
      "text/plain": [
       "array([[2.88854716e-02, 5.13338112e-01, 2.21605722e-04],\n",
       "       [1.05818945e-01, 7.51282788e-01, 3.50982884e-01]])"
      ]
     },
     "execution_count": 33,
     "metadata": {},
     "output_type": "execute_result"
    }
   ],
   "source": [
    "import numpy as np\n",
    "# np.random.rand(3) # three 0-1 number\n",
    "np.random.rand(2,3) "
   ]
  },
  {
   "cell_type": "code",
   "execution_count": 34,
   "id": "0dea8e44",
   "metadata": {},
   "outputs": [
    {
     "data": {
      "text/plain": [
       "array([[-0.16146135,  0.60327246,  0.41886999],\n",
       "       [ 1.16282718, -2.24427684, -0.05717299]])"
      ]
     },
     "execution_count": 34,
     "metadata": {},
     "output_type": "execute_result"
    }
   ],
   "source": [
    "# normal distribution\n",
    "np.random.randn(2,3)"
   ]
  },
  {
   "cell_type": "code",
   "execution_count": 37,
   "id": "993a3c77",
   "metadata": {},
   "outputs": [
    {
     "data": {
      "text/plain": [
       "array([2, 1, 2])"
      ]
     },
     "execution_count": 37,
     "metadata": {},
     "output_type": "execute_result"
    }
   ],
   "source": [
    "# int\n",
    "np.random.randint(1,5,size = 3) #包含1不含5 [1,5)"
   ]
  },
  {
   "cell_type": "code",
   "execution_count": 42,
   "id": "03790af2",
   "metadata": {},
   "outputs": [
    {
     "data": {
      "text/plain": [
       "array([[3, 4, 4],\n",
       "       [0, 2, 0]])"
      ]
     },
     "execution_count": 42,
     "metadata": {},
     "output_type": "execute_result"
    }
   ],
   "source": [
    "# [0,5)\n",
    "np.random.randint(0,5,size = (2,3)) #包含1不含5"
   ]
  },
  {
   "cell_type": "code",
   "execution_count": 43,
   "id": "0994eaa0",
   "metadata": {},
   "outputs": [
    {
     "data": {
      "text/plain": [
       "array([0.94459967, 0.92580963, 0.11564943])"
      ]
     },
     "execution_count": 43,
     "metadata": {},
     "output_type": "execute_result"
    }
   ],
   "source": [
    "# float [0,1)\n",
    "np.random.random_sample(size =3)"
   ]
  },
  {
   "cell_type": "code",
   "execution_count": 51,
   "id": "105e4b47",
   "metadata": {},
   "outputs": [
    {
     "name": "stdout",
     "output_type": "stream",
     "text": [
      "0\n",
      "1\n",
      "2\n",
      "3\n",
      "4\n"
     ]
    },
    {
     "data": {
      "text/plain": [
       "array([4, 3, 1])"
      ]
     },
     "execution_count": 51,
     "metadata": {},
     "output_type": "execute_result"
    }
   ],
   "source": [
    "# 固定样本\n",
    "# np.random.choice(a,size = 3, replace = False, p = None)\n",
    "# a 可以时数组 - 一个样本\n",
    "# a 可以是正数 - range(a)\n",
    "for i in range(5):\n",
    "    print(i)\n",
    "np.random.choice(5, size = 3)"
   ]
  },
  {
   "cell_type": "code",
   "execution_count": 54,
   "id": "0f4ae65f",
   "metadata": {},
   "outputs": [
    {
     "data": {
      "text/plain": [
       "array([2, 2, 3, 2, 1, 3, 1, 3, 3, 1])"
      ]
     },
     "execution_count": 54,
     "metadata": {},
     "output_type": "execute_result"
    }
   ],
   "source": [
    "np.random.choice((1,2,3),size = 10)"
   ]
  },
  {
   "cell_type": "markdown",
   "id": "693a3671",
   "metadata": {},
   "source": [
    "## 打乱"
   ]
  },
  {
   "cell_type": "code",
   "execution_count": 61,
   "id": "78967d21",
   "metadata": {},
   "outputs": [
    {
     "name": "stdout",
     "output_type": "stream",
     "text": [
      "[ 1  2  3  4  5  6  7  8  9 10]\n",
      "[ 8  4 10  9  2  7  3  6  1  5]\n"
     ]
    }
   ],
   "source": [
    "a = np.arange(1,11)\n",
    "print(a)\n",
    "np.random.shuffle(a)\n",
    "print(a)"
   ]
  },
  {
   "cell_type": "markdown",
   "id": "76e78a01",
   "metadata": {},
   "source": [
    "## 查看数据类型"
   ]
  },
  {
   "cell_type": "code",
   "execution_count": 63,
   "id": "1bcf1823",
   "metadata": {},
   "outputs": [
    {
     "data": {
      "text/plain": [
       "dtype('int64')"
      ]
     },
     "execution_count": 63,
     "metadata": {},
     "output_type": "execute_result"
    }
   ],
   "source": [
    "arr.dtype # 数据类型"
   ]
  },
  {
   "cell_type": "code",
   "execution_count": 64,
   "id": "01e9d42d",
   "metadata": {},
   "outputs": [
    {
     "data": {
      "text/plain": [
       "(10,)"
      ]
     },
     "execution_count": 64,
     "metadata": {},
     "output_type": "execute_result"
    }
   ],
   "source": [
    "arr.shape # 形状"
   ]
  },
  {
   "cell_type": "code",
   "execution_count": 65,
   "id": "8e537a5d",
   "metadata": {},
   "outputs": [
    {
     "data": {
      "text/plain": [
       "10"
      ]
     },
     "execution_count": 65,
     "metadata": {},
     "output_type": "execute_result"
    }
   ],
   "source": [
    "arr.size # 数据量"
   ]
  },
  {
   "cell_type": "code",
   "execution_count": 66,
   "id": "e58f39c9",
   "metadata": {},
   "outputs": [
    {
     "data": {
      "text/plain": [
       "1"
      ]
     },
     "execution_count": 66,
     "metadata": {},
     "output_type": "execute_result"
    }
   ],
   "source": [
    "arr.ndim # 维度"
   ]
  },
  {
   "cell_type": "markdown",
   "id": "3ee9f365",
   "metadata": {},
   "source": [
    "# 3. 选取数据\n",
    "* 索引\n",
    "* 切片 - 光标\n"
   ]
  },
  {
   "cell_type": "markdown",
   "id": "c06b21d1",
   "metadata": {},
   "source": [
    "## 3.1 一维数组"
   ]
  },
  {
   "cell_type": "code",
   "execution_count": 74,
   "id": "ed7e15b9",
   "metadata": {},
   "outputs": [],
   "source": [
    "arr = np.arange(1,50,3)"
   ]
  },
  {
   "cell_type": "code",
   "execution_count": 75,
   "id": "edd71233",
   "metadata": {},
   "outputs": [
    {
     "data": {
      "text/plain": [
       "1"
      ]
     },
     "execution_count": 75,
     "metadata": {},
     "output_type": "execute_result"
    }
   ],
   "source": [
    "arr[0]"
   ]
  },
  {
   "cell_type": "code",
   "execution_count": 77,
   "id": "12610867",
   "metadata": {},
   "outputs": [
    {
     "data": {
      "text/plain": [
       "array([ 1,  4,  7, 10, 13])"
      ]
     },
     "execution_count": 77,
     "metadata": {},
     "output_type": "execute_result"
    }
   ],
   "source": [
    "arr[0:5]"
   ]
  },
  {
   "cell_type": "markdown",
   "id": "d80372b6",
   "metadata": {},
   "source": [
    "### bool 筛选"
   ]
  },
  {
   "cell_type": "code",
   "execution_count": 80,
   "id": "6606f83d",
   "metadata": {},
   "outputs": [
    {
     "data": {
      "text/plain": [
       "array([False, False, False, False,  True,  True,  True,  True,  True,\n",
       "        True,  True,  True,  True,  True,  True,  True,  True])"
      ]
     },
     "execution_count": 80,
     "metadata": {},
     "output_type": "execute_result"
    }
   ],
   "source": [
    "arr>10"
   ]
  },
  {
   "cell_type": "code",
   "execution_count": 81,
   "id": "11224b7c",
   "metadata": {},
   "outputs": [
    {
     "data": {
      "text/plain": [
       "array([13, 16, 19, 22, 25, 28, 31, 34, 37, 40, 43, 46, 49])"
      ]
     },
     "execution_count": 81,
     "metadata": {},
     "output_type": "execute_result"
    }
   ],
   "source": [
    "arr[arr>10]"
   ]
  },
  {
   "cell_type": "markdown",
   "id": "48559a70",
   "metadata": {},
   "source": [
    "## 3.2 多维数组"
   ]
  },
  {
   "cell_type": "code",
   "execution_count": 85,
   "id": "b8aefa11",
   "metadata": {},
   "outputs": [
    {
     "data": {
      "text/plain": [
       "array([[1, 2, 3],\n",
       "       [4, 5, 6],\n",
       "       [7, 8, 9]])"
      ]
     },
     "execution_count": 85,
     "metadata": {},
     "output_type": "execute_result"
    }
   ],
   "source": [
    "arr = np.array([[1,2,3]\n",
    "                ,[4,5,6]\n",
    "                ,[7,8,9]])\n",
    "arr"
   ]
  },
  {
   "cell_type": "code",
   "execution_count": 86,
   "id": "4122e6a8",
   "metadata": {},
   "outputs": [
    {
     "data": {
      "text/plain": [
       "array([1, 2, 3])"
      ]
     },
     "execution_count": 86,
     "metadata": {},
     "output_type": "execute_result"
    }
   ],
   "source": [
    "arr[0] # index"
   ]
  },
  {
   "cell_type": "code",
   "execution_count": 93,
   "id": "d9b780bc",
   "metadata": {},
   "outputs": [
    {
     "data": {
      "text/plain": [
       "array([[1, 2, 3],\n",
       "       [4, 5, 6]])"
      ]
     },
     "execution_count": 93,
     "metadata": {},
     "output_type": "execute_result"
    }
   ],
   "source": [
    "arr[0:2] # 第0行 和 第1行 - slicing"
   ]
  },
  {
   "cell_type": "code",
   "execution_count": 90,
   "id": "7a134467",
   "metadata": {},
   "outputs": [
    {
     "data": {
      "text/plain": [
       "array([1, 4, 7])"
      ]
     },
     "execution_count": 90,
     "metadata": {},
     "output_type": "execute_result"
    }
   ],
   "source": [
    "arr[:,0] # columns"
   ]
  },
  {
   "cell_type": "code",
   "execution_count": 94,
   "id": "5cbe3e6f",
   "metadata": {},
   "outputs": [
    {
     "data": {
      "text/plain": [
       "array([[5, 6],\n",
       "       [8, 9]])"
      ]
     },
     "execution_count": 94,
     "metadata": {},
     "output_type": "execute_result"
    }
   ],
   "source": [
    "arr[1:3,1:3]"
   ]
  },
  {
   "cell_type": "code",
   "execution_count": 97,
   "id": "b7842ea4",
   "metadata": {},
   "outputs": [
    {
     "data": {
      "text/plain": [
       "array([[4, 5, 6],\n",
       "       [7, 8, 9]])"
      ]
     },
     "execution_count": 97,
     "metadata": {},
     "output_type": "execute_result"
    }
   ],
   "source": [
    "# arr[:,0] # first columns\n",
    "# arr[:,0] > 2 # 第一列大于2的数\n",
    "arr[arr[:,0]>2]\n",
    "# 会把队迎行全都晒"
   ]
  },
  {
   "cell_type": "code",
   "execution_count": 98,
   "id": "e41c43fe",
   "metadata": {},
   "outputs": [],
   "source": [
    "# 你就摆烂吧！！！！！！\n",
    "# 不学习！！！\n",
    "# 看看你男朋友！多努力呀！～"
   ]
  },
  {
   "cell_type": "markdown",
   "id": "62e1ce06",
   "metadata": {},
   "source": [
    "# 4. 数组 预处理"
   ]
  },
  {
   "cell_type": "markdown",
   "id": "befd54c3",
   "metadata": {},
   "source": [
    "## 4.1 类型转化\n",
    "* int\n",
    "* float\n",
    "* object\n",
    "* string_\n",
    "* unicode_"
   ]
  },
  {
   "cell_type": "code",
   "execution_count": 99,
   "id": "56c5b6d0",
   "metadata": {},
   "outputs": [
    {
     "data": {
      "text/plain": [
       "dtype('int64')"
      ]
     },
     "execution_count": 99,
     "metadata": {},
     "output_type": "execute_result"
    }
   ],
   "source": [
    "arr.dtype"
   ]
  },
  {
   "cell_type": "code",
   "execution_count": 103,
   "id": "047174b8",
   "metadata": {},
   "outputs": [
    {
     "data": {
      "text/plain": [
       "dtype('S21')"
      ]
     },
     "execution_count": 103,
     "metadata": {},
     "output_type": "execute_result"
    }
   ],
   "source": [
    "arr.astype(np.string_).dtype # S21: 长度为21"
   ]
  },
  {
   "cell_type": "code",
   "execution_count": 105,
   "id": "30e22832",
   "metadata": {},
   "outputs": [
    {
     "name": "stderr",
     "output_type": "stream",
     "text": [
      "/var/folders/dq/vyz01f_d6_9554rf0l07d8p00000gn/T/ipykernel_5175/3470983748.py:1: DeprecationWarning: `np.object` is a deprecated alias for the builtin `object`. To silence this warning, use `object` by itself. Doing this will not modify any behavior and is safe. \n",
      "Deprecated in NumPy 1.20; for more details and guidance: https://numpy.org/devdocs/release/1.20.0-notes.html#deprecations\n",
      "  arr_new = arr.astype(np.object)\n"
     ]
    }
   ],
   "source": [
    "arr_new = arr.astype(np.object)"
   ]
  },
  {
   "cell_type": "code",
   "execution_count": 106,
   "id": "e1ef65b0",
   "metadata": {},
   "outputs": [
    {
     "data": {
      "text/plain": [
       "dtype('O')"
      ]
     },
     "execution_count": 106,
     "metadata": {},
     "output_type": "execute_result"
    }
   ],
   "source": [
    "arr_new.dtype"
   ]
  },
  {
   "cell_type": "markdown",
   "id": "992c0dbb",
   "metadata": {},
   "source": [
    "## 4.2 缺失值处理"
   ]
  },
  {
   "cell_type": "code",
   "execution_count": 107,
   "id": "d3c057da",
   "metadata": {},
   "outputs": [
    {
     "data": {
      "text/plain": [
       "array([ 1.,  2., nan,  4.])"
      ]
     },
     "execution_count": 107,
     "metadata": {},
     "output_type": "execute_result"
    }
   ],
   "source": [
    "arr = np.array([1,2,np.nan,4])\n",
    "arr"
   ]
  },
  {
   "cell_type": "code",
   "execution_count": 108,
   "id": "4d452750",
   "metadata": {},
   "outputs": [
    {
     "data": {
      "text/plain": [
       "array([False, False,  True, False])"
      ]
     },
     "execution_count": 108,
     "metadata": {},
     "output_type": "execute_result"
    }
   ],
   "source": [
    "np.isnan(arr)"
   ]
  },
  {
   "cell_type": "code",
   "execution_count": 110,
   "id": "a9c64ca4",
   "metadata": {},
   "outputs": [
    {
     "data": {
      "text/plain": [
       "array([nan])"
      ]
     },
     "execution_count": 110,
     "metadata": {},
     "output_type": "execute_result"
    }
   ],
   "source": [
    "arr[np.isnan(arr)] # bool索引"
   ]
  },
  {
   "cell_type": "code",
   "execution_count": 113,
   "id": "167f9537",
   "metadata": {},
   "outputs": [
    {
     "data": {
      "text/plain": [
       "array([1, 2, 0, 4])"
      ]
     },
     "execution_count": 113,
     "metadata": {},
     "output_type": "execute_result"
    }
   ],
   "source": [
    "arr[np.isnan(arr)] = 0\n",
    "arr.astype(int)"
   ]
  },
  {
   "cell_type": "markdown",
   "id": "b98fb62f",
   "metadata": {},
   "source": [
    "## 4.3重复数据查看"
   ]
  },
  {
   "cell_type": "code",
   "execution_count": 115,
   "id": "89a416d2",
   "metadata": {},
   "outputs": [
    {
     "data": {
      "text/plain": [
       "array([0, 1, 2, 3, 4, 5, 9])"
      ]
     },
     "execution_count": 115,
     "metadata": {},
     "output_type": "execute_result"
    }
   ],
   "source": [
    "arr = np.array([9,0,1,3,5,1,3,4,5,1,2])\n",
    "np.unique(arr)"
   ]
  },
  {
   "cell_type": "markdown",
   "id": "f814e3dd",
   "metadata": {},
   "source": [
    "## 4.4 数据重塑"
   ]
  },
  {
   "cell_type": "markdown",
   "id": "77acaa74",
   "metadata": {},
   "source": [
    "### 多维数组"
   ]
  },
  {
   "cell_type": "code",
   "execution_count": 118,
   "id": "27733052",
   "metadata": {},
   "outputs": [
    {
     "data": {
      "text/plain": [
       "array([0, 1, 2, 3, 4, 5, 6, 7])"
      ]
     },
     "execution_count": 118,
     "metadata": {},
     "output_type": "execute_result"
    }
   ],
   "source": [
    "arr = np.arange(8)\n",
    "arr"
   ]
  },
  {
   "cell_type": "code",
   "execution_count": 119,
   "id": "3a0fbf34",
   "metadata": {},
   "outputs": [
    {
     "data": {
      "text/plain": [
       "array([[0, 1],\n",
       "       [2, 3],\n",
       "       [4, 5],\n",
       "       [6, 7]])"
      ]
     },
     "execution_count": 119,
     "metadata": {},
     "output_type": "execute_result"
    }
   ],
   "source": [
    "arr.reshape(4,2)"
   ]
  },
  {
   "cell_type": "code",
   "execution_count": 121,
   "id": "fd296359",
   "metadata": {},
   "outputs": [
    {
     "data": {
      "text/plain": [
       "array([[ 1,  2,  3,  4],\n",
       "       [ 5,  6,  7,  8],\n",
       "       [ 9, 10, 11, 12]])"
      ]
     },
     "execution_count": 121,
     "metadata": {},
     "output_type": "execute_result"
    }
   ],
   "source": [
    "arr = np.array([[1,2,3,4]\n",
    "               ,[5,6,7,8]\n",
    "               ,[9,10,11,12]])\n",
    "arr"
   ]
  },
  {
   "cell_type": "code",
   "execution_count": 125,
   "id": "d08eaa0d",
   "metadata": {},
   "outputs": [
    {
     "data": {
      "text/plain": [
       "array([[ 1,  2,  3,  4,  5,  6,  7,  8,  9, 10, 11, 12]])"
      ]
     },
     "execution_count": 125,
     "metadata": {},
     "output_type": "execute_result"
    }
   ],
   "source": [
    "arr.reshape((1,12))"
   ]
  },
  {
   "cell_type": "code",
   "execution_count": 127,
   "id": "2607310a",
   "metadata": {},
   "outputs": [
    {
     "data": {
      "text/plain": [
       "array([[ 1,  2,  3],\n",
       "       [ 4,  5,  6],\n",
       "       [ 7,  8,  9],\n",
       "       [10, 11, 12]])"
      ]
     },
     "execution_count": 127,
     "metadata": {},
     "output_type": "execute_result"
    }
   ],
   "source": [
    "arr.reshape(4,3)"
   ]
  },
  {
   "cell_type": "markdown",
   "id": "33e08df4",
   "metadata": {},
   "source": [
    "### 转置"
   ]
  },
  {
   "cell_type": "code",
   "execution_count": 129,
   "id": "955c69e5",
   "metadata": {},
   "outputs": [
    {
     "data": {
      "text/plain": [
       "array([[1, 2, 3, 4],\n",
       "       [5, 6, 7, 8]])"
      ]
     },
     "execution_count": 129,
     "metadata": {},
     "output_type": "execute_result"
    }
   ],
   "source": [
    "arr = np.array([[1,2,3,4]\n",
    "               ,[5,6,7,8]])\n",
    "arr"
   ]
  },
  {
   "cell_type": "code",
   "execution_count": 130,
   "id": "08fb3522",
   "metadata": {},
   "outputs": [
    {
     "data": {
      "text/plain": [
       "array([[1, 5],\n",
       "       [2, 6],\n",
       "       [3, 7],\n",
       "       [4, 8]])"
      ]
     },
     "execution_count": 130,
     "metadata": {},
     "output_type": "execute_result"
    }
   ],
   "source": [
    "arr.T"
   ]
  },
  {
   "cell_type": "markdown",
   "id": "0c06488c",
   "metadata": {},
   "source": [
    "## 4.5 数组合并和拆分"
   ]
  },
  {
   "cell_type": "code",
   "execution_count": 151,
   "id": "7998129b",
   "metadata": {},
   "outputs": [],
   "source": [
    "import numpy as np\n",
    "arr = np.array([[1,2,3]\n",
    "               ,[4,5,6]])\n",
    "arr2 = np.array([[1,2,3]\n",
    "               ,[4,5,6]])"
   ]
  },
  {
   "cell_type": "markdown",
   "id": "80e01a51",
   "metadata": {},
   "source": [
    "### Horizon"
   ]
  },
  {
   "cell_type": "code",
   "execution_count": 138,
   "id": "254eaeea",
   "metadata": {},
   "outputs": [
    {
     "data": {
      "text/plain": [
       "array([[1, 2, 3, 1, 2, 3],\n",
       "       [4, 5, 6, 4, 5, 6]])"
      ]
     },
     "execution_count": 138,
     "metadata": {},
     "output_type": "execute_result"
    }
   ],
   "source": [
    "np.concatenate([arr,arr2],axis = 1)"
   ]
  },
  {
   "cell_type": "code",
   "execution_count": 139,
   "id": "01f7b804",
   "metadata": {},
   "outputs": [
    {
     "data": {
      "text/plain": [
       "array([[1, 2, 3],\n",
       "       [4, 5, 6],\n",
       "       [1, 2, 3],\n",
       "       [4, 5, 6]])"
      ]
     },
     "execution_count": 139,
     "metadata": {},
     "output_type": "execute_result"
    }
   ],
   "source": [
    "np.concatenate([arr,arr2],axis = 0)"
   ]
  },
  {
   "cell_type": "code",
   "execution_count": 141,
   "id": "527317b3",
   "metadata": {},
   "outputs": [
    {
     "data": {
      "text/plain": [
       "array([[1, 2, 3, 1, 2, 3],\n",
       "       [4, 5, 6, 4, 5, 6]])"
      ]
     },
     "execution_count": 141,
     "metadata": {},
     "output_type": "execute_result"
    }
   ],
   "source": [
    "np.hstack([arr,arr2]) # horizon vertical"
   ]
  },
  {
   "cell_type": "code",
   "execution_count": 142,
   "id": "31acafa8",
   "metadata": {},
   "outputs": [
    {
     "data": {
      "text/plain": [
       "array([[1, 2, 3, 1, 2, 3],\n",
       "       [4, 5, 6, 4, 5, 6]])"
      ]
     },
     "execution_count": 142,
     "metadata": {},
     "output_type": "execute_result"
    }
   ],
   "source": [
    "np.column_stack([arr,arr2])"
   ]
  },
  {
   "cell_type": "markdown",
   "id": "fa61ec52",
   "metadata": {},
   "source": [
    "### Vertical"
   ]
  },
  {
   "cell_type": "code",
   "execution_count": 144,
   "id": "35bbe238",
   "metadata": {},
   "outputs": [
    {
     "data": {
      "text/plain": [
       "array([[1, 2, 3],\n",
       "       [4, 5, 6],\n",
       "       [1, 2, 3],\n",
       "       [4, 5, 6]])"
      ]
     },
     "execution_count": 144,
     "metadata": {},
     "output_type": "execute_result"
    }
   ],
   "source": [
    "np.concatenate([arr,arr2],axis = 0)"
   ]
  },
  {
   "cell_type": "code",
   "execution_count": 145,
   "id": "c74c4506",
   "metadata": {},
   "outputs": [
    {
     "data": {
      "text/plain": [
       "array([[1, 2, 3],\n",
       "       [4, 5, 6],\n",
       "       [1, 2, 3],\n",
       "       [4, 5, 6]])"
      ]
     },
     "execution_count": 145,
     "metadata": {},
     "output_type": "execute_result"
    }
   ],
   "source": [
    "np.vstack([arr,arr2])"
   ]
  },
  {
   "cell_type": "code",
   "execution_count": 146,
   "id": "fd5c7231",
   "metadata": {},
   "outputs": [
    {
     "data": {
      "text/plain": [
       "array([[1, 2, 3],\n",
       "       [4, 5, 6],\n",
       "       [1, 2, 3],\n",
       "       [4, 5, 6]])"
      ]
     },
     "execution_count": 146,
     "metadata": {},
     "output_type": "execute_result"
    }
   ],
   "source": [
    "np.row_stack([arr,arr2])"
   ]
  },
  {
   "cell_type": "markdown",
   "id": "1a508cd2",
   "metadata": {},
   "source": [
    "### 拆分"
   ]
  },
  {
   "cell_type": "code",
   "execution_count": 160,
   "id": "1677c925",
   "metadata": {},
   "outputs": [
    {
     "data": {
      "text/plain": [
       "array([[1, 2, 3],\n",
       "       [4, 5, 6],\n",
       "       [1, 2, 3],\n",
       "       [4, 5, 6]])"
      ]
     },
     "execution_count": 160,
     "metadata": {},
     "output_type": "execute_result"
    }
   ],
   "source": [
    "import numpy as np\n",
    "arr = np.array([[1,2,3]\n",
    "               ,[4,5,6]])\n",
    "arr2 = np.array([[1,2,3]\n",
    "               ,[4,5,6]])\n",
    "arr = np.concatenate([arr,arr2],axis = 0)\n",
    "arr"
   ]
  },
  {
   "cell_type": "code",
   "execution_count": 167,
   "id": "60060990",
   "metadata": {},
   "outputs": [
    {
     "data": {
      "text/plain": [
       "[array([[1, 2, 3]]),\n",
       " array([[4, 5, 6],\n",
       "        [1, 2, 3]]),\n",
       " array([[4, 5, 6]])]"
      ]
     },
     "execution_count": 167,
     "metadata": {},
     "output_type": "execute_result"
    }
   ],
   "source": [
    "np.split(arr,\n",
    "        [1,3], # 按光标拆分\n",
    "        axis = 0 # 按行拆分\n",
    "        )"
   ]
  },
  {
   "cell_type": "code",
   "execution_count": 170,
   "id": "5bdcb1df",
   "metadata": {},
   "outputs": [
    {
     "data": {
      "text/plain": [
       "[array([[1],\n",
       "        [4],\n",
       "        [1],\n",
       "        [4]]),\n",
       " array([[2, 3],\n",
       "        [5, 6],\n",
       "        [2, 3],\n",
       "        [5, 6]]),\n",
       " array([], shape=(4, 0), dtype=int64)]"
      ]
     },
     "execution_count": 170,
     "metadata": {},
     "output_type": "execute_result"
    }
   ],
   "source": [
    "np.split(arr,\n",
    "        [1,3], # 按光标拆分\n",
    "        axis = 1 # 按行拆分\n",
    "        )"
   ]
  },
  {
   "cell_type": "code",
   "execution_count": null,
   "id": "ac2da324",
   "metadata": {},
   "outputs": [],
   "source": []
  }
 ],
 "metadata": {
  "kernelspec": {
   "display_name": "Python 3 (ipykernel)",
   "language": "python",
   "name": "python3"
  },
  "language_info": {
   "codemirror_mode": {
    "name": "ipython",
    "version": 3
   },
   "file_extension": ".py",
   "mimetype": "text/x-python",
   "name": "python",
   "nbconvert_exporter": "python",
   "pygments_lexer": "ipython3",
   "version": "3.9.13"
  }
 },
 "nbformat": 4,
 "nbformat_minor": 5
}
