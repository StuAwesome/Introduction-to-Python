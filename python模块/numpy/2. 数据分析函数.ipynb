{
 "cells": [
  {
   "cell_type": "markdown",
   "id": "9d701bb5",
   "metadata": {},
   "source": [
    "# 1. 元素函数\n",
    "* log, log10, log2, log1p = log(1 + x)\n",
    "* modf,将小数和整数部分分别以独立数组返回\n",
    "\n"
   ]
  },
  {
   "cell_type": "code",
   "execution_count": 3,
   "id": "53ff9766",
   "metadata": {},
   "outputs": [
    {
     "data": {
      "text/plain": [
       "array([[1, 2, 3],\n",
       "       [4, 5, 6]])"
      ]
     },
     "execution_count": 3,
     "metadata": {},
     "output_type": "execute_result"
    }
   ],
   "source": [
    "import numpy as np\n",
    "arr = np.array([[1,2,3]\n",
    "               ,[-4,-5,-6]])\n",
    "np.abs(arr)"
   ]
  },
  {
   "cell_type": "code",
   "execution_count": 5,
   "id": "c73f7f62",
   "metadata": {},
   "outputs": [
    {
     "data": {
      "text/plain": [
       "array([[ 1,  4,  9],\n",
       "       [16, 25, 36]])"
      ]
     },
     "execution_count": 5,
     "metadata": {},
     "output_type": "execute_result"
    }
   ],
   "source": [
    "np.square(arr)"
   ]
  },
  {
   "cell_type": "code",
   "execution_count": 7,
   "id": "ba8452ea",
   "metadata": {},
   "outputs": [
    {
     "name": "stderr",
     "output_type": "stream",
     "text": [
      "/var/folders/dq/vyz01f_d6_9554rf0l07d8p00000gn/T/ipykernel_5764/2296558006.py:1: RuntimeWarning: invalid value encountered in sqrt\n",
      "  np.sqrt(arr)\n"
     ]
    },
    {
     "data": {
      "text/plain": [
       "array([[1.        , 1.41421356, 1.73205081],\n",
       "       [       nan,        nan,        nan]])"
      ]
     },
     "execution_count": 7,
     "metadata": {},
     "output_type": "execute_result"
    }
   ],
   "source": [
    "np.sqrt(arr)"
   ]
  },
  {
   "cell_type": "code",
   "execution_count": 8,
   "id": "d4225d83",
   "metadata": {},
   "outputs": [
    {
     "data": {
      "text/plain": [
       "array([[2.71828183e+00, 7.38905610e+00, 2.00855369e+01],\n",
       "       [1.83156389e-02, 6.73794700e-03, 2.47875218e-03]])"
      ]
     },
     "execution_count": 8,
     "metadata": {},
     "output_type": "execute_result"
    }
   ],
   "source": [
    "np.exp(arr)"
   ]
  },
  {
   "cell_type": "code",
   "execution_count": 9,
   "id": "6d55a734",
   "metadata": {},
   "outputs": [
    {
     "name": "stderr",
     "output_type": "stream",
     "text": [
      "/var/folders/dq/vyz01f_d6_9554rf0l07d8p00000gn/T/ipykernel_5764/715331768.py:1: RuntimeWarning: invalid value encountered in log1p\n",
      "  np.log1p(arr)\n"
     ]
    },
    {
     "data": {
      "text/plain": [
       "array([[0.69314718, 1.09861229, 1.38629436],\n",
       "       [       nan,        nan,        nan]])"
      ]
     },
     "execution_count": 9,
     "metadata": {},
     "output_type": "execute_result"
    }
   ],
   "source": [
    "np.log1p(arr)"
   ]
  },
  {
   "cell_type": "code",
   "execution_count": 10,
   "id": "879ba123",
   "metadata": {},
   "outputs": [],
   "source": [
    "import numpy as np\n",
    "arr = np.array([[1.1,2.3,3.4]\n",
    "               ,[-4,-5,-6]])"
   ]
  },
  {
   "cell_type": "code",
   "execution_count": 11,
   "id": "7c606a4a",
   "metadata": {},
   "outputs": [
    {
     "data": {
      "text/plain": [
       "(array([[ 0.1,  0.3,  0.4],\n",
       "        [-0. , -0. , -0. ]]),\n",
       " array([[ 1.,  2.,  3.],\n",
       "        [-4., -5., -6.]]))"
      ]
     },
     "execution_count": 11,
     "metadata": {},
     "output_type": "execute_result"
    }
   ],
   "source": [
    "np.modf(arr)"
   ]
  },
  {
   "cell_type": "code",
   "execution_count": 14,
   "id": "9779763e",
   "metadata": {},
   "outputs": [
    {
     "data": {
      "text/plain": [
       "array([[False, False, False],\n",
       "       [ True, False, False]])"
      ]
     },
     "execution_count": 14,
     "metadata": {},
     "output_type": "execute_result"
    }
   ],
   "source": [
    "arr = np.array([[1.1,2.3,3.4]\n",
    "               ,[np.nan,-5,-6]])\n",
    "np.isnan(arr)"
   ]
  },
  {
   "cell_type": "markdown",
   "id": "9814124b",
   "metadata": {},
   "source": [
    "# 2. 统计函数\n",
    "axis\n",
    "* sum mean\n",
    "* std var\n",
    "* min max\n",
    "* argmin argmax : 最小 最大 对应的索引\n",
    "* cumsum ：累和 return 数组\n",
    "* cumprod ：累积数组"
   ]
  },
  {
   "cell_type": "code",
   "execution_count": 19,
   "id": "4effac88",
   "metadata": {},
   "outputs": [],
   "source": [
    "import numpy as np\n",
    "arr = np.array([[1,2,3]\n",
    "               ,[4,9,6]\n",
    "               ,[7,8,9]])"
   ]
  },
  {
   "cell_type": "code",
   "execution_count": 20,
   "id": "40433d6f",
   "metadata": {},
   "outputs": [
    {
     "data": {
      "text/plain": [
       "9"
      ]
     },
     "execution_count": 20,
     "metadata": {},
     "output_type": "execute_result"
    }
   ],
   "source": [
    "arr.max()"
   ]
  },
  {
   "cell_type": "code",
   "execution_count": 21,
   "id": "70e90c0a",
   "metadata": {},
   "outputs": [
    {
     "data": {
      "text/plain": [
       "array([3, 9, 9])"
      ]
     },
     "execution_count": 21,
     "metadata": {},
     "output_type": "execute_result"
    }
   ],
   "source": [
    "arr.max(axis = 1) # 每一行的最大值"
   ]
  },
  {
   "cell_type": "code",
   "execution_count": 23,
   "id": "fc2bebe0",
   "metadata": {},
   "outputs": [
    {
     "data": {
      "text/plain": [
       "array([7, 9, 9])"
      ]
     },
     "execution_count": 23,
     "metadata": {},
     "output_type": "execute_result"
    }
   ],
   "source": [
    "arr.max(axis = 0) # 每一列的最大值"
   ]
  },
  {
   "cell_type": "code",
   "execution_count": 24,
   "id": "37125d30",
   "metadata": {},
   "outputs": [
    {
     "data": {
      "text/plain": [
       "array([ 6, 19, 24])"
      ]
     },
     "execution_count": 24,
     "metadata": {},
     "output_type": "execute_result"
    }
   ],
   "source": [
    "arr.sum(axis = 1)"
   ]
  },
  {
   "cell_type": "code",
   "execution_count": 28,
   "id": "cb28d166",
   "metadata": {},
   "outputs": [
    {
     "data": {
      "text/plain": [
       "0"
      ]
     },
     "execution_count": 28,
     "metadata": {},
     "output_type": "execute_result"
    }
   ],
   "source": [
    "arr.argmin()"
   ]
  },
  {
   "cell_type": "code",
   "execution_count": 30,
   "id": "aa0594c4",
   "metadata": {},
   "outputs": [
    {
     "data": {
      "text/plain": [
       "4"
      ]
     },
     "execution_count": 30,
     "metadata": {},
     "output_type": "execute_result"
    }
   ],
   "source": [
    "arr.argmax()"
   ]
  },
  {
   "cell_type": "code",
   "execution_count": 31,
   "id": "ba308516",
   "metadata": {},
   "outputs": [
    {
     "data": {
      "text/plain": [
       "array([ 1,  3,  6, 10, 19, 25, 32, 40, 49])"
      ]
     },
     "execution_count": 31,
     "metadata": {},
     "output_type": "execute_result"
    }
   ],
   "source": [
    "arr.cumsum()"
   ]
  },
  {
   "cell_type": "code",
   "execution_count": 33,
   "id": "7dc87c47",
   "metadata": {},
   "outputs": [
    {
     "data": {
      "text/plain": [
       "array([     1,      2,      6,     24,    216,   1296,   9072,  72576,\n",
       "       653184])"
      ]
     },
     "execution_count": 33,
     "metadata": {},
     "output_type": "execute_result"
    }
   ],
   "source": [
    "arr.cumprod()"
   ]
  },
  {
   "cell_type": "markdown",
   "id": "4cf17b01",
   "metadata": {},
   "source": [
    "# 3. `np.where( )`函数"
   ]
  },
  {
   "cell_type": "code",
   "execution_count": 36,
   "id": "4be54136",
   "metadata": {},
   "outputs": [],
   "source": [
    "arr = np.array([56,13,75,84])"
   ]
  },
  {
   "cell_type": "code",
   "execution_count": 38,
   "id": "037488f3",
   "metadata": {},
   "outputs": [
    {
     "data": {
      "text/plain": [
       "array(['不及格', '不及格', '及格', '及格'], dtype='<U3')"
      ]
     },
     "execution_count": 38,
     "metadata": {},
     "output_type": "execute_result"
    }
   ],
   "source": [
    "np.where(arr>=60,\"及格\",\"不及格\")"
   ]
  },
  {
   "cell_type": "code",
   "execution_count": 40,
   "id": "c2be7bf5",
   "metadata": {},
   "outputs": [
    {
     "data": {
      "text/plain": [
       "(array([2, 3]),)"
      ]
     },
     "execution_count": 40,
     "metadata": {},
     "output_type": "execute_result"
    }
   ],
   "source": [
    "np.where(arr>=60) # 返回索引"
   ]
  },
  {
   "cell_type": "code",
   "execution_count": 41,
   "id": "a103982c",
   "metadata": {},
   "outputs": [
    {
     "data": {
      "text/plain": [
       "(array([2, 3]),)"
      ]
     },
     "execution_count": 41,
     "metadata": {},
     "output_type": "execute_result"
    }
   ],
   "source": [
    "location = np.where(arr>=60) # 返回索引\n",
    "location"
   ]
  },
  {
   "cell_type": "code",
   "execution_count": 42,
   "id": "6562d787",
   "metadata": {},
   "outputs": [
    {
     "data": {
      "text/plain": [
       "array([75, 84])"
      ]
     },
     "execution_count": 42,
     "metadata": {},
     "output_type": "execute_result"
    }
   ],
   "source": [
    "arr[location]"
   ]
  },
  {
   "cell_type": "markdown",
   "id": "c3bfe17c",
   "metadata": {},
   "source": [
    "# 4. 排序"
   ]
  },
  {
   "cell_type": "code",
   "execution_count": 47,
   "id": "c1d5d205",
   "metadata": {},
   "outputs": [],
   "source": [
    "arr = np.array([56,13,75,84])"
   ]
  },
  {
   "cell_type": "code",
   "execution_count": 48,
   "id": "99171c03",
   "metadata": {},
   "outputs": [
    {
     "data": {
      "text/plain": [
       "array([13, 56, 75, 84])"
      ]
     },
     "execution_count": 48,
     "metadata": {},
     "output_type": "execute_result"
    }
   ],
   "source": [
    "np.sort(arr) # 返回一个数组"
   ]
  },
  {
   "cell_type": "code",
   "execution_count": 49,
   "id": "3b3e3fd3",
   "metadata": {},
   "outputs": [
    {
     "data": {
      "text/plain": [
       "array([56, 13, 75, 84])"
      ]
     },
     "execution_count": 49,
     "metadata": {},
     "output_type": "execute_result"
    }
   ],
   "source": [
    "arr"
   ]
  },
  {
   "cell_type": "code",
   "execution_count": 51,
   "id": "59435bff",
   "metadata": {},
   "outputs": [
    {
     "data": {
      "text/plain": [
       "array([13, 56, 75, 84])"
      ]
     },
     "execution_count": 51,
     "metadata": {},
     "output_type": "execute_result"
    }
   ],
   "source": [
    "arr.sort() # 更改数组元素的顺序\n",
    "arr"
   ]
  },
  {
   "cell_type": "markdown",
   "id": "0c421130",
   "metadata": {},
   "source": [
    "# 5. set 关系"
   ]
  },
  {
   "cell_type": "code",
   "execution_count": 54,
   "id": "add950cc",
   "metadata": {},
   "outputs": [],
   "source": [
    "arr1 = np.array([1,2,3,4])\n",
    "arr2 = np.array([1,3,4,5])"
   ]
  },
  {
   "cell_type": "code",
   "execution_count": 59,
   "id": "2a9c5d08",
   "metadata": {},
   "outputs": [
    {
     "data": {
      "text/plain": [
       "array([ True, False,  True,  True])"
      ]
     },
     "execution_count": 59,
     "metadata": {},
     "output_type": "execute_result"
    }
   ],
   "source": [
    "np.in1d(arr1,arr2) # 以第一个数组为基础，第二个数组有的话：True"
   ]
  },
  {
   "cell_type": "code",
   "execution_count": 60,
   "id": "5e6f50c6",
   "metadata": {},
   "outputs": [
    {
     "data": {
      "text/plain": [
       "array([1, 2, 3, 4, 5])"
      ]
     },
     "execution_count": 60,
     "metadata": {},
     "output_type": "execute_result"
    }
   ],
   "source": [
    "np.union1d(arr1,arr2)"
   ]
  },
  {
   "cell_type": "code",
   "execution_count": 62,
   "id": "acda0cc3",
   "metadata": {},
   "outputs": [
    {
     "data": {
      "text/plain": [
       "array([1, 3, 4])"
      ]
     },
     "execution_count": 62,
     "metadata": {},
     "output_type": "execute_result"
    }
   ],
   "source": [
    "np.intersect1d(arr1,arr2)"
   ]
  },
  {
   "cell_type": "code",
   "execution_count": 63,
   "id": "1702e185",
   "metadata": {},
   "outputs": [
    {
     "data": {
      "text/plain": [
       "array([2])"
      ]
     },
     "execution_count": 63,
     "metadata": {},
     "output_type": "execute_result"
    }
   ],
   "source": [
    "np.setdiff1d(arr1,arr2)\n",
    "# 在1不再2 ： A-AB"
   ]
  },
  {
   "cell_type": "code",
   "execution_count": null,
   "id": "04a7660d",
   "metadata": {},
   "outputs": [],
   "source": []
  }
 ],
 "metadata": {
  "kernelspec": {
   "display_name": "Python 3 (ipykernel)",
   "language": "python",
   "name": "python3"
  },
  "language_info": {
   "codemirror_mode": {
    "name": "ipython",
    "version": 3
   },
   "file_extension": ".py",
   "mimetype": "text/x-python",
   "name": "python",
   "nbconvert_exporter": "python",
   "pygments_lexer": "ipython3",
   "version": "3.9.13"
  }
 },
 "nbformat": 4,
 "nbformat_minor": 5
}
