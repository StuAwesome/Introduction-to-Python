{
 "cells": [
  {
   "cell_type": "markdown",
   "id": "c15dcd80",
   "metadata": {},
   "source": [
    "* Pandas 名字衍生自术语 \"panel data\"（面板数据）和 \"Python data analysis\"（Python 数据分析）\n",
    "* Pandas 的主要数据结构是 Series （一维数据）与 DataFrame（二维数据），这两种数据结构足以处理金融、统计、社会科学、工程等领域里的大多数典型用例。"
   ]
  },
  {
   "cell_type": "markdown",
   "id": "6648f6c8",
   "metadata": {},
   "source": [
    "# Pandas 数据结构\n",
    "\n",
    "# Objective:\n",
    "1. 掌握本章节所有操作\n",
    "2. 独立编写日常报表脚本\n",
    "3. 独立制作数据分析报表"
   ]
  },
  {
   "cell_type": "code",
   "execution_count": 5,
   "id": "708f7be3",
   "metadata": {},
   "outputs": [],
   "source": [
    "import pandas as pd"
   ]
  },
  {
   "cell_type": "code",
   "execution_count": 6,
   "id": "f93c947e",
   "metadata": {},
   "outputs": [
    {
     "name": "stdout",
     "output_type": "stream",
     "text": [
      "pandas\t pd\t \n"
     ]
    }
   ],
   "source": [
    "%who"
   ]
  },
  {
   "cell_type": "markdown",
   "id": "d54981b5",
   "metadata": {},
   "source": [
    "# Series\n",
    "```python\n",
    "pandas.Series( data, index, dtype, name, copy)\n",
    "\n",
    "data：一组数据(ndarray 类型)。\n",
    "index：数据索引标签，如果不指定，默认从 0 开始。\n",
    "dtype：数据类型，默认会自己判断。\n",
    "name：设置这个Series名称。\n",
    "copy：拷贝数据，默认为 False。\n",
    "```\n"
   ]
  },
  {
   "cell_type": "markdown",
   "id": "0f7e0cb1",
   "metadata": {},
   "source": [
    "* Series 是一种**类似于一维数组**的对象，它由一组**数据（各种Numpy数据类型）以及一组与之相关的数据标签（即索引）**组成。\n",
    "* DataFrame 是一个表格型的数据结构，它含有一组有序的列，每列可以是不同的值类型（数值、字符串、布尔型值）。DataFrame 既有行索引也有列索引，它可以被看做由 Series 组成的字典（共同用一个索引）。\n"
   ]
  },
  {
   "cell_type": "markdown",
   "id": "176a9372",
   "metadata": {},
   "source": [
    "## 1. 建立一个Series instance"
   ]
  },
  {
   "cell_type": "code",
   "execution_count": 8,
   "id": "ab02d867",
   "metadata": {},
   "outputs": [
    {
     "name": "stdout",
     "output_type": "stream",
     "text": [
      "0    A\n",
      "1    B\n",
      "2    C\n",
      "3    D\n",
      "4    E\n",
      "dtype: object\n"
     ]
    }
   ],
   "source": [
    "import pandas as pd\n",
    "\n",
    "# 新建一个Series\n",
    "# 传入一个list\n",
    "# 数据标签默认从0开始\n",
    "\n",
    "ls = [\"A\",\"B\",\"C\",\"D\",\"E\"]\n",
    "\n",
    "# pandas module 的 Series方法\n",
    "obj = pd.Series(ls)\n",
    "print(obj)"
   ]
  },
  {
   "cell_type": "markdown",
   "id": "bc53f289",
   "metadata": {},
   "source": [
    "## 2. 获取index, value"
   ]
  },
  {
   "cell_type": "code",
   "execution_count": 10,
   "id": "0f730482",
   "metadata": {},
   "outputs": [
    {
     "data": {
      "text/plain": [
       "RangeIndex(start=0, stop=5, step=1)"
      ]
     },
     "execution_count": 10,
     "metadata": {},
     "output_type": "execute_result"
    }
   ],
   "source": [
    "obj.index\n",
    "# 不包含尾"
   ]
  },
  {
   "cell_type": "code",
   "execution_count": 11,
   "id": "e805e3b7",
   "metadata": {},
   "outputs": [
    {
     "data": {
      "text/plain": [
       "array(['A', 'B', 'C', 'D', 'E'], dtype=object)"
      ]
     },
     "execution_count": 11,
     "metadata": {},
     "output_type": "execute_result"
    }
   ],
   "source": [
    "obj.values"
   ]
  },
  {
   "cell_type": "markdown",
   "id": "9805be81",
   "metadata": {},
   "source": [
    "## 3. 指定索引"
   ]
  },
  {
   "cell_type": "code",
   "execution_count": 12,
   "id": "57bc9dcc",
   "metadata": {},
   "outputs": [
    {
     "name": "stdout",
     "output_type": "stream",
     "text": [
      "a    A\n",
      "b    B\n",
      "c    C\n",
      "d    D\n",
      "e    E\n",
      "dtype: object\n"
     ]
    }
   ],
   "source": [
    "# pandas module 的 Series方法\n",
    "obj = pd.Series([\"A\",\"B\",\"C\",\"D\",\"E\"], index = [\"a\",\"b\",\"c\",\"d\",\"e\"])\n",
    "print(obj)"
   ]
  },
  {
   "cell_type": "markdown",
   "id": "4df94b2c",
   "metadata": {},
   "source": [
    "## 4. 字典为data"
   ]
  },
  {
   "cell_type": "code",
   "execution_count": 31,
   "id": "deddbcbb",
   "metadata": {},
   "outputs": [
    {
     "data": {
      "text/plain": [
       "a    A\n",
       "b    B\n",
       "c    C\n",
       "d    D\n",
       "e    E\n",
       "dtype: object"
      ]
     },
     "execution_count": 31,
     "metadata": {},
     "output_type": "execute_result"
    }
   ],
   "source": [
    "ls_data = [\"A\",\"B\",\"C\",\"D\",\"E\"]\n",
    "ls_index = [\"a\",\"b\",\"c\",\"d\",\"e\"]\n",
    "\n",
    "data = dict(zip(ls_index ,ls_data))\n",
    "obj = pd.Series(data)\n",
    "obj"
   ]
  },
  {
   "cell_type": "markdown",
   "id": "366fa019",
   "metadata": {},
   "source": [
    "* 如果我们只需要字典中的一部分数据，只需要指定需要数据的索引即可，如下实例："
   ]
  },
  {
   "cell_type": "code",
   "execution_count": 30,
   "id": "bf541026",
   "metadata": {},
   "outputs": [
    {
     "data": {
      "text/plain": [
       "a    A\n",
       "b    B\n",
       "dtype: object"
      ]
     },
     "execution_count": 30,
     "metadata": {},
     "output_type": "execute_result"
    }
   ],
   "source": [
    "ls_data = [\"A\",\"B\",\"C\",\"D\",\"E\"]\n",
    "ls_index = [\"a\",\"b\",\"c\",\"d\",\"e\"]\n",
    "data = dict(zip(ls_index ,ls_data))\n",
    "\n",
    "\n",
    "obj = pd.Series(data, index = [\"a\",\"b\"])\n",
    "obj"
   ]
  },
  {
   "cell_type": "markdown",
   "id": "6dc51d76",
   "metadata": {},
   "source": [
    "# 读取数据"
   ]
  },
  {
   "cell_type": "code",
   "execution_count": 23,
   "id": "419e2c58",
   "metadata": {},
   "outputs": [
    {
     "name": "stdout",
     "output_type": "stream",
     "text": [
      "1\n",
      "2\n",
      "3\n"
     ]
    }
   ],
   "source": [
    "import pandas as pd\n",
    "\n",
    "a = [1,2,3]\n",
    "obj1 = pd.Series(a)\n",
    "print(obj1[0])\n",
    "print(obj1[1])\n",
    "print(obj1[2])"
   ]
  },
  {
   "cell_type": "code",
   "execution_count": 28,
   "id": "0404ae0b",
   "metadata": {},
   "outputs": [
    {
     "name": "stdout",
     "output_type": "stream",
     "text": [
      "x    Google\n",
      "y    Runoob\n",
      "z      Wiki\n",
      "dtype: object\n",
      "Google\n",
      "Runoob\n",
      "Wiki\n"
     ]
    }
   ],
   "source": [
    "import pandas as pd\n",
    "b = [\"Google\", \"Runoob\", \"Wiki\"]\n",
    "obj2 = pd.Series(b, index = [\"x\",\"y\",\"z\"])\n",
    "print(obj2)\n",
    "\n",
    "print(obj2[\"x\"])\n",
    "print(obj2[\"y\"])\n",
    "print(obj2[\"z\"])"
   ]
  },
  {
   "cell_type": "markdown",
   "id": "b1264944",
   "metadata": {},
   "source": [
    "# 设置名称"
   ]
  },
  {
   "cell_type": "code",
   "execution_count": 36,
   "id": "face35dc",
   "metadata": {},
   "outputs": [
    {
     "data": {
      "text/plain": [
       "x    Google\n",
       "y    Runoob\n",
       "z      Wiki\n",
       "Name: 互联网巨头, dtype: object"
      ]
     },
     "execution_count": 36,
     "metadata": {},
     "output_type": "execute_result"
    }
   ],
   "source": [
    "import pandas as pd\n",
    "b = [\"Google\", \"Runoob\", \"Wiki\"]\n",
    "obj3 = pd.Series(b, index = [\"x\",\"y\",\"z\"],name = \"互联网巨头\")\n",
    "obj3"
   ]
  },
  {
   "cell_type": "code",
   "execution_count": null,
   "id": "7df358d7",
   "metadata": {},
   "outputs": [],
   "source": []
  }
 ],
 "metadata": {
  "kernelspec": {
   "display_name": "Python 3 (ipykernel)",
   "language": "python",
   "name": "python3"
  },
  "language_info": {
   "codemirror_mode": {
    "name": "ipython",
    "version": 3
   },
   "file_extension": ".py",
   "mimetype": "text/x-python",
   "name": "python",
   "nbconvert_exporter": "python",
   "pygments_lexer": "ipython3",
   "version": "3.9.13"
  }
 },
 "nbformat": 4,
 "nbformat_minor": 5
}
