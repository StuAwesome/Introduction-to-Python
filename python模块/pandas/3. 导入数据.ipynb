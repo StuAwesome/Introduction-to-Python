{
 "cells": [
  {
   "cell_type": "markdown",
   "id": "03e3ed37",
   "metadata": {},
   "source": [
    "# 导入数据"
   ]
  },
  {
   "cell_type": "markdown",
   "id": "284c23d5",
   "metadata": {},
   "source": [
    "1. Excel\n",
    "2. CSV\n",
    "3. TXT\n",
    "4. SQL\n",
    "5. 文件类型对比"
   ]
  },
  {
   "cell_type": "markdown",
   "id": "e43adf03",
   "metadata": {},
   "source": [
    "#### 1. `r\"User\\Stu\\路径\"`： 用r的方式必须用`反斜杠` - 复制过来的路径\n",
    "#### 2. python自身导入文件是 `斜杠`"
   ]
  },
  {
   "cell_type": "markdown",
   "id": "96b6c979",
   "metadata": {},
   "source": [
    "## 1. Excel"
   ]
  },
  {
   "cell_type": "code",
   "execution_count": null,
   "id": "695a36b2",
   "metadata": {},
   "outputs": [],
   "source": [
    "import pandas as pd\n",
    "df = pd.read_excel(r\"user\\stu\\复制过来的文件路径.xlsx\")\n",
    "#正常复制过来的文件是反斜杠\n",
    "\n",
    "df.head(6) # 默认5"
   ]
  },
  {
   "cell_type": "code",
   "execution_count": null,
   "id": "3310333a",
   "metadata": {},
   "outputs": [],
   "source": [
    "import pandas as pd\n",
    "df = pd.read_excel(\"user/stu/复制过来的文件路径.xslx\")\n",
    "# python 读文件是斜杠\n",
    "\n",
    "df.head(6) # 默认5"
   ]
  },
  {
   "cell_type": "markdown",
   "id": "2ec74fa9",
   "metadata": {},
   "source": [
    "### 多个sheet的导入\n",
    "1. 默认导入第一个sheet\n",
    "2. 传入sheet名\n",
    "3. 指定导入sheet，直接传入sheet的顺序数（从0开始）\n",
    "\n",
    "\n",
    "4. 想让某一类当作行索引\n",
    "5. 指定导入那几列"
   ]
  },
  {
   "cell_type": "code",
   "execution_count": null,
   "id": "4fd2bd0c",
   "metadata": {},
   "outputs": [],
   "source": [
    "# sheet名\n",
    "pd.read_excel(r\"user\\stu\\复制过来的文件路径.xlsx\", sheet_name = \"这是第二个sheet\")"
   ]
  },
  {
   "cell_type": "code",
   "execution_count": null,
   "id": "ab0bd51b",
   "metadata": {},
   "outputs": [],
   "source": [
    "# sheet顺序\n",
    "pd.read_excel(\"\", sheet_name = 1)"
   ]
  },
  {
   "cell_type": "code",
   "execution_count": null,
   "id": "2faa4dd1",
   "metadata": {},
   "outputs": [],
   "source": [
    "# 想一列当作行索引 - 指明列名\n",
    "pd.read_excel(\"\", sheet_name = 1, index_col = \"用户编号\")"
   ]
  },
  {
   "cell_type": "code",
   "execution_count": null,
   "id": "9281aa74",
   "metadata": {},
   "outputs": [],
   "source": [
    "# 想一列当作行索引 - 指明列顺序\n",
    "pd.read_excel(\"\", sheet_name = 1,index_col = 0)"
   ]
  },
  {
   "cell_type": "code",
   "execution_count": null,
   "id": "856955e9",
   "metadata": {},
   "outputs": [],
   "source": [
    "# 指定导入那几列\n",
    "pd.read_excel(\"\", sheet_name = 1, usecols = [0,1])"
   ]
  },
  {
   "cell_type": "markdown",
   "id": "56b6795a",
   "metadata": {},
   "source": [
    "## 2. CSV\n",
    "* 在Excel保存csv文件，有两个选项\n",
    "* 编码格式不同一个不是UTF-8 \n",
    "\n",
    "**查看：**记事本打开 -> 另存为 -> 保存按钮左边：编码->  ANSI -> python里要 `encoding = \"gbk\"`"
   ]
  },
  {
   "cell_type": "code",
   "execution_count": null,
   "id": "777d2a30",
   "metadata": {},
   "outputs": [],
   "source": [
    "df_gbk = pd.read_csv(\"\", encoding = \"gbk\")\n",
    "df_gbk.head()"
   ]
  },
  {
   "cell_type": "markdown",
   "id": "866d9d19",
   "metadata": {},
   "source": [
    "### 如果路径有中文，会报错 \n",
    "* 这个方法是用c语言解析的\n",
    "* 我们用python解析就ok了"
   ]
  },
  {
   "cell_type": "code",
   "execution_count": null,
   "id": "238b6f2b",
   "metadata": {},
   "outputs": [],
   "source": [
    "df_gbk = pd.read_csv(\"\", encoding = \"gbk\"， engine = \"python\")\n",
    "df_gbk.head()"
   ]
  },
  {
   "cell_type": "markdown",
   "id": "5d64f549",
   "metadata": {},
   "source": [
    "### 指明分隔符"
   ]
  },
  {
   "cell_type": "code",
   "execution_count": null,
   "id": "97e2c69f",
   "metadata": {},
   "outputs": [],
   "source": [
    "df_sep = pd.read_csv(\"\", sep = \" \") # 默认逗号\n",
    "df_sep.head()"
   ]
  },
  {
   "cell_type": "markdown",
   "id": "1c5a79de",
   "metadata": {},
   "source": [
    "1. 想一列当作行索引\n",
    "2. 忽略行数（比如有一行是 sum()）\n",
    "3. 指定读取行数"
   ]
  },
  {
   "cell_type": "code",
   "execution_count": null,
   "id": "96f4d77b",
   "metadata": {},
   "outputs": [],
   "source": [
    "# 忽略第二行和第六行\n",
    "df = pd.read_csv(\"\",  encoding = \"gbk\", skiprows = [1,5]) \n",
    "df.head()"
   ]
  },
  {
   "cell_type": "code",
   "execution_count": null,
   "id": "10df74e1",
   "metadata": {},
   "outputs": [],
   "source": [
    "# 读取指定行数\n",
    "df = pd.read_csv(\"\", encoding = \"gbk\", engine = \"python\", rows = 8)\n",
    "df # 只有8行"
   ]
  },
  {
   "cell_type": "code",
   "execution_count": null,
   "id": "de5f5460",
   "metadata": {},
   "outputs": [],
   "source": [
    "# 导入部分列\n",
    "df = pd.read_csv(\"\", encoding = \"gbk\", engine = \"python\", usecols = [\"好坏客户\"，\"年龄\"])\n",
    "df.head()  "
   ]
  },
  {
   "cell_type": "markdown",
   "id": "49827ee2",
   "metadata": {},
   "source": [
    "## 3. TXT"
   ]
  },
  {
   "cell_type": "code",
   "execution_count": null,
   "id": "40ec7865",
   "metadata": {},
   "outputs": [],
   "source": [
    "import pandas as pd\n",
    "df = pd.read_table(\"\",sep = \",\", engine = \"python\", encoding = \"gbk\")\n",
    "df.head()"
   ]
  },
  {
   "cell_type": "markdown",
   "id": "6eea0ed0",
   "metadata": {},
   "source": [
    "## 4. SQL\n",
    "* 连接数据库"
   ]
  },
  {
   "cell_type": "code",
   "execution_count": null,
   "id": "ac785e86",
   "metadata": {},
   "outputs": [],
   "source": [
    "pip install pymysql\n",
    "import pymysql\n",
    "\n",
    "# 1. 连接数据库 \n",
    "db = pymysql.connect(host = \"118.190.201.131\", # 数据库地址/本地localhost\n",
    "                     user = \"用户名\"\n",
    "                     password = \"密码\" \n",
    "                     db = \"数据库名\" # 数据库名\n",
    "                     charset = \"utf8\" # 数据库编码格式\n",
    "                    )\n",
    "# 2. sql 命令 command\n",
    "sql_cmd = \"select * from memberinfo\"\n",
    "\n",
    "# 3. 读取数据\n",
    "df = pd.read_sql(sql_cmd,db)\n",
    "df.head"
   ]
  },
  {
   "cell_type": "markdown",
   "id": "0ead1e04",
   "metadata": {},
   "source": [
    "## 5. 各种文件对比"
   ]
  },
  {
   "cell_type": "code",
   "execution_count": 3,
   "id": "0816b299",
   "metadata": {
    "scrolled": true
   },
   "outputs": [
    {
     "name": "stdout",
     "output_type": "stream",
     "text": [
      "CPU times: user 3 µs, sys: 1 µs, total: 4 µs\n",
      "Wall time: 8.11 µs\n"
     ]
    }
   ],
   "source": [
    "%time "
   ]
  },
  {
   "cell_type": "markdown",
   "id": "4fd19ff6",
   "metadata": {},
   "source": [
    "* 导入excel的时间是csv的 10 times"
   ]
  },
  {
   "cell_type": "code",
   "execution_count": null,
   "id": "f5f51b8e",
   "metadata": {},
   "outputs": [],
   "source": []
  }
 ],
 "metadata": {
  "kernelspec": {
   "display_name": "Python 3 (ipykernel)",
   "language": "python",
   "name": "python3"
  },
  "language_info": {
   "codemirror_mode": {
    "name": "ipython",
    "version": 3
   },
   "file_extension": ".py",
   "mimetype": "text/x-python",
   "name": "python",
   "nbconvert_exporter": "python",
   "pygments_lexer": "ipython3",
   "version": "3.9.13"
  }
 },
 "nbformat": 4,
 "nbformat_minor": 5
}
