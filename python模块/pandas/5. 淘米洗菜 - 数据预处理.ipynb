{
 "cells": [
  {
   "cell_type": "markdown",
   "id": "c937c67d",
   "metadata": {},
   "source": [
    "# 淘米洗菜 - 数据预处理\n",
    "[TOC]"
   ]
  },
  {
   "cell_type": "markdown",
   "id": "fe16f177",
   "metadata": {},
   "source": [
    "# 1. 缺失值\n",
    "* 如果新数据想要覆盖原数据，而不是return新数据\n",
    "* parameter : `inplace = True`"
   ]
  },
  {
   "cell_type": "markdown",
   "id": "aea2ac30",
   "metadata": {},
   "source": [
    "### 1.1 缺失值查看"
   ]
  },
  {
   "cell_type": "code",
   "execution_count": null,
   "id": "425a8037",
   "metadata": {},
   "outputs": [],
   "source": [
    "import pandas as pd\n",
    "df\n",
    "df.info()"
   ]
  },
  {
   "cell_type": "markdown",
   "id": "8555f351",
   "metadata": {},
   "source": [
    "* Excel:筛选 NA or NULL"
   ]
  },
  {
   "cell_type": "markdown",
   "id": "9fee6b74",
   "metadata": {},
   "source": [
    "### 1.2 删除值查看"
   ]
  },
  {
   "cell_type": "code",
   "execution_count": null,
   "id": "7505be06",
   "metadata": {},
   "outputs": [],
   "source": [
    "# 删除含有缺失值的行\n",
    "df_dropna.dropna()\n",
    "df_dropna.info()"
   ]
  },
  {
   "cell_type": "code",
   "execution_count": null,
   "id": "75166b1e",
   "metadata": {},
   "outputs": [],
   "source": [
    "# 删除全为缺失值的行\n",
    "df_drop_all_na.df.drop(how = \"all\")\n",
    "df_drop_all_na.info()"
   ]
  },
  {
   "cell_type": "markdown",
   "id": "59a90395",
   "metadata": {},
   "source": [
    "### 1.3 填充值查看"
   ]
  },
  {
   "cell_type": "markdown",
   "id": "b7d67693",
   "metadata": {},
   "source": [
    "* excel：替换"
   ]
  },
  {
   "cell_type": "code",
   "execution_count": null,
   "id": "1ccab789",
   "metadata": {},
   "outputs": [],
   "source": [
    "df_fillna = df.fillna(0)\n",
    "# NALL全部填充为0\n"
   ]
  },
  {
   "cell_type": "markdown",
   "id": "b960a173",
   "metadata": {},
   "source": [
    "* 只填充某列\n",
    "* 以字典形式填充"
   ]
  },
  {
   "cell_type": "code",
   "execution_count": null,
   "id": "7727d0be",
   "metadata": {},
   "outputs": [],
   "source": [
    "df_revenue = df.fillna({\"月收入\": 0,\"家庭成员\":1})\n",
    "df_revenue.head(6)"
   ]
  },
  {
   "cell_type": "markdown",
   "id": "5fc48414",
   "metadata": {},
   "source": [
    "# 2. 重复值\n",
    "* Excel：数据 -> 删除重复值 —> 筛选框"
   ]
  },
  {
   "cell_type": "code",
   "execution_count": null,
   "id": "58ffe64b",
   "metadata": {},
   "outputs": [],
   "source": [
    "df.dropduplicates(subset = None, keep = \"first\",inplace = False)\n",
    "# sebset: 按照那几列进行去重\n",
    "# keep = “first”：保留重复列行的第一行\n",
    "# keep = “last”：保留重复列行的最后一行\n",
    "# inplace = True：覆盖原数据 ruturn Nonetype"
   ]
  },
  {
   "cell_type": "code",
   "execution_count": null,
   "id": "06c3910e",
   "metadata": {},
   "outputs": [],
   "source": [
    "# 按两列去重\n",
    "df.dropduplicates(subset = ['好坏客户'，\"家属成员\"])"
   ]
  },
  {
   "cell_type": "markdown",
   "id": "476aa9c3",
   "metadata": {},
   "source": [
    "# 3. 异常值"
   ]
  },
  {
   "cell_type": "markdown",
   "id": "27147f06",
   "metadata": {},
   "source": [
    "1. 根据业务经验划定不同指标的正常值\n",
    "2. 箱形图的outliers\n",
    "3. Following the normal distribution,use 3 times sigma principle \n",
    "\n",
    "\n",
    "Excel：筛选 + 替换"
   ]
  },
  {
   "cell_type": "markdown",
   "id": "e4ecb8df",
   "metadata": {},
   "source": [
    "### 3.1 异常值处理\n",
    "* 筛选出选择类型"
   ]
  },
  {
   "cell_type": "markdown",
   "id": "6830d416",
   "metadata": {},
   "source": [
    "# 4. data type 处理"
   ]
  },
  {
   "cell_type": "markdown",
   "id": "666df0eb",
   "metadata": {},
   "source": [
    "## 4.1 查看数据类型"
   ]
  },
  {
   "cell_type": "code",
   "execution_count": null,
   "id": "5b95943a",
   "metadata": {},
   "outputs": [],
   "source": [
    "df.info()"
   ]
  },
  {
   "cell_type": "code",
   "execution_count": null,
   "id": "190dbf93",
   "metadata": {},
   "outputs": [],
   "source": [
    "df[\"user_number\"].dtype"
   ]
  },
  {
   "cell_type": "markdown",
   "id": "9eb96b93",
   "metadata": {},
   "source": [
    "## 4.2 数据类型转换"
   ]
  },
  {
   "cell_type": "code",
   "execution_count": null,
   "id": "ff286835",
   "metadata": {},
   "outputs": [],
   "source": [
    "df[\"user_number\"].astype(np.object) \n",
    "# int-> as type -> object类型"
   ]
  },
  {
   "cell_type": "markdown",
   "id": "eb13b608",
   "metadata": {},
   "source": [
    "# 5. 索引设置"
   ]
  },
  {
   "cell_type": "markdown",
   "id": "bd86ff79",
   "metadata": {},
   "source": [
    "## 5.1 无索引表 设置索引"
   ]
  },
  {
   "cell_type": "code",
   "execution_count": 3,
   "id": "147ad4cd",
   "metadata": {},
   "outputs": [
    {
     "data": {
      "text/html": [
       "<div>\n",
       "<style scoped>\n",
       "    .dataframe tbody tr th:only-of-type {\n",
       "        vertical-align: middle;\n",
       "    }\n",
       "\n",
       "    .dataframe tbody tr th {\n",
       "        vertical-align: top;\n",
       "    }\n",
       "\n",
       "    .dataframe thead th {\n",
       "        text-align: right;\n",
       "    }\n",
       "</style>\n",
       "<table border=\"1\" class=\"dataframe\">\n",
       "  <thead>\n",
       "    <tr style=\"text-align: right;\">\n",
       "      <th></th>\n",
       "      <th>0</th>\n",
       "      <th>1</th>\n",
       "    </tr>\n",
       "  </thead>\n",
       "  <tbody>\n",
       "    <tr>\n",
       "      <th>0</th>\n",
       "      <td>Excel</td>\n",
       "      <td>week1</td>\n",
       "    </tr>\n",
       "    <tr>\n",
       "      <th>1</th>\n",
       "      <td>Python</td>\n",
       "      <td>week2</td>\n",
       "    </tr>\n",
       "    <tr>\n",
       "      <th>2</th>\n",
       "      <td>Sql</td>\n",
       "      <td>week3</td>\n",
       "    </tr>\n",
       "    <tr>\n",
       "      <th>3</th>\n",
       "      <td>PPT</td>\n",
       "      <td>week4</td>\n",
       "    </tr>\n",
       "  </tbody>\n",
       "</table>\n",
       "</div>"
      ],
      "text/plain": [
       "        0      1\n",
       "0   Excel  week1\n",
       "1  Python  week2\n",
       "2     Sql  week3\n",
       "3     PPT  week4"
      ]
     },
     "execution_count": 3,
     "metadata": {},
     "output_type": "execute_result"
    }
   ],
   "source": [
    "import pandas as pd\n",
    "data = [[\"Excel\",\"week1\"],\n",
    "       [\"Python\",\"week2\"],\n",
    "       [\"Sql\",\"week3\"],\n",
    "       [\"PPT\",\"week4\"]]\n",
    "df = pd.DataFrame(data)\n",
    "df"
   ]
  },
  {
   "cell_type": "code",
   "execution_count": 4,
   "id": "0d39a3c1",
   "metadata": {},
   "outputs": [
    {
     "data": {
      "text/html": [
       "<div>\n",
       "<style scoped>\n",
       "    .dataframe tbody tr th:only-of-type {\n",
       "        vertical-align: middle;\n",
       "    }\n",
       "\n",
       "    .dataframe tbody tr th {\n",
       "        vertical-align: top;\n",
       "    }\n",
       "\n",
       "    .dataframe thead th {\n",
       "        text-align: right;\n",
       "    }\n",
       "</style>\n",
       "<table border=\"1\" class=\"dataframe\">\n",
       "  <thead>\n",
       "    <tr style=\"text-align: right;\">\n",
       "      <th></th>\n",
       "      <th>skill</th>\n",
       "      <th>week</th>\n",
       "    </tr>\n",
       "  </thead>\n",
       "  <tbody>\n",
       "    <tr>\n",
       "      <th>first</th>\n",
       "      <td>Excel</td>\n",
       "      <td>week1</td>\n",
       "    </tr>\n",
       "    <tr>\n",
       "      <th>second</th>\n",
       "      <td>Python</td>\n",
       "      <td>week2</td>\n",
       "    </tr>\n",
       "    <tr>\n",
       "      <th>third</th>\n",
       "      <td>Sql</td>\n",
       "      <td>week3</td>\n",
       "    </tr>\n",
       "    <tr>\n",
       "      <th>forth</th>\n",
       "      <td>PPT</td>\n",
       "      <td>week4</td>\n",
       "    </tr>\n",
       "  </tbody>\n",
       "</table>\n",
       "</div>"
      ],
      "text/plain": [
       "         skill   week\n",
       "first    Excel  week1\n",
       "second  Python  week2\n",
       "third      Sql  week3\n",
       "forth      PPT  week4"
      ]
     },
     "execution_count": 4,
     "metadata": {},
     "output_type": "execute_result"
    }
   ],
   "source": [
    "df.columns = [\"skill\",\"week\"]\n",
    "df.index = [\"first\",\"second\",\"third\",\"forth\"]\n",
    "df"
   ]
  },
  {
   "cell_type": "markdown",
   "id": "e3d9fe3e",
   "metadata": {},
   "source": [
    "## 5.2 重新设置索引\n",
    "* 层次索引"
   ]
  },
  {
   "cell_type": "code",
   "execution_count": 5,
   "id": "3a78523f",
   "metadata": {},
   "outputs": [
    {
     "ename": "KeyError",
     "evalue": "\"None of ['用户编号'] are in the columns\"",
     "output_type": "error",
     "traceback": [
      "\u001b[0;31m---------------------------------------------------------------------------\u001b[0m",
      "\u001b[0;31mKeyError\u001b[0m                                  Traceback (most recent call last)",
      "\u001b[0;32m/var/folders/dq/vyz01f_d6_9554rf0l07d8p00000gn/T/ipykernel_3749/2457837094.py\u001b[0m in \u001b[0;36m<module>\u001b[0;34m\u001b[0m\n\u001b[1;32m      1\u001b[0m \u001b[0;31m# 把某列设为索引\u001b[0m\u001b[0;34m\u001b[0m\u001b[0;34m\u001b[0m\u001b[0m\n\u001b[0;32m----> 2\u001b[0;31m \u001b[0mdf\u001b[0m\u001b[0;34m.\u001b[0m\u001b[0mset_index\u001b[0m\u001b[0;34m(\u001b[0m\u001b[0;34m\"用户编号\"\u001b[0m\u001b[0;34m)\u001b[0m\u001b[0;34m.\u001b[0m\u001b[0mhead\u001b[0m\u001b[0;34m(\u001b[0m\u001b[0;34m)\u001b[0m\u001b[0;34m\u001b[0m\u001b[0;34m\u001b[0m\u001b[0m\n\u001b[0m",
      "\u001b[0;32m/opt/anaconda3/lib/python3.9/site-packages/pandas/util/_decorators.py\u001b[0m in \u001b[0;36mwrapper\u001b[0;34m(*args, **kwargs)\u001b[0m\n\u001b[1;32m    309\u001b[0m                     \u001b[0mstacklevel\u001b[0m\u001b[0;34m=\u001b[0m\u001b[0mstacklevel\u001b[0m\u001b[0;34m,\u001b[0m\u001b[0;34m\u001b[0m\u001b[0;34m\u001b[0m\u001b[0m\n\u001b[1;32m    310\u001b[0m                 )\n\u001b[0;32m--> 311\u001b[0;31m             \u001b[0;32mreturn\u001b[0m \u001b[0mfunc\u001b[0m\u001b[0;34m(\u001b[0m\u001b[0;34m*\u001b[0m\u001b[0margs\u001b[0m\u001b[0;34m,\u001b[0m \u001b[0;34m**\u001b[0m\u001b[0mkwargs\u001b[0m\u001b[0;34m)\u001b[0m\u001b[0;34m\u001b[0m\u001b[0;34m\u001b[0m\u001b[0m\n\u001b[0m\u001b[1;32m    312\u001b[0m \u001b[0;34m\u001b[0m\u001b[0m\n\u001b[1;32m    313\u001b[0m         \u001b[0;32mreturn\u001b[0m \u001b[0mwrapper\u001b[0m\u001b[0;34m\u001b[0m\u001b[0;34m\u001b[0m\u001b[0m\n",
      "\u001b[0;32m/opt/anaconda3/lib/python3.9/site-packages/pandas/core/frame.py\u001b[0m in \u001b[0;36mset_index\u001b[0;34m(self, keys, drop, append, inplace, verify_integrity)\u001b[0m\n\u001b[1;32m   5501\u001b[0m \u001b[0;34m\u001b[0m\u001b[0m\n\u001b[1;32m   5502\u001b[0m         \u001b[0;32mif\u001b[0m \u001b[0mmissing\u001b[0m\u001b[0;34m:\u001b[0m\u001b[0;34m\u001b[0m\u001b[0;34m\u001b[0m\u001b[0m\n\u001b[0;32m-> 5503\u001b[0;31m             \u001b[0;32mraise\u001b[0m \u001b[0mKeyError\u001b[0m\u001b[0;34m(\u001b[0m\u001b[0;34mf\"None of {missing} are in the columns\"\u001b[0m\u001b[0;34m)\u001b[0m\u001b[0;34m\u001b[0m\u001b[0;34m\u001b[0m\u001b[0m\n\u001b[0m\u001b[1;32m   5504\u001b[0m \u001b[0;34m\u001b[0m\u001b[0m\n\u001b[1;32m   5505\u001b[0m         \u001b[0;32mif\u001b[0m \u001b[0minplace\u001b[0m\u001b[0;34m:\u001b[0m\u001b[0;34m\u001b[0m\u001b[0;34m\u001b[0m\u001b[0m\n",
      "\u001b[0;31mKeyError\u001b[0m: \"None of ['用户编号'] are in the columns\""
     ]
    }
   ],
   "source": [
    "# 把某列设为索引\n",
    "df.set_index(\"用户编号\").head()\n",
    "df"
   ]
  },
  {
   "cell_type": "code",
   "execution_count": null,
   "id": "4253fc2e",
   "metadata": {},
   "outputs": [],
   "source": [
    "df.set_index([\"用户编号\"，\"好坏用户\"])\n",
    "df"
   ]
  },
  {
   "cell_type": "markdown",
   "id": "0a328f75",
   "metadata": {},
   "source": [
    "## 5.3 重命名"
   ]
  },
  {
   "cell_type": "code",
   "execution_count": 7,
   "id": "b213c699",
   "metadata": {},
   "outputs": [
    {
     "name": "stdout",
     "output_type": "stream",
     "text": [
      "<class 'pandas.core.frame.DataFrame'>\n",
      "Index: 4 entries, first to forth\n",
      "Data columns (total 2 columns):\n",
      " #   Column  Non-Null Count  Dtype \n",
      "---  ------  --------------  ----- \n",
      " 0   skill   4 non-null      object\n",
      " 1   week    4 non-null      object\n",
      "dtypes: object(2)\n",
      "memory usage: 96.0+ bytes\n"
     ]
    }
   ],
   "source": [
    "df.info()"
   ]
  },
  {
   "cell_type": "code",
   "execution_count": 8,
   "id": "a31c53d8",
   "metadata": {},
   "outputs": [
    {
     "data": {
      "text/html": [
       "<div>\n",
       "<style scoped>\n",
       "    .dataframe tbody tr th:only-of-type {\n",
       "        vertical-align: middle;\n",
       "    }\n",
       "\n",
       "    .dataframe tbody tr th {\n",
       "        vertical-align: top;\n",
       "    }\n",
       "\n",
       "    .dataframe thead th {\n",
       "        text-align: right;\n",
       "    }\n",
       "</style>\n",
       "<table border=\"1\" class=\"dataframe\">\n",
       "  <thead>\n",
       "    <tr style=\"text-align: right;\">\n",
       "      <th></th>\n",
       "      <th>skill</th>\n",
       "      <th>week</th>\n",
       "    </tr>\n",
       "  </thead>\n",
       "  <tbody>\n",
       "    <tr>\n",
       "      <th>first</th>\n",
       "      <td>Excel</td>\n",
       "      <td>week1</td>\n",
       "    </tr>\n",
       "    <tr>\n",
       "      <th>second</th>\n",
       "      <td>Python</td>\n",
       "      <td>week2</td>\n",
       "    </tr>\n",
       "    <tr>\n",
       "      <th>third</th>\n",
       "      <td>Sql</td>\n",
       "      <td>week3</td>\n",
       "    </tr>\n",
       "    <tr>\n",
       "      <th>forth</th>\n",
       "      <td>PPT</td>\n",
       "      <td>week4</td>\n",
       "    </tr>\n",
       "  </tbody>\n",
       "</table>\n",
       "</div>"
      ],
      "text/plain": [
       "         skill   week\n",
       "first    Excel  week1\n",
       "second  Python  week2\n",
       "third      Sql  week3\n",
       "forth      PPT  week4"
      ]
     },
     "execution_count": 8,
     "metadata": {},
     "output_type": "execute_result"
    }
   ],
   "source": [
    "df.head()"
   ]
  },
  {
   "cell_type": "code",
   "execution_count": 9,
   "id": "477f0fc3",
   "metadata": {},
   "outputs": [
    {
     "data": {
      "text/html": [
       "<div>\n",
       "<style scoped>\n",
       "    .dataframe tbody tr th:only-of-type {\n",
       "        vertical-align: middle;\n",
       "    }\n",
       "\n",
       "    .dataframe tbody tr th {\n",
       "        vertical-align: top;\n",
       "    }\n",
       "\n",
       "    .dataframe thead th {\n",
       "        text-align: right;\n",
       "    }\n",
       "</style>\n",
       "<table border=\"1\" class=\"dataframe\">\n",
       "  <thead>\n",
       "    <tr style=\"text-align: right;\">\n",
       "      <th></th>\n",
       "      <th>skills</th>\n",
       "      <th>weeks</th>\n",
       "    </tr>\n",
       "  </thead>\n",
       "  <tbody>\n",
       "    <tr>\n",
       "      <th>1st</th>\n",
       "      <td>Excel</td>\n",
       "      <td>week1</td>\n",
       "    </tr>\n",
       "    <tr>\n",
       "      <th>second</th>\n",
       "      <td>Python</td>\n",
       "      <td>week2</td>\n",
       "    </tr>\n",
       "    <tr>\n",
       "      <th>third</th>\n",
       "      <td>Sql</td>\n",
       "      <td>week3</td>\n",
       "    </tr>\n",
       "    <tr>\n",
       "      <th>forth</th>\n",
       "      <td>PPT</td>\n",
       "      <td>week4</td>\n",
       "    </tr>\n",
       "  </tbody>\n",
       "</table>\n",
       "</div>"
      ],
      "text/plain": [
       "        skills  weeks\n",
       "1st      Excel  week1\n",
       "second  Python  week2\n",
       "third      Sql  week3\n",
       "forth      PPT  week4"
      ]
     },
     "execution_count": 9,
     "metadata": {},
     "output_type": "execute_result"
    }
   ],
   "source": [
    "columns = {\"skill\":\"skills\", \"week\":\"weeks\"}\n",
    "index = {\"first\":\"1st\"}\n",
    "df.rename(columns = columns, index = index).head()"
   ]
  },
  {
   "cell_type": "code",
   "execution_count": 10,
   "id": "fbde0dc9",
   "metadata": {},
   "outputs": [
    {
     "data": {
      "text/html": [
       "<div>\n",
       "<style scoped>\n",
       "    .dataframe tbody tr th:only-of-type {\n",
       "        vertical-align: middle;\n",
       "    }\n",
       "\n",
       "    .dataframe tbody tr th {\n",
       "        vertical-align: top;\n",
       "    }\n",
       "\n",
       "    .dataframe thead th {\n",
       "        text-align: right;\n",
       "    }\n",
       "</style>\n",
       "<table border=\"1\" class=\"dataframe\">\n",
       "  <thead>\n",
       "    <tr style=\"text-align: right;\">\n",
       "      <th></th>\n",
       "      <th>skill</th>\n",
       "      <th>week</th>\n",
       "    </tr>\n",
       "  </thead>\n",
       "  <tbody>\n",
       "    <tr>\n",
       "      <th>first</th>\n",
       "      <td>Excel</td>\n",
       "      <td>week1</td>\n",
       "    </tr>\n",
       "    <tr>\n",
       "      <th>second</th>\n",
       "      <td>Python</td>\n",
       "      <td>week2</td>\n",
       "    </tr>\n",
       "    <tr>\n",
       "      <th>third</th>\n",
       "      <td>Sql</td>\n",
       "      <td>week3</td>\n",
       "    </tr>\n",
       "    <tr>\n",
       "      <th>forth</th>\n",
       "      <td>PPT</td>\n",
       "      <td>week4</td>\n",
       "    </tr>\n",
       "  </tbody>\n",
       "</table>\n",
       "</div>"
      ],
      "text/plain": [
       "         skill   week\n",
       "first    Excel  week1\n",
       "second  Python  week2\n",
       "third      Sql  week3\n",
       "forth      PPT  week4"
      ]
     },
     "execution_count": 10,
     "metadata": {},
     "output_type": "execute_result"
    }
   ],
   "source": [
    "df"
   ]
  },
  {
   "cell_type": "markdown",
   "id": "d51dfec0",
   "metadata": {},
   "source": [
    "## 5.4 层次化索引拆分"
   ]
  },
  {
   "cell_type": "markdown",
   "id": "5e26255a",
   "metadata": {},
   "source": [
    "`reset_index( )`\n",
    "1. level：将层次化索引第几级转化成为columns，第一级：0， 第二级：1。\n",
    "    * 默认全部索引\n",
    "2. drop：是否将原来的索引删掉，即 不作为一个新的column被保存\n",
    "    * 默认是false - 不删除\n",
    "3. inplace：是否用来制定修改原数据表"
   ]
  },
  {
   "cell_type": "code",
   "execution_count": null,
   "id": "647ae34a",
   "metadata": {},
   "outputs": [],
   "source": [
    "df.reset_index()"
   ]
  }
 ],
 "metadata": {
  "kernelspec": {
   "display_name": "Python 3 (ipykernel)",
   "language": "python",
   "name": "python3"
  },
  "language_info": {
   "codemirror_mode": {
    "name": "ipython",
    "version": 3
   },
   "file_extension": ".py",
   "mimetype": "text/x-python",
   "name": "python",
   "nbconvert_exporter": "python",
   "pygments_lexer": "ipython3",
   "version": "3.9.13"
  }
 },
 "nbformat": 4,
 "nbformat_minor": 5
}
