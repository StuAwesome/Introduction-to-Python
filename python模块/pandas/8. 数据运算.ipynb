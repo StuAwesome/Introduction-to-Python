{
 "cells": [
  {
   "cell_type": "markdown",
   "id": "b9965657",
   "metadata": {},
   "source": [
    "# 1. 算术运算 -加减乘除"
   ]
  },
  {
   "cell_type": "code",
   "execution_count": 3,
   "id": "2241cbca",
   "metadata": {},
   "outputs": [
    {
     "data": {
      "text/html": [
       "<div>\n",
       "<style scoped>\n",
       "    .dataframe tbody tr th:only-of-type {\n",
       "        vertical-align: middle;\n",
       "    }\n",
       "\n",
       "    .dataframe tbody tr th {\n",
       "        vertical-align: top;\n",
       "    }\n",
       "\n",
       "    .dataframe thead th {\n",
       "        text-align: right;\n",
       "    }\n",
       "</style>\n",
       "<table border=\"1\" class=\"dataframe\">\n",
       "  <thead>\n",
       "    <tr style=\"text-align: right;\">\n",
       "      <th></th>\n",
       "      <th>c1</th>\n",
       "      <th>c2</th>\n",
       "      <th>c3</th>\n",
       "    </tr>\n",
       "  </thead>\n",
       "  <tbody>\n",
       "    <tr>\n",
       "      <th>I1</th>\n",
       "      <td>1</td>\n",
       "      <td>2</td>\n",
       "      <td>3</td>\n",
       "    </tr>\n",
       "    <tr>\n",
       "      <th>I2</th>\n",
       "      <td>4</td>\n",
       "      <td>5</td>\n",
       "      <td>6</td>\n",
       "    </tr>\n",
       "  </tbody>\n",
       "</table>\n",
       "</div>"
      ],
      "text/plain": [
       "    c1  c2  c3\n",
       "I1   1   2   3\n",
       "I2   4   5   6"
      ]
     },
     "execution_count": 3,
     "metadata": {},
     "output_type": "execute_result"
    }
   ],
   "source": [
    "import pandas as pd\n",
    "data = {\"c1\":[1,4],\"c2\":[2,5],\"c3\":[3,6]}\n",
    "df = pd.DataFrame(data)\n",
    "df.index = [\"I1\",\"I2\"]\n",
    "df"
   ]
  },
  {
   "cell_type": "markdown",
   "id": "1fabe786",
   "metadata": {},
   "source": [
    "## 1.1 列+列"
   ]
  },
  {
   "cell_type": "code",
   "execution_count": 4,
   "id": "8d0b115b",
   "metadata": {},
   "outputs": [
    {
     "data": {
      "text/plain": [
       "I1    3\n",
       "I2    9\n",
       "dtype: int64"
      ]
     },
     "execution_count": 4,
     "metadata": {},
     "output_type": "execute_result"
    }
   ],
   "source": [
    "df[\"c1\"]+df[\"c2\"]"
   ]
  },
  {
   "cell_type": "code",
   "execution_count": 5,
   "id": "73142a1b",
   "metadata": {},
   "outputs": [
    {
     "data": {
      "text/plain": [
       "I1     2\n",
       "I2    20\n",
       "dtype: int64"
      ]
     },
     "execution_count": 5,
     "metadata": {},
     "output_type": "execute_result"
    }
   ],
   "source": [
    "df[\"c1\"]*df[\"c2\"]"
   ]
  },
  {
   "cell_type": "code",
   "execution_count": 6,
   "id": "d49633e1",
   "metadata": {},
   "outputs": [
    {
     "data": {
      "text/plain": [
       "I1    0.5\n",
       "I2    0.8\n",
       "dtype: float64"
      ]
     },
     "execution_count": 6,
     "metadata": {},
     "output_type": "execute_result"
    }
   ],
   "source": [
    "df[\"c1\"]/df[\"c2\"]"
   ]
  },
  {
   "cell_type": "markdown",
   "id": "daac450d",
   "metadata": {},
   "source": [
    "# 2. 比较运算"
   ]
  },
  {
   "cell_type": "code",
   "execution_count": 8,
   "id": "3f2ca922",
   "metadata": {},
   "outputs": [
    {
     "data": {
      "text/plain": [
       "I1    False\n",
       "I2    False\n",
       "dtype: bool"
      ]
     },
     "execution_count": 8,
     "metadata": {},
     "output_type": "execute_result"
    }
   ],
   "source": [
    "df[\"c1\"]>=df[\"c2\"]"
   ]
  },
  {
   "cell_type": "code",
   "execution_count": 9,
   "id": "bbd774fb",
   "metadata": {},
   "outputs": [
    {
     "data": {
      "text/plain": [
       "I1    True\n",
       "I2    True\n",
       "dtype: bool"
      ]
     },
     "execution_count": 9,
     "metadata": {},
     "output_type": "execute_result"
    }
   ],
   "source": [
    "df[\"c1\"] <= df[\"c2\"]"
   ]
  },
  {
   "cell_type": "code",
   "execution_count": 10,
   "id": "ea2a35e1",
   "metadata": {},
   "outputs": [
    {
     "data": {
      "text/plain": [
       "I1    False\n",
       "I2    False\n",
       "dtype: bool"
      ]
     },
     "execution_count": 10,
     "metadata": {},
     "output_type": "execute_result"
    }
   ],
   "source": [
    "df[\"c1\"] == df[\"c2\"]"
   ]
  },
  {
   "cell_type": "code",
   "execution_count": 11,
   "id": "b68d17ba",
   "metadata": {},
   "outputs": [
    {
     "data": {
      "text/plain": [
       "I1    True\n",
       "I2    True\n",
       "dtype: bool"
      ]
     },
     "execution_count": 11,
     "metadata": {},
     "output_type": "execute_result"
    }
   ],
   "source": [
    "df[\"c1\"] != df[\"c2\"]"
   ]
  },
  {
   "cell_type": "markdown",
   "id": "6a87b4ef",
   "metadata": {},
   "source": [
    "# 3. 汇总运算 - 对一整列进行运算"
   ]
  },
  {
   "cell_type": "markdown",
   "id": "28a497d5",
   "metadata": {},
   "source": [
    "* `count( )`\n",
    "* `max( )`\n",
    "* `min( )`\n",
    "* `mean( )`\n",
    "* `median( )`\n",
    "* `mode( )`\n",
    "* `var( )`方差\n",
    "* `std( )`标准差\n",
    "* `quantile( )`分位数\n",
    "* `corr`相关系数"
   ]
  },
  {
   "cell_type": "code",
   "execution_count": 22,
   "id": "2e1a8305",
   "metadata": {},
   "outputs": [
    {
     "data": {
      "text/plain": [
       "2"
      ]
     },
     "execution_count": 22,
     "metadata": {},
     "output_type": "execute_result"
    }
   ],
   "source": [
    "df[\"c1\"].count()"
   ]
  },
  {
   "cell_type": "code",
   "execution_count": 39,
   "id": "17f321f9",
   "metadata": {},
   "outputs": [
    {
     "data": {
      "text/plain": [
       "c1    1\n",
       "c2    1\n",
       "c3    1\n",
       "dtype: int64"
      ]
     },
     "execution_count": 39,
     "metadata": {},
     "output_type": "execute_result"
    }
   ],
   "source": [
    "df.loc[[\"I1\"]].count()"
   ]
  },
  {
   "cell_type": "markdown",
   "id": "3940e5a0",
   "metadata": {},
   "source": [
    "## 3.1 按列非空个数"
   ]
  },
  {
   "cell_type": "code",
   "execution_count": 16,
   "id": "0bd29dc1",
   "metadata": {},
   "outputs": [
    {
     "data": {
      "text/plain": [
       "c1    2\n",
       "c2    2\n",
       "c3    2\n",
       "dtype: int64"
      ]
     },
     "execution_count": 16,
     "metadata": {},
     "output_type": "execute_result"
    }
   ],
   "source": [
    "df.count()# 非空计算"
   ]
  },
  {
   "cell_type": "code",
   "execution_count": 19,
   "id": "2d49c74e",
   "metadata": {},
   "outputs": [
    {
     "data": {
      "text/plain": [
       "PID             8\n",
       "ST_NUM          7\n",
       "ST_NAME         9\n",
       "OWN_OCCUPIED    8\n",
       "NUM_BEDROOMS    7\n",
       "NUM_BATH        8\n",
       "SQ_FT           8\n",
       "dtype: int64"
      ]
     },
     "execution_count": 19,
     "metadata": {},
     "output_type": "execute_result"
    }
   ],
   "source": [
    "import pandas as pd\n",
    "import numpy as np\n",
    "df_csv = pd.read_csv(\"/Users/stu/Desktop/Python Exercise/data/property-data.csv\")\n",
    "df_csv.count(axis = 0) # 非空计算\n",
    "\n",
    "\n",
    "# 默认按列计算"
   ]
  },
  {
   "cell_type": "code",
   "execution_count": 20,
   "id": "7ed57306",
   "metadata": {},
   "outputs": [
    {
     "data": {
      "text/plain": [
       "0    7\n",
       "1    7\n",
       "2    5\n",
       "3    6\n",
       "4    6\n",
       "5    6\n",
       "6    5\n",
       "7    6\n",
       "8    7\n",
       "dtype: int64"
      ]
     },
     "execution_count": 20,
     "metadata": {},
     "output_type": "execute_result"
    }
   ],
   "source": [
    "import pandas as pd\n",
    "import numpy as np\n",
    "df_csv = pd.read_csv(\"/Users/stu/Desktop/Python Exercise/data/property-data.csv\")\n",
    "df_csv.count(axis = 1) # 非空计算\n",
    "# 默认按行计算"
   ]
  },
  {
   "cell_type": "markdown",
   "id": "8dcf67e4",
   "metadata": {},
   "source": [
    "## 3.2 分位数\n",
    "* 中位数就是 0.5 分位数\n",
    "* 从小到大排列"
   ]
  },
  {
   "cell_type": "code",
   "execution_count": 46,
   "id": "6cf092ef",
   "metadata": {},
   "outputs": [
    {
     "data": {
      "text/html": [
       "<div>\n",
       "<style scoped>\n",
       "    .dataframe tbody tr th:only-of-type {\n",
       "        vertical-align: middle;\n",
       "    }\n",
       "\n",
       "    .dataframe tbody tr th {\n",
       "        vertical-align: top;\n",
       "    }\n",
       "\n",
       "    .dataframe thead th {\n",
       "        text-align: right;\n",
       "    }\n",
       "</style>\n",
       "<table border=\"1\" class=\"dataframe\">\n",
       "  <thead>\n",
       "    <tr style=\"text-align: right;\">\n",
       "      <th></th>\n",
       "      <th>c1</th>\n",
       "      <th>c2</th>\n",
       "      <th>c3</th>\n",
       "    </tr>\n",
       "  </thead>\n",
       "  <tbody>\n",
       "    <tr>\n",
       "      <th>I1</th>\n",
       "      <td>1</td>\n",
       "      <td>2</td>\n",
       "      <td>3</td>\n",
       "    </tr>\n",
       "    <tr>\n",
       "      <th>I2</th>\n",
       "      <td>-1</td>\n",
       "      <td>7</td>\n",
       "      <td>4</td>\n",
       "    </tr>\n",
       "  </tbody>\n",
       "</table>\n",
       "</div>"
      ],
      "text/plain": [
       "    c1  c2  c3\n",
       "I1   1   2   3\n",
       "I2  -1   7   4"
      ]
     },
     "execution_count": 46,
     "metadata": {},
     "output_type": "execute_result"
    }
   ],
   "source": [
    "import pandas as pd\n",
    "data = {\"c1\":[1,-1],\"c2\":[2,7],\"c3\":[3,4]}\n",
    "df = pd.DataFrame(data)\n",
    "df.index = [\"I1\",\"I2\"]\n",
    "df"
   ]
  },
  {
   "cell_type": "code",
   "execution_count": 47,
   "id": "8a854879",
   "metadata": {},
   "outputs": [
    {
     "data": {
      "text/plain": [
       "c1    0.0\n",
       "c2    4.5\n",
       "c3    3.5\n",
       "Name: 0.5, dtype: float64"
      ]
     },
     "execution_count": 47,
     "metadata": {},
     "output_type": "execute_result"
    }
   ],
   "source": [
    "df.quantile(0.5) # 按列"
   ]
  },
  {
   "cell_type": "code",
   "execution_count": 48,
   "id": "69e7ac58",
   "metadata": {},
   "outputs": [
    {
     "data": {
      "text/html": [
       "<div>\n",
       "<style scoped>\n",
       "    .dataframe tbody tr th:only-of-type {\n",
       "        vertical-align: middle;\n",
       "    }\n",
       "\n",
       "    .dataframe tbody tr th {\n",
       "        vertical-align: top;\n",
       "    }\n",
       "\n",
       "    .dataframe thead th {\n",
       "        text-align: right;\n",
       "    }\n",
       "</style>\n",
       "<table border=\"1\" class=\"dataframe\">\n",
       "  <thead>\n",
       "    <tr style=\"text-align: right;\">\n",
       "      <th></th>\n",
       "      <th>c1</th>\n",
       "      <th>c2</th>\n",
       "      <th>c3</th>\n",
       "    </tr>\n",
       "  </thead>\n",
       "  <tbody>\n",
       "    <tr>\n",
       "      <th>c1</th>\n",
       "      <td>1.0</td>\n",
       "      <td>-1.0</td>\n",
       "      <td>-1.0</td>\n",
       "    </tr>\n",
       "    <tr>\n",
       "      <th>c2</th>\n",
       "      <td>-1.0</td>\n",
       "      <td>1.0</td>\n",
       "      <td>1.0</td>\n",
       "    </tr>\n",
       "    <tr>\n",
       "      <th>c3</th>\n",
       "      <td>-1.0</td>\n",
       "      <td>1.0</td>\n",
       "      <td>1.0</td>\n",
       "    </tr>\n",
       "  </tbody>\n",
       "</table>\n",
       "</div>"
      ],
      "text/plain": [
       "     c1   c2   c3\n",
       "c1  1.0 -1.0 -1.0\n",
       "c2 -1.0  1.0  1.0\n",
       "c3 -1.0  1.0  1.0"
      ]
     },
     "execution_count": 48,
     "metadata": {},
     "output_type": "execute_result"
    }
   ],
   "source": [
    "df.corr() # 按列"
   ]
  },
  {
   "cell_type": "code",
   "execution_count": null,
   "id": "816a34cb",
   "metadata": {},
   "outputs": [],
   "source": []
  }
 ],
 "metadata": {
  "kernelspec": {
   "display_name": "Python 3 (ipykernel)",
   "language": "python",
   "name": "python3"
  },
  "language_info": {
   "codemirror_mode": {
    "name": "ipython",
    "version": 3
   },
   "file_extension": ".py",
   "mimetype": "text/x-python",
   "name": "python",
   "nbconvert_exporter": "python",
   "pygments_lexer": "ipython3",
   "version": "3.9.13"
  }
 },
 "nbformat": 4,
 "nbformat_minor": 5
}
