{
 "cells": [
  {
   "cell_type": "markdown",
   "id": "3b5b649c",
   "metadata": {},
   "source": [
    "# Excel"
   ]
  },
  {
   "cell_type": "markdown",
   "id": "5cd29632",
   "metadata": {},
   "source": [
    "`pd.to_excel()`"
   ]
  },
  {
   "cell_type": "code",
   "execution_count": 1,
   "id": "a6588734",
   "metadata": {},
   "outputs": [],
   "source": [
    "# 一对一\n",
    "import pandas as pd\n",
    "t1 = pd.DataFrame({\"name\":[\"小陈\",\"小房\",\"小飞\",\"小灿\"],\n",
    "                  \"名次\":[1,2,3,4],\n",
    "                  \"id\":[101,102,103,104],\n",
    "                  \"期末grade\":[400,345,987,234],\n",
    "                  })\n",
    "t2 = pd.DataFrame({\"id\":[101,102,103,104],\n",
    "                  \"Class\":[\"Class 1\",\"Class 2\",\"Class 3\",\"Class 4\"]\n",
    "                  })\n",
    "table = pd.merge(t1,t2) # 通过完全相同的列，来join\n"
   ]
  },
  {
   "cell_type": "code",
   "execution_count": 2,
   "id": "846094a8",
   "metadata": {},
   "outputs": [
    {
     "data": {
      "text/html": [
       "<div>\n",
       "<style scoped>\n",
       "    .dataframe tbody tr th:only-of-type {\n",
       "        vertical-align: middle;\n",
       "    }\n",
       "\n",
       "    .dataframe tbody tr th {\n",
       "        vertical-align: top;\n",
       "    }\n",
       "\n",
       "    .dataframe thead th {\n",
       "        text-align: right;\n",
       "    }\n",
       "</style>\n",
       "<table border=\"1\" class=\"dataframe\">\n",
       "  <thead>\n",
       "    <tr style=\"text-align: right;\">\n",
       "      <th></th>\n",
       "      <th>name</th>\n",
       "      <th>名次</th>\n",
       "      <th>id</th>\n",
       "      <th>期末grade</th>\n",
       "      <th>Class</th>\n",
       "    </tr>\n",
       "  </thead>\n",
       "  <tbody>\n",
       "    <tr>\n",
       "      <th>0</th>\n",
       "      <td>小陈</td>\n",
       "      <td>1</td>\n",
       "      <td>101</td>\n",
       "      <td>400</td>\n",
       "      <td>Class 1</td>\n",
       "    </tr>\n",
       "    <tr>\n",
       "      <th>1</th>\n",
       "      <td>小房</td>\n",
       "      <td>2</td>\n",
       "      <td>102</td>\n",
       "      <td>345</td>\n",
       "      <td>Class 2</td>\n",
       "    </tr>\n",
       "    <tr>\n",
       "      <th>2</th>\n",
       "      <td>小飞</td>\n",
       "      <td>3</td>\n",
       "      <td>103</td>\n",
       "      <td>987</td>\n",
       "      <td>Class 3</td>\n",
       "    </tr>\n",
       "    <tr>\n",
       "      <th>3</th>\n",
       "      <td>小灿</td>\n",
       "      <td>4</td>\n",
       "      <td>104</td>\n",
       "      <td>234</td>\n",
       "      <td>Class 4</td>\n",
       "    </tr>\n",
       "  </tbody>\n",
       "</table>\n",
       "</div>"
      ],
      "text/plain": [
       "  name  名次   id  期末grade    Class\n",
       "0   小陈   1  101      400  Class 1\n",
       "1   小房   2  102      345  Class 2\n",
       "2   小飞   3  103      987  Class 3\n",
       "3   小灿   4  104      234  Class 4"
      ]
     },
     "execution_count": 2,
     "metadata": {},
     "output_type": "execute_result"
    }
   ],
   "source": [
    "table"
   ]
  },
  {
   "cell_type": "code",
   "execution_count": null,
   "id": "5b4b0aed",
   "metadata": {},
   "outputs": [],
   "source": [
    "table.to_excel(excel_writer = r\"路径\\test.xlsx\"\n",
    "              ,sheet_name = \"information\" # sheet的名字\n",
    "              ,columns = [\"id\"，\"Class\"] # 选择你要导出的列\n",
    "              ,na_rep = 0 # 缺失值填充\n",
    "              ,inf_rep =  # inf无穷值填充\n",
    "              ,encoding = \"utf-8\"# \n",
    "              ,index = False # 是否导出默认索引\n",
    "              )"
   ]
  },
  {
   "cell_type": "markdown",
   "id": "a17247ce",
   "metadata": {},
   "source": [
    "# CSV"
   ]
  },
  {
   "cell_type": "code",
   "execution_count": null,
   "id": "98d6fdcb",
   "metadata": {},
   "outputs": [],
   "source": [
    "table.to_csv(r\"路径\\test.xlsx\"\n",
    "            ,encoding = \"gbk\" # 默认utf-8 包含中文会乱\n",
    "            ,index = False\n",
    "            ,columns = [\"id\",\"Class\"]\n",
    "            ,sep = \",\" # 设置分隔符\n",
    "            )"
   ]
  },
  {
   "cell_type": "markdown",
   "id": "06cebcbd",
   "metadata": {},
   "source": [
    "# 到出到多sheet文件"
   ]
  },
  {
   "cell_type": "code",
   "execution_count": null,
   "id": "ce0b3f59",
   "metadata": {},
   "outputs": [],
   "source": [
    "excelpath = r\"路径\\test.xlsx\"\n",
    "writer = pd.ExcelWriter(excelpath, # 路径\n",
    "                        engine = \"xlsxwriter\"# 解析器\n",
    "                       )\n",
    "table1 = table.reset_index()\n",
    "table2 = table.reset_index()\n",
    "table3 = table.reset_index()\n",
    "\n",
    "table1.to_excel(writer.sheet_name = \"table1\")\n",
    "table2.to_excel(writer.sheet_name = \"table2\")\n",
    "table3.to_excel(writer.sheet_name = \"table3\")\n",
    "\n",
    "w"
   ]
  }
 ],
 "metadata": {
  "kernelspec": {
   "display_name": "Python 3 (ipykernel)",
   "language": "python",
   "name": "python3"
  },
  "language_info": {
   "codemirror_mode": {
    "name": "ipython",
    "version": 3
   },
   "file_extension": ".py",
   "mimetype": "text/x-python",
   "name": "python",
   "nbconvert_exporter": "python",
   "pygments_lexer": "ipython3",
   "version": "3.9.13"
  }
 },
 "nbformat": 4,
 "nbformat_minor": 5
}
