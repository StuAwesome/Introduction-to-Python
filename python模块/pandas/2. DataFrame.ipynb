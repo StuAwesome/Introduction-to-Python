{
 "cells": [
  {
   "cell_type": "markdown",
   "id": "f929d5f5",
   "metadata": {},
   "source": [
    "# 2. DataFrame\n",
    "* DataFrame 是一个表格型的数据结构，它含有一组有序的列，每列可以是不同的值类型（数值、字符串、布尔型值）。\n",
    "* DataFrame 既有行索引也有列索引，它可以被看做由 Series 组成的字典（共同用一个索引）。\n",
    "```python\n",
    "pandas.DataFrame( data, index, columns, dtype, copy)\n",
    "# 参数说明\n",
    "data：一组数据(ndarray、series, map, lists, dict 等类型)。\n",
    "index：索引值，或者可以称为行标签。\n",
    "columns：列标签，默认为 RangeIndex (0, 1, 2, …, n) 。\n",
    "dtype：数据类型。\n",
    "copy：拷贝数据，默认为 False。\n",
    "```"
   ]
  },
  {
   "cell_type": "markdown",
   "id": "1206113f",
   "metadata": {},
   "source": [
    "# 1. build a dataframe instance"
   ]
  },
  {
   "cell_type": "markdown",
   "id": "8c5e5751",
   "metadata": {},
   "source": [
    "1. 使用`list`\n",
    "2. 使用`ndarrays`\n",
    "3. 使用`dictionary`"
   ]
  },
  {
   "cell_type": "markdown",
   "id": "f663878d",
   "metadata": {},
   "source": [
    "### 1.1 使用`list`"
   ]
  },
  {
   "cell_type": "code",
   "execution_count": 14,
   "id": "1e4f1faf",
   "metadata": {},
   "outputs": [
    {
     "name": "stdout",
     "output_type": "stream",
     "text": [
      "     site   age\n",
      "0  Google  10.0\n",
      "1  Runoob  12.0\n",
      "2    Wiki  13.0\n"
     ]
    },
    {
     "name": "stderr",
     "output_type": "stream",
     "text": [
      "/var/folders/dq/vyz01f_d6_9554rf0l07d8p00000gn/T/ipykernel_3908/4227781608.py:5: FutureWarning: Could not cast to float64, falling back to object. This behavior is deprecated. In a future version, when a dtype is passed to 'DataFrame', either all columns will be cast to that dtype, or a TypeError will be raised.\n",
      "  df = pd.DataFrame(data,columns = [\"site\",\"age\"],dtype = float)\n"
     ]
    },
    {
     "data": {
      "text/plain": [
       "site     object\n",
       "age     float64\n",
       "dtype: object"
      ]
     },
     "execution_count": 14,
     "metadata": {},
     "output_type": "execute_result"
    }
   ],
   "source": [
    "# 1. 使用`list`\n",
    "\n",
    "import pandas as pd\n",
    "data = [[\"Google\",10],[\"Runoob\",12],[\"Wiki\",13]]\n",
    "df = pd.DataFrame(data,columns = [\"site\",\"age\"],dtype = float)\n",
    "print(df)\n",
    "df.dtypes"
   ]
  },
  {
   "cell_type": "markdown",
   "id": "e753f7e4",
   "metadata": {},
   "source": [
    "### 1.2 使用`ndarrays or 多维字典`创建 - 带列名的数据"
   ]
  },
  {
   "cell_type": "code",
   "execution_count": 17,
   "id": "07fb87d3",
   "metadata": {},
   "outputs": [
    {
     "name": "stdout",
     "output_type": "stream",
     "text": [
      "<class 'dict'>\n",
      "     Site  Age\n",
      "0  Google   10\n",
      "1  Runoob   12\n",
      "2    Wiki   13\n"
     ]
    }
   ],
   "source": [
    "# 2. 使用 ndarrays 创建\n",
    "\n",
    "import pandas as pd\n",
    "data = {\"Site\":[\"Google\",\"Runoob\",\"Wiki\"],\"Age\":[10,12,13]}\n",
    "print(type(data))\n",
    "\n",
    "df = pd.DataFrame(data)\n",
    "print(df)"
   ]
  },
  {
   "cell_type": "markdown",
   "id": "6f3daedb",
   "metadata": {},
   "source": [
    "### 1.3 使用`dictionary`\n",
    "* 一个字典是一行"
   ]
  },
  {
   "cell_type": "code",
   "execution_count": 19,
   "id": "859d7466",
   "metadata": {},
   "outputs": [
    {
     "name": "stdout",
     "output_type": "stream",
     "text": [
      "<class 'list'>\n",
      "   a   b     c\n",
      "0  1   2   NaN\n",
      "1  5  10  20.0\n"
     ]
    }
   ],
   "source": [
    "import pandas as pd\n",
    "\n",
    "data = [{'a': 1, 'b': 2},{'a': 5, 'b': 10, 'c': 20}]\n",
    "# 一个字典是一行\n",
    "\n",
    "print(type(data))\n",
    "\n",
    "df = pd.DataFrame(data)\n",
    "\n",
    "print (df)"
   ]
  },
  {
   "cell_type": "markdown",
   "id": "8da8d886",
   "metadata": {},
   "source": [
    "## 1.4 一列数据"
   ]
  },
  {
   "cell_type": "code",
   "execution_count": 28,
   "id": "8f574f7e",
   "metadata": {},
   "outputs": [
    {
     "data": {
      "text/html": [
       "<div>\n",
       "<style scoped>\n",
       "    .dataframe tbody tr th:only-of-type {\n",
       "        vertical-align: middle;\n",
       "    }\n",
       "\n",
       "    .dataframe tbody tr th {\n",
       "        vertical-align: top;\n",
       "    }\n",
       "\n",
       "    .dataframe thead th {\n",
       "        text-align: right;\n",
       "    }\n",
       "</style>\n",
       "<table border=\"1\" class=\"dataframe\">\n",
       "  <thead>\n",
       "    <tr style=\"text-align: right;\">\n",
       "      <th></th>\n",
       "      <th>技能</th>\n",
       "    </tr>\n",
       "  </thead>\n",
       "  <tbody>\n",
       "    <tr>\n",
       "      <th>第一</th>\n",
       "      <td>Excel</td>\n",
       "    </tr>\n",
       "    <tr>\n",
       "      <th>第二</th>\n",
       "      <td>Sql</td>\n",
       "    </tr>\n",
       "    <tr>\n",
       "      <th>第三</th>\n",
       "      <td>Python</td>\n",
       "    </tr>\n",
       "    <tr>\n",
       "      <th>第四</th>\n",
       "      <td>PPT</td>\n",
       "    </tr>\n",
       "  </tbody>\n",
       "</table>\n",
       "</div>"
      ],
      "text/plain": [
       "        技能\n",
       "第一   Excel\n",
       "第二     Sql\n",
       "第三  Python\n",
       "第四     PPT"
      ]
     },
     "execution_count": 28,
     "metadata": {},
     "output_type": "execute_result"
    }
   ],
   "source": [
    "index = [\"第一\", \"第二\", \"第三\",\"第四\"]\n",
    "data = [\"Excel\",\"Sql\",\"Python\",\"PPT\"]\n",
    "columns = [\"技能\"]\n",
    "pd.DataFrame(data,columns = columns,index = index)\n"
   ]
  },
  {
   "cell_type": "markdown",
   "id": "c6420914",
   "metadata": {},
   "source": [
    "## 1.4 多列数据 - 嵌套列表"
   ]
  },
  {
   "cell_type": "code",
   "execution_count": 32,
   "id": "d28701e2",
   "metadata": {},
   "outputs": [
    {
     "data": {
      "text/html": [
       "<div>\n",
       "<style scoped>\n",
       "    .dataframe tbody tr th:only-of-type {\n",
       "        vertical-align: middle;\n",
       "    }\n",
       "\n",
       "    .dataframe tbody tr th {\n",
       "        vertical-align: top;\n",
       "    }\n",
       "\n",
       "    .dataframe thead th {\n",
       "        text-align: right;\n",
       "    }\n",
       "</style>\n",
       "<table border=\"1\" class=\"dataframe\">\n",
       "  <thead>\n",
       "    <tr style=\"text-align: right;\">\n",
       "      <th></th>\n",
       "      <th>技能</th>\n",
       "      <th>周数</th>\n",
       "    </tr>\n",
       "  </thead>\n",
       "  <tbody>\n",
       "    <tr>\n",
       "      <th>第一</th>\n",
       "      <td>Excel</td>\n",
       "      <td>week1</td>\n",
       "    </tr>\n",
       "    <tr>\n",
       "      <th>第二</th>\n",
       "      <td>Sql</td>\n",
       "      <td>week2</td>\n",
       "    </tr>\n",
       "    <tr>\n",
       "      <th>第三</th>\n",
       "      <td>Python</td>\n",
       "      <td>week3</td>\n",
       "    </tr>\n",
       "    <tr>\n",
       "      <th>第四</th>\n",
       "      <td>PPT</td>\n",
       "      <td>week4</td>\n",
       "    </tr>\n",
       "  </tbody>\n",
       "</table>\n",
       "</div>"
      ],
      "text/plain": [
       "        技能     周数\n",
       "第一   Excel  week1\n",
       "第二     Sql  week2\n",
       "第三  Python  week3\n",
       "第四     PPT  week4"
      ]
     },
     "execution_count": 32,
     "metadata": {},
     "output_type": "execute_result"
    }
   ],
   "source": [
    "index = [\"第一\", \"第二\", \"第三\",\"第四\"]\n",
    "data = [[\"Excel\",\"week1\"],[\"Sql\",\"week2\"],[\"Python\",\"week3\"],[\"PPT\",\"week4\"]]\n",
    "columns = [\"技能\",\"周数\"]\n",
    "pd.DataFrame(data,columns = columns,index = index)\n"
   ]
  },
  {
   "cell_type": "code",
   "execution_count": null,
   "id": "6451bfb3",
   "metadata": {},
   "outputs": [],
   "source": []
  },
  {
   "cell_type": "code",
   "execution_count": null,
   "id": "f0fe0547",
   "metadata": {},
   "outputs": [],
   "source": []
  },
  {
   "cell_type": "code",
   "execution_count": null,
   "id": "55ddfa7a",
   "metadata": {},
   "outputs": [],
   "source": []
  },
  {
   "cell_type": "markdown",
   "id": "99d4ad67",
   "metadata": {},
   "source": [
    "# 2. 获取指定行数据"
   ]
  },
  {
   "cell_type": "markdown",
   "id": "6c707368",
   "metadata": {},
   "source": [
    "* Pandas 可以使用 `loc` 属性返回指定行的数据，如果没有设置索引，第一行索引为 0，第二行索引为 1，以此类推：\n",
    "* 注意：返回结果其实就是一个 Pandas Series 数据。\n",
    "* 也可以返回多行数据，使用 `[[ ... ]]` 格式，... 为各行的索引，以逗号隔开：\n"
   ]
  },
  {
   "cell_type": "code",
   "execution_count": 23,
   "id": "2840a89b",
   "metadata": {},
   "outputs": [
    {
     "name": "stdout",
     "output_type": "stream",
     "text": [
      "      Calories  Duration\n",
      "day1       420        45\n",
      "day2       380        55\n",
      "day3       390        50\n",
      "\n",
      "Calories    380\n",
      "Duration     55\n",
      "Name: day2, dtype: int64\n"
     ]
    }
   ],
   "source": [
    "import pandas as pd\n",
    "data = { #ndarrays\n",
    "    \"Calories\":[420,380,390],\n",
    "    \"Duration\":[45,55,50]\n",
    "}\n",
    "\n",
    "df = pd.DataFrame(data,index = [\"day1\",'day2',\"day3\"])\n",
    "print(df,end = \"\\n\\n\")\n",
    "print(df.loc[\"day2\"])"
   ]
  },
  {
   "cell_type": "code",
   "execution_count": 24,
   "id": "fea3d78b",
   "metadata": {},
   "outputs": [
    {
     "name": "stdout",
     "output_type": "stream",
     "text": [
      "   Calories  Duration\n",
      "0       420        45\n",
      "1       380        55\n",
      "2       390        50\n",
      "\n",
      "Calories    420\n",
      "Duration     45\n",
      "Name: 0, dtype: int64\n",
      "Calories    380\n",
      "Duration     55\n",
      "Name: 1, dtype: int64\n"
     ]
    }
   ],
   "source": [
    "import pandas as pd\n",
    "data = { #ndarrays\n",
    "    \"Calories\":[420,380,390],\n",
    "    \"Duration\":[45,55,50]\n",
    "}\n",
    "\n",
    "df = pd.DataFrame(data)\n",
    "print(df,end = \"\\n\\n\")\n",
    "# 第一行\n",
    "print(df.loc[0])\n",
    "# 第二行\n",
    "print(df.loc[1])"
   ]
  },
  {
   "cell_type": "code",
   "execution_count": 25,
   "id": "a651d837",
   "metadata": {},
   "outputs": [
    {
     "data": {
      "text/plain": [
       "Calories    390\n",
       "Duration     50\n",
       "Name: 2, dtype: int64"
      ]
     },
     "execution_count": 25,
     "metadata": {},
     "output_type": "execute_result"
    }
   ],
   "source": [
    "obj = df.loc[2]\n",
    "print(obj)\n"
   ]
  },
  {
   "cell_type": "markdown",
   "id": "56bfcdf3",
   "metadata": {},
   "source": [
    "### 也可以返回多行数据，使用 `[[ ... ]]` 格式，... 为各行的索引，以逗号隔开："
   ]
  },
  {
   "cell_type": "code",
   "execution_count": 26,
   "id": "5b0ed5ab",
   "metadata": {},
   "outputs": [
    {
     "data": {
      "text/html": [
       "<div>\n",
       "<style scoped>\n",
       "    .dataframe tbody tr th:only-of-type {\n",
       "        vertical-align: middle;\n",
       "    }\n",
       "\n",
       "    .dataframe tbody tr th {\n",
       "        vertical-align: top;\n",
       "    }\n",
       "\n",
       "    .dataframe thead th {\n",
       "        text-align: right;\n",
       "    }\n",
       "</style>\n",
       "<table border=\"1\" class=\"dataframe\">\n",
       "  <thead>\n",
       "    <tr style=\"text-align: right;\">\n",
       "      <th></th>\n",
       "      <th>Calories</th>\n",
       "      <th>Duration</th>\n",
       "    </tr>\n",
       "  </thead>\n",
       "  <tbody>\n",
       "    <tr>\n",
       "      <th>day1</th>\n",
       "      <td>420</td>\n",
       "      <td>45</td>\n",
       "    </tr>\n",
       "    <tr>\n",
       "      <th>day2</th>\n",
       "      <td>380</td>\n",
       "      <td>55</td>\n",
       "    </tr>\n",
       "  </tbody>\n",
       "</table>\n",
       "</div>"
      ],
      "text/plain": [
       "      Calories  Duration\n",
       "day1       420        45\n",
       "day2       380        55"
      ]
     },
     "execution_count": 26,
     "metadata": {},
     "output_type": "execute_result"
    }
   ],
   "source": [
    "import pandas as pd\n",
    "data = { #ndarrays\n",
    "    \"Calories\":[420,380,390],\n",
    "    \"Duration\":[45,55,50]\n",
    "}\n",
    "\n",
    "df = pd.DataFrame(data,index = [\"day1\",'day2',\"day3\"])\n",
    "\n",
    "df.loc[[\"day1\",'day2']]"
   ]
  },
  {
   "cell_type": "markdown",
   "id": "fed1724b",
   "metadata": {},
   "source": [
    "# 3. 查询 列和行 索引\n"
   ]
  },
  {
   "cell_type": "code",
   "execution_count": 33,
   "id": "babbef31",
   "metadata": {},
   "outputs": [
    {
     "data": {
      "text/plain": [
       "Index(['day1', 'day2', 'day3'], dtype='object')"
      ]
     },
     "execution_count": 33,
     "metadata": {},
     "output_type": "execute_result"
    }
   ],
   "source": [
    "df.index"
   ]
  },
  {
   "cell_type": "code",
   "execution_count": 34,
   "id": "2582eb05",
   "metadata": {},
   "outputs": [
    {
     "data": {
      "text/plain": [
       "Index(['Calories', 'Duration'], dtype='object')"
      ]
     },
     "execution_count": 34,
     "metadata": {},
     "output_type": "execute_result"
    }
   ],
   "source": [
    "df.columns"
   ]
  },
  {
   "cell_type": "code",
   "execution_count": 35,
   "id": "e6beb080",
   "metadata": {},
   "outputs": [
    {
     "data": {
      "text/html": [
       "<div>\n",
       "<style scoped>\n",
       "    .dataframe tbody tr th:only-of-type {\n",
       "        vertical-align: middle;\n",
       "    }\n",
       "\n",
       "    .dataframe tbody tr th {\n",
       "        vertical-align: top;\n",
       "    }\n",
       "\n",
       "    .dataframe thead th {\n",
       "        text-align: right;\n",
       "    }\n",
       "</style>\n",
       "<table border=\"1\" class=\"dataframe\">\n",
       "  <thead>\n",
       "    <tr style=\"text-align: right;\">\n",
       "      <th></th>\n",
       "      <th>Calories</th>\n",
       "      <th>Duration</th>\n",
       "    </tr>\n",
       "  </thead>\n",
       "  <tbody>\n",
       "    <tr>\n",
       "      <th>day1</th>\n",
       "      <td>420</td>\n",
       "      <td>45</td>\n",
       "    </tr>\n",
       "    <tr>\n",
       "      <th>day2</th>\n",
       "      <td>380</td>\n",
       "      <td>55</td>\n",
       "    </tr>\n",
       "    <tr>\n",
       "      <th>day3</th>\n",
       "      <td>390</td>\n",
       "      <td>50</td>\n",
       "    </tr>\n",
       "  </tbody>\n",
       "</table>\n",
       "</div>"
      ],
      "text/plain": [
       "      Calories  Duration\n",
       "day1       420        45\n",
       "day2       380        55\n",
       "day3       390        50"
      ]
     },
     "execution_count": 35,
     "metadata": {},
     "output_type": "execute_result"
    }
   ],
   "source": [
    "df"
   ]
  },
  {
   "cell_type": "code",
   "execution_count": null,
   "id": "b285c9db",
   "metadata": {},
   "outputs": [],
   "source": []
  }
 ],
 "metadata": {
  "kernelspec": {
   "display_name": "Python 3 (ipykernel)",
   "language": "python",
   "name": "python3"
  },
  "language_info": {
   "codemirror_mode": {
    "name": "ipython",
    "version": 3
   },
   "file_extension": ".py",
   "mimetype": "text/x-python",
   "name": "python",
   "nbconvert_exporter": "python",
   "pygments_lexer": "ipython3",
   "version": "3.9.13"
  }
 },
 "nbformat": 4,
 "nbformat_minor": 5
}
