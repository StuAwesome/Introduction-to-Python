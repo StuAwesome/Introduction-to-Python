{
 "cells": [
  {
   "cell_type": "markdown",
   "id": "4cf078ed",
   "metadata": {},
   "source": [
    "# 1. 数据分组"
   ]
  },
  {
   "cell_type": "markdown",
   "id": "a66e71ee",
   "metadata": {},
   "source": [
    "* Excel -> 筛选 -> 分类汇总"
   ]
  },
  {
   "cell_type": "code",
   "execution_count": null,
   "id": "69f92d91",
   "metadata": {},
   "outputs": [],
   "source": [
    "# 1. 汇总\n",
    "df.groupby([\"列名1\",\"列名2\"]) # 聚合后是个对象 看不出结果\n",
    "# 多列分组 类似树状\n"
   ]
  },
  {
   "cell_type": "code",
   "execution_count": null,
   "id": "ec8c2f0c",
   "metadata": {},
   "outputs": [],
   "source": [
    "# 2. 汇总运算\n",
    "df.groupby([\"列名\"]).sum()# 汇总运算"
   ]
  },
  {
   "cell_type": "code",
   "execution_count": 1,
   "id": "4f81e954",
   "metadata": {},
   "outputs": [],
   "source": [
    "# 3. 汇总选列运算\n",
    "df.groupby([\"列名1\"，\"列名2\"])[\"7月销量\"].sum()"
   ]
  },
  {
   "cell_type": "markdown",
   "id": "3d54f196",
   "metadata": {},
   "source": [
    "# 2. aggregate（ ）"
   ]
  },
  {
   "cell_type": "markdown",
   "id": "4b7c94c5",
   "metadata": {},
   "source": [
    "* 所谓聚合就是进行一定计算，例如上面的`sun()`\n",
    "* 1. 可以通过`aggregate 或 agg`放入自定义的函数\n",
    "* 2. 对一列，同时进行多种聚合运算\n",
    "* 3. 多列，同时多种聚合运算"
   ]
  },
  {
   "cell_type": "code",
   "execution_count": 3,
   "id": "be49a152",
   "metadata": {},
   "outputs": [],
   "source": [
    "# 1. 聚合运算使用自定义运算\n",
    "def zidingyi(arr):\n",
    "    return arr.sum()\n",
    "\n",
    "# 分组计算\n",
    "df.groupby([\"column1\",\"column2\"])[\"Sales\"].agg(zidingyi)"
   ]
  },
  {
   "cell_type": "code",
   "execution_count": null,
   "id": "6b77510a",
   "metadata": {},
   "outputs": [],
   "source": [
    "# 2. 针对相投列使用不同聚合运算\n",
    "df.groupby([\"column1\",\"column2\"])[\"Sales\"].aggregate([\"count\",\"avg\"])"
   ]
  },
  {
   "cell_type": "code",
   "execution_count": null,
   "id": "5bfeb4d9",
   "metadata": {},
   "outputs": [],
   "source": [
    "# 3. 多列同时进行不同的聚合运算\n",
    "df.groupby([\"column1\"]).aggregate({\"Sales\":\"sum\", \"bill_id\":\"count\"})"
   ]
  },
  {
   "cell_type": "markdown",
   "id": "ab8af9ca",
   "metadata": {},
   "source": [
    "# 3. 数据分组后索引问题"
   ]
  },
  {
   "cell_type": "markdown",
   "id": "61a6dcfc",
   "metadata": {},
   "source": [
    "1. 重置索引\n",
    "2. 分组时，设置索引"
   ]
  },
  {
   "cell_type": "code",
   "execution_count": null,
   "id": "e7007acb",
   "metadata": {},
   "outputs": [],
   "source": [
    "# 1. 重制索引\n",
    "df.groupby([\"column1\"]).aggregate({\"Sales\":\"sum\", \"bill_id\":\"count\"}).reset_index()"
   ]
  },
  {
   "cell_type": "code",
   "execution_count": null,
   "id": "7b16a656",
   "metadata": {},
   "outputs": [],
   "source": [
    "# 2. 分组时设置索引\n",
    "df.groupby([\"column1\"],as_index = False).count()"
   ]
  },
  {
   "cell_type": "code",
   "execution_count": null,
   "id": "9654ab3a",
   "metadata": {},
   "outputs": [],
   "source": []
  },
  {
   "cell_type": "markdown",
   "id": "1799ac0d",
   "metadata": {},
   "source": [
    "# 4. 数据透视表"
   ]
  },
  {
   "cell_type": "code",
   "execution_count": null,
   "id": "1ad5c228",
   "metadata": {},
   "outputs": [],
   "source": [
    "pandas.pivot_table(data,\n",
    "                   values = None, # 后面要被运算的值\n",
    "                   index = None, # 行：按什么groupby\n",
    "                   columns = None, # 列：要放什么字段\n",
    "                   aggfunc = \"mean\", # 计算函数\n",
    "                   fill_value = None, # 表里的NaN填什么\n",
    "                   margins = False, # 控制： 总计是否显示\n",
    "                   dropna = True,\n",
    "                   margins_name = \"总计\" # 控制总计的名字\n",
    "                  ) "
   ]
  },
  {
   "cell_type": "code",
   "execution_count": null,
   "id": "0deb599e",
   "metadata": {},
   "outputs": [],
   "source": [
    "pandas.pivot_table(df,\n",
    "                  values = [\"7月Sale\",\"8月Sale\"],\n",
    "                  index = [\"省份\",\"客户分类\"]，\n",
    "                  columns = \"是否省会\",\n",
    "                  aggfunc = \"mean\")"
   ]
  },
  {
   "cell_type": "code",
   "execution_count": null,
   "id": "d41886bc",
   "metadata": {},
   "outputs": [],
   "source": [
    "pd.pivot_table(df,\n",
    "              values = [\"7月Sale\",\"8月Sale\"],\n",
    "              index = [\"省份\",\"客户分类\"],\n",
    "              columns = \"是否省会\",\n",
    "               aggfunc = \"sum\",\n",
    "               fill_value = 0）\n"
   ]
  },
  {
   "cell_type": "code",
   "execution_count": null,
   "id": "64a8b858",
   "metadata": {},
   "outputs": [],
   "source": []
  },
  {
   "cell_type": "code",
   "execution_count": null,
   "id": "95ec7cfc",
   "metadata": {},
   "outputs": [],
   "source": []
  },
  {
   "cell_type": "code",
   "execution_count": null,
   "id": "756d7db3",
   "metadata": {},
   "outputs": [],
   "source": []
  },
  {
   "cell_type": "code",
   "execution_count": null,
   "id": "78c33bb3",
   "metadata": {},
   "outputs": [],
   "source": []
  },
  {
   "cell_type": "code",
   "execution_count": null,
   "id": "b92dfa52",
   "metadata": {},
   "outputs": [],
   "source": []
  },
  {
   "cell_type": "code",
   "execution_count": null,
   "id": "c696123a",
   "metadata": {},
   "outputs": [],
   "source": []
  },
  {
   "cell_type": "code",
   "execution_count": null,
   "id": "8b1fc3b1",
   "metadata": {},
   "outputs": [],
   "source": []
  },
  {
   "cell_type": "code",
   "execution_count": null,
   "id": "7996803c",
   "metadata": {},
   "outputs": [],
   "source": []
  },
  {
   "cell_type": "code",
   "execution_count": null,
   "id": "f72c00b0",
   "metadata": {},
   "outputs": [],
   "source": []
  },
  {
   "cell_type": "code",
   "execution_count": null,
   "id": "6df89d75",
   "metadata": {},
   "outputs": [],
   "source": []
  },
  {
   "cell_type": "code",
   "execution_count": null,
   "id": "2e8988d4",
   "metadata": {},
   "outputs": [],
   "source": []
  }
 ],
 "metadata": {
  "kernelspec": {
   "display_name": "Python 3 (ipykernel)",
   "language": "python",
   "name": "python3"
  },
  "language_info": {
   "codemirror_mode": {
    "name": "ipython",
    "version": 3
   },
   "file_extension": ".py",
   "mimetype": "text/x-python",
   "name": "python",
   "nbconvert_exporter": "python",
   "pygments_lexer": "ipython3",
   "version": "3.9.13"
  }
 },
 "nbformat": 4,
 "nbformat_minor": 5
}
