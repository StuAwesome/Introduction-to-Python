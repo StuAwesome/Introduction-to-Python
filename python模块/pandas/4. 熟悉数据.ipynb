{
 "cells": [
  {
   "cell_type": "markdown",
   "id": "9a4819c8",
   "metadata": {},
   "source": [
    "# 查看"
   ]
  },
  {
   "cell_type": "code",
   "execution_count": null,
   "id": "40974968",
   "metadata": {},
   "outputs": [],
   "source": [
    "df.head() # 查看前几行\n",
    "df.head(2)"
   ]
  },
  {
   "cell_type": "code",
   "execution_count": null,
   "id": "8736c7c3",
   "metadata": {},
   "outputs": [],
   "source": [
    "df.tail() # 查看后几行"
   ]
  },
  {
   "cell_type": "code",
   "execution_count": null,
   "id": "3164c633",
   "metadata": {},
   "outputs": [],
   "source": [
    "df.shape # 查看行数和列数"
   ]
  },
  {
   "cell_type": "code",
   "execution_count": null,
   "id": "49922bd9",
   "metadata": {},
   "outputs": [],
   "source": [
    "df.info() # 查看文件information"
   ]
  },
  {
   "cell_type": "code",
   "execution_count": null,
   "id": "717e5cad",
   "metadata": {},
   "outputs": [],
   "source": [
    "df.describe() # 查看文件所有数值类型的指标"
   ]
  },
  {
   "cell_type": "markdown",
   "id": "f330db47",
   "metadata": {},
   "source": [
    "* `to_string()`用于返回 DataFrame 类型的数据，如果不使用该函数，则输出结果为数据的前面 5 行和末尾 5 行，中间部分以 ... 代替。"
   ]
  },
  {
   "cell_type": "code",
   "execution_count": null,
   "id": "83a11969",
   "metadata": {},
   "outputs": [],
   "source": [
    "# 查看全部数据\n",
    "import pandas as pd\n",
    "df = pd.read_csv('nba.csv')\n",
    "# 用于返回 DataFrame 类型的数据，如果不使用该函数，则输出结果为数据的前面 5 行和末尾 5 行，中间部分以 ... 代替。\n",
    "print(df.to_string())"
   ]
  },
  {
   "cell_type": "markdown",
   "id": "d271f927",
   "metadata": {},
   "source": [
    "# 保存"
   ]
  },
  {
   "cell_type": "code",
   "execution_count": 2,
   "id": "f5c9acb2",
   "metadata": {},
   "outputs": [
    {
     "data": {
      "text/html": [
       "<div>\n",
       "<style scoped>\n",
       "    .dataframe tbody tr th:only-of-type {\n",
       "        vertical-align: middle;\n",
       "    }\n",
       "\n",
       "    .dataframe tbody tr th {\n",
       "        vertical-align: top;\n",
       "    }\n",
       "\n",
       "    .dataframe thead th {\n",
       "        text-align: right;\n",
       "    }\n",
       "</style>\n",
       "<table border=\"1\" class=\"dataframe\">\n",
       "  <thead>\n",
       "    <tr style=\"text-align: right;\">\n",
       "      <th></th>\n",
       "      <th>name</th>\n",
       "      <th>site</th>\n",
       "      <th>age</th>\n",
       "    </tr>\n",
       "  </thead>\n",
       "  <tbody>\n",
       "    <tr>\n",
       "      <th>0</th>\n",
       "      <td>Google</td>\n",
       "      <td>www.google.com</td>\n",
       "      <td>90</td>\n",
       "    </tr>\n",
       "    <tr>\n",
       "      <th>1</th>\n",
       "      <td>Runoob</td>\n",
       "      <td>www.runoob.com</td>\n",
       "      <td>40</td>\n",
       "    </tr>\n",
       "    <tr>\n",
       "      <th>2</th>\n",
       "      <td>Taobao</td>\n",
       "      <td>www.taobao.com</td>\n",
       "      <td>80</td>\n",
       "    </tr>\n",
       "    <tr>\n",
       "      <th>3</th>\n",
       "      <td>Wiki</td>\n",
       "      <td>www.wikipedia.org</td>\n",
       "      <td>98</td>\n",
       "    </tr>\n",
       "  </tbody>\n",
       "</table>\n",
       "</div>"
      ],
      "text/plain": [
       "     name               site  age\n",
       "0  Google     www.google.com   90\n",
       "1  Runoob     www.runoob.com   40\n",
       "2  Taobao     www.taobao.com   80\n",
       "3    Wiki  www.wikipedia.org   98"
      ]
     },
     "execution_count": 2,
     "metadata": {},
     "output_type": "execute_result"
    }
   ],
   "source": [
    "import pandas as pd \n",
    "   \n",
    "# 三个字段 name, site, age\n",
    "nme = [\"Google\", \"Runoob\", \"Taobao\", \"Wiki\"]\n",
    "st = [\"www.google.com\", \"www.runoob.com\", \"www.taobao.com\", \"www.wikipedia.org\"]\n",
    "ag = [90, 40, 80, 98]\n",
    "   \n",
    "# 字典\n",
    "dict = {'name': nme, 'site': st, 'age': ag} \n",
    "     \n",
    "df = pd.DataFrame(dict)\n",
    "df\n",
    "# 保存 dataframe\n",
    "# df.to_csv('site.csv')"
   ]
  },
  {
   "cell_type": "code",
   "execution_count": null,
   "id": "9e04872e",
   "metadata": {},
   "outputs": [],
   "source": []
  }
 ],
 "metadata": {
  "kernelspec": {
   "display_name": "Python 3 (ipykernel)",
   "language": "python",
   "name": "python3"
  },
  "language_info": {
   "codemirror_mode": {
    "name": "ipython",
    "version": 3
   },
   "file_extension": ".py",
   "mimetype": "text/x-python",
   "name": "python",
   "nbconvert_exporter": "python",
   "pygments_lexer": "ipython3",
   "version": "3.9.13"
  }
 },
 "nbformat": 4,
 "nbformat_minor": 5
}
