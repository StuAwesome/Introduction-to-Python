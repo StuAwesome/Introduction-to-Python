{
 "cells": [
  {
   "cell_type": "markdown",
   "id": "cddcae55",
   "metadata": {
    "toc": true
   },
   "source": []
  },
  {
   "cell_type": "markdown",
   "id": "fd7cada6",
   "metadata": {},
   "source": [
    "# 1. 时间模块\n",
    "* time模块是最原始的模块\n",
    "* datetime是对time模块进行了封装，提供了更多的方法"
   ]
  },
  {
   "cell_type": "code",
   "execution_count": 2,
   "id": "25780488",
   "metadata": {},
   "outputs": [
    {
     "ename": "NameError",
     "evalue": "name 'datetime' is not defined",
     "output_type": "error",
     "traceback": [
      "\u001b[0;31m---------------------------------------------------------------------------\u001b[0m",
      "\u001b[0;31mNameError\u001b[0m                                 Traceback (most recent call last)",
      "\u001b[0;32m/var/folders/dq/vyz01f_d6_9554rf0l07d8p00000gn/T/ipykernel_20312/1187644819.py\u001b[0m in \u001b[0;36m<module>\u001b[0;34m\u001b[0m\n\u001b[1;32m      1\u001b[0m \u001b[0;32mimport\u001b[0m \u001b[0mdatetime\u001b[0m \u001b[0;32mas\u001b[0m \u001b[0mdt\u001b[0m\u001b[0;34m\u001b[0m\u001b[0;34m\u001b[0m\u001b[0m\n\u001b[0;32m----> 2\u001b[0;31m \u001b[0mdatetime\u001b[0m\u001b[0;34m.\u001b[0m\u001b[0mnow\u001b[0m\u001b[0;34m(\u001b[0m\u001b[0;34m)\u001b[0m\u001b[0;34m\u001b[0m\u001b[0;34m\u001b[0m\u001b[0m\n\u001b[0m",
      "\u001b[0;31mNameError\u001b[0m: name 'datetime' is not defined"
     ]
    }
   ],
   "source": [
    "import datetime as dt\n",
    "datetime.now()"
   ]
  },
  {
   "cell_type": "code",
   "execution_count": 47,
   "id": "6b11014e",
   "metadata": {},
   "outputs": [
    {
     "data": {
      "text/plain": [
       "1"
      ]
     },
     "execution_count": 47,
     "metadata": {},
     "output_type": "execute_result"
    }
   ],
   "source": [
    "dt.MINYEAR"
   ]
  },
  {
   "cell_type": "code",
   "execution_count": 48,
   "id": "d7c78417",
   "metadata": {},
   "outputs": [
    {
     "data": {
      "text/plain": [
       "['MAXYEAR',\n",
       " 'MINYEAR',\n",
       " '__all__',\n",
       " '__builtins__',\n",
       " '__cached__',\n",
       " '__doc__',\n",
       " '__file__',\n",
       " '__loader__',\n",
       " '__name__',\n",
       " '__package__',\n",
       " '__spec__',\n",
       " 'date',\n",
       " 'datetime',\n",
       " 'datetime_CAPI',\n",
       " 'sys',\n",
       " 'time',\n",
       " 'timedelta',\n",
       " 'timezone',\n",
       " 'tzinfo']"
      ]
     },
     "execution_count": 48,
     "metadata": {},
     "output_type": "execute_result"
    }
   ],
   "source": [
    "dir(dt)"
   ]
  },
  {
   "cell_type": "code",
   "execution_count": 52,
   "id": "4cd7dfda",
   "metadata": {},
   "outputs": [
    {
     "ename": "TypeError",
     "evalue": "getattr expected at least 2 arguments, got 1",
     "output_type": "error",
     "traceback": [
      "\u001b[0;31m---------------------------------------------------------------------------\u001b[0m",
      "\u001b[0;31mTypeError\u001b[0m                                 Traceback (most recent call last)",
      "\u001b[0;32m/var/folders/dq/vyz01f_d6_9554rf0l07d8p00000gn/T/ipykernel_19315/2279718927.py\u001b[0m in \u001b[0;36m<module>\u001b[0;34m\u001b[0m\n\u001b[0;32m----> 1\u001b[0;31m \u001b[0mgetattr\u001b[0m\u001b[0;34m(\u001b[0m\u001b[0mdt\u001b[0m\u001b[0;34m)\u001b[0m\u001b[0;34m\u001b[0m\u001b[0;34m\u001b[0m\u001b[0m\n\u001b[0m",
      "\u001b[0;31mTypeError\u001b[0m: getattr expected at least 2 arguments, got 1"
     ]
    }
   ],
   "source": [
    "getattr(dt)"
   ]
  },
  {
   "cell_type": "code",
   "execution_count": 50,
   "id": "1e4c8f0a",
   "metadata": {},
   "outputs": [
    {
     "name": "stdout",
     "output_type": "stream",
     "text": [
      "['date', 'datetime', 'time', 'timedelta', 'timezone', 'tzinfo']\n"
     ]
    }
   ],
   "source": [
    "\n",
    "\n",
    "# 获取module中所有属性和方法的列表\n",
    "module_contents = dir(dt)\n",
    "\n",
    "# 筛选出类名 type类型就是类\n",
    "class_names = [name for name in module_contents if isinstance(getattr(dt, name), type)]\n",
    "\n",
    "# 输出所有类名\n",
    "print(class_names)\n"
   ]
  },
  {
   "cell_type": "code",
   "execution_count": 6,
   "id": "87841971",
   "metadata": {},
   "outputs": [
    {
     "name": "stdout",
     "output_type": "stream",
     "text": [
      "Collecting package metadata (current_repodata.json): done\n",
      "Solving environment: done\n",
      "\n",
      "## Package Plan ##\n",
      "\n",
      "  environment location: /opt/anaconda3\n",
      "\n",
      "  added / updated specs:\n",
      "    - jupyter_contrib_nbextensions\n",
      "\n",
      "\n",
      "The following packages will be downloaded:\n",
      "\n",
      "    package                    |            build\n",
      "    ---------------------------|-----------------\n",
      "    jupyter_contrib_core-0.4.0 |     pyhd8ed1ab_0          18 KB  conda-forge\n",
      "    jupyter_contrib_nbextensions-0.7.0|     pyhd8ed1ab_0        20.4 MB  conda-forge\n",
      "    jupyter_highlight_selected_word-0.2.0|py39h6e9494a_1005          15 KB  conda-forge\n",
      "    jupyter_latex_envs-1.4.6   |  pyhd8ed1ab_1002         735 KB  conda-forge\n",
      "    jupyter_nbextensions_configurator-0.6.1|     pyhd8ed1ab_0         450 KB  conda-forge\n",
      "    python_abi-3.9             |           2_cp39           4 KB  conda-forge\n",
      "    ------------------------------------------------------------\n",
      "                                           Total:        21.6 MB\n",
      "\n",
      "The following NEW packages will be INSTALLED:\n",
      "\n",
      "  jupyter_contrib_c~ conda-forge/noarch::jupyter_contrib_core-0.4.0-pyhd8ed1ab_0 \n",
      "  jupyter_contrib_n~ conda-forge/noarch::jupyter_contrib_nbextensions-0.7.0-pyhd8ed1ab_0 \n",
      "  jupyter_highlight~ conda-forge/osx-64::jupyter_highlight_selected_word-0.2.0-py39h6e9494a_1005 \n",
      "  jupyter_latex_envs conda-forge/noarch::jupyter_latex_envs-1.4.6-pyhd8ed1ab_1002 \n",
      "  jupyter_nbextensi~ conda-forge/noarch::jupyter_nbextensions_configurator-0.6.1-pyhd8ed1ab_0 \n",
      "  python_abi         conda-forge/osx-64::python_abi-3.9-2_cp39 \n",
      "\n",
      "\n",
      "\n",
      "Downloading and Extracting Packages\n",
      "jupyter_latex_envs-1 | 735 KB    |                                       |   0% \n",
      "jupyter_highlight_se | 15 KB     |                                       |   0% \u001b[A\n",
      "\n",
      "python_abi-3.9       | 4 KB      |                                       |   0% \u001b[A\u001b[A\n",
      "\n",
      "\n",
      "jupyter_nbextensions | 450 KB    |                                       |   0% \u001b[A\u001b[A\u001b[A\n",
      "\n",
      "\n",
      "\n",
      "jupyter_contrib_nbex | 20.4 MB   |                                       |   0% \u001b[A\u001b[A\u001b[A\u001b[A\n",
      "\n",
      "\n",
      "\n",
      "\n",
      "jupyter_contrib_core | 18 KB     |                                       |   0% \u001b[A\u001b[A\u001b[A\u001b[A\u001b[A\n",
      "\n",
      "\n",
      "jupyter_nbextensions | 450 KB    | #3                                    |   4% \u001b[A\u001b[A\u001b[A\n",
      "\n",
      "python_abi-3.9       | 4 KB      | ##################################### | 100% \u001b[A\u001b[A\n",
      "jupyter_highlight_se | 15 KB     | ##################################### | 100% \u001b[A\n",
      "\n",
      "python_abi-3.9       | 4 KB      | ##################################### | 100% \u001b[A\u001b[A\n",
      "jupyter_highlight_se | 15 KB     | ##################################### | 100% \u001b[A\n",
      "\n",
      "\n",
      "\n",
      "\n",
      "jupyter_latex_envs-1 | 735 KB    | 8                                     |   2% \u001b[A\u001b[A\u001b[A\u001b[A\u001b[A\n",
      "\n",
      "\n",
      "\n",
      "\n",
      "jupyter_contrib_core | 18 KB     | ##################################### | 100% \u001b[A\u001b[A\u001b[A\u001b[A\u001b[A\n",
      "\n",
      "\n",
      "\n",
      "jupyter_latex_envs-1 | 735 KB    | #########################7            |  70% \u001b[A\u001b[A\u001b[A\u001b[A\n",
      "\n",
      "\n",
      "\n",
      "jupyter_contrib_nbex | 20.4 MB   | 9                                     |   3% \u001b[A\u001b[A\u001b[A\u001b[A\n",
      "\n",
      "\n",
      "jupyter_nbextensions | 450 KB    | ##################################1   |  92% \u001b[A\u001b[A\u001b[A\n",
      "\n",
      "\n",
      "\n",
      "jupyter_contrib_nbex | 20.4 MB   | #5                                    |   4% \u001b[A\u001b[A\u001b[A\u001b[A\n",
      "\n",
      "\n",
      "jupyter_nbextensions | 450 KB    | ##################################### | 100% \u001b[A\u001b[A\u001b[A\n",
      "\n",
      "\n",
      "\n",
      "jupyter_latex_envs-1 | 735 KB    | ##################################### | 100% \u001b[A\u001b[A\u001b[A\u001b[A\n",
      "\n",
      "\n",
      "\n",
      "jupyter_contrib_nbex | 20.4 MB   | #######7                              |  21% \u001b[A\u001b[A\u001b[A\u001b[A\n",
      "\n",
      "\n",
      "\n",
      "jupyter_contrib_nbex | 20.4 MB   | ###########7                          |  32% \u001b[A\u001b[A\u001b[A\u001b[A\n",
      "\n",
      "\n",
      "\n",
      "jupyter_contrib_nbex | 20.4 MB   | ###############5                      |  42% \u001b[A\u001b[A\u001b[A\u001b[A\n",
      "\n",
      "\n",
      "\n",
      "jupyter_contrib_nbex | 20.4 MB   | ##################1                   |  49% \u001b[A\u001b[A\u001b[A\u001b[A\n",
      "\n",
      "\n",
      "\n",
      "jupyter_contrib_nbex | 20.4 MB   | ####################3                 |  55% \u001b[A\u001b[A\u001b[A\u001b[A\n",
      "\n",
      "\n",
      "\n",
      "jupyter_contrib_nbex | 20.4 MB   | #######################               |  62% \u001b[A\u001b[A\u001b[A\u001b[A\n",
      "\n",
      "\n",
      "\n",
      "jupyter_contrib_nbex | 20.4 MB   | #########################1            |  68% \u001b[A\u001b[A\u001b[A\u001b[A\n",
      "\n",
      "\n",
      "\n",
      "jupyter_contrib_nbex | 20.4 MB   | ###########################2          |  74% \u001b[A\u001b[A\u001b[A\u001b[A\n",
      "\n",
      "\n",
      "\n",
      "jupyter_contrib_nbex | 20.4 MB   | ##############################        |  81% \u001b[A\u001b[A\u001b[A\u001b[A\n",
      "\n",
      "\n",
      "\n",
      "jupyter_contrib_nbex | 20.4 MB   | ###################################1  |  95% \u001b[A\u001b[A\u001b[A\u001b[A\n",
      "\n",
      "\n",
      "\n",
      "                                                                                \u001b[A\u001b[A\u001b[A\u001b[A\n",
      "                                                                                \u001b[A\n",
      "\n",
      "                                                                                \u001b[A\u001b[A\n",
      "\n",
      "\n",
      "                                                                                \u001b[A\u001b[A\u001b[A\n",
      "\n",
      "\n",
      "\n",
      "                                                                                \u001b[A\u001b[A\u001b[A\u001b[A\n",
      "\n",
      "\n",
      "\n",
      "\n",
      "                                                                                \u001b[A\u001b[A\u001b[A\u001b[A\u001b[A\n",
      "Preparing transaction: done\n",
      "Verifying transaction: done\n",
      "Executing transaction: \\ \n",
      "\\ \n",
      "| Enabling: jupyter_nbextensions_configurator\n",
      "- Writing config: /opt/anaconda3/etc/jupyter\n",
      "    - Validating...\n",
      "      jupyter_nbextensions_configurator 0.6.1 \u001b[32mOK\u001b[0m\n",
      "Enabling notebook nbextension nbextensions_configurator/config_menu/main...\n",
      "Enabling tree nbextension nbextensions_configurator/tree_tab/main...\n",
      "\n",
      "| [I 17:30:09 InstallContribNbextensionsApp] jupyter contrib nbextension install --sys-prefix\n",
      "[I 17:30:09 InstallContribNbextensionsApp] Installing jupyter_contrib_nbextensions nbextension files to jupyter data directory\n",
      "[I 17:30:09 InstallContribNbextensionsApp] Installing /opt/anaconda3/lib/python3.9/site-packages/jupyter_contrib_nbextensions/nbextensions/rubberband -> rubberband\n",
      "[I 17:30:09 InstallContribNbextensionsApp] Making directory: /opt/anaconda3/share/jupyter/nbextensions/rubberband/\n",
      "[I 17:30:09 InstallContribNbextensionsApp] Copying: /opt/anaconda3/lib/python3.9/site-packages/jupyter_contrib_nbextensions/nbextensions/rubberband/icon.png -> /opt/anaconda3/share/jupyter/nbextensions/rubberband/icon.png\n",
      "[I 17:30:09 InstallContribNbextensionsApp] Copying: /opt/anaconda3/lib/python3.9/site-packages/jupyter_contrib_nbextensions/nbextensions/rubberband/main.css -> /opt/anaconda3/share/jupyter/nbextensions/rubberband/main.css\n",
      "[I 17:30:09 InstallContribNbextensionsApp] Copying: /opt/anaconda3/lib/python3.9/site-packages/jupyter_contrib_nbextensions/nbextensions/rubberband/readme.md -> /opt/anaconda3/share/jupyter/nbextensions/rubberband/readme.md\n",
      "[I 17:30:09 InstallContribNbextensionsApp] Copying: /opt/anaconda3/lib/python3.9/site-packages/jupyter_contrib_nbextensions/nbextensions/rubberband/main.js -> /opt/anaconda3/share/jupyter/nbextensions/rubberband/main.js\n",
      "[I 17:30:09 InstallContribNbextensionsApp] Copying: /opt/anaconda3/lib/python3.9/site-packages/jupyter_contrib_nbextensions/nbextensions/rubberband/rubberband.yaml -> /opt/anaconda3/share/jupyter/nbextensions/rubberband/rubberband.yaml\n",
      "[I 17:30:09 InstallContribNbextensionsApp] - Validating: \u001b[32mOK\u001b[0m\n",
      "[I 17:30:09 InstallContribNbextensionsApp] Installing /opt/anaconda3/lib/python3.9/site-packages/jupyter_contrib_nbextensions/nbextensions/scroll_down -> scroll_down\n",
      "[I 17:30:09 InstallContribNbextensionsApp] Making directory: /opt/anaconda3/share/jupyter/nbextensions/scroll_down/\n",
      "[I 17:30:09 InstallContribNbextensionsApp] Copying: /opt/anaconda3/lib/python3.9/site-packages/jupyter_contrib_nbextensions/nbextensions/scroll_down/icon.png -> /opt/anaconda3/share/jupyter/nbextensions/scroll_down/icon.png\n",
      "[I 17:30:09 InstallContribNbextensionsApp] Copying: /opt/anaconda3/lib/python3.9/site-packages/jupyter_contrib_nbextensions/nbextensions/scroll_down/config.yaml -> /opt/anaconda3/share/jupyter/nbextensions/scroll_down/config.yaml\n",
      "[I 17:30:09 InstallContribNbextensionsApp] Copying: /opt/anaconda3/lib/python3.9/site-packages/jupyter_contrib_nbextensions/nbextensions/scroll_down/readme.md -> /opt/anaconda3/share/jupyter/nbextensions/scroll_down/readme.md\n",
      "[I 17:30:09 InstallContribNbextensionsApp] Copying: /opt/anaconda3/lib/python3.9/site-packages/jupyter_contrib_nbextensions/nbextensions/scroll_down/main.js -> /opt/anaconda3/share/jupyter/nbextensions/scroll_down/main.js\n",
      "[I 17:30:09 InstallContribNbextensionsApp] - Validating: \u001b[32mOK\u001b[0m\n",
      "[I 17:30:09 InstallContribNbextensionsApp] Installing /opt/anaconda3/lib/python3.9/site-packages/jupyter_contrib_nbextensions/nbextensions/hinterland -> hinterland\n",
      "[I 17:30:09 InstallContribNbextensionsApp] Making directory: /opt/anaconda3/share/jupyter/nbextensions/hinterland/\n",
      "[I 17:30:09 InstallContribNbextensionsApp] Copying: /opt/anaconda3/lib/python3.9/site-packages/jupyter_contrib_nbextensions/nbextensions/hinterland/hinterland.yaml -> /opt/anaconda3/share/jupyter/nbextensions/hinterland/hinterland.yaml\n",
      "[I 17:30:09 InstallContribNbextensionsApp] Copying: /opt/anaconda3/lib/python3.9/site-packages/jupyter_contrib_nbextensions/nbextensions/hinterland/hinterland.js -> /opt/anaconda3/share/jupyter/nbextensions/hinterland/hinterland.js\n",
      "[I 17:30:09 InstallContribNbextensionsApp] Copying: /opt/anaconda3/lib/python3.9/site-packages/jupyter_contrib_nbextensions/nbextensions/hinterland/README.md -> /opt/anaconda3/share/jupyter/nbextensions/hinterland/README.md\n",
      "[I 17:30:09 InstallContribNbextensionsApp] - Validating: \u001b[32mOK\u001b[0m\n",
      "[I 17:30:09 InstallContribNbextensionsApp] Installing /opt/anaconda3/lib/python3.9/site-packages/jupyter_contrib_nbextensions/nbextensions/snippets -> snippets\n",
      "[I 17:30:09 InstallContribNbextensionsApp] Making directory: /opt/anaconda3/share/jupyter/nbextensions/snippets/\n",
      "[I 17:30:09 InstallContribNbextensionsApp] Copying: /opt/anaconda3/lib/python3.9/site-packages/jupyter_contrib_nbextensions/nbextensions/snippets/snippets.yaml -> /opt/anaconda3/share/jupyter/nbextensions/snippets/snippets.yaml\n",
      "[I 17:30:09 InstallContribNbextensionsApp] Copying: /opt/anaconda3/lib/python3.9/site-packages/jupyter_contrib_nbextensions/nbextensions/snippets/snippets.json -> /opt/anaconda3/share/jupyter/nbextensions/snippets/snippets.json\n",
      "[I 17:30:09 InstallContribNbextensionsApp] Copying: /opt/anaconda3/lib/python3.9/site-packages/jupyter_contrib_nbextensions/nbextensions/snippets/README.md -> /opt/anaconda3/share/jupyter/nbextensions/snippets/README.md\n",
      "[I 17:30:09 InstallContribNbextensionsApp] Copying: /opt/anaconda3/lib/python3.9/site-packages/jupyter_contrib_nbextensions/nbextensions/snippets/main.js -> /opt/anaconda3/share/jupyter/nbextensions/snippets/main.js\n",
      "[I 17:30:09 InstallContribNbextensionsApp] Copying: /opt/anaconda3/lib/python3.9/site-packages/jupyter_contrib_nbextensions/nbextensions/snippets/snippets-demo.gif -> /opt/anaconda3/share/jupyter/nbextensions/snippets/snippets-demo.gif\n",
      "[I 17:30:09 InstallContribNbextensionsApp] - Validating: \u001b[32mOK\u001b[0m\n",
      "[I 17:30:09 InstallContribNbextensionsApp] Installing /opt/anaconda3/lib/python3.9/site-packages/jupyter_contrib_nbextensions/nbextensions/toggle_all_line_numbers -> toggle_all_line_numbers\n",
      "[I 17:30:09 InstallContribNbextensionsApp] Making directory: /opt/anaconda3/share/jupyter/nbextensions/toggle_all_line_numbers/\n",
      "[I 17:30:09 InstallContribNbextensionsApp] Copying: /opt/anaconda3/lib/python3.9/site-packages/jupyter_contrib_nbextensions/nbextensions/toggle_all_line_numbers/icon.png -> /opt/anaconda3/share/jupyter/nbextensions/toggle_all_line_numbers/icon.png\n",
      "[I 17:30:09 InstallContribNbextensionsApp] Copying: /opt/anaconda3/lib/python3.9/site-packages/jupyter_contrib_nbextensions/nbextensions/toggle_all_line_numbers/main.yaml -> /opt/anaconda3/share/jupyter/nbextensions/toggle_all_line_numbers/main.yaml\n",
      "[I 17:30:09 InstallContribNbextensionsApp] Copying: /opt/anaconda3/lib/python3.9/site-packages/jupyter_contrib_nbextensions/nbextensions/toggle_all_line_numbers/readme.md -> /opt/anaconda3/share/jupyter/nbextensions/toggle_all_line_numbers/readme.md\n",
      "[I 17:30:09 InstallContribNbextensionsApp] Copying: /opt/anaconda3/lib/python3.9/site-packages/jupyter_contrib_nbextensions/nbextensions/toggle_all_line_numbers/main.js -> /opt/anaconda3/share/jupyter/nbextensions/toggle_all_line_numbers/main.js\n",
      "[I 17:30:09 InstallContribNbextensionsApp] - Validating: \u001b[32mOK\u001b[0m\n",
      "[I 17:30:09 InstallContribNbextensionsApp] Installing /opt/anaconda3/lib/python3.9/site-packages/jupyter_contrib_nbextensions/nbextensions/notify -> notify\n",
      "[I 17:30:09 InstallContribNbextensionsApp] Making directory: /opt/anaconda3/share/jupyter/nbextensions/notify/\n",
      "[I 17:30:09 InstallContribNbextensionsApp] Copying: /opt/anaconda3/lib/python3.9/site-packages/jupyter_contrib_nbextensions/nbextensions/notify/notify.js -> /opt/anaconda3/share/jupyter/nbextensions/notify/notify.js\n",
      "[I 17:30:09 InstallContribNbextensionsApp] Copying: /opt/anaconda3/lib/python3.9/site-packages/jupyter_contrib_nbextensions/nbextensions/notify/notify.mp3 -> /opt/anaconda3/share/jupyter/nbextensions/notify/notify.mp3\n",
      "[I 17:30:09 InstallContribNbextensionsApp] Copying: /opt/anaconda3/lib/python3.9/site-packages/jupyter_contrib_nbextensions/nbextensions/notify/readme.md -> /opt/anaconda3/share/jupyter/nbextensions/notify/readme.md\n",
      "[I 17:30:09 InstallContribNbextensionsApp] Copying: /opt/anaconda3/lib/python3.9/site-packages/jupyter_contrib_nbextensions/nbextensions/notify/notify.yaml -> /opt/anaconda3/share/jupyter/nbextensions/notify/notify.yaml\n",
      "[I 17:30:09 InstallContribNbextensionsApp] Copying: /opt/anaconda3/lib/python3.9/site-packages/jupyter_contrib_nbextensions/nbextensions/notify/notification.png -> /opt/anaconda3/share/jupyter/nbextensions/notify/notification.png\n",
      "[I 17:30:09 InstallContribNbextensionsApp] - Validating: \u001b[32mOK\u001b[0m\n",
      "[I 17:30:09 InstallContribNbextensionsApp] Installing /opt/anaconda3/lib/python3.9/site-packages/jupyter_contrib_nbextensions/nbextensions/runtools -> runtools\n",
      "[I 17:30:09 InstallContribNbextensionsApp] Making directory: /opt/anaconda3/share/jupyter/nbextensions/runtools/\n",
      "[I 17:30:09 InstallContribNbextensionsApp] Copying: /opt/anaconda3/lib/python3.9/site-packages/jupyter_contrib_nbextensions/nbextensions/runtools/cellstate.js -> /opt/anaconda3/share/jupyter/nbextensions/runtools/cellstate.js\n",
      "[I 17:30:09 InstallContribNbextensionsApp] Copying: /opt/anaconda3/lib/python3.9/site-packages/jupyter_contrib_nbextensions/nbextensions/runtools/icon.png -> /opt/anaconda3/share/jupyter/nbextensions/runtools/icon.png\n",
      "[I 17:30:09 InstallContribNbextensionsApp] Copying: /opt/anaconda3/lib/python3.9/site-packages/jupyter_contrib_nbextensions/nbextensions/runtools/runtools_execute.png -> /opt/anaconda3/share/jupyter/nbextensions/runtools/runtools_execute.png\n",
      "[I 17:30:09 InstallContribNbextensionsApp] Copying: /opt/anaconda3/lib/python3.9/site-packages/jupyter_contrib_nbextensions/nbextensions/runtools/annotations.odg -> /opt/anaconda3/share/jupyter/nbextensions/runtools/annotations.odg\n",
      "[I 17:30:09 InstallContribNbextensionsApp] Copying: /opt/anaconda3/lib/python3.9/site-packages/jupyter_contrib_nbextensions/nbextensions/runtools/runtools.yaml -> /opt/anaconda3/share/jupyter/nbextensions/runtools/runtools.yaml\n",
      "[I 17:30:09 InstallContribNbextensionsApp] Copying: /opt/anaconda3/lib/python3.9/site-packages/jupyter_contrib_nbextensions/nbextensions/runtools/main.css -> /opt/anaconda3/share/jupyter/nbextensions/runtools/main.css\n",
      "[I 17:30:09 InstallContribNbextensionsApp] Copying: /opt/anaconda3/lib/python3.9/site-packages/jupyter_contrib_nbextensions/nbextensions/runtools/runtools_nb.png -> /opt/anaconda3/share/jupyter/nbextensions/runtools/runtools_nb.png\n",
      "[I 17:30:09 InstallContribNbextensionsApp] Copying: /opt/anaconda3/lib/python3.9/site-packages/jupyter_contrib_nbextensions/nbextensions/runtools/readme.md -> /opt/anaconda3/share/jupyter/nbextensions/runtools/readme.md\n",
      "[I 17:30:09 InstallContribNbextensionsApp] Copying: /opt/anaconda3/lib/python3.9/site-packages/jupyter_contrib_nbextensions/nbextensions/runtools/runtools_marker.png -> /opt/anaconda3/share/jupyter/nbextensions/runtools/runtools_marker.png\n",
      "[I 17:30:09 InstallContribNbextensionsApp] Copying: /opt/anaconda3/lib/python3.9/site-packages/jupyter_contrib_nbextensions/nbextensions/runtools/main.js -> /opt/anaconda3/share/jupyter/nbextensions/runtools/main.js\n",
      "[I 17:30:09 InstallContribNbextensionsApp] Copying: /opt/anaconda3/lib/python3.9/site-packages/jupyter_contrib_nbextensions/nbextensions/runtools/runtools_show_hide.png -> /opt/anaconda3/share/jupyter/nbextensions/runtools/runtools_show_hide.png\n",
      "[I 17:30:09 InstallContribNbextensionsApp] Copying: /opt/anaconda3/lib/python3.9/site-packages/jupyter_contrib_nbextensions/nbextensions/runtools/runtools_lock.png -> /opt/anaconda3/share/jupyter/nbextensions/runtools/runtools_lock.png\n",
      "[I 17:30:09 InstallContribNbextensionsApp] Copying: /opt/anaconda3/lib/python3.9/site-packages/jupyter_contrib_nbextensions/nbextensions/runtools/demo.gif -> /opt/anaconda3/share/jupyter/nbextensions/runtools/demo.gif\n",
      "[I 17:30:09 InstallContribNbextensionsApp] Copying: /opt/anaconda3/lib/python3.9/site-packages/jupyter_contrib_nbextensions/nbextensions/runtools/gutter.css -> /opt/anaconda3/share/jupyter/nbextensions/runtools/gutter.css\n",
      "[I 17:30:09 InstallContribNbextensionsApp] - Validating: \u001b[32mOK\u001b[0m\n",
      "[I 17:30:09 InstallContribNbextensionsApp] Installing /opt/anaconda3/lib/python3.9/site-packages/jupyter_contrib_nbextensions/nbextensions/tree-filter -> tree-filter\n",
      "[I 17:30:09 InstallContribNbextensionsApp] Making directory: /opt/anaconda3/share/jupyter/nbextensions/tree-filter/\n",
      "[I 17:30:09 InstallContribNbextensionsApp] Copying: /opt/anaconda3/lib/python3.9/site-packages/jupyter_contrib_nbextensions/nbextensions/tree-filter/tree-filter.yaml -> /opt/anaconda3/share/jupyter/nbextensions/tree-filter/tree-filter.yaml\n",
      "[I 17:30:09 InstallContribNbextensionsApp] Copying: /opt/anaconda3/lib/python3.9/site-packages/jupyter_contrib_nbextensions/nbextensions/tree-filter/index.js -> /opt/anaconda3/share/jupyter/nbextensions/tree-filter/index.js\n",
      "[I 17:30:09 InstallContribNbextensionsApp] Copying: /opt/anaconda3/lib/python3.9/site-packages/jupyter_contrib_nbextensions/nbextensions/tree-filter/readme.md -> /opt/anaconda3/share/jupyter/nbextensions/tree-filter/readme.md\n",
      "[I 17:30:09 InstallContribNbextensionsApp] Copying: /opt/anaconda3/lib/python3.9/site-packages/jupyter_contrib_nbextensions/nbextensions/tree-filter/demo.gif -> /opt/anaconda3/share/jupyter/nbextensions/tree-filter/demo.gif\n",
      "[I 17:30:09 InstallContribNbextensionsApp] - Validating: \u001b[32mOK\u001b[0m\n",
      "[I 17:30:09 InstallContribNbextensionsApp] Installing /opt/anaconda3/lib/python3.9/site-packages/jupyter_contrib_nbextensions/nbextensions/table_beautifier -> table_beautifier\n",
      "[I 17:30:09 InstallContribNbextensionsApp] Making directory: /opt/anaconda3/share/jupyter/nbextensions/table_beautifier/\n",
      "[I 17:30:09 InstallContribNbextensionsApp] Copying: /opt/anaconda3/lib/python3.9/site-packages/jupyter_contrib_nbextensions/nbextensions/table_beautifier/main.css -> /opt/anaconda3/share/jupyter/nbextensions/table_beautifier/main.css\n",
      "[I 17:30:09 InstallContribNbextensionsApp] Copying: /opt/anaconda3/lib/python3.9/site-packages/jupyter_contrib_nbextensions/nbextensions/table_beautifier/README.md -> /opt/anaconda3/share/jupyter/nbextensions/table_beautifier/README.md\n",
      "[I 17:30:09 InstallContribNbextensionsApp] Copying: /opt/anaconda3/lib/python3.9/site-packages/jupyter_contrib_nbextensions/nbextensions/table_beautifier/main.js -> /opt/anaconda3/share/jupyter/nbextensions/table_beautifier/main.js\n",
      "[I 17:30:09 InstallContribNbextensionsApp] Copying: /opt/anaconda3/lib/python3.9/site-packages/jupyter_contrib_nbextensions/nbextensions/table_beautifier/table_beautifier.yaml -> /opt/anaconda3/share/jupyter/nbextensions/table_beautifier/table_beautifier.yaml\n",
      "[I 17:30:09 InstallContribNbextensionsApp] - Validating: \u001b[32mOK\u001b[0m\n",
      "[I 17:30:09 InstallContribNbextensionsApp] Installing /opt/anaconda3/lib/python3.9/site-packages/jupyter_contrib_nbextensions/nbextensions/freeze -> freeze\n",
      "[I 17:30:09 InstallContribNbextensionsApp] Making directory: /opt/anaconda3/share/jupyter/nbextensions/freeze/\n",
      "[I 17:30:09 InstallContribNbextensionsApp] Copying: /opt/anaconda3/lib/python3.9/site-packages/jupyter_contrib_nbextensions/nbextensions/freeze/icon.png -> /opt/anaconda3/share/jupyter/nbextensions/freeze/icon.png\n",
      "[I 17:30:09 InstallContribNbextensionsApp] Copying: /opt/anaconda3/lib/python3.9/site-packages/jupyter_contrib_nbextensions/nbextensions/freeze/config.yaml -> /opt/anaconda3/share/jupyter/nbextensions/freeze/config.yaml\n",
      "[I 17:30:09 InstallContribNbextensionsApp] Copying: /opt/anaconda3/lib/python3.9/site-packages/jupyter_contrib_nbextensions/nbextensions/freeze/readme.md -> /opt/anaconda3/share/jupyter/nbextensions/freeze/readme.md\n",
      "[I 17:30:09 InstallContribNbextensionsApp] Copying: /opt/anaconda3/lib/python3.9/site-packages/jupyter_contrib_nbextensions/nbextensions/freeze/main.js -> /opt/anaconda3/share/jupyter/nbextensions/freeze/main.js\n",
      "[I 17:30:09 InstallContribNbextensionsApp] - Validating: \u001b[32mOK\u001b[0m\n",
      "[I 17:30:09 InstallContribNbextensionsApp] Installing /opt/anaconda3/lib/python3.9/site-packages/jupyter_contrib_nbextensions/nbextensions/exercise2 -> exercise2\n",
      "[I 17:30:09 InstallContribNbextensionsApp] Making directory: /opt/anaconda3/share/jupyter/nbextensions/exercise2/\n",
      "[I 17:30:09 InstallContribNbextensionsApp] Copying: /opt/anaconda3/lib/python3.9/site-packages/jupyter_contrib_nbextensions/nbextensions/exercise2/icon.png -> /opt/anaconda3/share/jupyter/nbextensions/exercise2/icon.png\n",
      "[I 17:30:09 InstallContribNbextensionsApp] Copying: /opt/anaconda3/lib/python3.9/site-packages/jupyter_contrib_nbextensions/nbextensions/exercise2/exercise2.yaml -> /opt/anaconda3/share/jupyter/nbextensions/exercise2/exercise2.yaml\n",
      "[I 17:30:09 InstallContribNbextensionsApp] Copying: /opt/anaconda3/lib/python3.9/site-packages/jupyter_contrib_nbextensions/nbextensions/exercise2/main.css -> /opt/anaconda3/share/jupyter/nbextensions/exercise2/main.css\n",
      "[I 17:30:09 InstallContribNbextensionsApp] Copying: /opt/anaconda3/lib/python3.9/site-packages/jupyter_contrib_nbextensions/nbextensions/exercise2/image.gif -> /opt/anaconda3/share/jupyter/nbextensions/exercise2/image.gif\n",
      "[I 17:30:09 InstallContribNbextensionsApp] Copying: /opt/anaconda3/lib/python3.9/site-packages/jupyter_contrib_nbextensions/nbextensions/exercise2/readme.md -> /opt/anaconda3/share/jupyter/nbextensions/exercise2/readme.md\n",
      "[I 17:30:09 InstallContribNbextensionsApp] Copying: /opt/anaconda3/lib/python3.9/site-packages/jupyter_contrib_nbextensions/nbextensions/exercise2/main.js -> /opt/anaconda3/share/jupyter/nbextensions/exercise2/main.js\n",
      "[I 17:30:09 InstallContribNbextensionsApp] - Validating: \u001b[32mOK\u001b[0m\n",
      "[I 17:30:09 InstallContribNbextensionsApp] Installing /opt/anaconda3/lib/python3.9/site-packages/jupyter_contrib_nbextensions/nbextensions/execution_dependencies -> execution_dependencies\n",
      "[I 17:30:09 InstallContribNbextensionsApp] Making directory: /opt/anaconda3/share/jupyter/nbextensions/execution_dependencies/\n",
      "[I 17:30:09 InstallContribNbextensionsApp] Copying: /opt/anaconda3/lib/python3.9/site-packages/jupyter_contrib_nbextensions/nbextensions/execution_dependencies/execution_dependencies.yml -> /opt/anaconda3/share/jupyter/nbextensions/execution_dependencies/execution_dependencies.yml\n",
      "[I 17:30:09 InstallContribNbextensionsApp] Copying: /opt/anaconda3/lib/python3.9/site-packages/jupyter_contrib_nbextensions/nbextensions/execution_dependencies/README.md -> /opt/anaconda3/share/jupyter/nbextensions/execution_dependencies/README.md\n",
      "[I 17:30:09 InstallContribNbextensionsApp] Copying: /opt/anaconda3/lib/python3.9/site-packages/jupyter_contrib_nbextensions/nbextensions/execution_dependencies/execution_dependencies.js -> /opt/anaconda3/share/jupyter/nbextensions/execution_dependencies/execution_dependencies.js\n",
      "[I 17:30:09 InstallContribNbextensionsApp] - Validating: \u001b[32mOK\u001b[0m\n",
      "[I 17:30:09 InstallContribNbextensionsApp] Installing /opt/anaconda3/lib/python3.9/site-packages/jupyter_contrib_nbextensions/nbextensions/skill -> skill\n",
      "[I 17:30:09 InstallContribNbextensionsApp] Making directory: /opt/anaconda3/share/jupyter/nbextensions/skill/\n",
      "[I 17:30:09 InstallContribNbextensionsApp] Copying: /opt/anaconda3/lib/python3.9/site-packages/jupyter_contrib_nbextensions/nbextensions/skill/skill.js -> /opt/anaconda3/share/jupyter/nbextensions/skill/skill.js\n",
      "[I 17:30:09 InstallContribNbextensionsApp] Copying: /opt/anaconda3/lib/python3.9/site-packages/jupyter_contrib_nbextensions/nbextensions/skill/README.md -> /opt/anaconda3/share/jupyter/nbextensions/skill/README.md\n",
      "[I 17:30:09 InstallContribNbextensionsApp] Copying: /opt/anaconda3/lib/python3.9/site-packages/jupyter_contrib_nbextensions/nbextensions/skill/main.js -> /opt/anaconda3/share/jupyter/nbextensions/skill/main.js\n",
      "[I 17:30:09 InstallContribNbextensionsApp] Copying: /opt/anaconda3/lib/python3.9/site-packages/jupyter_contrib_nbextensions/nbextensions/skill/skill.yaml -> /opt/anaconda3/share/jupyter/nbextensions/skill/skill.yaml\n",
      "[I 17:30:09 InstallContribNbextensionsApp] - Validating: \u001b[32mOK\u001b[0m\n",
      "[I 17:30:09 InstallContribNbextensionsApp] Installing /opt/anaconda3/lib/python3.9/site-packages/jupyter_contrib_nbextensions/nbextensions/splitcell -> splitcell\n",
      "[I 17:30:09 InstallContribNbextensionsApp] Making directory: /opt/anaconda3/share/jupyter/nbextensions/splitcell/\n",
      "[I 17:30:09 InstallContribNbextensionsApp] Copying: /opt/anaconda3/lib/python3.9/site-packages/jupyter_contrib_nbextensions/nbextensions/splitcell/icon.png -> /opt/anaconda3/share/jupyter/nbextensions/splitcell/icon.png\n",
      "[I 17:30:09 InstallContribNbextensionsApp] Copying: /opt/anaconda3/lib/python3.9/site-packages/jupyter_contrib_nbextensions/nbextensions/splitcell/readme.md -> /opt/anaconda3/share/jupyter/nbextensions/splitcell/readme.md\n",
      "[I 17:30:09 InstallContribNbextensionsApp] Copying: /opt/anaconda3/lib/python3.9/site-packages/jupyter_contrib_nbextensions/nbextensions/splitcell/splitcell.yaml -> /opt/anaconda3/share/jupyter/nbextensions/splitcell/splitcell.yaml\n",
      "[I 17:30:09 InstallContribNbextensionsApp] Copying: /opt/anaconda3/lib/python3.9/site-packages/jupyter_contrib_nbextensions/nbextensions/splitcell/splitcell.js -> /opt/anaconda3/share/jupyter/nbextensions/splitcell/splitcell.js\n",
      "[I 17:30:09 InstallContribNbextensionsApp] - Validating: \u001b[32mOK\u001b[0m\n",
      "[I 17:30:09 InstallContribNbextensionsApp] Installing /opt/anaconda3/lib/python3.9/site-packages/jupyter_contrib_nbextensions/nbextensions/autosavetime -> autosavetime\n",
      "[I 17:30:09 InstallContribNbextensionsApp] Making directory: /opt/anaconda3/share/jupyter/nbextensions/autosavetime/\n",
      "[I 17:30:09 InstallContribNbextensionsApp] Copying: /opt/anaconda3/lib/python3.9/site-packages/jupyter_contrib_nbextensions/nbextensions/autosavetime/icon.png -> /opt/anaconda3/share/jupyter/nbextensions/autosavetime/icon.png\n",
      "[I 17:30:09 InstallContribNbextensionsApp] Copying: /opt/anaconda3/lib/python3.9/site-packages/jupyter_contrib_nbextensions/nbextensions/autosavetime/README.md -> /opt/anaconda3/share/jupyter/nbextensions/autosavetime/README.md\n",
      "[I 17:30:09 InstallContribNbextensionsApp] Copying: /opt/anaconda3/lib/python3.9/site-packages/jupyter_contrib_nbextensions/nbextensions/autosavetime/autosavetime.yaml -> /opt/anaconda3/share/jupyter/nbextensions/autosavetime/autosavetime.yaml\n",
      "[I 17:30:09 InstallContribNbextensionsApp] Copying: /opt/anaconda3/lib/python3.9/site-packages/jupyter_contrib_nbextensions/nbextensions/autosavetime/main.js -> /opt/anaconda3/share/jupyter/nbextensions/autosavetime/main.js\n",
      "[I 17:30:09 InstallContribNbextensionsApp] - Validating: \u001b[32mOK\u001b[0m\n",
      "[I 17:30:09 InstallContribNbextensionsApp] Installing /opt/anaconda3/lib/python3.9/site-packages/jupyter_contrib_nbextensions/nbextensions/select_keymap -> select_keymap\n",
      "[I 17:30:09 InstallContribNbextensionsApp] Making directory: /opt/anaconda3/share/jupyter/nbextensions/select_keymap/\n",
      "[I 17:30:09 InstallContribNbextensionsApp] Copying: /opt/anaconda3/lib/python3.9/site-packages/jupyter_contrib_nbextensions/nbextensions/select_keymap/select_keymap.png -> /opt/anaconda3/share/jupyter/nbextensions/select_keymap/select_keymap.png\n",
      "[I 17:30:09 InstallContribNbextensionsApp] Copying: /opt/anaconda3/lib/python3.9/site-packages/jupyter_contrib_nbextensions/nbextensions/select_keymap/README.md -> /opt/anaconda3/share/jupyter/nbextensions/select_keymap/README.md\n",
      "[I 17:30:09 InstallContribNbextensionsApp] Copying: /opt/anaconda3/lib/python3.9/site-packages/jupyter_contrib_nbextensions/nbextensions/select_keymap/main.js -> /opt/anaconda3/share/jupyter/nbextensions/select_keymap/main.js\n",
      "[I 17:30:09 InstallContribNbextensionsApp] Copying: /opt/anaconda3/lib/python3.9/site-packages/jupyter_contrib_nbextensions/nbextensions/select_keymap/select_keymap.yaml -> /opt/anaconda3/share/jupyter/nbextensions/select_keymap/select_keymap.yaml\n",
      "[I 17:30:09 InstallContribNbextensionsApp] - Validating: \u001b[32mOK\u001b[0m\n",
      "[I 17:30:09 InstallContribNbextensionsApp] Installing /opt/anaconda3/lib/python3.9/site-packages/jupyter_contrib_nbextensions/nbextensions/livemdpreview -> livemdpreview\n",
      "[I 17:30:09 InstallContribNbextensionsApp] Making directory: /opt/anaconda3/share/jupyter/nbextensions/livemdpreview/\n",
      "[I 17:30:09 InstallContribNbextensionsApp] Copying: /opt/anaconda3/lib/python3.9/site-packages/jupyter_contrib_nbextensions/nbextensions/livemdpreview/livemdpreview.yml -> /opt/anaconda3/share/jupyter/nbextensions/livemdpreview/livemdpreview.yml\n",
      "[I 17:30:09 InstallContribNbextensionsApp] Copying: /opt/anaconda3/lib/python3.9/site-packages/jupyter_contrib_nbextensions/nbextensions/livemdpreview/livemdpreview.js -> /opt/anaconda3/share/jupyter/nbextensions/livemdpreview/livemdpreview.js\n",
      "[I 17:30:09 InstallContribNbextensionsApp] - Validating: \u001b[32mOK\u001b[0m\n",
      "[I 17:30:09 InstallContribNbextensionsApp] Installing /opt/anaconda3/lib/python3.9/site-packages/jupyter_contrib_nbextensions/nbextensions/gist_it -> gist_it\n",
      "[I 17:30:09 InstallContribNbextensionsApp] Making directory: /opt/anaconda3/share/jupyter/nbextensions/gist_it/\n",
      "[I 17:30:09 InstallContribNbextensionsApp] Copying: /opt/anaconda3/lib/python3.9/site-packages/jupyter_contrib_nbextensions/nbextensions/gist_it/icon.png -> /opt/anaconda3/share/jupyter/nbextensions/gist_it/icon.png\n",
      "[I 17:30:09 InstallContribNbextensionsApp] Copying: /opt/anaconda3/lib/python3.9/site-packages/jupyter_contrib_nbextensions/nbextensions/gist_it/gist_it.yaml -> /opt/anaconda3/share/jupyter/nbextensions/gist_it/gist_it.yaml\n",
      "[I 17:30:09 InstallContribNbextensionsApp] Copying: /opt/anaconda3/lib/python3.9/site-packages/jupyter_contrib_nbextensions/nbextensions/gist_it/readme.md -> /opt/anaconda3/share/jupyter/nbextensions/gist_it/readme.md\n",
      "[I 17:30:09 InstallContribNbextensionsApp] Copying: /opt/anaconda3/lib/python3.9/site-packages/jupyter_contrib_nbextensions/nbextensions/gist_it/main.js -> /opt/anaconda3/share/jupyter/nbextensions/gist_it/main.js\n",
      "[I 17:30:09 InstallContribNbextensionsApp] - Validating: \u001b[32mOK\u001b[0m\n",
      "[I 17:30:09 InstallContribNbextensionsApp] Installing /opt/anaconda3/lib/python3.9/site-packages/jupyter_contrib_nbextensions/nbextensions/cell_filter -> cell_filter\n",
      "[I 17:30:09 InstallContribNbextensionsApp] Making directory: /opt/anaconda3/share/jupyter/nbextensions/cell_filter/\n",
      "[I 17:30:09 InstallContribNbextensionsApp] Copying: /opt/anaconda3/lib/python3.9/site-packages/jupyter_contrib_nbextensions/nbextensions/cell_filter/cell_filter.yml -> /opt/anaconda3/share/jupyter/nbextensions/cell_filter/cell_filter.yml\n",
      "[I 17:30:09 InstallContribNbextensionsApp] Copying: /opt/anaconda3/lib/python3.9/site-packages/jupyter_contrib_nbextensions/nbextensions/cell_filter/cell_filter.js -> /opt/anaconda3/share/jupyter/nbextensions/cell_filter/cell_filter.js\n",
      "[I 17:30:09 InstallContribNbextensionsApp] Copying: /opt/anaconda3/lib/python3.9/site-packages/jupyter_contrib_nbextensions/nbextensions/cell_filter/README.md -> /opt/anaconda3/share/jupyter/nbextensions/cell_filter/README.md\n",
      "[I 17:30:09 InstallContribNbextensionsApp] - Validating: \u001b[32mOK\u001b[0m\n",
      "[I 17:30:09 InstallContribNbextensionsApp] Installing /opt/anaconda3/lib/python3.9/site-packages/jupyter_contrib_nbextensions/nbextensions/scratchpad -> scratchpad\n",
      "[I 17:30:09 InstallContribNbextensionsApp] Making directory: /opt/anaconda3/share/jupyter/nbextensions/scratchpad/\n",
      "[I 17:30:09 InstallContribNbextensionsApp] Copying: /opt/anaconda3/lib/python3.9/site-packages/jupyter_contrib_nbextensions/nbextensions/scratchpad/LICENSE -> /opt/anaconda3/share/jupyter/nbextensions/scratchpad/LICENSE\n",
      "[I 17:30:09 InstallContribNbextensionsApp] Copying: /opt/anaconda3/lib/python3.9/site-packages/jupyter_contrib_nbextensions/nbextensions/scratchpad/scratchpad.yaml -> /opt/anaconda3/share/jupyter/nbextensions/scratchpad/scratchpad.yaml\n",
      "[I 17:30:09 InstallContribNbextensionsApp] Copying: /opt/anaconda3/lib/python3.9/site-packages/jupyter_contrib_nbextensions/nbextensions/scratchpad/README.md -> /opt/anaconda3/share/jupyter/nbextensions/scratchpad/README.md\n",
      "[I 17:30:09 InstallContribNbextensionsApp] Copying: /opt/anaconda3/lib/python3.9/site-packages/jupyter_contrib_nbextensions/nbextensions/scratchpad/main.js -> /opt/anaconda3/share/jupyter/nbextensions/scratchpad/main.js\n",
      "[I 17:30:09 InstallContribNbextensionsApp] Copying: /opt/anaconda3/lib/python3.9/site-packages/jupyter_contrib_nbextensions/nbextensions/scratchpad/scratchpad.css -> /opt/anaconda3/share/jupyter/nbextensions/scratchpad/scratchpad.css\n",
      "[I 17:30:09 InstallContribNbextensionsApp] Copying: /opt/anaconda3/lib/python3.9/site-packages/jupyter_contrib_nbextensions/nbextensions/scratchpad/demo.gif -> /opt/anaconda3/share/jupyter/nbextensions/scratchpad/demo.gif\n",
      "[I 17:30:09 InstallContribNbextensionsApp] - Validating: \u001b[32mOK\u001b[0m\n",
      "[I 17:30:09 InstallContribNbextensionsApp] Installing /opt/anaconda3/lib/python3.9/site-packages/jupyter_contrib_nbextensions/nbextensions/toc2 -> toc2\n",
      "[I 17:30:09 InstallContribNbextensionsApp] Making directory: /opt/anaconda3/share/jupyter/nbextensions/toc2/\n",
      "[I 17:30:09 InstallContribNbextensionsApp] Copying: /opt/anaconda3/lib/python3.9/site-packages/jupyter_contrib_nbextensions/nbextensions/toc2/toc2.yaml -> /opt/anaconda3/share/jupyter/nbextensions/toc2/toc2.yaml\n",
      "[I 17:30:09 InstallContribNbextensionsApp] Copying: /opt/anaconda3/lib/python3.9/site-packages/jupyter_contrib_nbextensions/nbextensions/toc2/icon.png -> /opt/anaconda3/share/jupyter/nbextensions/toc2/icon.png\n",
      "[I 17:30:09 InstallContribNbextensionsApp] Copying: /opt/anaconda3/lib/python3.9/site-packages/jupyter_contrib_nbextensions/nbextensions/toc2/demo_dark.png -> /opt/anaconda3/share/jupyter/nbextensions/toc2/demo_dark.png\n",
      "[I 17:30:09 InstallContribNbextensionsApp] Copying: /opt/anaconda3/lib/python3.9/site-packages/jupyter_contrib_nbextensions/nbextensions/toc2/main.css -> /opt/anaconda3/share/jupyter/nbextensions/toc2/main.css\n",
      "[I 17:30:09 InstallContribNbextensionsApp] Copying: /opt/anaconda3/lib/python3.9/site-packages/jupyter_contrib_nbextensions/nbextensions/toc2/README.md -> /opt/anaconda3/share/jupyter/nbextensions/toc2/README.md\n",
      "[I 17:30:09 InstallContribNbextensionsApp] Copying: /opt/anaconda3/lib/python3.9/site-packages/jupyter_contrib_nbextensions/nbextensions/toc2/main.js -> /opt/anaconda3/share/jupyter/nbextensions/toc2/main.js\n",
      "[I 17:30:09 InstallContribNbextensionsApp] Copying: /opt/anaconda3/lib/python3.9/site-packages/jupyter_contrib_nbextensions/nbextensions/toc2/demo3.gif -> /opt/anaconda3/share/jupyter/nbextensions/toc2/demo3.gif\n",
      "[I 17:30:09 InstallContribNbextensionsApp] Copying: /opt/anaconda3/lib/python3.9/site-packages/jupyter_contrib_nbextensions/nbextensions/toc2/demo2.gif -> /opt/anaconda3/share/jupyter/nbextensions/toc2/demo2.gif\n",
      "[I 17:30:09 InstallContribNbextensionsApp] Copying: /opt/anaconda3/lib/python3.9/site-packages/jupyter_contrib_nbextensions/nbextensions/toc2/toc2.js -> /opt/anaconda3/share/jupyter/nbextensions/toc2/toc2.js\n",
      "[I 17:30:09 InstallContribNbextensionsApp] Copying: /opt/anaconda3/lib/python3.9/site-packages/jupyter_contrib_nbextensions/nbextensions/toc2/demo.gif -> /opt/anaconda3/share/jupyter/nbextensions/toc2/demo.gif\n",
      "[I 17:30:09 InstallContribNbextensionsApp] Copying: /opt/anaconda3/lib/python3.9/site-packages/jupyter_contrib_nbextensions/nbextensions/toc2/image.png -> /opt/anaconda3/share/jupyter/nbextensions/toc2/image.png\n",
      "[I 17:30:09 InstallContribNbextensionsApp] - Validating: \u001b[32mOK\u001b[0m\n",
      "[I 17:30:09 InstallContribNbextensionsApp] Installing /opt/anaconda3/lib/python3.9/site-packages/jupyter_contrib_nbextensions/nbextensions/nbTranslate -> nbTranslate\n",
      "[I 17:30:09 InstallContribNbextensionsApp] Making directory: /opt/anaconda3/share/jupyter/nbextensions/nbTranslate/\n",
      "[I 17:30:09 InstallContribNbextensionsApp] Copying: /opt/anaconda3/lib/python3.9/site-packages/jupyter_contrib_nbextensions/nbextensions/nbTranslate/nbTranslate.yaml -> /opt/anaconda3/share/jupyter/nbextensions/nbTranslate/nbTranslate.yaml\n",
      "[I 17:30:09 InstallContribNbextensionsApp] Copying: /opt/anaconda3/lib/python3.9/site-packages/jupyter_contrib_nbextensions/nbextensions/nbTranslate/nbTranslate.js -> /opt/anaconda3/share/jupyter/nbextensions/nbTranslate/nbTranslate.js\n",
      "[I 17:30:09 InstallContribNbextensionsApp] Copying: /opt/anaconda3/lib/python3.9/site-packages/jupyter_contrib_nbextensions/nbextensions/nbTranslate/README.md -> /opt/anaconda3/share/jupyter/nbextensions/nbTranslate/README.md\n",
      "[I 17:30:09 InstallContribNbextensionsApp] Copying: /opt/anaconda3/lib/python3.9/site-packages/jupyter_contrib_nbextensions/nbextensions/nbTranslate/main.js -> /opt/anaconda3/share/jupyter/nbextensions/nbTranslate/main.js\n",
      "[I 17:30:09 InstallContribNbextensionsApp] Copying: /opt/anaconda3/lib/python3.9/site-packages/jupyter_contrib_nbextensions/nbextensions/nbTranslate/demo1.gif -> /opt/anaconda3/share/jupyter/nbextensions/nbTranslate/demo1.gif\n",
      "[I 17:30:09 InstallContribNbextensionsApp] Copying: /opt/anaconda3/lib/python3.9/site-packages/jupyter_contrib_nbextensions/nbextensions/nbTranslate/demo2.gif -> /opt/anaconda3/share/jupyter/nbextensions/nbTranslate/demo2.gif\n",
      "[I 17:30:09 InstallContribNbextensionsApp] Copying: /opt/anaconda3/lib/python3.9/site-packages/jupyter_contrib_nbextensions/nbextensions/nbTranslate/languages.js -> /opt/anaconda3/share/jupyter/nbextensions/nbTranslate/languages.js\n",
      "[I 17:30:09 InstallContribNbextensionsApp] Copying: /opt/anaconda3/lib/python3.9/site-packages/jupyter_contrib_nbextensions/nbextensions/nbTranslate/mutils.js -> /opt/anaconda3/share/jupyter/nbextensions/nbTranslate/mutils.js\n",
      "[I 17:30:09 InstallContribNbextensionsApp] - Validating: \u001b[32mOK\u001b[0m\n",
      "[I 17:30:09 InstallContribNbextensionsApp] Installing /opt/anaconda3/lib/python3.9/site-packages/jupyter_contrib_nbextensions/nbextensions/equation-numbering -> equation-numbering\n",
      "[I 17:30:09 InstallContribNbextensionsApp] Making directory: /opt/anaconda3/share/jupyter/nbextensions/equation-numbering/\n",
      "[I 17:30:09 InstallContribNbextensionsApp] Copying: /opt/anaconda3/lib/python3.9/site-packages/jupyter_contrib_nbextensions/nbextensions/equation-numbering/icon.png -> /opt/anaconda3/share/jupyter/nbextensions/equation-numbering/icon.png\n",
      "[I 17:30:09 InstallContribNbextensionsApp] Copying: /opt/anaconda3/lib/python3.9/site-packages/jupyter_contrib_nbextensions/nbextensions/equation-numbering/readme.md -> /opt/anaconda3/share/jupyter/nbextensions/equation-numbering/readme.md\n",
      "[I 17:30:09 InstallContribNbextensionsApp] Copying: /opt/anaconda3/lib/python3.9/site-packages/jupyter_contrib_nbextensions/nbextensions/equation-numbering/main.js -> /opt/anaconda3/share/jupyter/nbextensions/equation-numbering/main.js\n",
      "[I 17:30:09 InstallContribNbextensionsApp] Copying: /opt/anaconda3/lib/python3.9/site-packages/jupyter_contrib_nbextensions/nbextensions/equation-numbering/info.yaml -> /opt/anaconda3/share/jupyter/nbextensions/equation-numbering/info.yaml\n",
      "[I 17:30:09 InstallContribNbextensionsApp] Copying: /opt/anaconda3/lib/python3.9/site-packages/jupyter_contrib_nbextensions/nbextensions/equation-numbering/button.png -> /opt/anaconda3/share/jupyter/nbextensions/equation-numbering/button.png\n",
      "[I 17:30:09 InstallContribNbextensionsApp] - Validating: \u001b[32mOK\u001b[0m\n",
      "[I 17:30:09 InstallContribNbextensionsApp] Installing /opt/anaconda3/lib/python3.9/site-packages/jupyter_contrib_nbextensions/nbextensions/navigation-hotkeys -> navigation-hotkeys\n",
      "[I 17:30:09 InstallContribNbextensionsApp] Making directory: /opt/anaconda3/share/jupyter/nbextensions/navigation-hotkeys/\n",
      "[I 17:30:09 InstallContribNbextensionsApp] Copying: /opt/anaconda3/lib/python3.9/site-packages/jupyter_contrib_nbextensions/nbextensions/navigation-hotkeys/icon.png -> /opt/anaconda3/share/jupyter/nbextensions/navigation-hotkeys/icon.png\n",
      "[I 17:30:09 InstallContribNbextensionsApp] Copying: /opt/anaconda3/lib/python3.9/site-packages/jupyter_contrib_nbextensions/nbextensions/navigation-hotkeys/readme.md -> /opt/anaconda3/share/jupyter/nbextensions/navigation-hotkeys/readme.md\n",
      "[I 17:30:09 InstallContribNbextensionsApp] Copying: /opt/anaconda3/lib/python3.9/site-packages/jupyter_contrib_nbextensions/nbextensions/navigation-hotkeys/main.js -> /opt/anaconda3/share/jupyter/nbextensions/navigation-hotkeys/main.js\n",
      "[I 17:30:09 InstallContribNbextensionsApp] Copying: /opt/anaconda3/lib/python3.9/site-packages/jupyter_contrib_nbextensions/nbextensions/navigation-hotkeys/hotkeys.yaml -> /opt/anaconda3/share/jupyter/nbextensions/navigation-hotkeys/hotkeys.yaml\n",
      "[I 17:30:09 InstallContribNbextensionsApp] - Validating: \u001b[32mOK\u001b[0m\n",
      "[I 17:30:09 InstallContribNbextensionsApp] Installing /opt/anaconda3/lib/python3.9/site-packages/jupyter_contrib_nbextensions/nbextensions/snippets_menu -> snippets_menu\n",
      "[I 17:30:09 InstallContribNbextensionsApp] Making directory: /opt/anaconda3/share/jupyter/nbextensions/snippets_menu/\n",
      "[I 17:30:09 InstallContribNbextensionsApp] Copying: /opt/anaconda3/lib/python3.9/site-packages/jupyter_contrib_nbextensions/nbextensions/snippets_menu/snippets_menu.css -> /opt/anaconda3/share/jupyter/nbextensions/snippets_menu/snippets_menu.css\n",
      "[I 17:30:09 InstallContribNbextensionsApp] Copying: /opt/anaconda3/lib/python3.9/site-packages/jupyter_contrib_nbextensions/nbextensions/snippets_menu/snippets_submenu_python.js -> /opt/anaconda3/share/jupyter/nbextensions/snippets_menu/snippets_submenu_python.js\n",
      "[I 17:30:09 InstallContribNbextensionsApp] Copying: /opt/anaconda3/lib/python3.9/site-packages/jupyter_contrib_nbextensions/nbextensions/snippets_menu/config.yaml -> /opt/anaconda3/share/jupyter/nbextensions/snippets_menu/config.yaml\n",
      "[I 17:30:09 InstallContribNbextensionsApp] Copying: /opt/anaconda3/lib/python3.9/site-packages/jupyter_contrib_nbextensions/nbextensions/snippets_menu/readme.md -> /opt/anaconda3/share/jupyter/nbextensions/snippets_menu/readme.md\n",
      "[I 17:30:09 InstallContribNbextensionsApp] Copying: /opt/anaconda3/lib/python3.9/site-packages/jupyter_contrib_nbextensions/nbextensions/snippets_menu/main.js -> /opt/anaconda3/share/jupyter/nbextensions/snippets_menu/main.js\n",
      "[I 17:30:09 InstallContribNbextensionsApp] Copying: /opt/anaconda3/lib/python3.9/site-packages/jupyter_contrib_nbextensions/nbextensions/snippets_menu/snippets_submenu_markdown.js -> /opt/anaconda3/share/jupyter/nbextensions/snippets_menu/snippets_submenu_markdown.js\n",
      "[I 17:30:09 InstallContribNbextensionsApp] Copying: /opt/anaconda3/lib/python3.9/site-packages/jupyter_contrib_nbextensions/nbextensions/snippets_menu/thumbnail.png -> /opt/anaconda3/share/jupyter/nbextensions/snippets_menu/thumbnail.png\n",
      "[I 17:30:09 InstallContribNbextensionsApp] Copying: /opt/anaconda3/lib/python3.9/site-packages/jupyter_contrib_nbextensions/nbextensions/snippets_menu/screenshot1.png -> /opt/anaconda3/share/jupyter/nbextensions/snippets_menu/screenshot1.png\n",
      "[I 17:30:09 InstallContribNbextensionsApp] Copying: /opt/anaconda3/lib/python3.9/site-packages/jupyter_contrib_nbextensions/nbextensions/snippets_menu/screenshot2.png -> /opt/anaconda3/share/jupyter/nbextensions/snippets_menu/screenshot2.png\n",
      "[I 17:30:09 InstallContribNbextensionsApp] Copying: /opt/anaconda3/lib/python3.9/site-packages/jupyter_contrib_nbextensions/nbextensions/snippets_menu/screenshot3.png -> /opt/anaconda3/share/jupyter/nbextensions/snippets_menu/screenshot3.png\n",
      "[I 17:30:09 InstallContribNbextensionsApp] Copying: /opt/anaconda3/lib/python3.9/site-packages/jupyter_contrib_nbextensions/nbextensions/snippets_menu/examples_for_custom.js -> /opt/anaconda3/share/jupyter/nbextensions/snippets_menu/examples_for_custom.js\n",
      "[I 17:30:09 InstallContribNbextensionsApp] Making directory: /opt/anaconda3/share/jupyter/nbextensions/snippets_menu/snippets_submenus_python\n",
      "[I 17:30:09 InstallContribNbextensionsApp] Copying: /opt/anaconda3/lib/python3.9/site-packages/jupyter_contrib_nbextensions/nbextensions/snippets_menu/snippets_submenus_python/numpy_ufuncs.js -> /opt/anaconda3/share/jupyter/nbextensions/snippets_menu/snippets_submenus_python/numpy_ufuncs.js\n",
      "[I 17:30:09 InstallContribNbextensionsApp] Copying: /opt/anaconda3/lib/python3.9/site-packages/jupyter_contrib_nbextensions/nbextensions/snippets_menu/snippets_submenus_python/numba.js -> /opt/anaconda3/share/jupyter/nbextensions/snippets_menu/snippets_submenus_python/numba.js\n",
      "[I 17:30:09 InstallContribNbextensionsApp] Copying: /opt/anaconda3/lib/python3.9/site-packages/jupyter_contrib_nbextensions/nbextensions/snippets_menu/snippets_submenus_python/sympy_assumptions.js -> /opt/anaconda3/share/jupyter/nbextensions/snippets_menu/snippets_submenus_python/sympy_assumptions.js\n",
      "[I 17:30:09 InstallContribNbextensionsApp] Copying: /opt/anaconda3/lib/python3.9/site-packages/jupyter_contrib_nbextensions/nbextensions/snippets_menu/snippets_submenus_python/sympy.js -> /opt/anaconda3/share/jupyter/nbextensions/snippets_menu/snippets_submenus_python/sympy.js\n",
      "[I 17:30:09 InstallContribNbextensionsApp] Copying: /opt/anaconda3/lib/python3.9/site-packages/jupyter_contrib_nbextensions/nbextensions/snippets_menu/snippets_submenus_python/numpy.js -> /opt/anaconda3/share/jupyter/nbextensions/snippets_menu/snippets_submenus_python/numpy.js\n",
      "[I 17:30:09 InstallContribNbextensionsApp] Copying: /opt/anaconda3/lib/python3.9/site-packages/jupyter_contrib_nbextensions/nbextensions/snippets_menu/snippets_submenus_python/astropy.js -> /opt/anaconda3/share/jupyter/nbextensions/snippets_menu/snippets_submenus_python/astropy.js\n",
      "[I 17:30:09 InstallContribNbextensionsApp] Copying: /opt/anaconda3/lib/python3.9/site-packages/jupyter_contrib_nbextensions/nbextensions/snippets_menu/snippets_submenus_python/pandas.js -> /opt/anaconda3/share/jupyter/nbextensions/snippets_menu/snippets_submenus_python/pandas.js\n",
      "[I 17:30:09 InstallContribNbextensionsApp] Copying: /opt/anaconda3/lib/python3.9/site-packages/jupyter_contrib_nbextensions/nbextensions/snippets_menu/snippets_submenus_python/numpy_polynomial.js -> /opt/anaconda3/share/jupyter/nbextensions/snippets_menu/snippets_submenus_python/numpy_polynomial.js\n",
      "[I 17:30:09 InstallContribNbextensionsApp] Copying: /opt/anaconda3/lib/python3.9/site-packages/jupyter_contrib_nbextensions/nbextensions/snippets_menu/snippets_submenus_python/scipy_constants.js -> /opt/anaconda3/share/jupyter/nbextensions/snippets_menu/snippets_submenus_python/scipy_constants.js\n",
      "[I 17:30:09 InstallContribNbextensionsApp] Copying: /opt/anaconda3/lib/python3.9/site-packages/jupyter_contrib_nbextensions/nbextensions/snippets_menu/snippets_submenus_python/matplotlib.js -> /opt/anaconda3/share/jupyter/nbextensions/snippets_menu/snippets_submenus_python/matplotlib.js\n",
      "[I 17:30:09 InstallContribNbextensionsApp] Copying: /opt/anaconda3/lib/python3.9/site-packages/jupyter_contrib_nbextensions/nbextensions/snippets_menu/snippets_submenus_python/sympy_functions.js -> /opt/anaconda3/share/jupyter/nbextensions/snippets_menu/snippets_submenus_python/sympy_functions.js\n",
      "[I 17:30:09 InstallContribNbextensionsApp] Copying: /opt/anaconda3/lib/python3.9/site-packages/jupyter_contrib_nbextensions/nbextensions/snippets_menu/snippets_submenus_python/h5py.js -> /opt/anaconda3/share/jupyter/nbextensions/snippets_menu/snippets_submenus_python/h5py.js\n",
      "[I 17:30:09 InstallContribNbextensionsApp] Copying: /opt/anaconda3/lib/python3.9/site-packages/jupyter_contrib_nbextensions/nbextensions/snippets_menu/snippets_submenus_python/scipy_special.js -> /opt/anaconda3/share/jupyter/nbextensions/snippets_menu/snippets_submenus_python/scipy_special.js\n",
      "[I 17:30:09 InstallContribNbextensionsApp] Copying: /opt/anaconda3/lib/python3.9/site-packages/jupyter_contrib_nbextensions/nbextensions/snippets_menu/snippets_submenus_python/python_regex.js -> /opt/anaconda3/share/jupyter/nbextensions/snippets_menu/snippets_submenus_python/python_regex.js\n",
      "[I 17:30:09 InstallContribNbextensionsApp] Copying: /opt/anaconda3/lib/python3.9/site-packages/jupyter_contrib_nbextensions/nbextensions/snippets_menu/snippets_submenus_python/python.js -> /opt/anaconda3/share/jupyter/nbextensions/snippets_menu/snippets_submenus_python/python.js\n",
      "[I 17:30:09 InstallContribNbextensionsApp] Copying: /opt/anaconda3/lib/python3.9/site-packages/jupyter_contrib_nbextensions/nbextensions/snippets_menu/snippets_submenus_python/scipy.js -> /opt/anaconda3/share/jupyter/nbextensions/snippets_menu/snippets_submenus_python/scipy.js\n",
      "[I 17:30:09 InstallContribNbextensionsApp] - Validating: \u001b[32mOK\u001b[0m\n",
      "[I 17:30:09 InstallContribNbextensionsApp] Installing /opt/anaconda3/lib/python3.9/site-packages/jupyter_contrib_nbextensions/nbextensions/printview -> printview\n",
      "[I 17:30:09 InstallContribNbextensionsApp] Making directory: /opt/anaconda3/share/jupyter/nbextensions/printview/\n",
      "[I 17:30:09 InstallContribNbextensionsApp] Copying: /opt/anaconda3/lib/python3.9/site-packages/jupyter_contrib_nbextensions/nbextensions/printview/icon.png -> /opt/anaconda3/share/jupyter/nbextensions/printview/icon.png\n",
      "[I 17:30:09 InstallContribNbextensionsApp] Copying: /opt/anaconda3/lib/python3.9/site-packages/jupyter_contrib_nbextensions/nbextensions/printview/printview-button.png -> /opt/anaconda3/share/jupyter/nbextensions/printview/printview-button.png\n",
      "[I 17:30:09 InstallContribNbextensionsApp] Copying: /opt/anaconda3/lib/python3.9/site-packages/jupyter_contrib_nbextensions/nbextensions/printview/readme.md -> /opt/anaconda3/share/jupyter/nbextensions/printview/readme.md\n",
      "[I 17:30:09 InstallContribNbextensionsApp] Copying: /opt/anaconda3/lib/python3.9/site-packages/jupyter_contrib_nbextensions/nbextensions/printview/main.js -> /opt/anaconda3/share/jupyter/nbextensions/printview/main.js\n",
      "[I 17:30:09 InstallContribNbextensionsApp] Copying: /opt/anaconda3/lib/python3.9/site-packages/jupyter_contrib_nbextensions/nbextensions/printview/printview.yaml -> /opt/anaconda3/share/jupyter/nbextensions/printview/printview.yaml\n",
      "[I 17:30:09 InstallContribNbextensionsApp] - Validating: \u001b[32mOK\u001b[0m\n",
      "[I 17:30:09 InstallContribNbextensionsApp] Installing /opt/anaconda3/lib/python3.9/site-packages/jupyter_contrib_nbextensions/nbextensions/export_embedded -> export_embedded\n",
      "[I 17:30:09 InstallContribNbextensionsApp] Making directory: /opt/anaconda3/share/jupyter/nbextensions/export_embedded/\n",
      "[I 17:30:09 InstallContribNbextensionsApp] Copying: /opt/anaconda3/lib/python3.9/site-packages/jupyter_contrib_nbextensions/nbextensions/export_embedded/export_embedded.yaml -> /opt/anaconda3/share/jupyter/nbextensions/export_embedded/export_embedded.yaml\n",
      "[I 17:30:09 InstallContribNbextensionsApp] Copying: /opt/anaconda3/lib/python3.9/site-packages/jupyter_contrib_nbextensions/nbextensions/export_embedded/icon.png -> /opt/anaconda3/share/jupyter/nbextensions/export_embedded/icon.png\n",
      "[I 17:30:09 InstallContribNbextensionsApp] Copying: /opt/anaconda3/lib/python3.9/site-packages/jupyter_contrib_nbextensions/nbextensions/export_embedded/readme.md -> /opt/anaconda3/share/jupyter/nbextensions/export_embedded/readme.md\n",
      "[I 17:30:09 InstallContribNbextensionsApp] Copying: /opt/anaconda3/lib/python3.9/site-packages/jupyter_contrib_nbextensions/nbextensions/export_embedded/main.js -> /opt/anaconda3/share/jupyter/nbextensions/export_embedded/main.js\n",
      "[I 17:30:09 InstallContribNbextensionsApp] - Validating: \u001b[32mOK\u001b[0m\n",
      "[I 17:30:09 InstallContribNbextensionsApp] Installing /opt/anaconda3/lib/python3.9/site-packages/jupyter_contrib_nbextensions/nbextensions/autoscroll -> autoscroll\n",
      "[I 17:30:09 InstallContribNbextensionsApp] Making directory: /opt/anaconda3/share/jupyter/nbextensions/autoscroll/\n",
      "[I 17:30:09 InstallContribNbextensionsApp] Copying: /opt/anaconda3/lib/python3.9/site-packages/jupyter_contrib_nbextensions/nbextensions/autoscroll/icon.png -> /opt/anaconda3/share/jupyter/nbextensions/autoscroll/icon.png\n",
      "[I 17:30:09 InstallContribNbextensionsApp] Copying: /opt/anaconda3/lib/python3.9/site-packages/jupyter_contrib_nbextensions/nbextensions/autoscroll/autoscroll.yaml -> /opt/anaconda3/share/jupyter/nbextensions/autoscroll/autoscroll.yaml\n",
      "[I 17:30:09 InstallContribNbextensionsApp] Copying: /opt/anaconda3/lib/python3.9/site-packages/jupyter_contrib_nbextensions/nbextensions/autoscroll/README.md -> /opt/anaconda3/share/jupyter/nbextensions/autoscroll/README.md\n",
      "[I 17:30:09 InstallContribNbextensionsApp] Copying: /opt/anaconda3/lib/python3.9/site-packages/jupyter_contrib_nbextensions/nbextensions/autoscroll/main.js -> /opt/anaconda3/share/jupyter/nbextensions/autoscroll/main.js\n",
      "[I 17:30:09 InstallContribNbextensionsApp] - Validating: \u001b[32mOK\u001b[0m\n",
      "[I 17:30:09 InstallContribNbextensionsApp] Installing /opt/anaconda3/lib/python3.9/site-packages/jupyter_contrib_nbextensions/nbextensions/hide_input -> hide_input\n",
      "[I 17:30:09 InstallContribNbextensionsApp] Making directory: /opt/anaconda3/share/jupyter/nbextensions/hide_input/\n",
      "[I 17:30:09 InstallContribNbextensionsApp] Copying: /opt/anaconda3/lib/python3.9/site-packages/jupyter_contrib_nbextensions/nbextensions/hide_input/icon.png -> /opt/anaconda3/share/jupyter/nbextensions/hide_input/icon.png\n",
      "[I 17:30:09 InstallContribNbextensionsApp] Copying: /opt/anaconda3/lib/python3.9/site-packages/jupyter_contrib_nbextensions/nbextensions/hide_input/readme.md -> /opt/anaconda3/share/jupyter/nbextensions/hide_input/readme.md\n",
      "[I 17:30:09 InstallContribNbextensionsApp] Copying: /opt/anaconda3/lib/python3.9/site-packages/jupyter_contrib_nbextensions/nbextensions/hide_input/main.js -> /opt/anaconda3/share/jupyter/nbextensions/hide_input/main.js\n",
      "[I 17:30:09 InstallContribNbextensionsApp] Copying: /opt/anaconda3/lib/python3.9/site-packages/jupyter_contrib_nbextensions/nbextensions/hide_input/hide-input.yaml -> /opt/anaconda3/share/jupyter/nbextensions/hide_input/hide-input.yaml\n",
      "[I 17:30:09 InstallContribNbextensionsApp] - Validating: \u001b[32mOK\u001b[0m\n",
      "[I 17:30:09 InstallContribNbextensionsApp] Installing /opt/anaconda3/lib/python3.9/site-packages/jupyter_contrib_nbextensions/nbextensions/hide_input_all -> hide_input_all\n",
      "[I 17:30:09 InstallContribNbextensionsApp] Making directory: /opt/anaconda3/share/jupyter/nbextensions/hide_input_all/\n",
      "[I 17:30:09 InstallContribNbextensionsApp] Copying: /opt/anaconda3/lib/python3.9/site-packages/jupyter_contrib_nbextensions/nbextensions/hide_input_all/icon.png -> /opt/anaconda3/share/jupyter/nbextensions/hide_input_all/icon.png\n",
      "[I 17:30:09 InstallContribNbextensionsApp] Copying: /opt/anaconda3/lib/python3.9/site-packages/jupyter_contrib_nbextensions/nbextensions/hide_input_all/hide_input_all.yaml -> /opt/anaconda3/share/jupyter/nbextensions/hide_input_all/hide_input_all.yaml\n",
      "[I 17:30:09 InstallContribNbextensionsApp] Copying: /opt/anaconda3/lib/python3.9/site-packages/jupyter_contrib_nbextensions/nbextensions/hide_input_all/hide_input_all_show.png -> /opt/anaconda3/share/jupyter/nbextensions/hide_input_all/hide_input_all_show.png\n",
      "[I 17:30:09 InstallContribNbextensionsApp] Copying: /opt/anaconda3/lib/python3.9/site-packages/jupyter_contrib_nbextensions/nbextensions/hide_input_all/readme.md -> /opt/anaconda3/share/jupyter/nbextensions/hide_input_all/readme.md\n",
      "[I 17:30:09 InstallContribNbextensionsApp] Copying: /opt/anaconda3/lib/python3.9/site-packages/jupyter_contrib_nbextensions/nbextensions/hide_input_all/main.js -> /opt/anaconda3/share/jupyter/nbextensions/hide_input_all/main.js\n",
      "[I 17:30:09 InstallContribNbextensionsApp] Copying: /opt/anaconda3/lib/python3.9/site-packages/jupyter_contrib_nbextensions/nbextensions/hide_input_all/hide_input_all_hide.png -> /opt/anaconda3/share/jupyter/nbextensions/hide_input_all/hide_input_all_hide.png\n",
      "[I 17:30:09 InstallContribNbextensionsApp] - Validating: \u001b[32mOK\u001b[0m\n",
      "[I 17:30:09 InstallContribNbextensionsApp] Installing /opt/anaconda3/lib/python3.9/site-packages/jupyter_contrib_nbextensions/nbextensions/keyboard_shortcut_editor -> keyboard_shortcut_editor\n",
      "[I 17:30:09 InstallContribNbextensionsApp] Making directory: /opt/anaconda3/share/jupyter/nbextensions/keyboard_shortcut_editor/\n",
      "[I 17:30:09 InstallContribNbextensionsApp] Copying: /opt/anaconda3/lib/python3.9/site-packages/jupyter_contrib_nbextensions/nbextensions/keyboard_shortcut_editor/keyboard_shortcut_editor.yaml -> /opt/anaconda3/share/jupyter/nbextensions/keyboard_shortcut_editor/keyboard_shortcut_editor.yaml\n",
      "[I 17:30:09 InstallContribNbextensionsApp] Copying: /opt/anaconda3/lib/python3.9/site-packages/jupyter_contrib_nbextensions/nbextensions/keyboard_shortcut_editor/icon.png -> /opt/anaconda3/share/jupyter/nbextensions/keyboard_shortcut_editor/icon.png\n",
      "[I 17:30:09 InstallContribNbextensionsApp] Copying: /opt/anaconda3/lib/python3.9/site-packages/jupyter_contrib_nbextensions/nbextensions/keyboard_shortcut_editor/readme_comma.png -> /opt/anaconda3/share/jupyter/nbextensions/keyboard_shortcut_editor/readme_comma.png\n",
      "[I 17:30:09 InstallContribNbextensionsApp] Copying: /opt/anaconda3/lib/python3.9/site-packages/jupyter_contrib_nbextensions/nbextensions/keyboard_shortcut_editor/readme_shortcut_editor_blank.png -> /opt/anaconda3/share/jupyter/nbextensions/keyboard_shortcut_editor/readme_shortcut_editor_blank.png\n",
      "[I 17:30:09 InstallContribNbextensionsApp] Copying: /opt/anaconda3/lib/python3.9/site-packages/jupyter_contrib_nbextensions/nbextensions/keyboard_shortcut_editor/readme_shortcut_editor_success.png -> /opt/anaconda3/share/jupyter/nbextensions/keyboard_shortcut_editor/readme_shortcut_editor_success.png\n",
      "[I 17:30:09 InstallContribNbextensionsApp] Copying: /opt/anaconda3/lib/python3.9/site-packages/jupyter_contrib_nbextensions/nbextensions/keyboard_shortcut_editor/main.css -> /opt/anaconda3/share/jupyter/nbextensions/keyboard_shortcut_editor/main.css\n",
      "[I 17:30:09 InstallContribNbextensionsApp] Copying: /opt/anaconda3/lib/python3.9/site-packages/jupyter_contrib_nbextensions/nbextensions/keyboard_shortcut_editor/README.md -> /opt/anaconda3/share/jupyter/nbextensions/keyboard_shortcut_editor/README.md\n",
      "[I 17:30:09 InstallContribNbextensionsApp] Copying: /opt/anaconda3/lib/python3.9/site-packages/jupyter_contrib_nbextensions/nbextensions/keyboard_shortcut_editor/readme_reset_disabled.png -> /opt/anaconda3/share/jupyter/nbextensions/keyboard_shortcut_editor/readme_reset_disabled.png\n",
      "[I 17:30:09 InstallContribNbextensionsApp] Copying: /opt/anaconda3/lib/python3.9/site-packages/jupyter_contrib_nbextensions/nbextensions/keyboard_shortcut_editor/readme_add_new_link.png -> /opt/anaconda3/share/jupyter/nbextensions/keyboard_shortcut_editor/readme_add_new_link.png\n",
      "[I 17:30:09 InstallContribNbextensionsApp] Copying: /opt/anaconda3/lib/python3.9/site-packages/jupyter_contrib_nbextensions/nbextensions/keyboard_shortcut_editor/main.js -> /opt/anaconda3/share/jupyter/nbextensions/keyboard_shortcut_editor/main.js\n",
      "[I 17:30:09 InstallContribNbextensionsApp] Copying: /opt/anaconda3/lib/python3.9/site-packages/jupyter_contrib_nbextensions/nbextensions/keyboard_shortcut_editor/readme_dropdown.png -> /opt/anaconda3/share/jupyter/nbextensions/keyboard_shortcut_editor/readme_dropdown.png\n",
      "[I 17:30:09 InstallContribNbextensionsApp] Copying: /opt/anaconda3/lib/python3.9/site-packages/jupyter_contrib_nbextensions/nbextensions/keyboard_shortcut_editor/quickhelp_shim.js -> /opt/anaconda3/share/jupyter/nbextensions/keyboard_shortcut_editor/quickhelp_shim.js\n",
      "[I 17:30:09 InstallContribNbextensionsApp] Copying: /opt/anaconda3/lib/python3.9/site-packages/jupyter_contrib_nbextensions/nbextensions/keyboard_shortcut_editor/readme_add_new_select_action.png -> /opt/anaconda3/share/jupyter/nbextensions/keyboard_shortcut_editor/readme_add_new_select_action.png\n",
      "[I 17:30:09 InstallContribNbextensionsApp] Copying: /opt/anaconda3/lib/python3.9/site-packages/jupyter_contrib_nbextensions/nbextensions/keyboard_shortcut_editor/kse_components.js -> /opt/anaconda3/share/jupyter/nbextensions/keyboard_shortcut_editor/kse_components.js\n",
      "[I 17:30:09 InstallContribNbextensionsApp] Copying: /opt/anaconda3/lib/python3.9/site-packages/jupyter_contrib_nbextensions/nbextensions/keyboard_shortcut_editor/readme_undefined_key.png -> /opt/anaconda3/share/jupyter/nbextensions/keyboard_shortcut_editor/readme_undefined_key.png\n",
      "[I 17:30:09 InstallContribNbextensionsApp] Copying: /opt/anaconda3/lib/python3.9/site-packages/jupyter_contrib_nbextensions/nbextensions/keyboard_shortcut_editor/readme_conflict.png -> /opt/anaconda3/share/jupyter/nbextensions/keyboard_shortcut_editor/readme_conflict.png\n",
      "[I 17:30:09 InstallContribNbextensionsApp] Copying: /opt/anaconda3/lib/python3.9/site-packages/jupyter_contrib_nbextensions/nbextensions/keyboard_shortcut_editor/readme_menu_item.png -> /opt/anaconda3/share/jupyter/nbextensions/keyboard_shortcut_editor/readme_menu_item.png\n",
      "[I 17:30:09 InstallContribNbextensionsApp] - Validating: \u001b[32mOK\u001b[0m\n",
      "[I 17:30:09 InstallContribNbextensionsApp] Installing /opt/anaconda3/lib/python3.9/site-packages/jupyter_contrib_nbextensions/nbextensions/help_panel -> help_panel\n",
      "[I 17:30:09 InstallContribNbextensionsApp] Making directory: /opt/anaconda3/share/jupyter/nbextensions/help_panel/\n",
      "[I 17:30:09 InstallContribNbextensionsApp] Copying: /opt/anaconda3/lib/python3.9/site-packages/jupyter_contrib_nbextensions/nbextensions/help_panel/icon.png -> /opt/anaconda3/share/jupyter/nbextensions/help_panel/icon.png\n",
      "[I 17:30:09 InstallContribNbextensionsApp] Copying: /opt/anaconda3/lib/python3.9/site-packages/jupyter_contrib_nbextensions/nbextensions/help_panel/help_panel_ext.png -> /opt/anaconda3/share/jupyter/nbextensions/help_panel/help_panel_ext.png\n",
      "[I 17:30:09 InstallContribNbextensionsApp] Copying: /opt/anaconda3/lib/python3.9/site-packages/jupyter_contrib_nbextensions/nbextensions/help_panel/readme.md -> /opt/anaconda3/share/jupyter/nbextensions/help_panel/readme.md\n",
      "[I 17:30:09 InstallContribNbextensionsApp] Copying: /opt/anaconda3/lib/python3.9/site-packages/jupyter_contrib_nbextensions/nbextensions/help_panel/help_panel_ext_fullscreen.png -> /opt/anaconda3/share/jupyter/nbextensions/help_panel/help_panel_ext_fullscreen.png\n",
      "[I 17:30:09 InstallContribNbextensionsApp] Copying: /opt/anaconda3/lib/python3.9/site-packages/jupyter_contrib_nbextensions/nbextensions/help_panel/help_panel.yaml -> /opt/anaconda3/share/jupyter/nbextensions/help_panel/help_panel.yaml\n",
      "[I 17:30:09 InstallContribNbextensionsApp] Copying: /opt/anaconda3/lib/python3.9/site-packages/jupyter_contrib_nbextensions/nbextensions/help_panel/help_panel.css -> /opt/anaconda3/share/jupyter/nbextensions/help_panel/help_panel.css\n"
     ]
    },
    {
     "name": "stdout",
     "output_type": "stream",
     "text": [
      "[I 17:30:09 InstallContribNbextensionsApp] Copying: /opt/anaconda3/lib/python3.9/site-packages/jupyter_contrib_nbextensions/nbextensions/help_panel/help_panel.js -> /opt/anaconda3/share/jupyter/nbextensions/help_panel/help_panel.js\r\n",
      "[I 17:30:09 InstallContribNbextensionsApp] Making directory: /opt/anaconda3/share/jupyter/nbextensions/help_panel/img\r\n",
      "[I 17:30:09 InstallContribNbextensionsApp] Copying: /opt/anaconda3/lib/python3.9/site-packages/jupyter_contrib_nbextensions/nbextensions/help_panel/img/handle-v.png -> /opt/anaconda3/share/jupyter/nbextensions/help_panel/img/handle-v.png\r\n",
      "[I 17:30:09 InstallContribNbextensionsApp] - Validating: \u001b[32mOK\u001b[0m\r\n",
      "[I 17:30:09 InstallContribNbextensionsApp] Installing /opt/anaconda3/lib/python3.9/site-packages/jupyter_contrib_nbextensions/nbextensions/move_selected_cells -> move_selected_cells\r\n",
      "[I 17:30:09 InstallContribNbextensionsApp] Making directory: /opt/anaconda3/share/jupyter/nbextensions/move_selected_cells/\r\n",
      "[I 17:30:09 InstallContribNbextensionsApp] Copying: /opt/anaconda3/lib/python3.9/site-packages/jupyter_contrib_nbextensions/nbextensions/move_selected_cells/README.md -> /opt/anaconda3/share/jupyter/nbextensions/move_selected_cells/README.md\r\n",
      "[I 17:30:09 InstallContribNbextensionsApp] Copying: /opt/anaconda3/lib/python3.9/site-packages/jupyter_contrib_nbextensions/nbextensions/move_selected_cells/main.js -> /opt/anaconda3/share/jupyter/nbextensions/move_selected_cells/main.js\r\n",
      "[I 17:30:09 InstallContribNbextensionsApp] Copying: /opt/anaconda3/lib/python3.9/site-packages/jupyter_contrib_nbextensions/nbextensions/move_selected_cells/move_selected_cells.yaml -> /opt/anaconda3/share/jupyter/nbextensions/move_selected_cells/move_selected_cells.yaml\r\n",
      "[I 17:30:09 InstallContribNbextensionsApp] - Validating: \u001b[32mOK\u001b[0m\r\n",
      "[I 17:30:09 InstallContribNbextensionsApp] Installing /opt/anaconda3/lib/python3.9/site-packages/jupyter_contrib_nbextensions/nbextensions/zenmode -> zenmode\r\n",
      "[I 17:30:09 InstallContribNbextensionsApp] Making directory: /opt/anaconda3/share/jupyter/nbextensions/zenmode/\r\n",
      "[I 17:30:09 InstallContribNbextensionsApp] Copying: /opt/anaconda3/lib/python3.9/site-packages/jupyter_contrib_nbextensions/nbextensions/zenmode/main.css -> /opt/anaconda3/share/jupyter/nbextensions/zenmode/main.css\r\n",
      "[I 17:30:09 InstallContribNbextensionsApp] Copying: /opt/anaconda3/lib/python3.9/site-packages/jupyter_contrib_nbextensions/nbextensions/zenmode/README.md -> /opt/anaconda3/share/jupyter/nbextensions/zenmode/README.md\r\n",
      "[I 17:30:09 InstallContribNbextensionsApp] Copying: /opt/anaconda3/lib/python3.9/site-packages/jupyter_contrib_nbextensions/nbextensions/zenmode/main.js -> /opt/anaconda3/share/jupyter/nbextensions/zenmode/main.js\r\n",
      "[I 17:30:09 InstallContribNbextensionsApp] Copying: /opt/anaconda3/lib/python3.9/site-packages/jupyter_contrib_nbextensions/nbextensions/zenmode/zenmode.yaml -> /opt/anaconda3/share/jupyter/nbextensions/zenmode/zenmode.yaml\r\n",
      "[I 17:30:09 InstallContribNbextensionsApp] Making directory: /opt/anaconda3/share/jupyter/nbextensions/zenmode/images\r\n",
      "[I 17:30:09 InstallContribNbextensionsApp] Copying: /opt/anaconda3/lib/python3.9/site-packages/jupyter_contrib_nbextensions/nbextensions/zenmode/images/back12.jpg -> /opt/anaconda3/share/jupyter/nbextensions/zenmode/images/back12.jpg\r\n",
      "[I 17:30:09 InstallContribNbextensionsApp] Copying: /opt/anaconda3/lib/python3.9/site-packages/jupyter_contrib_nbextensions/nbextensions/zenmode/images/back11.jpg -> /opt/anaconda3/share/jupyter/nbextensions/zenmode/images/back11.jpg\r\n",
      "[I 17:30:09 InstallContribNbextensionsApp] Copying: /opt/anaconda3/lib/python3.9/site-packages/jupyter_contrib_nbextensions/nbextensions/zenmode/images/back2.jpg -> /opt/anaconda3/share/jupyter/nbextensions/zenmode/images/back2.jpg\r\n",
      "[I 17:30:09 InstallContribNbextensionsApp] Copying: /opt/anaconda3/lib/python3.9/site-packages/jupyter_contrib_nbextensions/nbextensions/zenmode/images/back3.jpg -> /opt/anaconda3/share/jupyter/nbextensions/zenmode/images/back3.jpg\r\n",
      "[I 17:30:09 InstallContribNbextensionsApp] Copying: /opt/anaconda3/lib/python3.9/site-packages/jupyter_contrib_nbextensions/nbextensions/zenmode/images/back1.jpg -> /opt/anaconda3/share/jupyter/nbextensions/zenmode/images/back1.jpg\r\n",
      "[I 17:30:09 InstallContribNbextensionsApp] Copying: /opt/anaconda3/lib/python3.9/site-packages/jupyter_contrib_nbextensions/nbextensions/zenmode/images/ipynblogo1.png -> /opt/anaconda3/share/jupyter/nbextensions/zenmode/images/ipynblogo1.png\r\n",
      "[I 17:30:09 InstallContribNbextensionsApp] Copying: /opt/anaconda3/lib/python3.9/site-packages/jupyter_contrib_nbextensions/nbextensions/zenmode/images/ipynblogo0.png -> /opt/anaconda3/share/jupyter/nbextensions/zenmode/images/ipynblogo0.png\r\n",
      "[I 17:30:09 InstallContribNbextensionsApp] Copying: /opt/anaconda3/lib/python3.9/site-packages/jupyter_contrib_nbextensions/nbextensions/zenmode/images/back21.jpg -> /opt/anaconda3/share/jupyter/nbextensions/zenmode/images/back21.jpg\r\n",
      "[I 17:30:09 InstallContribNbextensionsApp] Copying: /opt/anaconda3/lib/python3.9/site-packages/jupyter_contrib_nbextensions/nbextensions/zenmode/images/back22.jpg -> /opt/anaconda3/share/jupyter/nbextensions/zenmode/images/back22.jpg\r\n",
      "[I 17:30:09 InstallContribNbextensionsApp] - Validating: \u001b[32mOK\u001b[0m\r\n",
      "[I 17:30:09 InstallContribNbextensionsApp] Installing /opt/anaconda3/lib/python3.9/site-packages/jupyter_contrib_nbextensions/nbextensions/skip-traceback -> skip-traceback\r\n",
      "[I 17:30:09 InstallContribNbextensionsApp] Making directory: /opt/anaconda3/share/jupyter/nbextensions/skip-traceback/\r\n",
      "[I 17:30:09 InstallContribNbextensionsApp] Copying: /opt/anaconda3/lib/python3.9/site-packages/jupyter_contrib_nbextensions/nbextensions/skip-traceback/icon.png -> /opt/anaconda3/share/jupyter/nbextensions/skip-traceback/icon.png\r\n",
      "[I 17:30:09 InstallContribNbextensionsApp] Copying: /opt/anaconda3/lib/python3.9/site-packages/jupyter_contrib_nbextensions/nbextensions/skip-traceback/traceback.png -> /opt/anaconda3/share/jupyter/nbextensions/skip-traceback/traceback.png\r\n",
      "[I 17:30:09 InstallContribNbextensionsApp] Copying: /opt/anaconda3/lib/python3.9/site-packages/jupyter_contrib_nbextensions/nbextensions/skip-traceback/readme.md -> /opt/anaconda3/share/jupyter/nbextensions/skip-traceback/readme.md\r\n",
      "[I 17:30:09 InstallContribNbextensionsApp] Copying: /opt/anaconda3/lib/python3.9/site-packages/jupyter_contrib_nbextensions/nbextensions/skip-traceback/main.js -> /opt/anaconda3/share/jupyter/nbextensions/skip-traceback/main.js\r\n",
      "[I 17:30:09 InstallContribNbextensionsApp] Copying: /opt/anaconda3/lib/python3.9/site-packages/jupyter_contrib_nbextensions/nbextensions/skip-traceback/skip-traceback.yaml -> /opt/anaconda3/share/jupyter/nbextensions/skip-traceback/skip-traceback.yaml\r\n",
      "[I 17:30:09 InstallContribNbextensionsApp] Copying: /opt/anaconda3/lib/python3.9/site-packages/jupyter_contrib_nbextensions/nbextensions/skip-traceback/skip-traceback.png -> /opt/anaconda3/share/jupyter/nbextensions/skip-traceback/skip-traceback.png\r\n",
      "[I 17:30:09 InstallContribNbextensionsApp] - Validating: \u001b[32mOK\u001b[0m\r\n",
      "[I 17:30:09 InstallContribNbextensionsApp] Installing /opt/anaconda3/lib/python3.9/site-packages/jupyter_contrib_nbextensions/nbextensions/python-markdown -> python-markdown\r\n",
      "[I 17:30:09 InstallContribNbextensionsApp] Making directory: /opt/anaconda3/share/jupyter/nbextensions/python-markdown/\r\n",
      "[I 17:30:09 InstallContribNbextensionsApp] Copying: /opt/anaconda3/lib/python3.9/site-packages/jupyter_contrib_nbextensions/nbextensions/python-markdown/untrusted.png -> /opt/anaconda3/share/jupyter/nbextensions/python-markdown/untrusted.png\r\n",
      "[I 17:30:09 InstallContribNbextensionsApp] Copying: /opt/anaconda3/lib/python3.9/site-packages/jupyter_contrib_nbextensions/nbextensions/python-markdown/python-markdown-pre.png -> /opt/anaconda3/share/jupyter/nbextensions/python-markdown/python-markdown-pre.png\r\n",
      "[I 17:30:09 InstallContribNbextensionsApp] Copying: /opt/anaconda3/lib/python3.9/site-packages/jupyter_contrib_nbextensions/nbextensions/python-markdown/main.css -> /opt/anaconda3/share/jupyter/nbextensions/python-markdown/main.css\r\n",
      "[I 17:30:09 InstallContribNbextensionsApp] Copying: /opt/anaconda3/lib/python3.9/site-packages/jupyter_contrib_nbextensions/nbextensions/python-markdown/readme.md -> /opt/anaconda3/share/jupyter/nbextensions/python-markdown/readme.md\r\n",
      "[I 17:30:09 InstallContribNbextensionsApp] Copying: /opt/anaconda3/lib/python3.9/site-packages/jupyter_contrib_nbextensions/nbextensions/python-markdown/main.js -> /opt/anaconda3/share/jupyter/nbextensions/python-markdown/main.js\r\n",
      "[I 17:30:09 InstallContribNbextensionsApp] Copying: /opt/anaconda3/lib/python3.9/site-packages/jupyter_contrib_nbextensions/nbextensions/python-markdown/python-markdown.png -> /opt/anaconda3/share/jupyter/nbextensions/python-markdown/python-markdown.png\r\n",
      "[I 17:30:09 InstallContribNbextensionsApp] Copying: /opt/anaconda3/lib/python3.9/site-packages/jupyter_contrib_nbextensions/nbextensions/python-markdown/trusted.png -> /opt/anaconda3/share/jupyter/nbextensions/python-markdown/trusted.png\r\n",
      "[I 17:30:09 InstallContribNbextensionsApp] Copying: /opt/anaconda3/lib/python3.9/site-packages/jupyter_contrib_nbextensions/nbextensions/python-markdown/python-markdown.yaml -> /opt/anaconda3/share/jupyter/nbextensions/python-markdown/python-markdown.yaml\r\n",
      "[I 17:30:09 InstallContribNbextensionsApp] Copying: /opt/anaconda3/lib/python3.9/site-packages/jupyter_contrib_nbextensions/nbextensions/python-markdown/python-markdown-post.png -> /opt/anaconda3/share/jupyter/nbextensions/python-markdown/python-markdown-post.png\r\n",
      "[I 17:30:09 InstallContribNbextensionsApp] - Validating: \u001b[32mOK\u001b[0m\r\n",
      "[I 17:30:09 InstallContribNbextensionsApp] Installing /opt/anaconda3/lib/python3.9/site-packages/jupyter_contrib_nbextensions/nbextensions/codefolding -> codefolding\r\n",
      "[I 17:30:09 InstallContribNbextensionsApp] Making directory: /opt/anaconda3/share/jupyter/nbextensions/codefolding/\r\n",
      "[I 17:30:09 InstallContribNbextensionsApp] Copying: /opt/anaconda3/lib/python3.9/site-packages/jupyter_contrib_nbextensions/nbextensions/codefolding/codefolding_editor.yaml -> /opt/anaconda3/share/jupyter/nbextensions/codefolding/codefolding_editor.yaml\r\n",
      "[I 17:30:09 InstallContribNbextensionsApp] Copying: /opt/anaconda3/lib/python3.9/site-packages/jupyter_contrib_nbextensions/nbextensions/codefolding/icon.png -> /opt/anaconda3/share/jupyter/nbextensions/codefolding/icon.png\r\n",
      "[I 17:30:09 InstallContribNbextensionsApp] Copying: /opt/anaconda3/lib/python3.9/site-packages/jupyter_contrib_nbextensions/nbextensions/codefolding/codefolding_firstline_folded.png -> /opt/anaconda3/share/jupyter/nbextensions/codefolding/codefolding_firstline_folded.png\r\n",
      "[I 17:30:09 InstallContribNbextensionsApp] Copying: /opt/anaconda3/lib/python3.9/site-packages/jupyter_contrib_nbextensions/nbextensions/codefolding/codefolding_indent_folded_2.png -> /opt/anaconda3/share/jupyter/nbextensions/codefolding/codefolding_indent_folded_2.png\r\n",
      "[I 17:30:09 InstallContribNbextensionsApp] Copying: /opt/anaconda3/lib/python3.9/site-packages/jupyter_contrib_nbextensions/nbextensions/codefolding/codefolding_indent_folded_1.png -> /opt/anaconda3/share/jupyter/nbextensions/codefolding/codefolding_indent_folded_1.png\r\n",
      "[I 17:30:09 InstallContribNbextensionsApp] Copying: /opt/anaconda3/lib/python3.9/site-packages/jupyter_contrib_nbextensions/nbextensions/codefolding/edit.js -> /opt/anaconda3/share/jupyter/nbextensions/codefolding/edit.js\r\n",
      "[I 17:30:09 InstallContribNbextensionsApp] Copying: /opt/anaconda3/lib/python3.9/site-packages/jupyter_contrib_nbextensions/nbextensions/codefolding/magic-fold.js -> /opt/anaconda3/share/jupyter/nbextensions/codefolding/magic-fold.js\r\n",
      "[I 17:30:09 InstallContribNbextensionsApp] Copying: /opt/anaconda3/lib/python3.9/site-packages/jupyter_contrib_nbextensions/nbextensions/codefolding/firstline-fold.js -> /opt/anaconda3/share/jupyter/nbextensions/codefolding/firstline-fold.js\r\n",
      "[I 17:30:09 InstallContribNbextensionsApp] Copying: /opt/anaconda3/lib/python3.9/site-packages/jupyter_contrib_nbextensions/nbextensions/codefolding/codefolding_firstline_unfolded.png -> /opt/anaconda3/share/jupyter/nbextensions/codefolding/codefolding_firstline_unfolded.png\r\n",
      "[I 17:30:09 InstallContribNbextensionsApp] Copying: /opt/anaconda3/lib/python3.9/site-packages/jupyter_contrib_nbextensions/nbextensions/codefolding/readme.md -> /opt/anaconda3/share/jupyter/nbextensions/codefolding/readme.md\r\n",
      "[I 17:30:09 InstallContribNbextensionsApp] Copying: /opt/anaconda3/lib/python3.9/site-packages/jupyter_contrib_nbextensions/nbextensions/codefolding/main.js -> /opt/anaconda3/share/jupyter/nbextensions/codefolding/main.js\r\n",
      "[I 17:30:09 InstallContribNbextensionsApp] Copying: /opt/anaconda3/lib/python3.9/site-packages/jupyter_contrib_nbextensions/nbextensions/codefolding/magic-unfolded.png -> /opt/anaconda3/share/jupyter/nbextensions/codefolding/magic-unfolded.png\r\n",
      "[I 17:30:09 InstallContribNbextensionsApp] Copying: /opt/anaconda3/lib/python3.9/site-packages/jupyter_contrib_nbextensions/nbextensions/codefolding/foldgutter.css -> /opt/anaconda3/share/jupyter/nbextensions/codefolding/foldgutter.css\r\n",
      "[I 17:30:09 InstallContribNbextensionsApp] Copying: /opt/anaconda3/lib/python3.9/site-packages/jupyter_contrib_nbextensions/nbextensions/codefolding/magic-folded.png -> /opt/anaconda3/share/jupyter/nbextensions/codefolding/magic-folded.png\r\n",
      "[I 17:30:09 InstallContribNbextensionsApp] Copying: /opt/anaconda3/lib/python3.9/site-packages/jupyter_contrib_nbextensions/nbextensions/codefolding/codefolding.yaml -> /opt/anaconda3/share/jupyter/nbextensions/codefolding/codefolding.yaml\r\n",
      "[I 17:30:09 InstallContribNbextensionsApp] Copying: /opt/anaconda3/lib/python3.9/site-packages/jupyter_contrib_nbextensions/nbextensions/codefolding/codefolding_editor.png -> /opt/anaconda3/share/jupyter/nbextensions/codefolding/codefolding_editor.png\r\n",
      "[I 17:30:09 InstallContribNbextensionsApp] Copying: /opt/anaconda3/lib/python3.9/site-packages/jupyter_contrib_nbextensions/nbextensions/codefolding/codefolding_indent_unfolded.png -> /opt/anaconda3/share/jupyter/nbextensions/codefolding/codefolding_indent_unfolded.png\r\n",
      "[I 17:30:09 InstallContribNbextensionsApp] Copying: /opt/anaconda3/lib/python3.9/site-packages/jupyter_contrib_nbextensions/nbextensions/codefolding/blockcomment-fold.js -> /opt/anaconda3/share/jupyter/nbextensions/codefolding/blockcomment-fold.js\r\n",
      "[I 17:30:09 InstallContribNbextensionsApp] - Validating: \u001b[32mOK\u001b[0m\r\n",
      "[I 17:30:09 InstallContribNbextensionsApp] Installing /opt/anaconda3/lib/python3.9/site-packages/jupyter_contrib_nbextensions/nbextensions/codefolding -> codefolding\r\n",
      "[I 17:30:09 InstallContribNbextensionsApp] Up to date: /opt/anaconda3/share/jupyter/nbextensions/codefolding/codefolding_editor.yaml\r\n",
      "[I 17:30:09 InstallContribNbextensionsApp] Up to date: /opt/anaconda3/share/jupyter/nbextensions/codefolding/icon.png\r\n",
      "[I 17:30:09 InstallContribNbextensionsApp] Up to date: /opt/anaconda3/share/jupyter/nbextensions/codefolding/codefolding_firstline_folded.png\r\n",
      "[I 17:30:09 InstallContribNbextensionsApp] Up to date: /opt/anaconda3/share/jupyter/nbextensions/codefolding/codefolding_indent_folded_2.png\r\n",
      "[I 17:30:09 InstallContribNbextensionsApp] Up to date: /opt/anaconda3/share/jupyter/nbextensions/codefolding/codefolding_indent_folded_1.png\r\n",
      "[I 17:30:09 InstallContribNbextensionsApp] Up to date: /opt/anaconda3/share/jupyter/nbextensions/codefolding/edit.js\r\n",
      "[I 17:30:09 InstallContribNbextensionsApp] Up to date: /opt/anaconda3/share/jupyter/nbextensions/codefolding/magic-fold.js\r\n",
      "[I 17:30:09 InstallContribNbextensionsApp] Up to date: /opt/anaconda3/share/jupyter/nbextensions/codefolding/firstline-fold.js\r\n",
      "[I 17:30:09 InstallContribNbextensionsApp] Up to date: /opt/anaconda3/share/jupyter/nbextensions/codefolding/codefolding_firstline_unfolded.png\r\n",
      "[I 17:30:09 InstallContribNbextensionsApp] Up to date: /opt/anaconda3/share/jupyter/nbextensions/codefolding/readme.md\r\n",
      "[I 17:30:09 InstallContribNbextensionsApp] Up to date: /opt/anaconda3/share/jupyter/nbextensions/codefolding/main.js\r\n",
      "[I 17:30:09 InstallContribNbextensionsApp] Up to date: /opt/anaconda3/share/jupyter/nbextensions/codefolding/magic-unfolded.png\r\n",
      "[I 17:30:09 InstallContribNbextensionsApp] Up to date: /opt/anaconda3/share/jupyter/nbextensions/codefolding/foldgutter.css\r\n",
      "[I 17:30:09 InstallContribNbextensionsApp] Up to date: /opt/anaconda3/share/jupyter/nbextensions/codefolding/magic-folded.png\r\n",
      "[I 17:30:09 InstallContribNbextensionsApp] Up to date: /opt/anaconda3/share/jupyter/nbextensions/codefolding/codefolding.yaml\r\n",
      "[I 17:30:09 InstallContribNbextensionsApp] Up to date: /opt/anaconda3/share/jupyter/nbextensions/codefolding/codefolding_editor.png\r\n",
      "[I 17:30:09 InstallContribNbextensionsApp] Up to date: /opt/anaconda3/share/jupyter/nbextensions/codefolding/codefolding_indent_unfolded.png\r\n",
      "[I 17:30:09 InstallContribNbextensionsApp] Up to date: /opt/anaconda3/share/jupyter/nbextensions/codefolding/blockcomment-fold.js\r\n",
      "[I 17:30:09 InstallContribNbextensionsApp] - Validating: \u001b[32mOK\u001b[0m\r\n",
      "[I 17:30:09 InstallContribNbextensionsApp] Installing /opt/anaconda3/lib/python3.9/site-packages/jupyter_contrib_nbextensions/nbextensions/collapsible_headings -> collapsible_headings\r\n",
      "[I 17:30:09 InstallContribNbextensionsApp] Making directory: /opt/anaconda3/share/jupyter/nbextensions/collapsible_headings/\r\n",
      "[I 17:30:09 InstallContribNbextensionsApp] Copying: /opt/anaconda3/lib/python3.9/site-packages/jupyter_contrib_nbextensions/nbextensions/collapsible_headings/icon.png -> /opt/anaconda3/share/jupyter/nbextensions/collapsible_headings/icon.png\r\n",
      "[I 17:30:09 InstallContribNbextensionsApp] Copying: /opt/anaconda3/lib/python3.9/site-packages/jupyter_contrib_nbextensions/nbextensions/collapsible_headings/screenshot.png -> /opt/anaconda3/share/jupyter/nbextensions/collapsible_headings/screenshot.png\r\n",
      "[I 17:30:09 InstallContribNbextensionsApp] Copying: /opt/anaconda3/lib/python3.9/site-packages/jupyter_contrib_nbextensions/nbextensions/collapsible_headings/main.css -> /opt/anaconda3/share/jupyter/nbextensions/collapsible_headings/main.css\r\n",
      "[I 17:30:09 InstallContribNbextensionsApp] Copying: /opt/anaconda3/lib/python3.9/site-packages/jupyter_contrib_nbextensions/nbextensions/collapsible_headings/readme.md -> /opt/anaconda3/share/jupyter/nbextensions/collapsible_headings/readme.md\r\n",
      "[I 17:30:09 InstallContribNbextensionsApp] Copying: /opt/anaconda3/lib/python3.9/site-packages/jupyter_contrib_nbextensions/nbextensions/collapsible_headings/main.js -> /opt/anaconda3/share/jupyter/nbextensions/collapsible_headings/main.js\r\n",
      "[I 17:30:09 InstallContribNbextensionsApp] Copying: /opt/anaconda3/lib/python3.9/site-packages/jupyter_contrib_nbextensions/nbextensions/collapsible_headings/collapsible_headings.yaml -> /opt/anaconda3/share/jupyter/nbextensions/collapsible_headings/collapsible_headings.yaml\r\n",
      "[I 17:30:09 InstallContribNbextensionsApp] - Validating: \u001b[32mOK\u001b[0m\r\n",
      "[I 17:30:09 InstallContribNbextensionsApp] Installing /opt/anaconda3/lib/python3.9/site-packages/jupyter_contrib_nbextensions/nbextensions/exercise -> exercise\r\n",
      "[I 17:30:09 InstallContribNbextensionsApp] Making directory: /opt/anaconda3/share/jupyter/nbextensions/exercise/\r\n",
      "[I 17:30:09 InstallContribNbextensionsApp] Copying: /opt/anaconda3/lib/python3.9/site-packages/jupyter_contrib_nbextensions/nbextensions/exercise/icon.png -> /opt/anaconda3/share/jupyter/nbextensions/exercise/icon.png\r\n",
      "[I 17:30:09 InstallContribNbextensionsApp] Copying: /opt/anaconda3/lib/python3.9/site-packages/jupyter_contrib_nbextensions/nbextensions/exercise/history.md -> /opt/anaconda3/share/jupyter/nbextensions/exercise/history.md\r\n",
      "[I 17:30:09 InstallContribNbextensionsApp] Copying: /opt/anaconda3/lib/python3.9/site-packages/jupyter_contrib_nbextensions/nbextensions/exercise/main.css -> /opt/anaconda3/share/jupyter/nbextensions/exercise/main.css\r\n",
      "[I 17:30:09 InstallContribNbextensionsApp] Copying: /opt/anaconda3/lib/python3.9/site-packages/jupyter_contrib_nbextensions/nbextensions/exercise/image.gif -> /opt/anaconda3/share/jupyter/nbextensions/exercise/image.gif\r\n",
      "[I 17:30:09 InstallContribNbextensionsApp] Copying: /opt/anaconda3/lib/python3.9/site-packages/jupyter_contrib_nbextensions/nbextensions/exercise/readme.md -> /opt/anaconda3/share/jupyter/nbextensions/exercise/readme.md\r\n",
      "[I 17:30:09 InstallContribNbextensionsApp] Copying: /opt/anaconda3/lib/python3.9/site-packages/jupyter_contrib_nbextensions/nbextensions/exercise/main.js -> /opt/anaconda3/share/jupyter/nbextensions/exercise/main.js\r\n",
      "[I 17:30:09 InstallContribNbextensionsApp] Copying: /opt/anaconda3/lib/python3.9/site-packages/jupyter_contrib_nbextensions/nbextensions/exercise/exercise.yaml -> /opt/anaconda3/share/jupyter/nbextensions/exercise/exercise.yaml\r\n",
      "[I 17:30:09 InstallContribNbextensionsApp] - Validating: \u001b[32mOK\u001b[0m\r\n",
      "[I 17:30:09 InstallContribNbextensionsApp] Installing /opt/anaconda3/lib/python3.9/site-packages/jupyter_contrib_nbextensions/nbextensions/codemirror_mode_extensions -> codemirror_mode_extensions\r\n",
      "[I 17:30:09 InstallContribNbextensionsApp] Making directory: /opt/anaconda3/share/jupyter/nbextensions/codemirror_mode_extensions/\r\n",
      "[I 17:30:09 InstallContribNbextensionsApp] Copying: /opt/anaconda3/lib/python3.9/site-packages/jupyter_contrib_nbextensions/nbextensions/codemirror_mode_extensions/codemirror_mode_extensions.yaml -> /opt/anaconda3/share/jupyter/nbextensions/codemirror_mode_extensions/codemirror_mode_extensions.yaml\r\n",
      "[I 17:30:09 InstallContribNbextensionsApp] Copying: /opt/anaconda3/lib/python3.9/site-packages/jupyter_contrib_nbextensions/nbextensions/codemirror_mode_extensions/main.js -> /opt/anaconda3/share/jupyter/nbextensions/codemirror_mode_extensions/main.js\r\n",
      "[I 17:30:09 InstallContribNbextensionsApp] - Validating: \u001b[32mOK\u001b[0m\r\n",
      "[I 17:30:09 InstallContribNbextensionsApp] Installing /opt/anaconda3/lib/python3.9/site-packages/jupyter_contrib_nbextensions/nbextensions/ruler -> ruler\r\n",
      "[I 17:30:09 InstallContribNbextensionsApp] Making directory: /opt/anaconda3/share/jupyter/nbextensions/ruler/\r\n",
      "[I 17:30:09 InstallContribNbextensionsApp] Copying: /opt/anaconda3/lib/python3.9/site-packages/jupyter_contrib_nbextensions/nbextensions/ruler/icon.png -> /opt/anaconda3/share/jupyter/nbextensions/ruler/icon.png\r\n",
      "[I 17:30:09 InstallContribNbextensionsApp] Copying: /opt/anaconda3/lib/python3.9/site-packages/jupyter_contrib_nbextensions/nbextensions/ruler/edit.js -> /opt/anaconda3/share/jupyter/nbextensions/ruler/edit.js\r\n",
      "[I 17:30:09 InstallContribNbextensionsApp] Copying: /opt/anaconda3/lib/python3.9/site-packages/jupyter_contrib_nbextensions/nbextensions/ruler/ruler_editor.yaml -> /opt/anaconda3/share/jupyter/nbextensions/ruler/ruler_editor.yaml\r\n",
      "[I 17:30:09 InstallContribNbextensionsApp] Copying: /opt/anaconda3/lib/python3.9/site-packages/jupyter_contrib_nbextensions/nbextensions/ruler/readme.md -> /opt/anaconda3/share/jupyter/nbextensions/ruler/readme.md\r\n",
      "[I 17:30:09 InstallContribNbextensionsApp] Copying: /opt/anaconda3/lib/python3.9/site-packages/jupyter_contrib_nbextensions/nbextensions/ruler/main.js -> /opt/anaconda3/share/jupyter/nbextensions/ruler/main.js\r\n",
      "[I 17:30:09 InstallContribNbextensionsApp] Copying: /opt/anaconda3/lib/python3.9/site-packages/jupyter_contrib_nbextensions/nbextensions/ruler/ruler.yaml -> /opt/anaconda3/share/jupyter/nbextensions/ruler/ruler.yaml\r\n",
      "[I 17:30:09 InstallContribNbextensionsApp] - Validating: \u001b[32mOK\u001b[0m\r\n",
      "[I 17:30:09 InstallContribNbextensionsApp] Installing /opt/anaconda3/lib/python3.9/site-packages/jupyter_contrib_nbextensions/nbextensions/ruler -> ruler\r\n",
      "[I 17:30:09 InstallContribNbextensionsApp] Up to date: /opt/anaconda3/share/jupyter/nbextensions/ruler/icon.png\r\n",
      "[I 17:30:09 InstallContribNbextensionsApp] Up to date: /opt/anaconda3/share/jupyter/nbextensions/ruler/edit.js\r\n",
      "[I 17:30:09 InstallContribNbextensionsApp] Up to date: /opt/anaconda3/share/jupyter/nbextensions/ruler/ruler_editor.yaml\r\n",
      "[I 17:30:09 InstallContribNbextensionsApp] Up to date: /opt/anaconda3/share/jupyter/nbextensions/ruler/readme.md\r\n",
      "[I 17:30:09 InstallContribNbextensionsApp] Up to date: /opt/anaconda3/share/jupyter/nbextensions/ruler/main.js\r\n",
      "[I 17:30:09 InstallContribNbextensionsApp] Up to date: /opt/anaconda3/share/jupyter/nbextensions/ruler/ruler.yaml\r\n",
      "[I 17:30:09 InstallContribNbextensionsApp] - Validating: \u001b[32mOK\u001b[0m\r\n",
      "[I 17:30:09 InstallContribNbextensionsApp] Installing /opt/anaconda3/lib/python3.9/site-packages/jupyter_contrib_nbextensions/nbextensions/contrib_nbextensions_help_item -> contrib_nbextensions_help_item\r\n",
      "[I 17:30:09 InstallContribNbextensionsApp] Making directory: /opt/anaconda3/share/jupyter/nbextensions/contrib_nbextensions_help_item/\r\n",
      "[I 17:30:09 InstallContribNbextensionsApp] Copying: /opt/anaconda3/lib/python3.9/site-packages/jupyter_contrib_nbextensions/nbextensions/contrib_nbextensions_help_item/README.md -> /opt/anaconda3/share/jupyter/nbextensions/contrib_nbextensions_help_item/README.md\r\n",
      "[I 17:30:09 InstallContribNbextensionsApp] Copying: /opt/anaconda3/lib/python3.9/site-packages/jupyter_contrib_nbextensions/nbextensions/contrib_nbextensions_help_item/main.js -> /opt/anaconda3/share/jupyter/nbextensions/contrib_nbextensions_help_item/main.js\r\n",
      "[I 17:30:09 InstallContribNbextensionsApp] Copying: /opt/anaconda3/lib/python3.9/site-packages/jupyter_contrib_nbextensions/nbextensions/contrib_nbextensions_help_item/contrib_nbextensions_help_item.yaml -> /opt/anaconda3/share/jupyter/nbextensions/contrib_nbextensions_help_item/contrib_nbextensions_help_item.yaml\r\n",
      "[I 17:30:09 InstallContribNbextensionsApp] - Validating: \u001b[32mOK\u001b[0m\r\n",
      "[I 17:30:09 InstallContribNbextensionsApp] Installing /opt/anaconda3/lib/python3.9/site-packages/jupyter_contrib_nbextensions/nbextensions/datestamper -> datestamper\r\n",
      "[I 17:30:09 InstallContribNbextensionsApp] Making directory: /opt/anaconda3/share/jupyter/nbextensions/datestamper/\r\n",
      "[I 17:30:09 InstallContribNbextensionsApp] Copying: /opt/anaconda3/lib/python3.9/site-packages/jupyter_contrib_nbextensions/nbextensions/datestamper/icon.png -> /opt/anaconda3/share/jupyter/nbextensions/datestamper/icon.png\r\n",
      "[I 17:30:09 InstallContribNbextensionsApp] Copying: /opt/anaconda3/lib/python3.9/site-packages/jupyter_contrib_nbextensions/nbextensions/datestamper/main.yaml -> /opt/anaconda3/share/jupyter/nbextensions/datestamper/main.yaml\r\n",
      "[I 17:30:09 InstallContribNbextensionsApp] Copying: /opt/anaconda3/lib/python3.9/site-packages/jupyter_contrib_nbextensions/nbextensions/datestamper/readme.md -> /opt/anaconda3/share/jupyter/nbextensions/datestamper/readme.md\r\n",
      "[I 17:30:09 InstallContribNbextensionsApp] Copying: /opt/anaconda3/lib/python3.9/site-packages/jupyter_contrib_nbextensions/nbextensions/datestamper/main.js -> /opt/anaconda3/share/jupyter/nbextensions/datestamper/main.js\r\n",
      "[I 17:30:09 InstallContribNbextensionsApp] - Validating: \u001b[32mOK\u001b[0m\r\n",
      "[I 17:30:09 InstallContribNbextensionsApp] Installing /opt/anaconda3/lib/python3.9/site-packages/jupyter_contrib_nbextensions/nbextensions/go_to_current_running_cell -> go_to_current_running_cell\r\n",
      "[I 17:30:09 InstallContribNbextensionsApp] Making directory: /opt/anaconda3/share/jupyter/nbextensions/go_to_current_running_cell/\r\n",
      "[I 17:30:09 InstallContribNbextensionsApp] Copying: /opt/anaconda3/lib/python3.9/site-packages/jupyter_contrib_nbextensions/nbextensions/go_to_current_running_cell/jump_to_cell.gif -> /opt/anaconda3/share/jupyter/nbextensions/go_to_current_running_cell/jump_to_cell.gif\r\n",
      "[I 17:30:09 InstallContribNbextensionsApp] Copying: /opt/anaconda3/lib/python3.9/site-packages/jupyter_contrib_nbextensions/nbextensions/go_to_current_running_cell/README.md -> /opt/anaconda3/share/jupyter/nbextensions/go_to_current_running_cell/README.md\r\n",
      "[I 17:30:09 InstallContribNbextensionsApp] Copying: /opt/anaconda3/lib/python3.9/site-packages/jupyter_contrib_nbextensions/nbextensions/go_to_current_running_cell/main.js -> /opt/anaconda3/share/jupyter/nbextensions/go_to_current_running_cell/main.js\r\n",
      "[I 17:30:09 InstallContribNbextensionsApp] Copying: /opt/anaconda3/lib/python3.9/site-packages/jupyter_contrib_nbextensions/nbextensions/go_to_current_running_cell/go_to_current_running_cell.yaml -> /opt/anaconda3/share/jupyter/nbextensions/go_to_current_running_cell/go_to_current_running_cell.yaml\r\n",
      "[I 17:30:09 InstallContribNbextensionsApp] Copying: /opt/anaconda3/lib/python3.9/site-packages/jupyter_contrib_nbextensions/nbextensions/go_to_current_running_cell/auto_focus.gif -> /opt/anaconda3/share/jupyter/nbextensions/go_to_current_running_cell/auto_focus.gif\r\n",
      "[I 17:30:09 InstallContribNbextensionsApp] Copying: /opt/anaconda3/lib/python3.9/site-packages/jupyter_contrib_nbextensions/nbextensions/go_to_current_running_cell/eye.png -> /opt/anaconda3/share/jupyter/nbextensions/go_to_current_running_cell/eye.png\r\n",
      "[I 17:30:09 InstallContribNbextensionsApp] Copying: /opt/anaconda3/lib/python3.9/site-packages/jupyter_contrib_nbextensions/nbextensions/go_to_current_running_cell/anchor.png -> /opt/anaconda3/share/jupyter/nbextensions/go_to_current_running_cell/anchor.png\r\n",
      "[I 17:30:09 InstallContribNbextensionsApp] - Validating: \u001b[32mOK\u001b[0m\r\n",
      "[I 17:30:09 InstallContribNbextensionsApp] Installing /opt/anaconda3/lib/python3.9/site-packages/jupyter_contrib_nbextensions/nbextensions/init_cell -> init_cell\r\n",
      "[I 17:30:09 InstallContribNbextensionsApp] Making directory: /opt/anaconda3/share/jupyter/nbextensions/init_cell/\r\n",
      "[I 17:30:09 InstallContribNbextensionsApp] Copying: /opt/anaconda3/lib/python3.9/site-packages/jupyter_contrib_nbextensions/nbextensions/init_cell/init_cell.yaml -> /opt/anaconda3/share/jupyter/nbextensions/init_cell/init_cell.yaml\r\n",
      "[I 17:30:09 InstallContribNbextensionsApp] Copying: /opt/anaconda3/lib/python3.9/site-packages/jupyter_contrib_nbextensions/nbextensions/init_cell/icon.png -> /opt/anaconda3/share/jupyter/nbextensions/init_cell/icon.png\r\n",
      "[I 17:30:09 InstallContribNbextensionsApp] Copying: /opt/anaconda3/lib/python3.9/site-packages/jupyter_contrib_nbextensions/nbextensions/init_cell/README.md -> /opt/anaconda3/share/jupyter/nbextensions/init_cell/README.md\r\n",
      "[I 17:30:09 InstallContribNbextensionsApp] Copying: /opt/anaconda3/lib/python3.9/site-packages/jupyter_contrib_nbextensions/nbextensions/init_cell/main.js -> /opt/anaconda3/share/jupyter/nbextensions/init_cell/main.js\r\n",
      "[I 17:30:09 InstallContribNbextensionsApp] Copying: /opt/anaconda3/lib/python3.9/site-packages/jupyter_contrib_nbextensions/nbextensions/init_cell/cell_toolbar_menu.png -> /opt/anaconda3/share/jupyter/nbextensions/init_cell/cell_toolbar_menu.png\r\n",
      "[I 17:30:09 InstallContribNbextensionsApp] - Validating: \u001b[32mOK\u001b[0m\r\n",
      "[I 17:30:09 InstallContribNbextensionsApp] Installing /opt/anaconda3/lib/python3.9/site-packages/jupyter_contrib_nbextensions/nbextensions/limit_output -> limit_output\r\n",
      "[I 17:30:09 InstallContribNbextensionsApp] Making directory: /opt/anaconda3/share/jupyter/nbextensions/limit_output/\r\n",
      "[I 17:30:09 InstallContribNbextensionsApp] Copying: /opt/anaconda3/lib/python3.9/site-packages/jupyter_contrib_nbextensions/nbextensions/limit_output/icon.png -> /opt/anaconda3/share/jupyter/nbextensions/limit_output/icon.png\r\n",
      "[I 17:30:09 InstallContribNbextensionsApp] Copying: /opt/anaconda3/lib/python3.9/site-packages/jupyter_contrib_nbextensions/nbextensions/limit_output/readme.md -> /opt/anaconda3/share/jupyter/nbextensions/limit_output/readme.md\r\n",
      "[I 17:30:09 InstallContribNbextensionsApp] Copying: /opt/anaconda3/lib/python3.9/site-packages/jupyter_contrib_nbextensions/nbextensions/limit_output/main.js -> /opt/anaconda3/share/jupyter/nbextensions/limit_output/main.js\r\n",
      "[I 17:30:09 InstallContribNbextensionsApp] Copying: /opt/anaconda3/lib/python3.9/site-packages/jupyter_contrib_nbextensions/nbextensions/limit_output/limit-output.yaml -> /opt/anaconda3/share/jupyter/nbextensions/limit_output/limit-output.yaml\r\n",
      "[I 17:30:09 InstallContribNbextensionsApp] - Validating: \u001b[32mOK\u001b[0m\r\n",
      "[I 17:30:09 InstallContribNbextensionsApp] Installing /opt/anaconda3/lib/python3.9/site-packages/jupyter_contrib_nbextensions/nbextensions/qtconsole -> qtconsole\r\n",
      "[I 17:30:09 InstallContribNbextensionsApp] Making directory: /opt/anaconda3/share/jupyter/nbextensions/qtconsole/\r\n",
      "[I 17:30:09 InstallContribNbextensionsApp] Copying: /opt/anaconda3/lib/python3.9/site-packages/jupyter_contrib_nbextensions/nbextensions/qtconsole/qtconsole.js -> /opt/anaconda3/share/jupyter/nbextensions/qtconsole/qtconsole.js\r\n",
      "[I 17:30:09 InstallContribNbextensionsApp] Copying: /opt/anaconda3/lib/python3.9/site-packages/jupyter_contrib_nbextensions/nbextensions/qtconsole/qtconsole.yaml -> /opt/anaconda3/share/jupyter/nbextensions/qtconsole/qtconsole.yaml\r\n",
      "[I 17:30:09 InstallContribNbextensionsApp] Copying: /opt/anaconda3/lib/python3.9/site-packages/jupyter_contrib_nbextensions/nbextensions/qtconsole/README.md -> /opt/anaconda3/share/jupyter/nbextensions/qtconsole/README.md\r\n",
      "[I 17:30:09 InstallContribNbextensionsApp] - Validating: \u001b[32mOK\u001b[0m\r\n",
      "[I 17:30:09 InstallContribNbextensionsApp] Installing /opt/anaconda3/lib/python3.9/site-packages/jupyter_contrib_nbextensions/nbextensions/addbefore -> addbefore\r\n",
      "[I 17:30:09 InstallContribNbextensionsApp] Making directory: /opt/anaconda3/share/jupyter/nbextensions/addbefore/\r\n",
      "[I 17:30:09 InstallContribNbextensionsApp] Copying: /opt/anaconda3/lib/python3.9/site-packages/jupyter_contrib_nbextensions/nbextensions/addbefore/icon.png -> /opt/anaconda3/share/jupyter/nbextensions/addbefore/icon.png\r\n",
      "[I 17:30:09 InstallContribNbextensionsApp] Copying: /opt/anaconda3/lib/python3.9/site-packages/jupyter_contrib_nbextensions/nbextensions/addbefore/readme.md -> /opt/anaconda3/share/jupyter/nbextensions/addbefore/readme.md\r\n",
      "[I 17:30:09 InstallContribNbextensionsApp] Copying: /opt/anaconda3/lib/python3.9/site-packages/jupyter_contrib_nbextensions/nbextensions/addbefore/main.js -> /opt/anaconda3/share/jupyter/nbextensions/addbefore/main.js\r\n",
      "[I 17:30:09 InstallContribNbextensionsApp] Copying: /opt/anaconda3/lib/python3.9/site-packages/jupyter_contrib_nbextensions/nbextensions/addbefore/addbefore.yaml -> /opt/anaconda3/share/jupyter/nbextensions/addbefore/addbefore.yaml\r\n",
      "[I 17:30:09 InstallContribNbextensionsApp] - Validating: \u001b[32mOK\u001b[0m\r\n",
      "[I 17:30:09 InstallContribNbextensionsApp] Installing /opt/anaconda3/lib/python3.9/site-packages/jupyter_contrib_nbextensions/nbextensions/highlighter -> highlighter\r\n",
      "[I 17:30:09 InstallContribNbextensionsApp] Making directory: /opt/anaconda3/share/jupyter/nbextensions/highlighter/\r\n",
      "[I 17:30:09 InstallContribNbextensionsApp] Copying: /opt/anaconda3/lib/python3.9/site-packages/jupyter_contrib_nbextensions/nbextensions/highlighter/icon.png -> /opt/anaconda3/share/jupyter/nbextensions/highlighter/icon.png\r\n",
      "[I 17:30:09 InstallContribNbextensionsApp] Copying: /opt/anaconda3/lib/python3.9/site-packages/jupyter_contrib_nbextensions/nbextensions/highlighter/export_highlights.pdf -> /opt/anaconda3/share/jupyter/nbextensions/highlighter/export_highlights.pdf\r\n",
      "[I 17:30:09 InstallContribNbextensionsApp] Copying: /opt/anaconda3/lib/python3.9/site-packages/jupyter_contrib_nbextensions/nbextensions/highlighter/demo_highlighter.html -> /opt/anaconda3/share/jupyter/nbextensions/highlighter/demo_highlighter.html\r\n",
      "[I 17:30:09 InstallContribNbextensionsApp] Copying: /opt/anaconda3/lib/python3.9/site-packages/jupyter_contrib_nbextensions/nbextensions/highlighter/demo_highlighter.ipynb -> /opt/anaconda3/share/jupyter/nbextensions/highlighter/demo_highlighter.ipynb\r\n",
      "[I 17:30:09 InstallContribNbextensionsApp] Copying: /opt/anaconda3/lib/python3.9/site-packages/jupyter_contrib_nbextensions/nbextensions/highlighter/tst_highlights.ipynb -> /opt/anaconda3/share/jupyter/nbextensions/highlighter/tst_highlights.ipynb\r\n",
      "[I 17:30:09 InstallContribNbextensionsApp] Copying: /opt/anaconda3/lib/python3.9/site-packages/jupyter_contrib_nbextensions/nbextensions/highlighter/export_highlights.ipynb -> /opt/anaconda3/share/jupyter/nbextensions/highlighter/export_highlights.ipynb\r\n",
      "[I 17:30:09 InstallContribNbextensionsApp] Copying: /opt/anaconda3/lib/python3.9/site-packages/jupyter_contrib_nbextensions/nbextensions/highlighter/tst_highlights.html -> /opt/anaconda3/share/jupyter/nbextensions/highlighter/tst_highlights.html\r\n",
      "[I 17:30:09 InstallContribNbextensionsApp] Copying: /opt/anaconda3/lib/python3.9/site-packages/jupyter_contrib_nbextensions/nbextensions/highlighter/export_highlights.tex -> /opt/anaconda3/share/jupyter/nbextensions/highlighter/export_highlights.tex\r\n",
      "[I 17:30:09 InstallContribNbextensionsApp] Copying: /opt/anaconda3/lib/python3.9/site-packages/jupyter_contrib_nbextensions/nbextensions/highlighter/image.gif -> /opt/anaconda3/share/jupyter/nbextensions/highlighter/image.gif\r\n",
      "[I 17:30:09 InstallContribNbextensionsApp] Copying: /opt/anaconda3/lib/python3.9/site-packages/jupyter_contrib_nbextensions/nbextensions/highlighter/readme.md -> /opt/anaconda3/share/jupyter/nbextensions/highlighter/readme.md\r\n",
      "[I 17:30:09 InstallContribNbextensionsApp] Copying: /opt/anaconda3/lib/python3.9/site-packages/jupyter_contrib_nbextensions/nbextensions/highlighter/highlighter.css -> /opt/anaconda3/share/jupyter/nbextensions/highlighter/highlighter.css\r\n",
      "[I 17:30:09 InstallContribNbextensionsApp] Copying: /opt/anaconda3/lib/python3.9/site-packages/jupyter_contrib_nbextensions/nbextensions/highlighter/tst_highlights.pdf -> /opt/anaconda3/share/jupyter/nbextensions/highlighter/tst_highlights.pdf\r\n",
      "[I 17:30:09 InstallContribNbextensionsApp] Copying: /opt/anaconda3/lib/python3.9/site-packages/jupyter_contrib_nbextensions/nbextensions/highlighter/export_highlights.html -> /opt/anaconda3/share/jupyter/nbextensions/highlighter/export_highlights.html\r\n",
      "[I 17:30:09 InstallContribNbextensionsApp] Copying: /opt/anaconda3/lib/python3.9/site-packages/jupyter_contrib_nbextensions/nbextensions/highlighter/tst_highlights.tex -> /opt/anaconda3/share/jupyter/nbextensions/highlighter/tst_highlights.tex\r\n",
      "[I 17:30:09 InstallContribNbextensionsApp] Copying: /opt/anaconda3/lib/python3.9/site-packages/jupyter_contrib_nbextensions/nbextensions/highlighter/highlighter.yaml -> /opt/anaconda3/share/jupyter/nbextensions/highlighter/highlighter.yaml\r\n",
      "[I 17:30:09 InstallContribNbextensionsApp] Copying: /opt/anaconda3/lib/python3.9/site-packages/jupyter_contrib_nbextensions/nbextensions/highlighter/highlighter.js -> /opt/anaconda3/share/jupyter/nbextensions/highlighter/highlighter.js\r\n",
      "[I 17:30:09 InstallContribNbextensionsApp] - Validating: \u001b[32mOK\u001b[0m\r\n",
      "[I 17:30:09 InstallContribNbextensionsApp] Installing /opt/anaconda3/lib/python3.9/site-packages/jupyter_contrib_nbextensions/nbextensions/comment-uncomment -> comment-uncomment\r\n",
      "[I 17:30:09 InstallContribNbextensionsApp] Making directory: /opt/anaconda3/share/jupyter/nbextensions/comment-uncomment/\r\n",
      "[I 17:30:09 InstallContribNbextensionsApp] Copying: /opt/anaconda3/lib/python3.9/site-packages/jupyter_contrib_nbextensions/nbextensions/comment-uncomment/icon.png -> /opt/anaconda3/share/jupyter/nbextensions/comment-uncomment/icon.png\r\n",
      "[I 17:30:09 InstallContribNbextensionsApp] Copying: /opt/anaconda3/lib/python3.9/site-packages/jupyter_contrib_nbextensions/nbextensions/comment-uncomment/readme.md -> /opt/anaconda3/share/jupyter/nbextensions/comment-uncomment/readme.md\r\n",
      "[I 17:30:09 InstallContribNbextensionsApp] Copying: /opt/anaconda3/lib/python3.9/site-packages/jupyter_contrib_nbextensions/nbextensions/comment-uncomment/main.js -> /opt/anaconda3/share/jupyter/nbextensions/comment-uncomment/main.js\r\n",
      "[I 17:30:09 InstallContribNbextensionsApp] Copying: /opt/anaconda3/lib/python3.9/site-packages/jupyter_contrib_nbextensions/nbextensions/comment-uncomment/comment-uncomment.yaml -> /opt/anaconda3/share/jupyter/nbextensions/comment-uncomment/comment-uncomment.yaml\r\n",
      "[I 17:30:09 InstallContribNbextensionsApp] - Validating: \u001b[32mOK\u001b[0m\r\n",
      "[I 17:30:09 InstallContribNbextensionsApp] Installing /opt/anaconda3/lib/python3.9/site-packages/jupyter_contrib_nbextensions/nbextensions/code_font_size -> code_font_size\r\n",
      "[I 17:30:09 InstallContribNbextensionsApp] Making directory: /opt/anaconda3/share/jupyter/nbextensions/code_font_size/\r\n",
      "[I 17:30:09 InstallContribNbextensionsApp] Copying: /opt/anaconda3/lib/python3.9/site-packages/jupyter_contrib_nbextensions/nbextensions/code_font_size/code_font_size.yaml -> /opt/anaconda3/share/jupyter/nbextensions/code_font_size/code_font_size.yaml\r\n",
      "[I 17:30:09 InstallContribNbextensionsApp] Copying: /opt/anaconda3/lib/python3.9/site-packages/jupyter_contrib_nbextensions/nbextensions/code_font_size/code_font_size.js -> /opt/anaconda3/share/jupyter/nbextensions/code_font_size/code_font_size.js\r\n",
      "[I 17:30:09 InstallContribNbextensionsApp] Copying: /opt/anaconda3/lib/python3.9/site-packages/jupyter_contrib_nbextensions/nbextensions/code_font_size/README.md -> /opt/anaconda3/share/jupyter/nbextensions/code_font_size/README.md\r\n",
      "[I 17:30:09 InstallContribNbextensionsApp] - Validating: \u001b[32mOK\u001b[0m\r\n",
      "[I 17:30:09 InstallContribNbextensionsApp] Installing /opt/anaconda3/lib/python3.9/site-packages/jupyter_contrib_nbextensions/nbextensions/varInspector -> varInspector\r\n",
      "[I 17:30:09 InstallContribNbextensionsApp] Making directory: /opt/anaconda3/share/jupyter/nbextensions/varInspector/\r\n",
      "[I 17:30:09 InstallContribNbextensionsApp] Copying: /opt/anaconda3/lib/python3.9/site-packages/jupyter_contrib_nbextensions/nbextensions/varInspector/icon.png -> /opt/anaconda3/share/jupyter/nbextensions/varInspector/icon.png\r\n",
      "[I 17:30:09 InstallContribNbextensionsApp] Copying: /opt/anaconda3/lib/python3.9/site-packages/jupyter_contrib_nbextensions/nbextensions/varInspector/jquery.tablesorter.min.js -> /opt/anaconda3/share/jupyter/nbextensions/varInspector/jquery.tablesorter.min.js\r\n",
      "[I 17:30:09 InstallContribNbextensionsApp] Copying: /opt/anaconda3/lib/python3.9/site-packages/jupyter_contrib_nbextensions/nbextensions/varInspector/varInspector.yaml -> /opt/anaconda3/share/jupyter/nbextensions/varInspector/varInspector.yaml\r\n",
      "[I 17:30:09 InstallContribNbextensionsApp] Copying: /opt/anaconda3/lib/python3.9/site-packages/jupyter_contrib_nbextensions/nbextensions/varInspector/main.css -> /opt/anaconda3/share/jupyter/nbextensions/varInspector/main.css\r\n",
      "[I 17:30:09 InstallContribNbextensionsApp] Copying: /opt/anaconda3/lib/python3.9/site-packages/jupyter_contrib_nbextensions/nbextensions/varInspector/var_list.py -> /opt/anaconda3/share/jupyter/nbextensions/varInspector/var_list.py\r\n",
      "[I 17:30:09 InstallContribNbextensionsApp] Copying: /opt/anaconda3/lib/python3.9/site-packages/jupyter_contrib_nbextensions/nbextensions/varInspector/README.md -> /opt/anaconda3/share/jupyter/nbextensions/varInspector/README.md\r\n",
      "[I 17:30:09 InstallContribNbextensionsApp] Copying: /opt/anaconda3/lib/python3.9/site-packages/jupyter_contrib_nbextensions/nbextensions/varInspector/main.js -> /opt/anaconda3/share/jupyter/nbextensions/varInspector/main.js\r\n",
      "[I 17:30:09 InstallContribNbextensionsApp] Copying: /opt/anaconda3/lib/python3.9/site-packages/jupyter_contrib_nbextensions/nbextensions/varInspector/var_list.r -> /opt/anaconda3/share/jupyter/nbextensions/varInspector/var_list.r\r\n",
      "[I 17:30:09 InstallContribNbextensionsApp] Copying: /opt/anaconda3/lib/python3.9/site-packages/jupyter_contrib_nbextensions/nbextensions/varInspector/tablesorter_LICENSE.txt -> /opt/anaconda3/share/jupyter/nbextensions/varInspector/tablesorter_LICENSE.txt\r\n",
      "[I 17:30:09 InstallContribNbextensionsApp] Copying: /opt/anaconda3/lib/python3.9/site-packages/jupyter_contrib_nbextensions/nbextensions/varInspector/demo.gif -> /opt/anaconda3/share/jupyter/nbextensions/varInspector/demo.gif\r\n",
      "[I 17:30:09 InstallContribNbextensionsApp] - Validating: \u001b[32mOK\u001b[0m\r\n",
      "[I 17:30:09 InstallContribNbextensionsApp] Installing /opt/anaconda3/lib/python3.9/site-packages/jupyter_contrib_nbextensions/nbextensions/execute_time -> execute_time\r\n",
      "[I 17:30:09 InstallContribNbextensionsApp] Making directory: /opt/anaconda3/share/jupyter/nbextensions/execute_time/\r\n",
      "[I 17:30:09 InstallContribNbextensionsApp] Copying: /opt/anaconda3/lib/python3.9/site-packages/jupyter_contrib_nbextensions/nbextensions/execute_time/ExecuteTime.js -> /opt/anaconda3/share/jupyter/nbextensions/execute_time/ExecuteTime.js\r\n",
      "[I 17:30:09 InstallContribNbextensionsApp] Copying: /opt/anaconda3/lib/python3.9/site-packages/jupyter_contrib_nbextensions/nbextensions/execute_time/icon.png -> /opt/anaconda3/share/jupyter/nbextensions/execute_time/icon.png\r\n",
      "[I 17:30:09 InstallContribNbextensionsApp] Copying: /opt/anaconda3/lib/python3.9/site-packages/jupyter_contrib_nbextensions/nbextensions/execute_time/execution-timings-box.png -> /opt/anaconda3/share/jupyter/nbextensions/execute_time/execution-timings-box.png\r\n",
      "[I 17:30:09 InstallContribNbextensionsApp] Copying: /opt/anaconda3/lib/python3.9/site-packages/jupyter_contrib_nbextensions/nbextensions/execute_time/ExecuteTime.css -> /opt/anaconda3/share/jupyter/nbextensions/execute_time/ExecuteTime.css\r\n",
      "[I 17:30:09 InstallContribNbextensionsApp] Copying: /opt/anaconda3/lib/python3.9/site-packages/jupyter_contrib_nbextensions/nbextensions/execute_time/ExecuteTime.yaml -> /opt/anaconda3/share/jupyter/nbextensions/execute_time/ExecuteTime.yaml\r\n",
      "[I 17:30:09 InstallContribNbextensionsApp] Copying: /opt/anaconda3/lib/python3.9/site-packages/jupyter_contrib_nbextensions/nbextensions/execute_time/execution-timings-menu.png -> /opt/anaconda3/share/jupyter/nbextensions/execute_time/execution-timings-menu.png\r\n",
      "[I 17:30:09 InstallContribNbextensionsApp] Copying: /opt/anaconda3/lib/python3.9/site-packages/jupyter_contrib_nbextensions/nbextensions/execute_time/readme.md -> /opt/anaconda3/share/jupyter/nbextensions/execute_time/readme.md\r\n",
      "[I 17:30:09 InstallContribNbextensionsApp] - Validating: \u001b[32mOK\u001b[0m\r\n",
      "[I 17:30:09 InstallContribNbextensionsApp] Installing /opt/anaconda3/lib/python3.9/site-packages/jupyter_contrib_nbextensions/nbextensions/spellchecker -> spellchecker\r\n",
      "[I 17:30:09 InstallContribNbextensionsApp] Making directory: /opt/anaconda3/share/jupyter/nbextensions/spellchecker/\r\n",
      "[I 17:30:09 InstallContribNbextensionsApp] Copying: /opt/anaconda3/lib/python3.9/site-packages/jupyter_contrib_nbextensions/nbextensions/spellchecker/download_new_dict.py -> /opt/anaconda3/share/jupyter/nbextensions/spellchecker/download_new_dict.py\r\n",
      "[I 17:30:09 InstallContribNbextensionsApp] Copying: /opt/anaconda3/lib/python3.9/site-packages/jupyter_contrib_nbextensions/nbextensions/spellchecker/screenshot.png -> /opt/anaconda3/share/jupyter/nbextensions/spellchecker/screenshot.png\r\n",
      "[I 17:30:09 InstallContribNbextensionsApp] Copying: /opt/anaconda3/lib/python3.9/site-packages/jupyter_contrib_nbextensions/nbextensions/spellchecker/config.yaml -> /opt/anaconda3/share/jupyter/nbextensions/spellchecker/config.yaml\r\n",
      "[I 17:30:09 InstallContribNbextensionsApp] Copying: /opt/anaconda3/lib/python3.9/site-packages/jupyter_contrib_nbextensions/nbextensions/spellchecker/main.css -> /opt/anaconda3/share/jupyter/nbextensions/spellchecker/main.css\r\n",
      "[I 17:30:09 InstallContribNbextensionsApp] Copying: /opt/anaconda3/lib/python3.9/site-packages/jupyter_contrib_nbextensions/nbextensions/spellchecker/README.md -> /opt/anaconda3/share/jupyter/nbextensions/spellchecker/README.md\r\n",
      "[I 17:30:09 InstallContribNbextensionsApp] Copying: /opt/anaconda3/lib/python3.9/site-packages/jupyter_contrib_nbextensions/nbextensions/spellchecker/main.js -> /opt/anaconda3/share/jupyter/nbextensions/spellchecker/main.js\r\n",
      "[I 17:30:09 InstallContribNbextensionsApp] Making directory: /opt/anaconda3/share/jupyter/nbextensions/spellchecker/typo\r\n",
      "[I 17:30:09 InstallContribNbextensionsApp] Copying: /opt/anaconda3/lib/python3.9/site-packages/jupyter_contrib_nbextensions/nbextensions/spellchecker/typo/typo.js -> /opt/anaconda3/share/jupyter/nbextensions/spellchecker/typo/typo.js\r\n",
      "[I 17:30:09 InstallContribNbextensionsApp] Copying: /opt/anaconda3/lib/python3.9/site-packages/jupyter_contrib_nbextensions/nbextensions/spellchecker/typo/LICENSE.txt -> /opt/anaconda3/share/jupyter/nbextensions/spellchecker/typo/LICENSE.txt\r\n",
      "[I 17:30:09 InstallContribNbextensionsApp] - Validating: \u001b[32mOK\u001b[0m\r\n",
      "[I 17:30:09 InstallContribNbextensionsApp] Installing /opt/anaconda3/lib/python3.9/site-packages/jupyter_contrib_nbextensions/nbextensions/code_prettify -> code_prettify\r\n",
      "[I 17:30:09 InstallContribNbextensionsApp] Making directory: /opt/anaconda3/share/jupyter/nbextensions/code_prettify/\r\n",
      "[I 17:30:09 InstallContribNbextensionsApp] Copying: /opt/anaconda3/lib/python3.9/site-packages/jupyter_contrib_nbextensions/nbextensions/code_prettify/demo-py.gif -> /opt/anaconda3/share/jupyter/nbextensions/code_prettify/demo-py.gif\r\n",
      "[I 17:30:09 InstallContribNbextensionsApp] Copying: /opt/anaconda3/lib/python3.9/site-packages/jupyter_contrib_nbextensions/nbextensions/code_prettify/kernel_exec_on_cell.js -> /opt/anaconda3/share/jupyter/nbextensions/code_prettify/kernel_exec_on_cell.js\r\n",
      "[I 17:30:09 InstallContribNbextensionsApp] Copying: /opt/anaconda3/lib/python3.9/site-packages/jupyter_contrib_nbextensions/nbextensions/code_prettify/demo-jv.gif -> /opt/anaconda3/share/jupyter/nbextensions/code_prettify/demo-jv.gif\r\n",
      "[I 17:30:09 InstallContribNbextensionsApp] Copying: /opt/anaconda3/lib/python3.9/site-packages/jupyter_contrib_nbextensions/nbextensions/code_prettify/README_2to3.md -> /opt/anaconda3/share/jupyter/nbextensions/code_prettify/README_2to3.md\r\n",
      "[I 17:30:09 InstallContribNbextensionsApp] Copying: /opt/anaconda3/lib/python3.9/site-packages/jupyter_contrib_nbextensions/nbextensions/code_prettify/2to3.yaml -> /opt/anaconda3/share/jupyter/nbextensions/code_prettify/2to3.yaml\r\n",
      "[I 17:30:09 InstallContribNbextensionsApp] Copying: /opt/anaconda3/lib/python3.9/site-packages/jupyter_contrib_nbextensions/nbextensions/code_prettify/README_autopep8.md -> /opt/anaconda3/share/jupyter/nbextensions/code_prettify/README_autopep8.md\r\n",
      "[I 17:30:09 InstallContribNbextensionsApp] Copying: /opt/anaconda3/lib/python3.9/site-packages/jupyter_contrib_nbextensions/nbextensions/code_prettify/demo_2to3.gif -> /opt/anaconda3/share/jupyter/nbextensions/code_prettify/demo_2to3.gif\r\n",
      "[I 17:30:09 InstallContribNbextensionsApp] Copying: /opt/anaconda3/lib/python3.9/site-packages/jupyter_contrib_nbextensions/nbextensions/code_prettify/README_isort.md -> /opt/anaconda3/share/jupyter/nbextensions/code_prettify/README_isort.md\r\n",
      "[I 17:30:09 InstallContribNbextensionsApp] Copying: /opt/anaconda3/lib/python3.9/site-packages/jupyter_contrib_nbextensions/nbextensions/code_prettify/README_code_prettify.md -> /opt/anaconda3/share/jupyter/nbextensions/code_prettify/README_code_prettify.md\r\n",
      "[I 17:30:09 InstallContribNbextensionsApp] Copying: /opt/anaconda3/lib/python3.9/site-packages/jupyter_contrib_nbextensions/nbextensions/code_prettify/README.md -> /opt/anaconda3/share/jupyter/nbextensions/code_prettify/README.md\r\n",
      "[I 17:30:09 InstallContribNbextensionsApp] Copying: /opt/anaconda3/lib/python3.9/site-packages/jupyter_contrib_nbextensions/nbextensions/code_prettify/code_prettify.js -> /opt/anaconda3/share/jupyter/nbextensions/code_prettify/code_prettify.js\r\n",
      "[I 17:30:09 InstallContribNbextensionsApp] Copying: /opt/anaconda3/lib/python3.9/site-packages/jupyter_contrib_nbextensions/nbextensions/code_prettify/autopep8.js -> /opt/anaconda3/share/jupyter/nbextensions/code_prettify/autopep8.js\r\n",
      "[I 17:30:09 InstallContribNbextensionsApp] Copying: /opt/anaconda3/lib/python3.9/site-packages/jupyter_contrib_nbextensions/nbextensions/code_prettify/demo-R.gif -> /opt/anaconda3/share/jupyter/nbextensions/code_prettify/demo-R.gif\r\n",
      "[I 17:30:09 InstallContribNbextensionsApp] Copying: /opt/anaconda3/lib/python3.9/site-packages/jupyter_contrib_nbextensions/nbextensions/code_prettify/isort.js -> /opt/anaconda3/share/jupyter/nbextensions/code_prettify/isort.js\r\n",
      "[I 17:30:09 InstallContribNbextensionsApp] Copying: /opt/anaconda3/lib/python3.9/site-packages/jupyter_contrib_nbextensions/nbextensions/code_prettify/code_prettify.yaml -> /opt/anaconda3/share/jupyter/nbextensions/code_prettify/code_prettify.yaml\r\n",
      "[I 17:30:09 InstallContribNbextensionsApp] Copying: /opt/anaconda3/lib/python3.9/site-packages/jupyter_contrib_nbextensions/nbextensions/code_prettify/2to3.js -> /opt/anaconda3/share/jupyter/nbextensions/code_prettify/2to3.js\r\n",
      "[I 17:30:09 InstallContribNbextensionsApp] Copying: /opt/anaconda3/lib/python3.9/site-packages/jupyter_contrib_nbextensions/nbextensions/code_prettify/autopep8.yaml -> /opt/anaconda3/share/jupyter/nbextensions/code_prettify/autopep8.yaml\r\n",
      "[I 17:30:09 InstallContribNbextensionsApp] Copying: /opt/anaconda3/lib/python3.9/site-packages/jupyter_contrib_nbextensions/nbextensions/code_prettify/isort.yaml -> /opt/anaconda3/share/jupyter/nbextensions/code_prettify/isort.yaml\r\n",
      "[I 17:30:09 InstallContribNbextensionsApp] - Validating: \u001b[32mOK\u001b[0m\r\n",
      "[I 17:30:09 InstallContribNbextensionsApp] Installing /opt/anaconda3/lib/python3.9/site-packages/jupyter_contrib_nbextensions/nbextensions/code_prettify -> code_prettify\r\n",
      "[I 17:30:09 InstallContribNbextensionsApp] Up to date: /opt/anaconda3/share/jupyter/nbextensions/code_prettify/demo-py.gif\r\n",
      "[I 17:30:09 InstallContribNbextensionsApp] Up to date: /opt/anaconda3/share/jupyter/nbextensions/code_prettify/kernel_exec_on_cell.js\r\n",
      "[I 17:30:09 InstallContribNbextensionsApp] Up to date: /opt/anaconda3/share/jupyter/nbextensions/code_prettify/demo-jv.gif\r\n",
      "[I 17:30:09 InstallContribNbextensionsApp] Up to date: /opt/anaconda3/share/jupyter/nbextensions/code_prettify/README_2to3.md\r\n",
      "[I 17:30:09 InstallContribNbextensionsApp] Up to date: /opt/anaconda3/share/jupyter/nbextensions/code_prettify/2to3.yaml\r\n",
      "[I 17:30:09 InstallContribNbextensionsApp] Up to date: /opt/anaconda3/share/jupyter/nbextensions/code_prettify/README_autopep8.md\r\n",
      "[I 17:30:09 InstallContribNbextensionsApp] Up to date: /opt/anaconda3/share/jupyter/nbextensions/code_prettify/demo_2to3.gif\r\n",
      "[I 17:30:09 InstallContribNbextensionsApp] Up to date: /opt/anaconda3/share/jupyter/nbextensions/code_prettify/README_isort.md\r\n",
      "[I 17:30:09 InstallContribNbextensionsApp] Up to date: /opt/anaconda3/share/jupyter/nbextensions/code_prettify/README_code_prettify.md\r\n",
      "[I 17:30:09 InstallContribNbextensionsApp] Up to date: /opt/anaconda3/share/jupyter/nbextensions/code_prettify/README.md\r\n",
      "[I 17:30:09 InstallContribNbextensionsApp] Up to date: /opt/anaconda3/share/jupyter/nbextensions/code_prettify/code_prettify.js\r\n",
      "[I 17:30:09 InstallContribNbextensionsApp] Up to date: /opt/anaconda3/share/jupyter/nbextensions/code_prettify/autopep8.js\r\n",
      "[I 17:30:09 InstallContribNbextensionsApp] Up to date: /opt/anaconda3/share/jupyter/nbextensions/code_prettify/demo-R.gif\r\n",
      "[I 17:30:09 InstallContribNbextensionsApp] Up to date: /opt/anaconda3/share/jupyter/nbextensions/code_prettify/isort.js\r\n",
      "[I 17:30:09 InstallContribNbextensionsApp] Up to date: /opt/anaconda3/share/jupyter/nbextensions/code_prettify/code_prettify.yaml\r\n",
      "[I 17:30:09 InstallContribNbextensionsApp] Up to date: /opt/anaconda3/share/jupyter/nbextensions/code_prettify/2to3.js\r\n",
      "[I 17:30:09 InstallContribNbextensionsApp] Up to date: /opt/anaconda3/share/jupyter/nbextensions/code_prettify/autopep8.yaml\r\n",
      "[I 17:30:09 InstallContribNbextensionsApp] Up to date: /opt/anaconda3/share/jupyter/nbextensions/code_prettify/isort.yaml\r\n",
      "[I 17:30:09 InstallContribNbextensionsApp] - Validating: \u001b[32mOK\u001b[0m\r\n",
      "[I 17:30:09 InstallContribNbextensionsApp] Installing /opt/anaconda3/lib/python3.9/site-packages/jupyter_contrib_nbextensions/nbextensions/code_prettify -> code_prettify\r\n",
      "[I 17:30:09 InstallContribNbextensionsApp] Up to date: /opt/anaconda3/share/jupyter/nbextensions/code_prettify/demo-py.gif\r\n",
      "[I 17:30:09 InstallContribNbextensionsApp] Up to date: /opt/anaconda3/share/jupyter/nbextensions/code_prettify/kernel_exec_on_cell.js\r\n",
      "[I 17:30:09 InstallContribNbextensionsApp] Up to date: /opt/anaconda3/share/jupyter/nbextensions/code_prettify/demo-jv.gif\r\n",
      "[I 17:30:09 InstallContribNbextensionsApp] Up to date: /opt/anaconda3/share/jupyter/nbextensions/code_prettify/README_2to3.md\r\n",
      "[I 17:30:09 InstallContribNbextensionsApp] Up to date: /opt/anaconda3/share/jupyter/nbextensions/code_prettify/2to3.yaml\r\n",
      "[I 17:30:09 InstallContribNbextensionsApp] Up to date: /opt/anaconda3/share/jupyter/nbextensions/code_prettify/README_autopep8.md\r\n",
      "[I 17:30:09 InstallContribNbextensionsApp] Up to date: /opt/anaconda3/share/jupyter/nbextensions/code_prettify/demo_2to3.gif\r\n",
      "[I 17:30:09 InstallContribNbextensionsApp] Up to date: /opt/anaconda3/share/jupyter/nbextensions/code_prettify/README_isort.md\r\n",
      "[I 17:30:09 InstallContribNbextensionsApp] Up to date: /opt/anaconda3/share/jupyter/nbextensions/code_prettify/README_code_prettify.md\r\n",
      "[I 17:30:09 InstallContribNbextensionsApp] Up to date: /opt/anaconda3/share/jupyter/nbextensions/code_prettify/README.md\r\n",
      "[I 17:30:09 InstallContribNbextensionsApp] Up to date: /opt/anaconda3/share/jupyter/nbextensions/code_prettify/code_prettify.js\r\n",
      "[I 17:30:09 InstallContribNbextensionsApp] Up to date: /opt/anaconda3/share/jupyter/nbextensions/code_prettify/autopep8.js\r\n",
      "[I 17:30:09 InstallContribNbextensionsApp] Up to date: /opt/anaconda3/share/jupyter/nbextensions/code_prettify/demo-R.gif\r\n",
      "[I 17:30:09 InstallContribNbextensionsApp] Up to date: /opt/anaconda3/share/jupyter/nbextensions/code_prettify/isort.js\r\n",
      "[I 17:30:09 InstallContribNbextensionsApp] Up to date: /opt/anaconda3/share/jupyter/nbextensions/code_prettify/code_prettify.yaml\r\n",
      "[I 17:30:09 InstallContribNbextensionsApp] Up to date: /opt/anaconda3/share/jupyter/nbextensions/code_prettify/2to3.js\r\n",
      "[I 17:30:09 InstallContribNbextensionsApp] Up to date: /opt/anaconda3/share/jupyter/nbextensions/code_prettify/autopep8.yaml\r\n",
      "[I 17:30:09 InstallContribNbextensionsApp] Up to date: /opt/anaconda3/share/jupyter/nbextensions/code_prettify/isort.yaml\r\n",
      "[I 17:30:09 InstallContribNbextensionsApp] - Validating: \u001b[32mOK\u001b[0m\r\n",
      "[I 17:30:09 InstallContribNbextensionsApp] Installing /opt/anaconda3/lib/python3.9/site-packages/jupyter_contrib_nbextensions/nbextensions/code_prettify -> code_prettify\r\n",
      "[I 17:30:09 InstallContribNbextensionsApp] Up to date: /opt/anaconda3/share/jupyter/nbextensions/code_prettify/demo-py.gif\r\n",
      "[I 17:30:09 InstallContribNbextensionsApp] Up to date: /opt/anaconda3/share/jupyter/nbextensions/code_prettify/kernel_exec_on_cell.js\r\n",
      "[I 17:30:09 InstallContribNbextensionsApp] Up to date: /opt/anaconda3/share/jupyter/nbextensions/code_prettify/demo-jv.gif\r\n",
      "[I 17:30:09 InstallContribNbextensionsApp] Up to date: /opt/anaconda3/share/jupyter/nbextensions/code_prettify/README_2to3.md\r\n",
      "[I 17:30:09 InstallContribNbextensionsApp] Up to date: /opt/anaconda3/share/jupyter/nbextensions/code_prettify/2to3.yaml\r\n",
      "[I 17:30:09 InstallContribNbextensionsApp] Up to date: /opt/anaconda3/share/jupyter/nbextensions/code_prettify/README_autopep8.md\r\n",
      "[I 17:30:09 InstallContribNbextensionsApp] Up to date: /opt/anaconda3/share/jupyter/nbextensions/code_prettify/demo_2to3.gif\r\n",
      "[I 17:30:09 InstallContribNbextensionsApp] Up to date: /opt/anaconda3/share/jupyter/nbextensions/code_prettify/README_isort.md\r\n",
      "[I 17:30:09 InstallContribNbextensionsApp] Up to date: /opt/anaconda3/share/jupyter/nbextensions/code_prettify/README_code_prettify.md\r\n",
      "[I 17:30:09 InstallContribNbextensionsApp] Up to date: /opt/anaconda3/share/jupyter/nbextensions/code_prettify/README.md\r\n",
      "[I 17:30:09 InstallContribNbextensionsApp] Up to date: /opt/anaconda3/share/jupyter/nbextensions/code_prettify/code_prettify.js\r\n",
      "[I 17:30:09 InstallContribNbextensionsApp] Up to date: /opt/anaconda3/share/jupyter/nbextensions/code_prettify/autopep8.js\r\n",
      "[I 17:30:09 InstallContribNbextensionsApp] Up to date: /opt/anaconda3/share/jupyter/nbextensions/code_prettify/demo-R.gif\r\n",
      "[I 17:30:09 InstallContribNbextensionsApp] Up to date: /opt/anaconda3/share/jupyter/nbextensions/code_prettify/isort.js\r\n",
      "[I 17:30:09 InstallContribNbextensionsApp] Up to date: /opt/anaconda3/share/jupyter/nbextensions/code_prettify/code_prettify.yaml\r\n",
      "[I 17:30:09 InstallContribNbextensionsApp] Up to date: /opt/anaconda3/share/jupyter/nbextensions/code_prettify/2to3.js\r\n",
      "[I 17:30:09 InstallContribNbextensionsApp] Up to date: /opt/anaconda3/share/jupyter/nbextensions/code_prettify/autopep8.yaml\r\n",
      "[I 17:30:09 InstallContribNbextensionsApp] Up to date: /opt/anaconda3/share/jupyter/nbextensions/code_prettify/isort.yaml\r\n",
      "[I 17:30:09 InstallContribNbextensionsApp] - Validating: \u001b[32mOK\u001b[0m\r\n",
      "[I 17:30:09 InstallContribNbextensionsApp] Installing /opt/anaconda3/lib/python3.9/site-packages/jupyter_contrib_nbextensions/nbextensions/load_tex_macros -> load_tex_macros\r\n",
      "[I 17:30:09 InstallContribNbextensionsApp] Making directory: /opt/anaconda3/share/jupyter/nbextensions/load_tex_macros/\r\n",
      "[I 17:30:09 InstallContribNbextensionsApp] Copying: /opt/anaconda3/lib/python3.9/site-packages/jupyter_contrib_nbextensions/nbextensions/load_tex_macros/load_tex_macros.yaml -> /opt/anaconda3/share/jupyter/nbextensions/load_tex_macros/load_tex_macros.yaml\r\n",
      "[I 17:30:09 InstallContribNbextensionsApp] Copying: /opt/anaconda3/lib/python3.9/site-packages/jupyter_contrib_nbextensions/nbextensions/load_tex_macros/icon.png -> /opt/anaconda3/share/jupyter/nbextensions/load_tex_macros/icon.png\r\n",
      "[I 17:30:09 InstallContribNbextensionsApp] Copying: /opt/anaconda3/lib/python3.9/site-packages/jupyter_contrib_nbextensions/nbextensions/load_tex_macros/readme.md -> /opt/anaconda3/share/jupyter/nbextensions/load_tex_macros/readme.md\r\n",
      "[I 17:30:09 InstallContribNbextensionsApp] Copying: /opt/anaconda3/lib/python3.9/site-packages/jupyter_contrib_nbextensions/nbextensions/load_tex_macros/main.js -> /opt/anaconda3/share/jupyter/nbextensions/load_tex_macros/main.js\r\n",
      "[I 17:30:09 InstallContribNbextensionsApp] - Validating: \u001b[32mOK\u001b[0m\r\n",
      "[I 17:30:09 InstallContribNbextensionsApp] Installing /opt/anaconda3/lib/python3.9/site-packages/jupyter_contrib_nbextensions/nbextensions/hide_header -> hide_header\r\n",
      "[I 17:30:09 InstallContribNbextensionsApp] Making directory: /opt/anaconda3/share/jupyter/nbextensions/hide_header/\r\n",
      "[I 17:30:09 InstallContribNbextensionsApp] Copying: /opt/anaconda3/lib/python3.9/site-packages/jupyter_contrib_nbextensions/nbextensions/hide_header/hide_header.yaml -> /opt/anaconda3/share/jupyter/nbextensions/hide_header/hide_header.yaml\r\n",
      "[I 17:30:09 InstallContribNbextensionsApp] Copying: /opt/anaconda3/lib/python3.9/site-packages/jupyter_contrib_nbextensions/nbextensions/hide_header/README.md -> /opt/anaconda3/share/jupyter/nbextensions/hide_header/README.md\r\n",
      "[I 17:30:09 InstallContribNbextensionsApp] Copying: /opt/anaconda3/lib/python3.9/site-packages/jupyter_contrib_nbextensions/nbextensions/hide_header/main.js -> /opt/anaconda3/share/jupyter/nbextensions/hide_header/main.js\r\n",
      "[I 17:30:09 InstallContribNbextensionsApp] - Validating: \u001b[32mOK\u001b[0m\r\n",
      "[I 17:30:09 InstallContribNbextensionsApp] Installing /opt/anaconda3/lib/python3.9/site-packages/jupyter_highlight_selected_word/static/highlight_selected_word -> highlight_selected_word\r\n",
      "[I 17:30:09 InstallContribNbextensionsApp] Up to date: /opt/anaconda3/share/jupyter/nbextensions/highlight_selected_word/configurator.yaml\r\n",
      "[I 17:30:09 InstallContribNbextensionsApp] Up to date: /opt/anaconda3/share/jupyter/nbextensions/highlight_selected_word/README.md\r\n",
      "[I 17:30:09 InstallContribNbextensionsApp] Up to date: /opt/anaconda3/share/jupyter/nbextensions/highlight_selected_word/main.js\r\n",
      "[I 17:30:09 InstallContribNbextensionsApp] - Validating: \u001b[32mOK\u001b[0m\r\n",
      "[I 17:30:09 InstallContribNbextensionsApp] Installing jupyter_contrib_nbextensions items to config in /opt/anaconda3/etc/jupyter\r\n",
      "Enabling: jupyter_nbextensions_configurator\r\n",
      "- Writing config: /opt/anaconda3/etc/jupyter\r\n",
      "    - Validating...\r\n",
      "      jupyter_nbextensions_configurator 0.6.1 \u001b[32mOK\u001b[0m\r\n",
      "Enabling notebook nbextension nbextensions_configurator/config_menu/main...\r\n",
      "Enabling tree nbextension nbextensions_configurator/tree_tab/main...\r\n",
      "[I 17:30:09 InstallContribNbextensionsApp] Enabling notebook extension contrib_nbextensions_help_item/main...\r\n",
      "[I 17:30:09 InstallContribNbextensionsApp]       - Validating: \u001b[32mOK\u001b[0m\r\n",
      "[I 17:30:09 InstallContribNbextensionsApp] - Editing config: /opt/anaconda3/etc/jupyter/jupyter_nbconvert_config.json\r\n",
      "[I 17:30:09 InstallContribNbextensionsApp] --  Configuring nbconvert template path\r\n",
      "[I 17:30:09 InstallContribNbextensionsApp] --  Configuring nbconvert preprocessors\r\n",
      "[I 17:30:09 InstallContribNbextensionsApp] - Writing config: /opt/anaconda3/etc/jupyter/jupyter_nbconvert_config.json\r\n",
      "[I 17:30:09 InstallContribNbextensionsApp] --  Writing updated config file /opt/anaconda3/etc/jupyter/jupyter_nbconvert_config.json\r\n",
      "\r\n"
     ]
    },
    {
     "name": "stdout",
     "output_type": "stream",
     "text": [
      "done\n",
      "\n",
      "Note: you may need to restart the kernel to use updated packages.\n"
     ]
    }
   ],
   "source": [
    "conda install -c conda-forge jupyter_contrib_nbextensions"
   ]
  },
  {
   "cell_type": "code",
   "execution_count": 8,
   "id": "cb02463e",
   "metadata": {},
   "outputs": [
    {
     "ename": "SyntaxError",
     "evalue": "invalid syntax (4020616895.py, line 1)",
     "output_type": "error",
     "traceback": [
      "\u001b[0;36m  File \u001b[0;32m\"/var/folders/dq/vyz01f_d6_9554rf0l07d8p00000gn/T/ipykernel_18754/4020616895.py\"\u001b[0;36m, line \u001b[0;32m1\u001b[0m\n\u001b[0;31m    jupyter nbextensions_configurator enable --user\u001b[0m\n\u001b[0m            ^\u001b[0m\n\u001b[0;31mSyntaxError\u001b[0m\u001b[0;31m:\u001b[0m invalid syntax\n"
     ]
    }
   ],
   "source": [
    "终端： jupyter nbextensions_configurator enable --user"
   ]
  },
  {
   "cell_type": "markdown",
   "id": "0fe956d1",
   "metadata": {},
   "source": [
    "## 1.1 datetime模块"
   ]
  },
  {
   "cell_type": "code",
   "execution_count": 4,
   "id": "5b045169",
   "metadata": {},
   "outputs": [
    {
     "name": "stdout",
     "output_type": "stream",
     "text": [
      "dt\t \n"
     ]
    }
   ],
   "source": [
    "%who"
   ]
  },
  {
   "cell_type": "code",
   "execution_count": 3,
   "id": "e4116206",
   "metadata": {},
   "outputs": [
    {
     "data": {
      "text/plain": [
       "datetime.datetime(2023, 2, 12, 18, 38, 18, 590701)"
      ]
     },
     "execution_count": 3,
     "metadata": {},
     "output_type": "execute_result"
    }
   ],
   "source": [
    "import datetime as dt\n",
    "dt.datetime.now()"
   ]
  },
  {
   "cell_type": "code",
   "execution_count": 7,
   "id": "b074723a",
   "metadata": {},
   "outputs": [
    {
     "name": "stdout",
     "output_type": "stream",
     "text": [
      "dt\t \n"
     ]
    }
   ],
   "source": [
    "%who"
   ]
  },
  {
   "cell_type": "code",
   "execution_count": 8,
   "id": "03023a9d",
   "metadata": {},
   "outputs": [],
   "source": [
    "now = dt.datetime.now()"
   ]
  },
  {
   "cell_type": "code",
   "execution_count": 9,
   "id": "89160b38",
   "metadata": {},
   "outputs": [
    {
     "data": {
      "text/plain": [
       "2023"
      ]
     },
     "execution_count": 9,
     "metadata": {},
     "output_type": "execute_result"
    }
   ],
   "source": [
    "now.year"
   ]
  },
  {
   "cell_type": "code",
   "execution_count": 10,
   "id": "1c3ddc98",
   "metadata": {},
   "outputs": [
    {
     "data": {
      "text/plain": [
       "12"
      ]
     },
     "execution_count": 10,
     "metadata": {},
     "output_type": "execute_result"
    }
   ],
   "source": [
    "now.day"
   ]
  },
  {
   "cell_type": "code",
   "execution_count": 16,
   "id": "029ad4b9",
   "metadata": {},
   "outputs": [
    {
     "data": {
      "text/plain": [
       "type"
      ]
     },
     "execution_count": 16,
     "metadata": {},
     "output_type": "execute_result"
    }
   ],
   "source": [
    "type(dt.datetime)"
   ]
  },
  {
   "cell_type": "code",
   "execution_count": 23,
   "id": "9104eaaa",
   "metadata": {},
   "outputs": [
    {
     "data": {
      "text/plain": [
       "datetime.datetime(2023, 2, 12, 17, 42, 38, 561962)"
      ]
     },
     "execution_count": 23,
     "metadata": {},
     "output_type": "execute_result"
    }
   ],
   "source": [
    "now = dt.datetime(2023, 2, 12, 17, 42, 38, 561962)\n",
    "# 创建一个datetime类的实例\n",
    "now"
   ]
  },
  {
   "cell_type": "code",
   "execution_count": 24,
   "id": "47a52885",
   "metadata": {},
   "outputs": [],
   "source": [
    "now = dt.datetime.now() #说明这是类的method"
   ]
  },
  {
   "cell_type": "code",
   "execution_count": 27,
   "id": "d9368950",
   "metadata": {},
   "outputs": [
    {
     "data": {
      "text/plain": [
       "7"
      ]
     },
     "execution_count": 27,
     "metadata": {},
     "output_type": "execute_result"
    }
   ],
   "source": [
    "now.weekday()+1 #从0\n",
    "# 这周周日"
   ]
  },
  {
   "cell_type": "code",
   "execution_count": 32,
   "id": "273b6f57",
   "metadata": {},
   "outputs": [
    {
     "data": {
      "text/plain": [
       "datetime.IsoCalendarDate(year=2023, week=6, weekday=7)"
      ]
     },
     "execution_count": 32,
     "metadata": {},
     "output_type": "execute_result"
    }
   ],
   "source": [
    "now.isocalendar() # 从0"
   ]
  },
  {
   "cell_type": "markdown",
   "id": "a7d66745",
   "metadata": {},
   "source": [
    "## 1.2 time模块"
   ]
  },
  {
   "cell_type": "code",
   "execution_count": 5,
   "id": "224f8a68",
   "metadata": {},
   "outputs": [],
   "source": [
    "import time"
   ]
  },
  {
   "cell_type": "code",
   "execution_count": 35,
   "id": "07d68f3a",
   "metadata": {},
   "outputs": [
    {
     "data": {
      "text/plain": [
       "time.struct_time(tm_year=2023, tm_mon=2, tm_mday=12, tm_hour=17, tm_min=53, tm_sec=41, tm_wday=6, tm_yday=43, tm_isdst=0)"
      ]
     },
     "execution_count": 35,
     "metadata": {},
     "output_type": "execute_result"
    }
   ],
   "source": [
    "time.localtime()"
   ]
  },
  {
   "cell_type": "code",
   "execution_count": 36,
   "id": "d59e624f",
   "metadata": {},
   "outputs": [
    {
     "data": {
      "text/plain": [
       "2023"
      ]
     },
     "execution_count": 36,
     "metadata": {},
     "output_type": "execute_result"
    }
   ],
   "source": [
    "time.localtime().tm_year"
   ]
  },
  {
   "cell_type": "markdown",
   "id": "eb0b65b7",
   "metadata": {},
   "source": [
    "### 全年中的第几天"
   ]
  },
  {
   "cell_type": "code",
   "execution_count": 38,
   "id": "bb9670bb",
   "metadata": {},
   "outputs": [
    {
     "data": {
      "text/plain": [
       "43"
      ]
     },
     "execution_count": 38,
     "metadata": {},
     "output_type": "execute_result"
    }
   ],
   "source": [
    "time.localtime().tm_yday"
   ]
  },
  {
   "cell_type": "code",
   "execution_count": 40,
   "id": "65845f90",
   "metadata": {},
   "outputs": [
    {
     "data": {
      "text/plain": [
       "1676224525.415804"
      ]
     },
     "execution_count": 40,
     "metadata": {},
     "output_type": "execute_result"
    }
   ],
   "source": [
    "time.time() #时间戳"
   ]
  },
  {
   "cell_type": "markdown",
   "id": "12f963f8",
   "metadata": {},
   "source": [
    "# 2. 格式化时间"
   ]
  },
  {
   "cell_type": "code",
   "execution_count": 41,
   "id": "81bb56b6",
   "metadata": {},
   "outputs": [],
   "source": [
    "# 字符串时间\n",
    "str_time = \"2023-02-12 17:53:41\""
   ]
  },
  {
   "cell_type": "code",
   "execution_count": 43,
   "id": "1fc3df41",
   "metadata": {},
   "outputs": [
    {
     "data": {
      "text/plain": [
       "datetime.datetime(2023, 2, 12, 17, 58, 34, 8624)"
      ]
     },
     "execution_count": 43,
     "metadata": {},
     "output_type": "execute_result"
    }
   ],
   "source": [
    "# tuple time\n",
    "dt.datetime.now()"
   ]
  },
  {
   "cell_type": "code",
   "execution_count": 44,
   "id": "b26f83fd",
   "metadata": {},
   "outputs": [
    {
     "data": {
      "text/plain": [
       "time.struct_time(tm_year=2023, tm_mon=2, tm_mday=12, tm_hour=17, tm_min=58, tm_sec=49, tm_wday=6, tm_yday=43, tm_isdst=0)"
      ]
     },
     "execution_count": 44,
     "metadata": {},
     "output_type": "execute_result"
    }
   ],
   "source": [
    "# tuple time\n",
    "time.localtime()"
   ]
  },
  {
   "cell_type": "code",
   "execution_count": 45,
   "id": "7ea083d3",
   "metadata": {},
   "outputs": [
    {
     "data": {
      "text/plain": [
       "1676224761.613068"
      ]
     },
     "execution_count": 45,
     "metadata": {},
     "output_type": "execute_result"
    }
   ],
   "source": [
    "# 时间戳 1970-01-01-00-00-00\n",
    "time.time()"
   ]
  },
  {
   "cell_type": "markdown",
   "id": "54555bb7",
   "metadata": {},
   "source": [
    "## 2.1 格式转换"
   ]
  },
  {
   "cell_type": "markdown",
   "id": "5c9112c9",
   "metadata": {},
   "source": [
    "### string -> datetime or time"
   ]
  },
  {
   "cell_type": "code",
   "execution_count": 1,
   "id": "14588392",
   "metadata": {},
   "outputs": [
    {
     "ename": "NameError",
     "evalue": "name 'dt' is not defined",
     "output_type": "error",
     "traceback": [
      "\u001b[0;31m---------------------------------------------------------------------------\u001b[0m",
      "\u001b[0;31mNameError\u001b[0m                                 Traceback (most recent call last)",
      "\u001b[0;32m/var/folders/dq/vyz01f_d6_9554rf0l07d8p00000gn/T/ipykernel_20312/3647865685.py\u001b[0m in \u001b[0;36m<module>\u001b[0;34m\u001b[0m\n\u001b[1;32m      1\u001b[0m \u001b[0;31m# string -> striptime -> datetime\u001b[0m\u001b[0;34m\u001b[0m\u001b[0;34m\u001b[0m\u001b[0m\n\u001b[1;32m      2\u001b[0m \u001b[0mstr_time\u001b[0m \u001b[0;34m=\u001b[0m \u001b[0;34m\"2023-02-12 17:53:41\"\u001b[0m\u001b[0;34m\u001b[0m\u001b[0;34m\u001b[0m\u001b[0m\n\u001b[0;32m----> 3\u001b[0;31m \u001b[0mdt\u001b[0m\u001b[0;34m.\u001b[0m\u001b[0mdatetime\u001b[0m\u001b[0;34m.\u001b[0m\u001b[0mstrptime\u001b[0m\u001b[0;34m(\u001b[0m\u001b[0mstr_time\u001b[0m\u001b[0;34m,\u001b[0m\u001b[0;34m\"%Y-%m-%d %H:%M:%S\"\u001b[0m\u001b[0;34m)\u001b[0m\u001b[0;34m\u001b[0m\u001b[0;34m\u001b[0m\u001b[0m\n\u001b[0m",
      "\u001b[0;31mNameError\u001b[0m: name 'dt' is not defined"
     ]
    }
   ],
   "source": [
    "# string -> striptime -> datetime\n",
    "str_time = \"2023-02-12 17:53:41\"\n",
    "dt.datetime.strptime(str_time,\"%Y-%m-%d %H:%M:%S\")"
   ]
  },
  {
   "cell_type": "markdown",
   "id": "7273b335",
   "metadata": {},
   "source": [
    "```python\n",
    "classmethod datetime.strptime(date_string, format)\n",
    "Return a datetime corresponding to date_string, parsed according to format.\n",
    "\n",
    "This is equivalent to:\n",
    "\n",
    "datetime(*(time.strptime(date_string, format)[0:6]))\n",
    "ValueError is raised if the date_string and format can’t be parsed by time.strptime() or if it returns a value which isn’t a time tuple. For a complete list of formatting directives, see strftime() and strptime() Behavior.\n",
    "\n",
    "网址 strftime() and strptime() Format Codes:https://docs.python.org/3/library/datetime.html#strftime-and-strptime-format-codes\n",
    "```"
   ]
  },
  {
   "cell_type": "code",
   "execution_count": 6,
   "id": "cf03e021",
   "metadata": {},
   "outputs": [
    {
     "data": {
      "text/plain": [
       "time.struct_time(tm_year=2023, tm_mon=2, tm_mday=12, tm_hour=17, tm_min=53, tm_sec=41, tm_wday=6, tm_yday=43, tm_isdst=-1)"
      ]
     },
     "execution_count": 6,
     "metadata": {},
     "output_type": "execute_result"
    }
   ],
   "source": [
    "# string -> striptime -> time\n",
    "str_time = \"2023-02-12 17:53:41\"\n",
    "time.strptime(str_time,\"%Y-%m-%d %H:%M:%S\")"
   ]
  },
  {
   "cell_type": "code",
   "execution_count": 58,
   "id": "090d714d",
   "metadata": {},
   "outputs": [
    {
     "data": {
      "text/plain": [
       "module"
      ]
     },
     "execution_count": 58,
     "metadata": {},
     "output_type": "execute_result"
    }
   ],
   "source": [
    "type(time)"
   ]
  },
  {
   "cell_type": "markdown",
   "id": "cd1362dc",
   "metadata": {},
   "source": [
    "### 类似时间 -> datetime"
   ]
  },
  {
   "cell_type": "code",
   "execution_count": 9,
   "id": "b5b5ebd0",
   "metadata": {},
   "outputs": [
    {
     "data": {
      "text/plain": [
       "datetime.datetime(2023, 2, 12, 17, 53, 41)"
      ]
     },
     "execution_count": 9,
     "metadata": {},
     "output_type": "execute_result"
    }
   ],
   "source": [
    "from dateutil.parser import parse\n",
    "parse(\"2023-02-12 17:53:41\")"
   ]
  },
  {
   "cell_type": "markdown",
   "id": "87c9f9d0",
   "metadata": {},
   "source": [
    "## 2.2 datetime -> 其他"
   ]
  },
  {
   "cell_type": "code",
   "execution_count": 11,
   "id": "bff7ed22",
   "metadata": {},
   "outputs": [
    {
     "data": {
      "text/plain": [
       "'2023-02-12 18:44:58'"
      ]
     },
     "execution_count": 11,
     "metadata": {},
     "output_type": "execute_result"
    }
   ],
   "source": [
    "# -> string\n",
    "dt.datetime.now().strftime(\"%Y-%m-%d %H:%M:%S\")"
   ]
  },
  {
   "cell_type": "code",
   "execution_count": 12,
   "id": "c290ac17",
   "metadata": {},
   "outputs": [
    {
     "data": {
      "text/plain": [
       "'2023-02-12 18:45:24.382152'"
      ]
     },
     "execution_count": 12,
     "metadata": {},
     "output_type": "execute_result"
    }
   ],
   "source": [
    "str(dt.datetime.now())"
   ]
  },
  {
   "cell_type": "code",
   "execution_count": 14,
   "id": "4e11332c",
   "metadata": {},
   "outputs": [
    {
     "data": {
      "text/plain": [
       "time.struct_time(tm_year=2023, tm_mon=2, tm_mday=12, tm_hour=18, tm_min=46, tm_sec=9, tm_wday=6, tm_yday=43, tm_isdst=-1)"
      ]
     },
     "execution_count": 14,
     "metadata": {},
     "output_type": "execute_result"
    }
   ],
   "source": [
    "# -> time\n",
    "dt.datetime.now().timetuple()"
   ]
  },
  {
   "cell_type": "markdown",
   "id": "09b3b847",
   "metadata": {},
   "source": [
    "## 2.3 time -> 其他"
   ]
  },
  {
   "cell_type": "code",
   "execution_count": 15,
   "id": "afc0f681",
   "metadata": {},
   "outputs": [
    {
     "data": {
      "text/plain": [
       "'2023-02-12 18:46:50'"
      ]
     },
     "execution_count": 15,
     "metadata": {},
     "output_type": "execute_result"
    }
   ],
   "source": [
    "time.strftime(\"%Y-%m-%d %H:%M:%S\", time.localtime())"
   ]
  },
  {
   "cell_type": "code",
   "execution_count": 16,
   "id": "d74d1041",
   "metadata": {},
   "outputs": [
    {
     "data": {
      "text/plain": [
       "1676227641.0"
      ]
     },
     "execution_count": 16,
     "metadata": {},
     "output_type": "execute_result"
    }
   ],
   "source": [
    "# time -> timestamp\n",
    "time.mktime(time.localtime())"
   ]
  },
  {
   "cell_type": "markdown",
   "id": "3aa7a412",
   "metadata": {},
   "source": [
    "## 2.3 timestamp -> 其他"
   ]
  },
  {
   "cell_type": "code",
   "execution_count": 17,
   "id": "d468ee2d",
   "metadata": {},
   "outputs": [
    {
     "data": {
      "text/plain": [
       "1676227709.099345"
      ]
     },
     "execution_count": 17,
     "metadata": {},
     "output_type": "execute_result"
    }
   ],
   "source": [
    "time.time()"
   ]
  },
  {
   "cell_type": "code",
   "execution_count": 19,
   "id": "01a20a4a",
   "metadata": {},
   "outputs": [
    {
     "data": {
      "text/plain": [
       "datetime.datetime(2023, 2, 12, 18, 49, 24, 353233)"
      ]
     },
     "execution_count": 19,
     "metadata": {},
     "output_type": "execute_result"
    }
   ],
   "source": [
    "# datetime\n",
    "dt.datetime.fromtimestamp(time.time())"
   ]
  },
  {
   "cell_type": "code",
   "execution_count": 20,
   "id": "33f7c8a3",
   "metadata": {},
   "outputs": [
    {
     "data": {
      "text/plain": [
       "time.struct_time(tm_year=2023, tm_mon=2, tm_mday=12, tm_hour=18, tm_min=49, tm_sec=39, tm_wday=6, tm_yday=43, tm_isdst=0)"
      ]
     },
     "execution_count": 20,
     "metadata": {},
     "output_type": "execute_result"
    }
   ],
   "source": [
    "time.localtime(time.time())"
   ]
  },
  {
   "cell_type": "markdown",
   "id": "45bf3ea3",
   "metadata": {},
   "source": [
    "# 3. 时间索引"
   ]
  },
  {
   "cell_type": "markdown",
   "id": "fac83473",
   "metadata": {},
   "source": [
    "## 3.1 时间是index"
   ]
  },
  {
   "cell_type": "code",
   "execution_count": 28,
   "id": "06269164",
   "metadata": {},
   "outputs": [],
   "source": [
    "import pandas as pd\n",
    "import numpy as np\n",
    "index = pd.DatetimeIndex([\"2019-01-01\",\"2019-01-02\",\"2019-01-20\",\"2019-02-02\",\"2019-03-03\",\n",
    "                         \"2019-09-01\",\"2019-09-02\",\"2019-10-02\",\"2019-11-02\",\"2019-12-02\",])"
   ]
  },
  {
   "cell_type": "code",
   "execution_count": 30,
   "id": "c47c831c",
   "metadata": {},
   "outputs": [
    {
     "data": {
      "text/html": [
       "<div>\n",
       "<style scoped>\n",
       "    .dataframe tbody tr th:only-of-type {\n",
       "        vertical-align: middle;\n",
       "    }\n",
       "\n",
       "    .dataframe tbody tr th {\n",
       "        vertical-align: top;\n",
       "    }\n",
       "\n",
       "    .dataframe thead th {\n",
       "        text-align: right;\n",
       "    }\n",
       "</style>\n",
       "<table border=\"1\" class=\"dataframe\">\n",
       "  <thead>\n",
       "    <tr style=\"text-align: right;\">\n",
       "      <th></th>\n",
       "      <th>number</th>\n",
       "    </tr>\n",
       "  </thead>\n",
       "  <tbody>\n",
       "    <tr>\n",
       "      <th>2019-01-01</th>\n",
       "      <td>0</td>\n",
       "    </tr>\n",
       "    <tr>\n",
       "      <th>2019-01-02</th>\n",
       "      <td>1</td>\n",
       "    </tr>\n",
       "    <tr>\n",
       "      <th>2019-01-20</th>\n",
       "      <td>2</td>\n",
       "    </tr>\n",
       "    <tr>\n",
       "      <th>2019-02-02</th>\n",
       "      <td>3</td>\n",
       "    </tr>\n",
       "    <tr>\n",
       "      <th>2019-03-03</th>\n",
       "      <td>4</td>\n",
       "    </tr>\n",
       "    <tr>\n",
       "      <th>2019-09-01</th>\n",
       "      <td>5</td>\n",
       "    </tr>\n",
       "    <tr>\n",
       "      <th>2019-09-02</th>\n",
       "      <td>6</td>\n",
       "    </tr>\n",
       "    <tr>\n",
       "      <th>2019-10-02</th>\n",
       "      <td>7</td>\n",
       "    </tr>\n",
       "    <tr>\n",
       "      <th>2019-11-02</th>\n",
       "      <td>8</td>\n",
       "    </tr>\n",
       "    <tr>\n",
       "      <th>2019-12-02</th>\n",
       "      <td>9</td>\n",
       "    </tr>\n",
       "  </tbody>\n",
       "</table>\n",
       "</div>"
      ],
      "text/plain": [
       "            number\n",
       "2019-01-01       0\n",
       "2019-01-02       1\n",
       "2019-01-20       2\n",
       "2019-02-02       3\n",
       "2019-03-03       4\n",
       "2019-09-01       5\n",
       "2019-09-02       6\n",
       "2019-10-02       7\n",
       "2019-11-02       8\n",
       "2019-12-02       9"
      ]
     },
     "execution_count": 30,
     "metadata": {},
     "output_type": "execute_result"
    }
   ],
   "source": [
    "data = pd.DataFrame(range(10),columns = [\"number\"],index = index)\n",
    "data"
   ]
  },
  {
   "cell_type": "code",
   "execution_count": 31,
   "id": "c49b170a",
   "metadata": {},
   "outputs": [
    {
     "data": {
      "text/plain": [
       "pandas.core.frame.DataFrame"
      ]
     },
     "execution_count": 31,
     "metadata": {},
     "output_type": "execute_result"
    }
   ],
   "source": [
    "type(data)"
   ]
  },
  {
   "cell_type": "code",
   "execution_count": 35,
   "id": "30f870e6",
   "metadata": {},
   "outputs": [
    {
     "name": "stderr",
     "output_type": "stream",
     "text": [
      "/var/folders/dq/vyz01f_d6_9554rf0l07d8p00000gn/T/ipykernel_20312/441022622.py:1: FutureWarning: Indexing a DataFrame with a datetimelike index using a single string to slice the rows, like `frame[string]`, is deprecated and will be removed in a future version. Use `frame.loc[string]` instead.\n",
      "  data[\"2019-01\"]\n"
     ]
    },
    {
     "data": {
      "text/html": [
       "<div>\n",
       "<style scoped>\n",
       "    .dataframe tbody tr th:only-of-type {\n",
       "        vertical-align: middle;\n",
       "    }\n",
       "\n",
       "    .dataframe tbody tr th {\n",
       "        vertical-align: top;\n",
       "    }\n",
       "\n",
       "    .dataframe thead th {\n",
       "        text-align: right;\n",
       "    }\n",
       "</style>\n",
       "<table border=\"1\" class=\"dataframe\">\n",
       "  <thead>\n",
       "    <tr style=\"text-align: right;\">\n",
       "      <th></th>\n",
       "      <th>number</th>\n",
       "    </tr>\n",
       "  </thead>\n",
       "  <tbody>\n",
       "    <tr>\n",
       "      <th>2019-01-01</th>\n",
       "      <td>0</td>\n",
       "    </tr>\n",
       "    <tr>\n",
       "      <th>2019-01-02</th>\n",
       "      <td>1</td>\n",
       "    </tr>\n",
       "    <tr>\n",
       "      <th>2019-01-20</th>\n",
       "      <td>2</td>\n",
       "    </tr>\n",
       "  </tbody>\n",
       "</table>\n",
       "</div>"
      ],
      "text/plain": [
       "            number\n",
       "2019-01-01       0\n",
       "2019-01-02       1\n",
       "2019-01-20       2"
      ]
     },
     "execution_count": 35,
     "metadata": {},
     "output_type": "execute_result"
    }
   ],
   "source": [
    "data[\"2019-01\"] # Use `frame.loc[string]` instead."
   ]
  },
  {
   "cell_type": "code",
   "execution_count": 36,
   "id": "7f72b7f8",
   "metadata": {},
   "outputs": [
    {
     "data": {
      "text/html": [
       "<div>\n",
       "<style scoped>\n",
       "    .dataframe tbody tr th:only-of-type {\n",
       "        vertical-align: middle;\n",
       "    }\n",
       "\n",
       "    .dataframe tbody tr th {\n",
       "        vertical-align: top;\n",
       "    }\n",
       "\n",
       "    .dataframe thead th {\n",
       "        text-align: right;\n",
       "    }\n",
       "</style>\n",
       "<table border=\"1\" class=\"dataframe\">\n",
       "  <thead>\n",
       "    <tr style=\"text-align: right;\">\n",
       "      <th></th>\n",
       "      <th>number</th>\n",
       "    </tr>\n",
       "  </thead>\n",
       "  <tbody>\n",
       "    <tr>\n",
       "      <th>2019-01-01</th>\n",
       "      <td>0</td>\n",
       "    </tr>\n",
       "    <tr>\n",
       "      <th>2019-01-02</th>\n",
       "      <td>1</td>\n",
       "    </tr>\n",
       "    <tr>\n",
       "      <th>2019-01-20</th>\n",
       "      <td>2</td>\n",
       "    </tr>\n",
       "  </tbody>\n",
       "</table>\n",
       "</div>"
      ],
      "text/plain": [
       "            number\n",
       "2019-01-01       0\n",
       "2019-01-02       1\n",
       "2019-01-20       2"
      ]
     },
     "execution_count": 36,
     "metadata": {},
     "output_type": "execute_result"
    }
   ],
   "source": [
    "data.loc[\"2019-01\"]"
   ]
  },
  {
   "cell_type": "code",
   "execution_count": 38,
   "id": "e35a53f9",
   "metadata": {},
   "outputs": [
    {
     "data": {
      "text/plain": [
       "number    0\n",
       "Name: 2019-01-01 00:00:00, dtype: int64"
      ]
     },
     "execution_count": 38,
     "metadata": {},
     "output_type": "execute_result"
    }
   ],
   "source": [
    "data.loc[\"2019-01-01\"]"
   ]
  },
  {
   "cell_type": "code",
   "execution_count": 40,
   "id": "0fdf5398",
   "metadata": {},
   "outputs": [
    {
     "data": {
      "text/html": [
       "<div>\n",
       "<style scoped>\n",
       "    .dataframe tbody tr th:only-of-type {\n",
       "        vertical-align: middle;\n",
       "    }\n",
       "\n",
       "    .dataframe tbody tr th {\n",
       "        vertical-align: top;\n",
       "    }\n",
       "\n",
       "    .dataframe thead th {\n",
       "        text-align: right;\n",
       "    }\n",
       "</style>\n",
       "<table border=\"1\" class=\"dataframe\">\n",
       "  <thead>\n",
       "    <tr style=\"text-align: right;\">\n",
       "      <th></th>\n",
       "      <th>number</th>\n",
       "    </tr>\n",
       "  </thead>\n",
       "  <tbody>\n",
       "    <tr>\n",
       "      <th>2019-01-01</th>\n",
       "      <td>0</td>\n",
       "    </tr>\n",
       "    <tr>\n",
       "      <th>2019-01-02</th>\n",
       "      <td>1</td>\n",
       "    </tr>\n",
       "    <tr>\n",
       "      <th>2019-01-20</th>\n",
       "      <td>2</td>\n",
       "    </tr>\n",
       "    <tr>\n",
       "      <th>2019-02-02</th>\n",
       "      <td>3</td>\n",
       "    </tr>\n",
       "    <tr>\n",
       "      <th>2019-03-03</th>\n",
       "      <td>4</td>\n",
       "    </tr>\n",
       "    <tr>\n",
       "      <th>2019-09-01</th>\n",
       "      <td>5</td>\n",
       "    </tr>\n",
       "    <tr>\n",
       "      <th>2019-09-02</th>\n",
       "      <td>6</td>\n",
       "    </tr>\n",
       "    <tr>\n",
       "      <th>2019-10-02</th>\n",
       "      <td>7</td>\n",
       "    </tr>\n",
       "    <tr>\n",
       "      <th>2019-11-02</th>\n",
       "      <td>8</td>\n",
       "    </tr>\n",
       "  </tbody>\n",
       "</table>\n",
       "</div>"
      ],
      "text/plain": [
       "            number\n",
       "2019-01-01       0\n",
       "2019-01-02       1\n",
       "2019-01-20       2\n",
       "2019-02-02       3\n",
       "2019-03-03       4\n",
       "2019-09-01       5\n",
       "2019-09-02       6\n",
       "2019-10-02       7\n",
       "2019-11-02       8"
      ]
     },
     "execution_count": 40,
     "metadata": {},
     "output_type": "execute_result"
    }
   ],
   "source": [
    "data.loc[\"2019-01-01\":\"2019-12-01\"]"
   ]
  },
  {
   "cell_type": "markdown",
   "id": "8673bb7c",
   "metadata": {},
   "source": [
    "### 获取某天"
   ]
  },
  {
   "cell_type": "code",
   "execution_count": 42,
   "id": "0bff0426",
   "metadata": {},
   "outputs": [
    {
     "data": {
      "text/html": [
       "<div>\n",
       "<style scoped>\n",
       "    .dataframe tbody tr th:only-of-type {\n",
       "        vertical-align: middle;\n",
       "    }\n",
       "\n",
       "    .dataframe tbody tr th {\n",
       "        vertical-align: top;\n",
       "    }\n",
       "\n",
       "    .dataframe thead th {\n",
       "        text-align: right;\n",
       "    }\n",
       "</style>\n",
       "<table border=\"1\" class=\"dataframe\">\n",
       "  <thead>\n",
       "    <tr style=\"text-align: right;\">\n",
       "      <th></th>\n",
       "      <th>number</th>\n",
       "    </tr>\n",
       "  </thead>\n",
       "  <tbody>\n",
       "    <tr>\n",
       "      <th>2019-01-01</th>\n",
       "      <td>0</td>\n",
       "    </tr>\n",
       "  </tbody>\n",
       "</table>\n",
       "</div>"
      ],
      "text/plain": [
       "            number\n",
       "2019-01-01       0"
      ]
     },
     "execution_count": 42,
     "metadata": {},
     "output_type": "execute_result"
    }
   ],
   "source": [
    "data.loc[\"2019-01-01\":\"2019-01-01\"]"
   ]
  },
  {
   "cell_type": "markdown",
   "id": "acebc30e",
   "metadata": {},
   "source": [
    "## 3.2 时间列是column"
   ]
  },
  {
   "cell_type": "code",
   "execution_count": 44,
   "id": "2f91145e",
   "metadata": {},
   "outputs": [
    {
     "ename": "NameError",
     "evalue": "name 'df' is not defined",
     "output_type": "error",
     "traceback": [
      "\u001b[0;31m---------------------------------------------------------------------------\u001b[0m",
      "\u001b[0;31mNameError\u001b[0m                                 Traceback (most recent call last)",
      "\u001b[0;32m/var/folders/dq/vyz01f_d6_9554rf0l07d8p00000gn/T/ipykernel_20312/3432017949.py\u001b[0m in \u001b[0;36m<module>\u001b[0;34m\u001b[0m\n\u001b[1;32m      3\u001b[0m \u001b[0;31m# bool索引\u001b[0m\u001b[0;34m\u001b[0m\u001b[0;34m\u001b[0m\u001b[0m\n\u001b[1;32m      4\u001b[0m \u001b[0;31m# df[True...]\u001b[0m\u001b[0;34m\u001b[0m\u001b[0;34m\u001b[0m\u001b[0m\n\u001b[0;32m----> 5\u001b[0;31m \u001b[0mdf\u001b[0m\u001b[0;34m[\u001b[0m\u001b[0mdf\u001b[0m\u001b[0;34m[\u001b[0m\u001b[0;34m\"成交时间\"\u001b[0m\u001b[0;34m]\u001b[0m \u001b[0;34m>\u001b[0m \u001b[0mdatetime\u001b[0m\u001b[0;34m(\u001b[0m\u001b[0;36m2018\u001b[0m\u001b[0;34m,\u001b[0m\u001b[0;36m9\u001b[0m\u001b[0;34m,\u001b[0m\u001b[0;36m9\u001b[0m\u001b[0;34m)\u001b[0m\u001b[0;34m]\u001b[0m\u001b[0;34m\u001b[0m\u001b[0;34m\u001b[0m\u001b[0m\n\u001b[0m",
      "\u001b[0;31mNameError\u001b[0m: name 'df' is not defined"
     ]
    }
   ],
   "source": [
    "# 晚于9.9号\n",
    "\n",
    "# bool索引\n",
    "# df[True...]\n",
    "df[(df[\"成交时间\"] > datetime(2018,9,9)) & (df[\"成交时间\"] < datetime(2018,9,20))]"
   ]
  },
  {
   "cell_type": "code",
   "execution_count": null,
   "id": "ba9146e1",
   "metadata": {},
   "outputs": [],
   "source": [
    "# 8.9 的订单\n",
    "df[df[\"成交时间\"] == datetime(2018,8,9)]"
   ]
  },
  {
   "cell_type": "markdown",
   "id": "18e541ff",
   "metadata": {},
   "source": [
    "# 4. 时间运算"
   ]
  },
  {
   "cell_type": "markdown",
   "id": "048e52ba",
   "metadata": {},
   "source": [
    "## 4.1 差"
   ]
  },
  {
   "cell_type": "code",
   "execution_count": 47,
   "id": "9b529c0b",
   "metadata": {},
   "outputs": [
    {
     "data": {
      "text/plain": [
       "datetime.timedelta(days=77)"
      ]
     },
     "execution_count": 47,
     "metadata": {},
     "output_type": "execute_result"
    }
   ],
   "source": [
    "datedelta = datetime(2023,2,12) - datetime(2022,11,27)\n",
    "datedelta"
   ]
  },
  {
   "cell_type": "code",
   "execution_count": 48,
   "id": "51fa7e81",
   "metadata": {},
   "outputs": [
    {
     "data": {
      "text/plain": [
       "77"
      ]
     },
     "execution_count": 48,
     "metadata": {},
     "output_type": "execute_result"
    }
   ],
   "source": [
    "datedelta.days"
   ]
  },
  {
   "cell_type": "markdown",
   "id": "28bd1535",
   "metadata": {},
   "source": [
    "## 4.2 时间偏移"
   ]
  },
  {
   "cell_type": "code",
   "execution_count": 57,
   "id": "5346bce8",
   "metadata": {},
   "outputs": [
    {
     "data": {
      "text/plain": [
       "datetime.datetime(2022, 8, 19, 0, 0)"
      ]
     },
     "execution_count": 57,
     "metadata": {},
     "output_type": "execute_result"
    }
   ],
   "source": [
    "import datetime as dt\n",
    "dt.datetime(2022,11,27) + dt.timedelta(days = -100)"
   ]
  },
  {
   "cell_type": "code",
   "execution_count": 66,
   "id": "59efd260",
   "metadata": {},
   "outputs": [
    {
     "data": {
      "text/plain": [
       "datetime.datetime(2022, 11, 27, 2, 0)"
      ]
     },
     "execution_count": 66,
     "metadata": {},
     "output_type": "execute_result"
    }
   ],
   "source": [
    "import datetime as dt\n",
    "dt.datetime(2022,11,27) + dt.timedelta(hours = 2)"
   ]
  },
  {
   "cell_type": "code",
   "execution_count": null,
   "id": "bf5b94dc",
   "metadata": {},
   "outputs": [],
   "source": []
  }
 ],
 "metadata": {
  "celltoolbar": "无",
  "kernelspec": {
   "display_name": "Python 3 (ipykernel)",
   "language": "python",
   "name": "python3"
  },
  "language_info": {
   "codemirror_mode": {
    "name": "ipython",
    "version": 3
   },
   "file_extension": ".py",
   "mimetype": "text/x-python",
   "name": "python",
   "nbconvert_exporter": "python",
   "pygments_lexer": "ipython3",
   "version": "3.9.13"
  },
  "toc": {
   "base_numbering": 1,
   "nav_menu": {},
   "number_sections": true,
   "sideBar": true,
   "skip_h1_title": true,
   "title_cell": "Table of Contents",
   "title_sidebar": "Contents",
   "toc_cell": true,
   "toc_position": {
    "height": "calc(100% - 180px)",
    "left": "10px",
    "top": "150px",
    "width": "489px"
   },
   "toc_section_display": true,
   "toc_window_display": false
  }
 },
 "nbformat": 4,
 "nbformat_minor": 5
}
